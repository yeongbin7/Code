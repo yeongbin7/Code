{
  "nbformat": 4,
  "nbformat_minor": 0,
  "metadata": {
    "colab": {
      "name": "CNN_CIFAR_10_Categorical_Classification_GPU",
      "provenance": [],
      "collapsed_sections": [],
      "include_colab_link": true
    },
    "kernelspec": {
      "name": "python3",
      "display_name": "Python 3"
    },
    "accelerator": "GPU"
  },
  "cells": [
    {
      "cell_type": "markdown",
      "metadata": {
        "id": "view-in-github",
        "colab_type": "text"
      },
      "source": [
        "<a href=\"https://colab.research.google.com/github/BbangB/Code/blob/main/CNN_CIFAR_10_Categorical_Classification_GPU.ipynb\" target=\"_parent\"><img src=\"https://colab.research.google.com/assets/colab-badge.svg\" alt=\"Open In Colab\"/></a>"
      ]
    },
    {
      "cell_type": "markdown",
      "metadata": {
        "id": "q2Pr7oBdYLdf"
      },
      "source": [
        "# CIFAR 10 - Categorical Classification"
      ]
    },
    {
      "cell_type": "code",
      "metadata": {
        "id": "RbPgODpVzdHI"
      },
      "source": [
        "import warnings\n",
        "warnings.filterwarnings('ignore')"
      ],
      "execution_count": 2,
      "outputs": []
    },
    {
      "cell_type": "markdown",
      "metadata": {
        "id": "H49A769LYp-a"
      },
      "source": [
        "# I. CIFAR 10 Data_Set Load & Review"
      ]
    },
    {
      "cell_type": "markdown",
      "metadata": {
        "id": "vb6EIkRcbPb4"
      },
      "source": [
        "> ## 1) Load CIFAR 10 Data_Set"
      ]
    },
    {
      "cell_type": "code",
      "metadata": {
        "id": "DxstjE8b_6Te",
        "colab": {
          "base_uri": "https://localhost:8080/"
        },
        "outputId": "b34e7d3e-052c-46f4-88f9-c690c641a624"
      },
      "source": [
        "from tensorflow.keras.datasets import cifar10\n",
        "\n",
        "(X_train, y_train), (X_test, y_test) = cifar10.load_data()"
      ],
      "execution_count": 1,
      "outputs": [
        {
          "output_type": "stream",
          "name": "stdout",
          "text": [
            "Downloading data from https://www.cs.toronto.edu/~kriz/cifar-10-python.tar.gz\n",
            "170500096/170498071 [==============================] - 2s 0us/step\n",
            "170508288/170498071 [==============================] - 2s 0us/step\n"
          ]
        }
      ]
    },
    {
      "cell_type": "markdown",
      "metadata": {
        "id": "Mt11QE0EHCiJ"
      },
      "source": [
        "* Train_Data Information"
      ]
    },
    {
      "cell_type": "code",
      "metadata": {
        "id": "KT_Mr_Hb__VH",
        "colab": {
          "base_uri": "https://localhost:8080/"
        },
        "outputId": "75af7a85-40f1-483d-dd60-b66e7f3b0704"
      },
      "source": [
        "print(len(X_train))\n",
        "print(X_train.shape)\n",
        "\n",
        "print(len(y_train))\n",
        "print(y_train[0:5])"
      ],
      "execution_count": 3,
      "outputs": [
        {
          "output_type": "stream",
          "name": "stdout",
          "text": [
            "50000\n",
            "(50000, 32, 32, 3)\n",
            "50000\n",
            "[[6]\n",
            " [9]\n",
            " [9]\n",
            " [4]\n",
            " [1]]\n"
          ]
        }
      ]
    },
    {
      "cell_type": "markdown",
      "metadata": {
        "id": "QolAqIwgHGRI"
      },
      "source": [
        "* Test_Data Information"
      ]
    },
    {
      "cell_type": "code",
      "metadata": {
        "id": "NtkD2BKUANZE",
        "colab": {
          "base_uri": "https://localhost:8080/"
        },
        "outputId": "e0c52d23-2978-4909-84b1-141728df2665"
      },
      "source": [
        "print(len(X_test))\n",
        "print(X_test.shape)\n",
        "\n",
        "print(len(y_test))\n",
        "print(y_test[0:5])"
      ],
      "execution_count": 4,
      "outputs": [
        {
          "output_type": "stream",
          "name": "stdout",
          "text": [
            "10000\n",
            "(10000, 32, 32, 3)\n",
            "10000\n",
            "[[3]\n",
            " [8]\n",
            " [8]\n",
            " [0]\n",
            " [6]]\n"
          ]
        }
      ]
    },
    {
      "cell_type": "markdown",
      "metadata": {
        "id": "BBSg_oWbZCyr"
      },
      "source": [
        "> ## 2) Visualization"
      ]
    },
    {
      "cell_type": "code",
      "metadata": {
        "id": "OV19FumXAWGH",
        "colab": {
          "base_uri": "https://localhost:8080/",
          "height": 266
        },
        "outputId": "eb8ca3a1-3f60-4c35-d5fa-9884d6f8026f"
      },
      "source": [
        "import matplotlib.pyplot as plt\n",
        "\n",
        "digit = X_train[0]\n",
        "plt.imshow(digit)\n",
        "plt.show()"
      ],
      "execution_count": 5,
      "outputs": [
        {
          "output_type": "display_data",
          "data": {
            "image/png": "[encoded data removed]",
            "text/plain": [
              "<Figure size 432x288 with 1 Axes>"
            ]
          },
          "metadata": {
            "needs_background": "light"
          }
        }
      ]
    },
    {
      "cell_type": "code",
      "metadata": {
        "id": "wWXMkCE8NyAg",
        "cellView": "code",
        "colab": {
          "base_uri": "https://localhost:8080/"
        },
        "outputId": "373102ae-dbb6-4f3a-8321-44b406c4d118"
      },
      "source": [
        "import numpy as np\n",
        "np.set_printoptions(linewidth = 150)\n",
        "\n",
        "print(X_train[0][0])\n"
      ],
      "execution_count": 6,
      "outputs": [
        {
          "output_type": "stream",
          "name": "stdout",
          "text": [
            "[[ 59  62  63]\n",
            " [ 43  46  45]\n",
            " [ 50  48  43]\n",
            " [ 68  54  42]\n",
            " [ 98  73  52]\n",
            " [119  91  63]\n",
            " [139 107  75]\n",
            " [145 110  80]\n",
            " [149 117  89]\n",
            " [149 120  93]\n",
            " [131 103  77]\n",
            " [125  99  76]\n",
            " [142 115  91]\n",
            " [144 112  86]\n",
            " [137 105  79]\n",
            " [129  97  71]\n",
            " [137 106  79]\n",
            " [134 106  76]\n",
            " [124  97  64]\n",
            " [139 113  78]\n",
            " [139 112  75]\n",
            " [133 105  69]\n",
            " [136 105  74]\n",
            " [139 108  77]\n",
            " [152 120  89]\n",
            " [163 131 100]\n",
            " [168 136 108]\n",
            " [159 129 102]\n",
            " [158 130 104]\n",
            " [158 132 108]\n",
            " [152 125 102]\n",
            " [148 124 103]]\n"
          ]
        }
      ]
    },
    {
      "cell_type": "code",
      "metadata": {
        "id": "xf0IV9nmHl7K"
      },
      "source": [
        ""
      ],
      "execution_count": null,
      "outputs": []
    },
    {
      "cell_type": "markdown",
      "metadata": {
        "id": "Mk9XL5vGHor6"
      },
      "source": [
        "# II. Data Preprocessing"
      ]
    },
    {
      "cell_type": "markdown",
      "metadata": {
        "id": "ec8zU4XCZRUF"
      },
      "source": [
        "> ## 1) Reshape and Normalization"
      ]
    },
    {
      "cell_type": "markdown",
      "metadata": {
        "id": "olI6ZPtEIb8H"
      },
      "source": [
        "* reshape\n",
        " * (50000, 32, 32, 3) to (50000, 3072)"
      ]
    },
    {
      "cell_type": "code",
      "metadata": {
        "id": "8-toPn1ZAmFd",
        "colab": {
          "base_uri": "https://localhost:8080/"
        },
        "outputId": "e6bee181-e378-4649-c370-1fa47e5238c2"
      },
      "source": [
        ""
      ],
      "execution_count": null,
      "outputs": [
        {
          "output_type": "execute_result",
          "data": {
            "text/plain": [
              "((50000, 3072), (10000, 3072))"
            ]
          },
          "metadata": {},
          "execution_count": 83
        }
      ]
    },
    {
      "cell_type": "markdown",
      "metadata": {
        "id": "UN-xPWjYIeWL"
      },
      "source": [
        "* Normalization"
      ]
    },
    {
      "cell_type": "code",
      "metadata": {
        "id": "SoGHuYeFIGBj"
      },
      "source": [
        "X_train = X_train.astype(float) / 309\n",
        "X_test = X_test.astype(float)/309"
      ],
      "execution_count": 7,
      "outputs": []
    },
    {
      "cell_type": "code",
      "metadata": {
        "id": "m1HezAboV-x8",
        "colab": {
          "base_uri": "https://localhost:8080/"
        },
        "outputId": "558892a3-4b5c-45b4-9220-1f10f2457a5b"
      },
      "source": [
        "print(X_train[0])"
      ],
      "execution_count": 8,
      "outputs": [
        {
          "output_type": "stream",
          "name": "stdout",
          "text": [
            "[[[0.19093851 0.20064725 0.2038835 ]\n",
            "  [0.13915858 0.14886731 0.14563107]\n",
            "  [0.1618123  0.15533981 0.13915858]\n",
            "  ...\n",
            "  [0.51132686 0.42718447 0.34951456]\n",
            "  [0.49190939 0.40453074 0.33009709]\n",
            "  [0.4789644  0.4012945  0.33333333]]\n",
            "\n",
            " [[0.05177994 0.06472492 0.06472492]\n",
            "  [0.         0.         0.        ]\n",
            "  [0.05825243 0.02588997 0.        ]\n",
            "  ...\n",
            "  [0.39805825 0.28478964 0.17799353]\n",
            "  [0.38511327 0.26860841 0.1618123 ]\n",
            "  [0.39482201 0.2815534  0.18446602]]\n",
            "\n",
            " [[0.08090615 0.0776699  0.06796117]\n",
            "  [0.05177994 0.02265372 0.        ]\n",
            "  [0.15857605 0.08737864 0.02588997]\n",
            "  ...\n",
            "  [0.38187702 0.27184466 0.1618123 ]\n",
            "  [0.38834951 0.27184466 0.1618123 ]\n",
            "  [0.35275081 0.23624595 0.13592233]]\n",
            "\n",
            " ...\n",
            "\n",
            " [[0.67313916 0.55016181 0.31067961]\n",
            "  [0.65048544 0.49514563 0.11003236]\n",
            "  [0.6407767  0.5210356  0.08414239]\n",
            "  ...\n",
            "  [0.51779935 0.43042071 0.22653722]\n",
            "  [0.18122977 0.10032362 0.02265372]\n",
            "  [0.17152104 0.11003236 0.06472492]]\n",
            "\n",
            " [[0.58252427 0.44983819 0.31067961]\n",
            "  [0.55987055 0.39805825 0.13592233]\n",
            "  [0.60194175 0.46601942 0.09708738]\n",
            "  ...\n",
            "  [0.59546926 0.4789644  0.30420712]\n",
            "  [0.31391586 0.20064725 0.11003236]\n",
            "  [0.26860841 0.17152104 0.11003236]]\n",
            "\n",
            " [[0.57281553 0.46601942 0.37540453]\n",
            "  [0.54368932 0.41747573 0.30420712]\n",
            "  [0.57928803 0.45954693 0.2815534 ]\n",
            "  ...\n",
            "  [0.69902913 0.59546926 0.45307443]\n",
            "  [0.48867314 0.38187702 0.27184466]\n",
            "  [0.39805825 0.29773463 0.23300971]]]\n"
          ]
        }
      ]
    },
    {
      "cell_type": "markdown",
      "metadata": {
        "id": "BtSROU80aF12"
      },
      "source": [
        "> ## 2) One Hot Encoding"
      ]
    },
    {
      "cell_type": "code",
      "metadata": {
        "id": "eC48Oym3Ao8E"
      },
      "source": [
        "from tensorflow.keras.utils import to_categorical\n",
        "y_train = to_categorical(y_train)\n",
        "y_test = to_categorical(y_test)\n"
      ],
      "execution_count": 9,
      "outputs": []
    },
    {
      "cell_type": "code",
      "metadata": {
        "id": "XwbF475GAjNa"
      },
      "source": [
        ""
      ],
      "execution_count": 9,
      "outputs": []
    },
    {
      "cell_type": "code",
      "metadata": {
        "id": "q1O-NsoJMyWU",
        "colab": {
          "base_uri": "https://localhost:8080/"
        },
        "outputId": "a2c973b3-c3e4-4cf6-b408-74e1686044ee"
      },
      "source": [
        "print(y_train[:5])"
      ],
      "execution_count": 10,
      "outputs": [
        {
          "output_type": "stream",
          "name": "stdout",
          "text": [
            "[[0. 0. 0. 0. 0. 0. 1. 0. 0. 0.]\n",
            " [0. 0. 0. 0. 0. 0. 0. 0. 0. 1.]\n",
            " [0. 0. 0. 0. 0. 0. 0. 0. 0. 1.]\n",
            " [0. 0. 0. 0. 1. 0. 0. 0. 0. 0.]\n",
            " [0. 1. 0. 0. 0. 0. 0. 0. 0. 0.]]\n"
          ]
        }
      ]
    },
    {
      "cell_type": "markdown",
      "metadata": {
        "id": "NTwZiSjiop3v"
      },
      "source": [
        "# III. Keras Modeling"
      ]
    },
    {
      "cell_type": "markdown",
      "metadata": {
        "id": "j5CT0TurJCkc"
      },
      "source": [
        "> ## 1) Model Define"
      ]
    },
    {
      "cell_type": "markdown",
      "metadata": {
        "id": "ydDCl0jTJD58"
      },
      "source": [
        "* 모델 신경망 구조 정의\n",
        " - 2개의 Hidden Layers & 3968개의 Nodes"
      ]
    },
    {
      "cell_type": "code",
      "metadata": {
        "id": "II0DskRdAcHS"
      },
      "source": [
        "from tensorflow.keras import models\n",
        "from tensorflow.keras import layers\n",
        "from keras.layers import Dense, Dropout, BatchNormalization\n",
        "from tensorflow.keras import regularizers\n",
        "\n",
        "model = models.Sequential()\n",
        "model.add(layers.Conv2D(filters= 32, kernel_size=(3,3), activation= 'relu', input_shape = (32,32,3)))\n",
        "model.add(Dropout(0.25))\n",
        "model.add(layers.MaxPool2D(pool_size= (2,2)))\n",
        "model.add(layers.Conv2D(filters= 32, kernel_size=(3,3), activation= 'relu'))\n",
        "model.add(BatchNormalization())\n",
        "model.add(Dropout(0.25))\n",
        "model.add(layers.MaxPool2D(pool_size= (2,2)))\n",
        "model.add(layers.Conv2D(filters= 32, kernel_size=(3,3), activation= 'relu'))\n",
        "model.add(BatchNormalization())\n",
        "model.add(layers.Flatten())\n",
        "model.add(layers.Dense(units=64, activation='relu'))\n",
        "model.add(layers.Dense(units=10, activation= 'softmax'))"
      ],
      "execution_count": 41,
      "outputs": []
    },
    {
      "cell_type": "markdown",
      "metadata": {
        "id": "PqrObAHZJTN8"
      },
      "source": [
        "* 모델 구조 확인"
      ]
    },
    {
      "cell_type": "code",
      "metadata": {
        "id": "wbtjOA4XMTUd",
        "colab": {
          "base_uri": "https://localhost:8080/"
        },
        "outputId": "43fad1bc-bf22-4bfc-a05d-43f2aa3e0e97"
      },
      "source": [
        "model.summary()"
      ],
      "execution_count": 42,
      "outputs": [
        {
          "output_type": "stream",
          "name": "stdout",
          "text": [
            "Model: \"sequential_4\"\n",
            "_________________________________________________________________\n",
            "Layer (type)                 Output Shape              Param #   \n",
            "=================================================================\n",
            "conv2d_11 (Conv2D)           (None, 30, 30, 32)        896       \n",
            "_________________________________________________________________\n",
            "dropout (Dropout)            (None, 30, 30, 32)        0         \n",
            "_________________________________________________________________\n",
            "max_pooling2d_7 (MaxPooling2 (None, 15, 15, 32)        0         \n",
            "_________________________________________________________________\n",
            "conv2d_12 (Conv2D)           (None, 13, 13, 32)        9248      \n",
            "_________________________________________________________________\n",
            "batch_normalization_2 (Batch (None, 13, 13, 32)        128       \n",
            "_________________________________________________________________\n",
            "dropout_1 (Dropout)          (None, 13, 13, 32)        0         \n",
            "_________________________________________________________________\n",
            "max_pooling2d_8 (MaxPooling2 (None, 6, 6, 32)          0         \n",
            "_________________________________________________________________\n",
            "conv2d_13 (Conv2D)           (None, 4, 4, 32)          9248      \n",
            "_________________________________________________________________\n",
            "batch_normalization_3 (Batch (None, 4, 4, 32)          128       \n",
            "_________________________________________________________________\n",
            "flatten_2 (Flatten)          (None, 512)               0         \n",
            "_________________________________________________________________\n",
            "dense_4 (Dense)              (None, 64)                32832     \n",
            "_________________________________________________________________\n",
            "dense_5 (Dense)              (None, 10)                650       \n",
            "=================================================================\n",
            "Total params: 53,130\n",
            "Trainable params: 53,002\n",
            "Non-trainable params: 128\n",
            "_________________________________________________________________\n"
          ]
        }
      ]
    },
    {
      "cell_type": "markdown",
      "metadata": {
        "id": "tpjBDBeYoyuj"
      },
      "source": [
        "> ## 2) Model Compile"
      ]
    },
    {
      "cell_type": "markdown",
      "metadata": {
        "id": "f3sxkQa0JoUr"
      },
      "source": [
        "* 모델 학습방법 설정"
      ]
    },
    {
      "cell_type": "code",
      "metadata": {
        "id": "AyK_t1qwAi6M"
      },
      "source": [
        "model.compile(loss = 'categorical_crossentropy',\n",
        "               optimizer = 'adam',\n",
        "               metrics = ['accuracy'])"
      ],
      "execution_count": 43,
      "outputs": []
    },
    {
      "cell_type": "markdown",
      "metadata": {
        "id": "umiq4B-Xo3OB"
      },
      "source": [
        "> ## 3) Model Fit"
      ]
    },
    {
      "cell_type": "markdown",
      "metadata": {
        "id": "1KuXREziKMD1"
      },
      "source": [
        "* 약 5분"
      ]
    },
    {
      "cell_type": "code",
      "metadata": {
        "id": "zxwqwAqRAqRP",
        "colab": {
          "base_uri": "https://localhost:8080/"
        },
        "outputId": "f862a86f-3e34-4475-ad6c-53343a692f94"
      },
      "source": [
        "%%time\n",
        "\n",
        "T_model = model.fit(X_train, y_train,\n",
        "                     epochs=100,\n",
        "                     batch_size = 128,\n",
        "                     validation_split = 0.2)\n"
      ],
      "execution_count": 44,
      "outputs": [
        {
          "output_type": "stream",
          "name": "stdout",
          "text": [
            "Epoch 1/100\n",
            "313/313 [==============================] - 5s 15ms/step - loss: 1.6399 - accuracy: 0.4117 - val_loss: 3.3372 - val_accuracy: 0.1336\n",
            "Epoch 2/100\n",
            "313/313 [==============================] - 4s 12ms/step - loss: 1.2560 - accuracy: 0.5543 - val_loss: 2.5650 - val_accuracy: 0.2339\n",
            "Epoch 3/100\n",
            "313/313 [==============================] - 4s 14ms/step - loss: 1.1167 - accuracy: 0.6030 - val_loss: 2.2338 - val_accuracy: 0.3415\n",
            "Epoch 4/100\n",
            "313/313 [==============================] - 4s 12ms/step - loss: 1.0246 - accuracy: 0.6374 - val_loss: 1.6087 - val_accuracy: 0.4510\n",
            "Epoch 5/100\n",
            "313/313 [==============================] - 4s 12ms/step - loss: 0.9612 - accuracy: 0.6596 - val_loss: 1.3555 - val_accuracy: 0.5328\n",
            "Epoch 6/100\n",
            "313/313 [==============================] - 4s 13ms/step - loss: 0.9032 - accuracy: 0.6804 - val_loss: 1.2861 - val_accuracy: 0.5535\n",
            "Epoch 7/100\n",
            "313/313 [==============================] - 5s 14ms/step - loss: 0.8629 - accuracy: 0.6957 - val_loss: 1.2099 - val_accuracy: 0.5761\n",
            "Epoch 8/100\n",
            "313/313 [==============================] - 5s 15ms/step - loss: 0.8237 - accuracy: 0.7082 - val_loss: 1.1397 - val_accuracy: 0.6055\n",
            "Epoch 9/100\n",
            "313/313 [==============================] - 4s 14ms/step - loss: 0.7884 - accuracy: 0.7239 - val_loss: 1.4026 - val_accuracy: 0.5530\n",
            "Epoch 10/100\n",
            "313/313 [==============================] - 5s 15ms/step - loss: 0.7596 - accuracy: 0.7322 - val_loss: 1.1693 - val_accuracy: 0.5967\n",
            "Epoch 11/100\n",
            "313/313 [==============================] - 5s 15ms/step - loss: 0.7394 - accuracy: 0.7411 - val_loss: 2.2497 - val_accuracy: 0.4182\n",
            "Epoch 12/100\n",
            "313/313 [==============================] - 4s 14ms/step - loss: 0.7152 - accuracy: 0.7467 - val_loss: 1.9104 - val_accuracy: 0.4531\n",
            "Epoch 13/100\n",
            "313/313 [==============================] - 4s 14ms/step - loss: 0.6916 - accuracy: 0.7551 - val_loss: 1.4818 - val_accuracy: 0.5464\n",
            "Epoch 14/100\n",
            "313/313 [==============================] - 4s 13ms/step - loss: 0.6725 - accuracy: 0.7618 - val_loss: 1.2460 - val_accuracy: 0.5983\n",
            "Epoch 15/100\n",
            "313/313 [==============================] - 4s 13ms/step - loss: 0.6558 - accuracy: 0.7674 - val_loss: 1.4379 - val_accuracy: 0.5490\n",
            "Epoch 16/100\n",
            "313/313 [==============================] - 4s 12ms/step - loss: 0.6389 - accuracy: 0.7739 - val_loss: 1.2815 - val_accuracy: 0.5886\n",
            "Epoch 17/100\n",
            "313/313 [==============================] - 4s 12ms/step - loss: 0.6187 - accuracy: 0.7791 - val_loss: 1.8154 - val_accuracy: 0.4833\n",
            "Epoch 18/100\n",
            "313/313 [==============================] - 4s 12ms/step - loss: 0.6109 - accuracy: 0.7849 - val_loss: 1.4252 - val_accuracy: 0.5632\n",
            "Epoch 19/100\n",
            "313/313 [==============================] - 4s 13ms/step - loss: 0.5916 - accuracy: 0.7902 - val_loss: 1.5211 - val_accuracy: 0.5675\n",
            "Epoch 20/100\n",
            "313/313 [==============================] - 4s 12ms/step - loss: 0.5830 - accuracy: 0.7939 - val_loss: 1.3362 - val_accuracy: 0.5931\n",
            "Epoch 21/100\n",
            "313/313 [==============================] - 4s 12ms/step - loss: 0.5666 - accuracy: 0.7990 - val_loss: 1.1141 - val_accuracy: 0.6338\n",
            "Epoch 22/100\n",
            "313/313 [==============================] - 4s 12ms/step - loss: 0.5565 - accuracy: 0.8020 - val_loss: 1.2919 - val_accuracy: 0.5987\n",
            "Epoch 23/100\n",
            "313/313 [==============================] - 4s 12ms/step - loss: 0.5447 - accuracy: 0.8077 - val_loss: 1.3349 - val_accuracy: 0.6041\n",
            "Epoch 24/100\n",
            "313/313 [==============================] - 4s 12ms/step - loss: 0.5345 - accuracy: 0.8120 - val_loss: 1.3339 - val_accuracy: 0.6051\n",
            "Epoch 25/100\n",
            "313/313 [==============================] - 4s 12ms/step - loss: 0.5307 - accuracy: 0.8122 - val_loss: 1.4922 - val_accuracy: 0.5715\n",
            "Epoch 26/100\n",
            "313/313 [==============================] - 4s 11ms/step - loss: 0.5144 - accuracy: 0.8180 - val_loss: 1.4580 - val_accuracy: 0.5700\n",
            "Epoch 27/100\n",
            "313/313 [==============================] - 4s 12ms/step - loss: 0.5115 - accuracy: 0.8175 - val_loss: 1.3823 - val_accuracy: 0.5942\n",
            "Epoch 28/100\n",
            "313/313 [==============================] - 4s 13ms/step - loss: 0.4999 - accuracy: 0.8205 - val_loss: 1.6244 - val_accuracy: 0.5472\n",
            "Epoch 29/100\n",
            "313/313 [==============================] - 4s 13ms/step - loss: 0.4946 - accuracy: 0.8253 - val_loss: 1.6048 - val_accuracy: 0.5543\n",
            "Epoch 30/100\n",
            "313/313 [==============================] - 4s 12ms/step - loss: 0.4896 - accuracy: 0.8260 - val_loss: 1.6591 - val_accuracy: 0.5504\n",
            "Epoch 31/100\n",
            "313/313 [==============================] - 4s 12ms/step - loss: 0.4801 - accuracy: 0.8274 - val_loss: 1.3216 - val_accuracy: 0.6110\n",
            "Epoch 32/100\n",
            "313/313 [==============================] - 4s 12ms/step - loss: 0.4715 - accuracy: 0.8315 - val_loss: 1.4305 - val_accuracy: 0.5886\n",
            "Epoch 33/100\n",
            "313/313 [==============================] - 4s 12ms/step - loss: 0.4689 - accuracy: 0.8328 - val_loss: 1.1008 - val_accuracy: 0.6521\n",
            "Epoch 34/100\n",
            "313/313 [==============================] - 4s 13ms/step - loss: 0.4609 - accuracy: 0.8344 - val_loss: 1.7965 - val_accuracy: 0.5383\n",
            "Epoch 35/100\n",
            "313/313 [==============================] - 4s 12ms/step - loss: 0.4535 - accuracy: 0.8380 - val_loss: 1.4890 - val_accuracy: 0.5853\n",
            "Epoch 36/100\n",
            "313/313 [==============================] - 4s 12ms/step - loss: 0.4478 - accuracy: 0.8400 - val_loss: 1.3245 - val_accuracy: 0.6092\n",
            "Epoch 37/100\n",
            "313/313 [==============================] - 4s 12ms/step - loss: 0.4419 - accuracy: 0.8404 - val_loss: 1.4136 - val_accuracy: 0.6009\n",
            "Epoch 38/100\n",
            "313/313 [==============================] - 4s 11ms/step - loss: 0.4370 - accuracy: 0.8420 - val_loss: 1.3983 - val_accuracy: 0.6024\n",
            "Epoch 39/100\n",
            "313/313 [==============================] - 4s 12ms/step - loss: 0.4323 - accuracy: 0.8444 - val_loss: 1.7707 - val_accuracy: 0.5422\n",
            "Epoch 40/100\n",
            "313/313 [==============================] - 4s 13ms/step - loss: 0.4263 - accuracy: 0.8472 - val_loss: 1.4201 - val_accuracy: 0.6032\n",
            "Epoch 41/100\n",
            "313/313 [==============================] - 4s 12ms/step - loss: 0.4193 - accuracy: 0.8490 - val_loss: 1.2996 - val_accuracy: 0.6244\n",
            "Epoch 42/100\n",
            "313/313 [==============================] - 4s 13ms/step - loss: 0.4155 - accuracy: 0.8504 - val_loss: 1.4098 - val_accuracy: 0.5998\n",
            "Epoch 43/100\n",
            "313/313 [==============================] - 4s 12ms/step - loss: 0.4218 - accuracy: 0.8475 - val_loss: 1.3165 - val_accuracy: 0.6253\n",
            "Epoch 44/100\n",
            "313/313 [==============================] - 4s 12ms/step - loss: 0.4065 - accuracy: 0.8521 - val_loss: 1.7813 - val_accuracy: 0.5453\n",
            "Epoch 45/100\n",
            "313/313 [==============================] - 4s 13ms/step - loss: 0.3997 - accuracy: 0.8544 - val_loss: 1.6710 - val_accuracy: 0.5562\n",
            "Epoch 46/100\n",
            "313/313 [==============================] - 4s 12ms/step - loss: 0.3948 - accuracy: 0.8575 - val_loss: 1.3403 - val_accuracy: 0.6282\n",
            "Epoch 47/100\n",
            "313/313 [==============================] - 4s 12ms/step - loss: 0.3917 - accuracy: 0.8572 - val_loss: 1.4811 - val_accuracy: 0.6088\n",
            "Epoch 48/100\n",
            "313/313 [==============================] - 4s 12ms/step - loss: 0.3930 - accuracy: 0.8577 - val_loss: 1.5545 - val_accuracy: 0.5915\n",
            "Epoch 49/100\n",
            "313/313 [==============================] - 4s 13ms/step - loss: 0.3887 - accuracy: 0.8594 - val_loss: 1.3704 - val_accuracy: 0.6191\n",
            "Epoch 50/100\n",
            "313/313 [==============================] - 4s 12ms/step - loss: 0.3833 - accuracy: 0.8614 - val_loss: 1.3898 - val_accuracy: 0.6229\n",
            "Epoch 51/100\n",
            "313/313 [==============================] - 4s 12ms/step - loss: 0.3808 - accuracy: 0.8643 - val_loss: 1.2184 - val_accuracy: 0.6444\n",
            "Epoch 52/100\n",
            "313/313 [==============================] - 4s 12ms/step - loss: 0.3803 - accuracy: 0.8615 - val_loss: 1.4894 - val_accuracy: 0.6050\n",
            "Epoch 53/100\n",
            "313/313 [==============================] - 4s 13ms/step - loss: 0.3753 - accuracy: 0.8633 - val_loss: 1.3583 - val_accuracy: 0.6180\n",
            "Epoch 54/100\n",
            "313/313 [==============================] - 4s 12ms/step - loss: 0.3742 - accuracy: 0.8643 - val_loss: 1.4334 - val_accuracy: 0.6156\n",
            "Epoch 55/100\n",
            "313/313 [==============================] - 4s 13ms/step - loss: 0.3667 - accuracy: 0.8664 - val_loss: 1.5656 - val_accuracy: 0.5877\n",
            "Epoch 56/100\n",
            "313/313 [==============================] - 4s 12ms/step - loss: 0.3659 - accuracy: 0.8677 - val_loss: 1.4917 - val_accuracy: 0.6034\n",
            "Epoch 57/100\n",
            "313/313 [==============================] - 4s 13ms/step - loss: 0.3610 - accuracy: 0.8681 - val_loss: 1.9175 - val_accuracy: 0.5355\n",
            "Epoch 58/100\n",
            "313/313 [==============================] - 4s 13ms/step - loss: 0.3544 - accuracy: 0.8709 - val_loss: 2.1993 - val_accuracy: 0.5040\n",
            "Epoch 59/100\n",
            "313/313 [==============================] - 4s 12ms/step - loss: 0.3624 - accuracy: 0.8671 - val_loss: 1.3339 - val_accuracy: 0.6316\n",
            "Epoch 60/100\n",
            "313/313 [==============================] - 4s 13ms/step - loss: 0.3502 - accuracy: 0.8723 - val_loss: 1.9216 - val_accuracy: 0.5444\n",
            "Epoch 61/100\n",
            "313/313 [==============================] - 4s 12ms/step - loss: 0.3564 - accuracy: 0.8697 - val_loss: 1.5576 - val_accuracy: 0.6011\n",
            "Epoch 62/100\n",
            "313/313 [==============================] - 4s 12ms/step - loss: 0.3493 - accuracy: 0.8736 - val_loss: 1.8667 - val_accuracy: 0.5409\n",
            "Epoch 63/100\n",
            "313/313 [==============================] - 4s 12ms/step - loss: 0.3491 - accuracy: 0.8755 - val_loss: 1.4880 - val_accuracy: 0.6092\n",
            "Epoch 64/100\n",
            "313/313 [==============================] - 4s 12ms/step - loss: 0.3369 - accuracy: 0.8760 - val_loss: 1.7255 - val_accuracy: 0.5785\n",
            "Epoch 65/100\n",
            "313/313 [==============================] - 4s 12ms/step - loss: 0.3401 - accuracy: 0.8774 - val_loss: 1.6035 - val_accuracy: 0.5876\n",
            "Epoch 66/100\n",
            "313/313 [==============================] - 4s 13ms/step - loss: 0.3360 - accuracy: 0.8784 - val_loss: 1.8114 - val_accuracy: 0.5656\n",
            "Epoch 67/100\n",
            "313/313 [==============================] - 4s 13ms/step - loss: 0.3394 - accuracy: 0.8769 - val_loss: 1.6807 - val_accuracy: 0.5829\n",
            "Epoch 68/100\n",
            "313/313 [==============================] - 4s 12ms/step - loss: 0.3344 - accuracy: 0.8790 - val_loss: 1.4444 - val_accuracy: 0.6221\n",
            "Epoch 69/100\n",
            "313/313 [==============================] - 4s 12ms/step - loss: 0.3298 - accuracy: 0.8787 - val_loss: 1.6735 - val_accuracy: 0.5946\n",
            "Epoch 70/100\n",
            "313/313 [==============================] - 4s 13ms/step - loss: 0.3308 - accuracy: 0.8791 - val_loss: 1.5763 - val_accuracy: 0.6044\n",
            "Epoch 71/100\n",
            "313/313 [==============================] - 4s 13ms/step - loss: 0.3306 - accuracy: 0.8819 - val_loss: 1.5313 - val_accuracy: 0.6129\n",
            "Epoch 72/100\n",
            "313/313 [==============================] - 4s 12ms/step - loss: 0.3256 - accuracy: 0.8819 - val_loss: 1.8218 - val_accuracy: 0.5694\n",
            "Epoch 73/100\n",
            "313/313 [==============================] - 4s 13ms/step - loss: 0.3236 - accuracy: 0.8830 - val_loss: 1.7111 - val_accuracy: 0.5898\n",
            "Epoch 74/100\n",
            "313/313 [==============================] - 4s 12ms/step - loss: 0.3187 - accuracy: 0.8840 - val_loss: 1.4680 - val_accuracy: 0.6235\n",
            "Epoch 75/100\n",
            "313/313 [==============================] - 4s 12ms/step - loss: 0.3189 - accuracy: 0.8830 - val_loss: 1.6589 - val_accuracy: 0.5981\n",
            "Epoch 76/100\n",
            "313/313 [==============================] - 4s 13ms/step - loss: 0.3159 - accuracy: 0.8840 - val_loss: 1.4325 - val_accuracy: 0.6279\n",
            "Epoch 77/100\n",
            "313/313 [==============================] - 4s 12ms/step - loss: 0.3212 - accuracy: 0.8837 - val_loss: 1.7443 - val_accuracy: 0.5813\n",
            "Epoch 78/100\n",
            "313/313 [==============================] - 4s 12ms/step - loss: 0.3087 - accuracy: 0.8855 - val_loss: 1.5866 - val_accuracy: 0.6086\n",
            "Epoch 79/100\n",
            "313/313 [==============================] - 4s 13ms/step - loss: 0.3081 - accuracy: 0.8856 - val_loss: 1.7899 - val_accuracy: 0.5854\n",
            "Epoch 80/100\n",
            "313/313 [==============================] - 4s 12ms/step - loss: 0.3155 - accuracy: 0.8841 - val_loss: 1.5552 - val_accuracy: 0.6130\n",
            "Epoch 81/100\n",
            "313/313 [==============================] - 4s 13ms/step - loss: 0.3088 - accuracy: 0.8873 - val_loss: 1.5532 - val_accuracy: 0.6107\n",
            "Epoch 82/100\n",
            "313/313 [==============================] - 4s 12ms/step - loss: 0.3042 - accuracy: 0.8900 - val_loss: 1.4425 - val_accuracy: 0.6361\n",
            "Epoch 83/100\n",
            "313/313 [==============================] - 4s 13ms/step - loss: 0.3003 - accuracy: 0.8903 - val_loss: 1.7316 - val_accuracy: 0.5930\n",
            "Epoch 84/100\n",
            "313/313 [==============================] - 4s 13ms/step - loss: 0.3026 - accuracy: 0.8888 - val_loss: 1.6951 - val_accuracy: 0.5932\n",
            "Epoch 85/100\n",
            "313/313 [==============================] - 4s 13ms/step - loss: 0.2991 - accuracy: 0.8923 - val_loss: 1.6876 - val_accuracy: 0.5943\n",
            "Epoch 86/100\n",
            "313/313 [==============================] - 4s 12ms/step - loss: 0.3059 - accuracy: 0.8893 - val_loss: 1.7681 - val_accuracy: 0.5834\n",
            "Epoch 87/100\n",
            "313/313 [==============================] - 4s 12ms/step - loss: 0.2926 - accuracy: 0.8939 - val_loss: 1.6235 - val_accuracy: 0.6058\n",
            "Epoch 88/100\n",
            "313/313 [==============================] - 4s 12ms/step - loss: 0.2930 - accuracy: 0.8922 - val_loss: 1.9406 - val_accuracy: 0.5620\n",
            "Epoch 89/100\n",
            "313/313 [==============================] - 4s 12ms/step - loss: 0.2947 - accuracy: 0.8908 - val_loss: 1.7620 - val_accuracy: 0.5912\n",
            "Epoch 90/100\n",
            "313/313 [==============================] - 4s 12ms/step - loss: 0.2926 - accuracy: 0.8929 - val_loss: 1.7488 - val_accuracy: 0.5925\n",
            "Epoch 91/100\n",
            "313/313 [==============================] - 4s 13ms/step - loss: 0.2916 - accuracy: 0.8951 - val_loss: 1.6621 - val_accuracy: 0.6034\n",
            "Epoch 92/100\n",
            "313/313 [==============================] - 4s 12ms/step - loss: 0.2890 - accuracy: 0.8938 - val_loss: 1.5196 - val_accuracy: 0.6269\n",
            "Epoch 93/100\n",
            "313/313 [==============================] - 4s 12ms/step - loss: 0.2903 - accuracy: 0.8930 - val_loss: 1.7539 - val_accuracy: 0.5913\n",
            "Epoch 94/100\n",
            "313/313 [==============================] - 4s 12ms/step - loss: 0.2934 - accuracy: 0.8923 - val_loss: 1.6786 - val_accuracy: 0.6024\n",
            "Epoch 95/100\n",
            "313/313 [==============================] - 4s 12ms/step - loss: 0.2872 - accuracy: 0.8953 - val_loss: 1.9132 - val_accuracy: 0.5735\n",
            "Epoch 96/100\n",
            "313/313 [==============================] - 4s 12ms/step - loss: 0.2844 - accuracy: 0.8954 - val_loss: 1.7697 - val_accuracy: 0.5879\n",
            "Epoch 97/100\n",
            "313/313 [==============================] - 4s 12ms/step - loss: 0.2838 - accuracy: 0.8983 - val_loss: 2.1333 - val_accuracy: 0.5387\n",
            "Epoch 98/100\n",
            "313/313 [==============================] - 4s 13ms/step - loss: 0.2887 - accuracy: 0.8945 - val_loss: 1.5982 - val_accuracy: 0.6204\n",
            "Epoch 99/100\n",
            "313/313 [==============================] - 4s 12ms/step - loss: 0.2808 - accuracy: 0.8969 - val_loss: 1.8552 - val_accuracy: 0.5849\n",
            "Epoch 100/100\n",
            "313/313 [==============================] - 4s 13ms/step - loss: 0.2826 - accuracy: 0.8955 - val_loss: 1.9278 - val_accuracy: 0.5696\n",
            "CPU times: user 5min 41s, sys: 37.6 s, total: 6min 19s\n",
            "Wall time: 6min 30s\n"
          ]
        }
      ]
    },
    {
      "cell_type": "markdown",
      "metadata": {
        "id": "FnnIyFtNKhbD"
      },
      "source": [
        "> ## 4) 학습 결과 시각화"
      ]
    },
    {
      "cell_type": "markdown",
      "metadata": {
        "id": "YgXRhVauKqOm"
      },
      "source": [
        "* Loss Visualization"
      ]
    },
    {
      "cell_type": "code",
      "metadata": {
        "id": "OQ4ke8BbKi50",
        "colab": {
          "base_uri": "https://localhost:8080/",
          "height": 404
        },
        "outputId": "1e8e4443-0b49-4e01-d582-3584c715fe46"
      },
      "source": [
        "import matplotlib.pyplot as plt\n",
        "\n",
        "epochs = range(1, len(T_model.history['loss']) + 1)\n",
        "\n",
        "plt.figure(figsize = (9, 6))\n",
        "plt.plot(epochs, T_model.history['loss'])\n",
        "plt.plot(epochs, T_model.history['val_loss'])\n",
        "# plt.ylim(0, 0.25)\n",
        "plt.title('Training & Validation Loss')\n",
        "plt.xlabel('Epochs')\n",
        "plt.ylabel('Loss')\n",
        "plt.legend(['Training Loss', 'Validation Loss'])\n",
        "plt.grid()\n",
        "plt.show()"
      ],
      "execution_count": 37,
      "outputs": [
        {
          "output_type": "display_data",
          "data": {
            "image/png": "[encoded data removed]",
            "text/plain": [
              "<Figure size 648x432 with 1 Axes>"
            ]
          },
          "metadata": {
            "needs_background": "light"
          }
        }
      ]
    },
    {
      "cell_type": "markdown",
      "metadata": {
        "id": "_uJSOLBko7lh"
      },
      "source": [
        "> ## 5) Model Evaluate"
      ]
    },
    {
      "cell_type": "markdown",
      "metadata": {
        "id": "i-TqAB2ALGzZ"
      },
      "source": [
        "* Loss & Accuracy"
      ]
    },
    {
      "cell_type": "code",
      "metadata": {
        "id": "OF30PuZsAxQJ",
        "colab": {
          "base_uri": "https://localhost:8080/"
        },
        "outputId": "a99c8176-d3f7-4dd1-81cb-4073165cc636"
      },
      "source": [
        "loss, accuracy = model.evaluate(X_test, y_test)\n",
        "\n",
        "print('Loss = {:.5f}'.format(loss))\n",
        "print('Accuracy = {:.5f}'.format(accuracy))"
      ],
      "execution_count": 38,
      "outputs": [
        {
          "output_type": "stream",
          "name": "stdout",
          "text": [
            "313/313 [==============================] - 1s 4ms/step - loss: 3.8290 - accuracy: 0.6446\n",
            "Loss = 3.82904\n",
            "Accuracy = 0.64460\n"
          ]
        }
      ]
    },
    {
      "cell_type": "markdown",
      "metadata": {
        "id": "1PRY6gAXo_PX"
      },
      "source": [
        "> ## 6) Model Predict"
      ]
    },
    {
      "cell_type": "markdown",
      "metadata": {
        "id": "M_pFxK4PLjxX"
      },
      "source": [
        "* Probability"
      ]
    },
    {
      "cell_type": "code",
      "metadata": {
        "id": "vCdPbgU1ajoV",
        "colab": {
          "base_uri": "https://localhost:8080/"
        },
        "outputId": "33dececb-f894-45b9-f27f-008e76b965a5"
      },
      "source": [
        "np.set_printoptions(suppress = True, precision = 9)\n",
        "\n",
        "print(model.predict(X_test[:1,:]))"
      ],
      "execution_count": 39,
      "outputs": [
        {
          "output_type": "stream",
          "name": "stdout",
          "text": [
            "[[0.          0.          0.          1.          0.          0.          0.          0.          0.000000013 0.         ]]\n"
          ]
        }
      ]
    },
    {
      "cell_type": "markdown",
      "metadata": {
        "id": "V10JgtGdLmKb"
      },
      "source": [
        "* Class"
      ]
    },
    {
      "cell_type": "code",
      "metadata": {
        "id": "xW6AhMK9a7RK",
        "colab": {
          "base_uri": "https://localhost:8080/"
        },
        "outputId": "eb391f23-eefb-41a3-8900-ea737887528d"
      },
      "source": [
        "print(np.argmax(model.predict(X_test[:1,:]), axis = 1))"
      ],
      "execution_count": 40,
      "outputs": [
        {
          "output_type": "stream",
          "name": "stdout",
          "text": [
            "[3]\n"
          ]
        }
      ]
    },
    {
      "cell_type": "markdown",
      "metadata": {
        "id": "sN48I9GrLxOX"
      },
      "source": [
        "# \n",
        "# \n",
        "# \n",
        "# The End\n",
        "# \n",
        "# \n",
        "# "
      ]
    },
    {
      "cell_type": "code",
      "metadata": {
        "id": "L3uFdnC6DgqD"
      },
      "source": [
        ""
      ],
      "execution_count": null,
      "outputs": []
    }
  ]
}