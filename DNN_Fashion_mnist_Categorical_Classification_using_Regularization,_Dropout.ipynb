{
  "nbformat": 4,
  "nbformat_minor": 0,
  "metadata": {
    "colab": {
      "name": "DNN_Fashion_mnist_Categorical_Classification_using_Regularization, Dropout",
      "provenance": [],
      "collapsed_sections": [],
      "include_colab_link": true
    },
    "kernelspec": {
      "name": "python3",
      "display_name": "Python 3"
    },
    "accelerator": "GPU"
  },
  "cells": [
    {
      "cell_type": "markdown",
      "metadata": {
        "id": "view-in-github",
        "colab_type": "text"
      },
      "source": [
        "<a href=\"https://colab.research.google.com/github/BbangB/Code/blob/main/DNN_Fashion_mnist_Categorical_Classification_using_Regularization%2C_Dropout.ipynb\" target=\"_parent\"><img src=\"https://colab.research.google.com/assets/colab-badge.svg\" alt=\"Open In Colab\"/></a>"
      ]
    },
    {
      "cell_type": "markdown",
      "metadata": {
        "id": "q2Pr7oBdYLdf"
      },
      "source": [
        "# Fashion MNIST - Categorical Classification"
      ]
    },
    {
      "cell_type": "code",
      "metadata": {
        "id": "RbPgODpVzdHI"
      },
      "source": [
        "import warnings\n",
        "warnings.filterwarnings('ignore')"
      ],
      "execution_count": 1,
      "outputs": []
    },
    {
      "cell_type": "markdown",
      "metadata": {
        "id": "H49A769LYp-a"
      },
      "source": [
        "# I. Fashion MNIST Data_Set Load & Review"
      ]
    },
    {
      "cell_type": "markdown",
      "metadata": {
        "id": "vb6EIkRcbPb4"
      },
      "source": [
        "> ## 1) Load Fashion MNIST Data_Set"
      ]
    },
    {
      "cell_type": "code",
      "metadata": {
        "id": "DxstjE8b_6Te",
        "colab": {
          "base_uri": "https://localhost:8080/"
        },
        "outputId": "41228fc7-0076-495e-b0a8-d7fe11fd0d77"
      },
      "source": [
        "from tensorflow.keras.datasets import fashion_mnist\n",
        "\n",
        "(X_train, y_train), (X_test, y_test) = fashion_mnist.load_data()"
      ],
      "execution_count": 2,
      "outputs": [
        {
          "output_type": "stream",
          "name": "stdout",
          "text": [
            "Downloading data from https://storage.googleapis.com/tensorflow/tf-keras-datasets/train-labels-idx1-ubyte.gz\n",
            "32768/29515 [=================================] - 0s 0us/step\n",
            "40960/29515 [=========================================] - 0s 0us/step\n",
            "Downloading data from https://storage.googleapis.com/tensorflow/tf-keras-datasets/train-images-idx3-ubyte.gz\n",
            "26427392/26421880 [==============================] - 0s 0us/step\n",
            "26435584/26421880 [==============================] - 0s 0us/step\n",
            "Downloading data from https://storage.googleapis.com/tensorflow/tf-keras-datasets/t10k-labels-idx1-ubyte.gz\n",
            "16384/5148 [===============================================================================================] - 0s 0us/step\n",
            "Downloading data from https://storage.googleapis.com/tensorflow/tf-keras-datasets/t10k-images-idx3-ubyte.gz\n",
            "4423680/4422102 [==============================] - 0s 0us/step\n",
            "4431872/4422102 [==============================] - 0s 0us/step\n"
          ]
        }
      ]
    },
    {
      "cell_type": "code",
      "metadata": {
        "id": "Tts64KsP5P7y"
      },
      "source": [
        ""
      ],
      "execution_count": 2,
      "outputs": []
    },
    {
      "cell_type": "markdown",
      "metadata": {
        "id": "Mt11QE0EHCiJ"
      },
      "source": [
        "* Train_Data Information"
      ]
    },
    {
      "cell_type": "code",
      "metadata": {
        "id": "c7EkcwD15SlU"
      },
      "source": [
        ""
      ],
      "execution_count": 2,
      "outputs": []
    },
    {
      "cell_type": "code",
      "metadata": {
        "id": "KT_Mr_Hb__VH",
        "colab": {
          "base_uri": "https://localhost:8080/"
        },
        "outputId": "53c03e4d-971f-4f1a-b19d-220681fcfd4d"
      },
      "source": [
        "print(len(X_train))\n",
        "print(X_train.shape)\n",
        "\n",
        "print(len(y_train))\n",
        "print(y_train[0:5])"
      ],
      "execution_count": 3,
      "outputs": [
        {
          "output_type": "stream",
          "name": "stdout",
          "text": [
            "60000\n",
            "(60000, 28, 28)\n",
            "60000\n",
            "[9 0 0 3 0]\n"
          ]
        }
      ]
    },
    {
      "cell_type": "markdown",
      "metadata": {
        "id": "QolAqIwgHGRI"
      },
      "source": [
        "* Test_Data Information"
      ]
    },
    {
      "cell_type": "code",
      "metadata": {
        "id": "NtkD2BKUANZE",
        "colab": {
          "base_uri": "https://localhost:8080/"
        },
        "outputId": "691e3e9a-4908-4723-f48d-7e09e4af6073"
      },
      "source": [
        "print(len(X_test))\n",
        "print(X_test.shape)\n",
        "\n",
        "print(len(y_test))\n",
        "print(y_test[0:5])\n",
        "\n",
        "X_test"
      ],
      "execution_count": 4,
      "outputs": [
        {
          "output_type": "stream",
          "name": "stdout",
          "text": [
            "10000\n",
            "(10000, 28, 28)\n",
            "10000\n",
            "[9 2 1 1 6]\n"
          ]
        },
        {
          "output_type": "execute_result",
          "data": {
            "text/plain": [
              "array([[[0, 0, 0, ..., 0, 0, 0],\n",
              "        [0, 0, 0, ..., 0, 0, 0],\n",
              "        [0, 0, 0, ..., 0, 0, 0],\n",
              "        ...,\n",
              "        [0, 0, 0, ..., 0, 0, 0],\n",
              "        [0, 0, 0, ..., 0, 0, 0],\n",
              "        [0, 0, 0, ..., 0, 0, 0]],\n",
              "\n",
              "       [[0, 0, 0, ..., 0, 0, 0],\n",
              "        [0, 0, 0, ..., 0, 0, 0],\n",
              "        [0, 0, 0, ..., 0, 0, 0],\n",
              "        ...,\n",
              "        [0, 0, 0, ..., 0, 0, 0],\n",
              "        [0, 0, 0, ..., 0, 0, 0],\n",
              "        [0, 0, 0, ..., 0, 0, 0]],\n",
              "\n",
              "       [[0, 0, 0, ..., 0, 0, 0],\n",
              "        [0, 0, 0, ..., 0, 0, 0],\n",
              "        [0, 0, 0, ..., 0, 0, 0],\n",
              "        ...,\n",
              "        [0, 0, 0, ..., 0, 0, 0],\n",
              "        [0, 0, 0, ..., 0, 0, 0],\n",
              "        [0, 0, 0, ..., 0, 0, 0]],\n",
              "\n",
              "       ...,\n",
              "\n",
              "       [[0, 0, 0, ..., 0, 0, 0],\n",
              "        [0, 0, 0, ..., 0, 0, 0],\n",
              "        [0, 0, 0, ..., 0, 0, 0],\n",
              "        ...,\n",
              "        [0, 0, 0, ..., 0, 0, 0],\n",
              "        [0, 0, 0, ..., 0, 0, 0],\n",
              "        [0, 0, 0, ..., 0, 0, 0]],\n",
              "\n",
              "       [[0, 0, 0, ..., 0, 0, 0],\n",
              "        [0, 0, 0, ..., 0, 0, 0],\n",
              "        [0, 0, 0, ..., 0, 0, 0],\n",
              "        ...,\n",
              "        [0, 0, 0, ..., 0, 0, 0],\n",
              "        [0, 0, 0, ..., 0, 0, 0],\n",
              "        [0, 0, 0, ..., 0, 0, 0]],\n",
              "\n",
              "       [[0, 0, 0, ..., 0, 0, 0],\n",
              "        [0, 0, 0, ..., 0, 0, 0],\n",
              "        [0, 0, 0, ..., 0, 0, 0],\n",
              "        ...,\n",
              "        [0, 0, 0, ..., 0, 0, 0],\n",
              "        [0, 0, 0, ..., 0, 0, 0],\n",
              "        [0, 0, 0, ..., 0, 0, 0]]], dtype=uint8)"
            ]
          },
          "metadata": {},
          "execution_count": 4
        }
      ]
    },
    {
      "cell_type": "markdown",
      "metadata": {
        "id": "BBSg_oWbZCyr"
      },
      "source": [
        "> ## 2) Visualization"
      ]
    },
    {
      "cell_type": "code",
      "metadata": {
        "id": "OV19FumXAWGH",
        "colab": {
          "base_uri": "https://localhost:8080/",
          "height": 283
        },
        "outputId": "3b168851-d47a-4d8b-b771-0b0796054cd0"
      },
      "source": [
        "import matplotlib.pyplot as plt\n",
        "\n",
        "digit = X_train[0]\n",
        "plt.imshow(digit, cmap = 'gray')\n",
        "plt.show"
      ],
      "execution_count": 5,
      "outputs": [
        {
          "output_type": "execute_result",
          "data": {
            "text/plain": [
              "<function matplotlib.pyplot.show>"
            ]
          },
          "metadata": {},
          "execution_count": 5
        },
        {
          "output_type": "display_data",
          "data": {
            "image/png": "[encoded data removed]",
            "text/plain": [
              "<Figure size 432x288 with 1 Axes>"
            ]
          },
          "metadata": {
            "needs_background": "light"
          }
        }
      ]
    },
    {
      "cell_type": "code",
      "metadata": {
        "id": "wWXMkCE8NyAg",
        "cellView": "code",
        "colab": {
          "base_uri": "https://localhost:8080/"
        },
        "outputId": "d35b9042-ef1f-4ee5-a6cc-b6a71ddacdc2"
      },
      "source": [
        "import numpy as np\n",
        "\n",
        "np.set_printoptions(linewidth= 150)\n",
        "print(X_train[0])"
      ],
      "execution_count": 6,
      "outputs": [
        {
          "output_type": "stream",
          "name": "stdout",
          "text": [
            "[[  0   0   0   0   0   0   0   0   0   0   0   0   0   0   0   0   0   0   0   0   0   0   0   0   0   0   0   0]\n",
            " [  0   0   0   0   0   0   0   0   0   0   0   0   0   0   0   0   0   0   0   0   0   0   0   0   0   0   0   0]\n",
            " [  0   0   0   0   0   0   0   0   0   0   0   0   0   0   0   0   0   0   0   0   0   0   0   0   0   0   0   0]\n",
            " [  0   0   0   0   0   0   0   0   0   0   0   0   1   0   0  13  73   0   0   1   4   0   0   0   0   1   1   0]\n",
            " [  0   0   0   0   0   0   0   0   0   0   0   0   3   0  36 136 127  62  54   0   0   0   1   3   4   0   0   3]\n",
            " [  0   0   0   0   0   0   0   0   0   0   0   0   6   0 102 204 176 134 144 123  23   0   0   0   0  12  10   0]\n",
            " [  0   0   0   0   0   0   0   0   0   0   0   0   0   0 155 236 207 178 107 156 161 109  64  23  77 130  72  15]\n",
            " [  0   0   0   0   0   0   0   0   0   0   0   1   0  69 207 223 218 216 216 163 127 121 122 146 141  88 172  66]\n",
            " [  0   0   0   0   0   0   0   0   0   1   1   1   0 200 232 232 233 229 223 223 215 213 164 127 123 196 229   0]\n",
            " [  0   0   0   0   0   0   0   0   0   0   0   0   0 183 225 216 223 228 235 227 224 222 224 221 223 245 173   0]\n",
            " [  0   0   0   0   0   0   0   0   0   0   0   0   0 193 228 218 213 198 180 212 210 211 213 223 220 243 202   0]\n",
            " [  0   0   0   0   0   0   0   0   0   1   3   0  12 219 220 212 218 192 169 227 208 218 224 212 226 197 209  52]\n",
            " [  0   0   0   0   0   0   0   0   0   0   6   0  99 244 222 220 218 203 198 221 215 213 222 220 245 119 167  56]\n",
            " [  0   0   0   0   0   0   0   0   0   4   0   0  55 236 228 230 228 240 232 213 218 223 234 217 217 209  92   0]\n",
            " [  0   0   1   4   6   7   2   0   0   0   0   0 237 226 217 223 222 219 222 221 216 223 229 215 218 255  77   0]\n",
            " [  0   3   0   0   0   0   0   0   0  62 145 204 228 207 213 221 218 208 211 218 224 223 219 215 224 244 159   0]\n",
            " [  0   0   0   0  18  44  82 107 189 228 220 222 217 226 200 205 211 230 224 234 176 188 250 248 233 238 215   0]\n",
            " [  0  57 187 208 224 221 224 208 204 214 208 209 200 159 245 193 206 223 255 255 221 234 221 211 220 232 246   0]\n",
            " [  3 202 228 224 221 211 211 214 205 205 205 220 240  80 150 255 229 221 188 154 191 210 204 209 222 228 225   0]\n",
            " [ 98 233 198 210 222 229 229 234 249 220 194 215 217 241  65  73 106 117 168 219 221 215 217 223 223 224 229  29]\n",
            " [ 75 204 212 204 193 205 211 225 216 185 197 206 198 213 240 195 227 245 239 223 218 212 209 222 220 221 230  67]\n",
            " [ 48 203 183 194 213 197 185 190 194 192 202 214 219 221 220 236 225 216 199 206 186 181 177 172 181 205 206 115]\n",
            " [  0 122 219 193 179 171 183 196 204 210 213 207 211 210 200 196 194 191 195 191 198 192 176 156 167 177 210  92]\n",
            " [  0   0  74 189 212 191 175 172 175 181 185 188 189 188 193 198 204 209 210 210 211 188 188 194 192 216 170   0]\n",
            " [  2   0   0   0  66 200 222 237 239 242 246 243 244 221 220 193 191 179 182 182 181 176 166 168  99  58   0   0]\n",
            " [  0   0   0   0   0   0   0  40  61  44  72  41  35   0   0   0   0   0   0   0   0   0   0   0   0   0   0   0]\n",
            " [  0   0   0   0   0   0   0   0   0   0   0   0   0   0   0   0   0   0   0   0   0   0   0   0   0   0   0   0]\n",
            " [  0   0   0   0   0   0   0   0   0   0   0   0   0   0   0   0   0   0   0   0   0   0   0   0   0   0   0   0]]\n"
          ]
        }
      ]
    },
    {
      "cell_type": "markdown",
      "metadata": {
        "id": "Mk9XL5vGHor6"
      },
      "source": [
        "# II. Data Preprocessing"
      ]
    },
    {
      "cell_type": "markdown",
      "metadata": {
        "id": "ec8zU4XCZRUF"
      },
      "source": [
        "> ## 1) Reshape and Normalization"
      ]
    },
    {
      "cell_type": "markdown",
      "metadata": {
        "id": "olI6ZPtEIb8H"
      },
      "source": [
        "* reshape\n",
        " * (60000, 28, 28) to (60000, 784)"
      ]
    },
    {
      "cell_type": "code",
      "metadata": {
        "id": "8-toPn1ZAmFd",
        "colab": {
          "base_uri": "https://localhost:8080/"
        },
        "outputId": "39a02462-3ab2-48d5-b47b-a3d50196f4ce"
      },
      "source": [
        "X_train = X_train.reshape((60000, 28*28))\n",
        "X_test = X_test.reshape((10000,28*28))\n",
        "X_train , X_test"
      ],
      "execution_count": 7,
      "outputs": [
        {
          "output_type": "execute_result",
          "data": {
            "text/plain": [
              "(array([[0, 0, 0, ..., 0, 0, 0],\n",
              "        [0, 0, 0, ..., 0, 0, 0],\n",
              "        [0, 0, 0, ..., 0, 0, 0],\n",
              "        ...,\n",
              "        [0, 0, 0, ..., 0, 0, 0],\n",
              "        [0, 0, 0, ..., 0, 0, 0],\n",
              "        [0, 0, 0, ..., 0, 0, 0]], dtype=uint8), array([[0, 0, 0, ..., 0, 0, 0],\n",
              "        [0, 0, 0, ..., 0, 0, 0],\n",
              "        [0, 0, 0, ..., 0, 0, 0],\n",
              "        ...,\n",
              "        [0, 0, 0, ..., 0, 0, 0],\n",
              "        [0, 0, 0, ..., 0, 0, 0],\n",
              "        [0, 0, 0, ..., 0, 0, 0]], dtype=uint8))"
            ]
          },
          "metadata": {},
          "execution_count": 7
        }
      ]
    },
    {
      "cell_type": "markdown",
      "metadata": {
        "id": "UN-xPWjYIeWL"
      },
      "source": [
        "* Normalization"
      ]
    },
    {
      "cell_type": "code",
      "metadata": {
        "id": "SoGHuYeFIGBj"
      },
      "source": [
        "X_train = X_train.astype(float) / 255\n",
        "X_test = X_test.astype(float) / 255\n"
      ],
      "execution_count": 8,
      "outputs": []
    },
    {
      "cell_type": "code",
      "metadata": {
        "id": "m1HezAboV-x8",
        "colab": {
          "base_uri": "https://localhost:8080/"
        },
        "outputId": "120bfcef-bf3c-4a4d-fd47-5a9dcc52534a"
      },
      "source": [
        "print(X_train[0])"
      ],
      "execution_count": 9,
      "outputs": [
        {
          "output_type": "stream",
          "name": "stdout",
          "text": [
            "[0.         0.         0.         0.         0.         0.         0.         0.         0.         0.         0.         0.         0.\n",
            " 0.         0.         0.         0.         0.         0.         0.         0.         0.         0.         0.         0.         0.\n",
            " 0.         0.         0.         0.         0.         0.         0.         0.         0.         0.         0.         0.         0.\n",
            " 0.         0.         0.         0.         0.         0.         0.         0.         0.         0.         0.         0.         0.\n",
            " 0.         0.         0.         0.         0.         0.         0.         0.         0.         0.         0.         0.         0.\n",
            " 0.         0.         0.         0.         0.         0.         0.         0.         0.         0.         0.         0.         0.\n",
            " 0.         0.         0.         0.         0.         0.         0.         0.         0.         0.         0.         0.         0.\n",
            " 0.         0.         0.         0.         0.         0.00392157 0.         0.         0.05098039 0.28627451 0.         0.         0.00392157\n",
            " 0.01568627 0.         0.         0.         0.         0.00392157 0.00392157 0.         0.         0.         0.         0.         0.\n",
            " 0.         0.         0.         0.         0.         0.         0.         0.01176471 0.         0.14117647 0.53333333 0.49803922 0.24313725\n",
            " 0.21176471 0.         0.         0.         0.00392157 0.01176471 0.01568627 0.         0.         0.01176471 0.         0.         0.\n",
            " 0.         0.         0.         0.         0.         0.         0.         0.         0.         0.02352941 0.         0.4        0.8\n",
            " 0.69019608 0.5254902  0.56470588 0.48235294 0.09019608 0.         0.         0.         0.         0.04705882 0.03921569 0.         0.\n",
            " 0.         0.         0.         0.         0.         0.         0.         0.         0.         0.         0.         0.         0.\n",
            " 0.60784314 0.9254902  0.81176471 0.69803922 0.41960784 0.61176471 0.63137255 0.42745098 0.25098039 0.09019608 0.30196078 0.50980392 0.28235294\n",
            " 0.05882353 0.         0.         0.         0.         0.         0.         0.         0.         0.         0.         0.         0.00392157\n",
            " 0.         0.27058824 0.81176471 0.8745098  0.85490196 0.84705882 0.84705882 0.63921569 0.49803922 0.4745098  0.47843137 0.57254902 0.55294118\n",
            " 0.34509804 0.6745098  0.25882353 0.         0.         0.         0.         0.         0.         0.         0.         0.         0.00392157\n",
            " 0.00392157 0.00392157 0.         0.78431373 0.90980392 0.90980392 0.91372549 0.89803922 0.8745098  0.8745098  0.84313725 0.83529412 0.64313725\n",
            " 0.49803922 0.48235294 0.76862745 0.89803922 0.         0.         0.         0.         0.         0.         0.         0.         0.\n",
            " 0.         0.         0.         0.         0.         0.71764706 0.88235294 0.84705882 0.8745098  0.89411765 0.92156863 0.89019608 0.87843137\n",
            " 0.87058824 0.87843137 0.86666667 0.8745098  0.96078431 0.67843137 0.         0.         0.         0.         0.         0.         0.\n",
            " 0.         0.         0.         0.         0.         0.         0.         0.75686275 0.89411765 0.85490196 0.83529412 0.77647059 0.70588235\n",
            " 0.83137255 0.82352941 0.82745098 0.83529412 0.8745098  0.8627451  0.95294118 0.79215686 0.         0.         0.         0.         0.\n",
            " 0.         0.         0.         0.         0.         0.00392157 0.01176471 0.         0.04705882 0.85882353 0.8627451  0.83137255 0.85490196\n",
            " 0.75294118 0.6627451  0.89019608 0.81568627 0.85490196 0.87843137 0.83137255 0.88627451 0.77254902 0.81960784 0.20392157 0.         0.\n",
            " 0.         0.         0.         0.         0.         0.         0.         0.         0.02352941 0.         0.38823529 0.95686275 0.87058824\n",
            " 0.8627451  0.85490196 0.79607843 0.77647059 0.86666667 0.84313725 0.83529412 0.87058824 0.8627451  0.96078431 0.46666667 0.65490196 0.21960784\n",
            " 0.         0.         0.         0.         0.         0.         0.         0.         0.         0.01568627 0.         0.         0.21568627\n",
            " 0.9254902  0.89411765 0.90196078 0.89411765 0.94117647 0.90980392 0.83529412 0.85490196 0.8745098  0.91764706 0.85098039 0.85098039 0.81960784\n",
            " 0.36078431 0.         0.         0.         0.00392157 0.01568627 0.02352941 0.02745098 0.00784314 0.         0.         0.         0.\n",
            " 0.         0.92941176 0.88627451 0.85098039 0.8745098  0.87058824 0.85882353 0.87058824 0.86666667 0.84705882 0.8745098  0.89803922 0.84313725\n",
            " 0.85490196 1.         0.30196078 0.         0.         0.01176471 0.         0.         0.         0.         0.         0.         0.\n",
            " 0.24313725 0.56862745 0.8        0.89411765 0.81176471 0.83529412 0.86666667 0.85490196 0.81568627 0.82745098 0.85490196 0.87843137 0.8745098\n",
            " 0.85882353 0.84313725 0.87843137 0.95686275 0.62352941 0.         0.         0.         0.         0.         0.07058824 0.17254902 0.32156863\n",
            " 0.41960784 0.74117647 0.89411765 0.8627451  0.87058824 0.85098039 0.88627451 0.78431373 0.80392157 0.82745098 0.90196078 0.87843137 0.91764706\n",
            " 0.69019608 0.7372549  0.98039216 0.97254902 0.91372549 0.93333333 0.84313725 0.         0.         0.22352941 0.73333333 0.81568627 0.87843137\n",
            " 0.86666667 0.87843137 0.81568627 0.8        0.83921569 0.81568627 0.81960784 0.78431373 0.62352941 0.96078431 0.75686275 0.80784314 0.8745098\n",
            " 1.         1.         0.86666667 0.91764706 0.86666667 0.82745098 0.8627451  0.90980392 0.96470588 0.         0.01176471 0.79215686 0.89411765\n",
            " 0.87843137 0.86666667 0.82745098 0.82745098 0.83921569 0.80392157 0.80392157 0.80392157 0.8627451  0.94117647 0.31372549 0.58823529 1.\n",
            " 0.89803922 0.86666667 0.7372549  0.60392157 0.74901961 0.82352941 0.8        0.81960784 0.87058824 0.89411765 0.88235294 0.         0.38431373\n",
            " 0.91372549 0.77647059 0.82352941 0.87058824 0.89803922 0.89803922 0.91764706 0.97647059 0.8627451  0.76078431 0.84313725 0.85098039 0.94509804\n",
            " 0.25490196 0.28627451 0.41568627 0.45882353 0.65882353 0.85882353 0.86666667 0.84313725 0.85098039 0.8745098  0.8745098  0.87843137 0.89803922\n",
            " 0.11372549 0.29411765 0.8        0.83137255 0.8        0.75686275 0.80392157 0.82745098 0.88235294 0.84705882 0.7254902  0.77254902 0.80784314\n",
            " 0.77647059 0.83529412 0.94117647 0.76470588 0.89019608 0.96078431 0.9372549  0.8745098  0.85490196 0.83137255 0.81960784 0.87058824 0.8627451\n",
            " 0.86666667 0.90196078 0.2627451  0.18823529 0.79607843 0.71764706 0.76078431 0.83529412 0.77254902 0.7254902  0.74509804 0.76078431 0.75294118\n",
            " 0.79215686 0.83921569 0.85882353 0.86666667 0.8627451  0.9254902  0.88235294 0.84705882 0.78039216 0.80784314 0.72941176 0.70980392 0.69411765\n",
            " 0.6745098  0.70980392 0.80392157 0.80784314 0.45098039 0.         0.47843137 0.85882353 0.75686275 0.70196078 0.67058824 0.71764706 0.76862745\n",
            " 0.8        0.82352941 0.83529412 0.81176471 0.82745098 0.82352941 0.78431373 0.76862745 0.76078431 0.74901961 0.76470588 0.74901961 0.77647059\n",
            " 0.75294118 0.69019608 0.61176471 0.65490196 0.69411765 0.82352941 0.36078431 0.         0.         0.29019608 0.74117647 0.83137255 0.74901961\n",
            " 0.68627451 0.6745098  0.68627451 0.70980392 0.7254902  0.7372549  0.74117647 0.7372549  0.75686275 0.77647059 0.8        0.81960784 0.82352941\n",
            " 0.82352941 0.82745098 0.7372549  0.7372549  0.76078431 0.75294118 0.84705882 0.66666667 0.         0.00784314 0.         0.         0.\n",
            " 0.25882353 0.78431373 0.87058824 0.92941176 0.9372549  0.94901961 0.96470588 0.95294118 0.95686275 0.86666667 0.8627451  0.75686275 0.74901961\n",
            " 0.70196078 0.71372549 0.71372549 0.70980392 0.69019608 0.65098039 0.65882353 0.38823529 0.22745098 0.         0.         0.         0.\n",
            " 0.         0.         0.         0.         0.         0.15686275 0.23921569 0.17254902 0.28235294 0.16078431 0.1372549  0.         0.\n",
            " 0.         0.         0.         0.         0.         0.         0.         0.         0.         0.         0.         0.         0.\n",
            " 0.         0.         0.         0.         0.         0.         0.         0.         0.         0.         0.         0.         0.\n",
            " 0.         0.         0.         0.         0.         0.         0.         0.         0.         0.         0.         0.         0.\n",
            " 0.         0.         0.         0.         0.         0.         0.         0.         0.         0.         0.         0.         0.\n",
            " 0.         0.         0.         0.         0.         0.         0.         0.         0.         0.         0.         0.         0.\n",
            " 0.         0.         0.         0.        ]\n"
          ]
        }
      ]
    },
    {
      "cell_type": "markdown",
      "metadata": {
        "id": "BtSROU80aF12"
      },
      "source": [
        "> ## 2) One Hot Encoding"
      ]
    },
    {
      "cell_type": "code",
      "metadata": {
        "id": "eC48Oym3Ao8E"
      },
      "source": [
        "from tensorflow.keras.utils import to_categorical\n",
        "y_train = to_categorical(y_train)\n",
        "y_test = to_categorical(y_test)\n"
      ],
      "execution_count": 10,
      "outputs": []
    },
    {
      "cell_type": "code",
      "metadata": {
        "id": "q1O-NsoJMyWU",
        "colab": {
          "base_uri": "https://localhost:8080/"
        },
        "outputId": "429081c8-a45a-4647-fc80-092fa39adc08"
      },
      "source": [
        "print(y_train[:5])\n"
      ],
      "execution_count": 11,
      "outputs": [
        {
          "output_type": "stream",
          "name": "stdout",
          "text": [
            "[[0. 0. 0. 0. 0. 0. 0. 0. 0. 1.]\n",
            " [1. 0. 0. 0. 0. 0. 0. 0. 0. 0.]\n",
            " [1. 0. 0. 0. 0. 0. 0. 0. 0. 0.]\n",
            " [0. 0. 0. 1. 0. 0. 0. 0. 0. 0.]\n",
            " [1. 0. 0. 0. 0. 0. 0. 0. 0. 0.]]\n"
          ]
        }
      ]
    },
    {
      "cell_type": "markdown",
      "metadata": {
        "id": "NTwZiSjiop3v"
      },
      "source": [
        "# III. Keras Modeling"
      ]
    },
    {
      "cell_type": "markdown",
      "metadata": {
        "id": "j5CT0TurJCkc"
      },
      "source": [
        "> ## 1) Model Define"
      ]
    },
    {
      "cell_type": "markdown",
      "metadata": {
        "id": "ydDCl0jTJD58"
      },
      "source": [
        "* 모델 신경망 구조 정의\n",
        " - 2개의 Hidden Layers & 768개의 Nodes"
      ]
    },
    {
      "cell_type": "code",
      "metadata": {
        "id": "II0DskRdAcHS"
      },
      "source": [
        "from tensorflow.keras import models\n",
        "from tensorflow.keras import layers\n",
        "from keras.layers import Dense, Dropout, Flatten\n",
        "from tensorflow.keras import regularizers\n",
        "\n",
        "mnist = models.Sequential()\n",
        "mnist.add(layers.Dense(256, activation = 'relu',\n",
        "                       kernel_regularizer = regularizers.l2(0.00001),  input_shape = (28 * 28,)))\n",
        "mnist.add(Dropout(0.5))\n",
        "mnist.add(Flatten())\n",
        "mnist.add(layers.Dense(10, activation = 'softmax'))\n"
      ],
      "execution_count": 45,
      "outputs": []
    },
    {
      "cell_type": "markdown",
      "metadata": {
        "id": "PqrObAHZJTN8"
      },
      "source": [
        "* 모델 구조 확인"
      ]
    },
    {
      "cell_type": "code",
      "metadata": {
        "id": "wbtjOA4XMTUd",
        "colab": {
          "base_uri": "https://localhost:8080/"
        },
        "outputId": "9b21cb13-1ec6-4a10-9206-268b6c420e3c"
      },
      "source": [
        "mnist.summary()"
      ],
      "execution_count": 46,
      "outputs": [
        {
          "output_type": "stream",
          "name": "stdout",
          "text": [
            "Model: \"sequential_7\"\n",
            "_________________________________________________________________\n",
            "Layer (type)                 Output Shape              Param #   \n",
            "=================================================================\n",
            "dense_12 (Dense)             (None, 256)               200960    \n",
            "_________________________________________________________________\n",
            "dropout_5 (Dropout)          (None, 256)               0         \n",
            "_________________________________________________________________\n",
            "flatten_3 (Flatten)          (None, 256)               0         \n",
            "_________________________________________________________________\n",
            "dense_13 (Dense)             (None, 10)                2570      \n",
            "=================================================================\n",
            "Total params: 203,530\n",
            "Trainable params: 203,530\n",
            "Non-trainable params: 0\n",
            "_________________________________________________________________\n"
          ]
        }
      ]
    },
    {
      "cell_type": "markdown",
      "metadata": {
        "id": "tpjBDBeYoyuj"
      },
      "source": [
        "> ## 2) Model Compile"
      ]
    },
    {
      "cell_type": "markdown",
      "metadata": {
        "id": "f3sxkQa0JoUr"
      },
      "source": [
        "* 모델 학습방법 설정"
      ]
    },
    {
      "cell_type": "code",
      "metadata": {
        "id": "AyK_t1qwAi6M"
      },
      "source": [
        "mnist.compile(loss = 'categorical_crossentropy',\n",
        "              optimizer = 'adam',\n",
        "              metrics = ['accuracy'])"
      ],
      "execution_count": 47,
      "outputs": []
    },
    {
      "cell_type": "markdown",
      "metadata": {
        "id": "umiq4B-Xo3OB"
      },
      "source": [
        "> ## 3) Model Fit"
      ]
    },
    {
      "cell_type": "markdown",
      "metadata": {
        "id": "1KuXREziKMD1"
      },
      "source": [
        "* 약 3분"
      ]
    },
    {
      "cell_type": "code",
      "metadata": {
        "id": "zxwqwAqRAqRP",
        "colab": {
          "base_uri": "https://localhost:8080/"
        },
        "outputId": "974c3657-dd0d-436f-9047-a98a469b6620"
      },
      "source": [
        "%%time\n",
        "\n",
        "Hist_mnist = mnist.fit(X_train, y_train,\n",
        "                       epochs = 100,\n",
        "                       batch_size = 128,\n",
        "                       validation_split = 0.2)"
      ],
      "execution_count": 48,
      "outputs": [
        {
          "output_type": "stream",
          "name": "stdout",
          "text": [
            "Epoch 1/100\n",
            "375/375 [==============================] - 2s 4ms/step - loss: 0.6592 - accuracy: 0.7714 - val_loss: 0.4637 - val_accuracy: 0.8335\n",
            "Epoch 2/100\n",
            "375/375 [==============================] - 1s 4ms/step - loss: 0.4713 - accuracy: 0.8346 - val_loss: 0.4036 - val_accuracy: 0.8554\n",
            "Epoch 3/100\n",
            "375/375 [==============================] - 1s 4ms/step - loss: 0.4279 - accuracy: 0.8488 - val_loss: 0.3859 - val_accuracy: 0.8606\n",
            "Epoch 4/100\n",
            "375/375 [==============================] - 1s 4ms/step - loss: 0.4077 - accuracy: 0.8556 - val_loss: 0.3674 - val_accuracy: 0.8696\n",
            "Epoch 5/100\n",
            "375/375 [==============================] - 1s 4ms/step - loss: 0.3897 - accuracy: 0.8609 - val_loss: 0.3572 - val_accuracy: 0.8735\n",
            "Epoch 6/100\n",
            "375/375 [==============================] - 1s 4ms/step - loss: 0.3768 - accuracy: 0.8654 - val_loss: 0.3537 - val_accuracy: 0.8741\n",
            "Epoch 7/100\n",
            "375/375 [==============================] - 1s 4ms/step - loss: 0.3673 - accuracy: 0.8692 - val_loss: 0.3459 - val_accuracy: 0.8773\n",
            "Epoch 8/100\n",
            "375/375 [==============================] - 1s 4ms/step - loss: 0.3572 - accuracy: 0.8713 - val_loss: 0.3440 - val_accuracy: 0.8797\n",
            "Epoch 9/100\n",
            "375/375 [==============================] - 1s 4ms/step - loss: 0.3528 - accuracy: 0.8755 - val_loss: 0.3497 - val_accuracy: 0.8774\n",
            "Epoch 10/100\n",
            "375/375 [==============================] - 1s 4ms/step - loss: 0.3440 - accuracy: 0.8759 - val_loss: 0.3345 - val_accuracy: 0.8817\n",
            "Epoch 11/100\n",
            "375/375 [==============================] - 1s 4ms/step - loss: 0.3351 - accuracy: 0.8796 - val_loss: 0.3384 - val_accuracy: 0.8810\n",
            "Epoch 12/100\n",
            "375/375 [==============================] - 1s 4ms/step - loss: 0.3354 - accuracy: 0.8811 - val_loss: 0.3313 - val_accuracy: 0.8839\n",
            "Epoch 13/100\n",
            "375/375 [==============================] - 1s 4ms/step - loss: 0.3302 - accuracy: 0.8816 - val_loss: 0.3333 - val_accuracy: 0.8839\n",
            "Epoch 14/100\n",
            "375/375 [==============================] - 1s 4ms/step - loss: 0.3256 - accuracy: 0.8825 - val_loss: 0.3282 - val_accuracy: 0.8851\n",
            "Epoch 15/100\n",
            "375/375 [==============================] - 1s 4ms/step - loss: 0.3227 - accuracy: 0.8848 - val_loss: 0.3428 - val_accuracy: 0.8790\n",
            "Epoch 16/100\n",
            "375/375 [==============================] - 1s 4ms/step - loss: 0.3194 - accuracy: 0.8853 - val_loss: 0.3252 - val_accuracy: 0.8870\n",
            "Epoch 17/100\n",
            "375/375 [==============================] - 1s 4ms/step - loss: 0.3157 - accuracy: 0.8867 - val_loss: 0.3234 - val_accuracy: 0.8882\n",
            "Epoch 18/100\n",
            "375/375 [==============================] - 1s 4ms/step - loss: 0.3137 - accuracy: 0.8886 - val_loss: 0.3240 - val_accuracy: 0.8882\n",
            "Epoch 19/100\n",
            "375/375 [==============================] - 1s 4ms/step - loss: 0.3063 - accuracy: 0.8907 - val_loss: 0.3292 - val_accuracy: 0.8873\n",
            "Epoch 20/100\n",
            "375/375 [==============================] - 1s 4ms/step - loss: 0.3102 - accuracy: 0.8906 - val_loss: 0.3209 - val_accuracy: 0.8890\n",
            "Epoch 21/100\n",
            "375/375 [==============================] - 1s 4ms/step - loss: 0.3043 - accuracy: 0.8918 - val_loss: 0.3254 - val_accuracy: 0.8888\n",
            "Epoch 22/100\n",
            "375/375 [==============================] - 1s 4ms/step - loss: 0.3010 - accuracy: 0.8935 - val_loss: 0.3191 - val_accuracy: 0.8912\n",
            "Epoch 23/100\n",
            "375/375 [==============================] - 1s 4ms/step - loss: 0.2986 - accuracy: 0.8933 - val_loss: 0.3210 - val_accuracy: 0.8899\n",
            "Epoch 24/100\n",
            "375/375 [==============================] - 1s 4ms/step - loss: 0.2965 - accuracy: 0.8950 - val_loss: 0.3220 - val_accuracy: 0.8923\n",
            "Epoch 25/100\n",
            "375/375 [==============================] - 1s 4ms/step - loss: 0.2943 - accuracy: 0.8965 - val_loss: 0.3234 - val_accuracy: 0.8907\n",
            "Epoch 26/100\n",
            "375/375 [==============================] - 1s 4ms/step - loss: 0.2929 - accuracy: 0.8951 - val_loss: 0.3236 - val_accuracy: 0.8904\n",
            "Epoch 27/100\n",
            "375/375 [==============================] - 1s 4ms/step - loss: 0.2904 - accuracy: 0.8970 - val_loss: 0.3260 - val_accuracy: 0.8914\n",
            "Epoch 28/100\n",
            "375/375 [==============================] - 1s 4ms/step - loss: 0.2879 - accuracy: 0.8971 - val_loss: 0.3225 - val_accuracy: 0.8932\n",
            "Epoch 29/100\n",
            "375/375 [==============================] - 1s 4ms/step - loss: 0.2853 - accuracy: 0.8987 - val_loss: 0.3320 - val_accuracy: 0.8897\n",
            "Epoch 30/100\n",
            "375/375 [==============================] - 1s 4ms/step - loss: 0.2850 - accuracy: 0.9006 - val_loss: 0.3289 - val_accuracy: 0.8895\n",
            "Epoch 31/100\n",
            "375/375 [==============================] - 1s 4ms/step - loss: 0.2829 - accuracy: 0.9001 - val_loss: 0.3248 - val_accuracy: 0.8946\n",
            "Epoch 32/100\n",
            "375/375 [==============================] - 1s 4ms/step - loss: 0.2821 - accuracy: 0.9001 - val_loss: 0.3230 - val_accuracy: 0.8949\n",
            "Epoch 33/100\n",
            "375/375 [==============================] - 1s 4ms/step - loss: 0.2815 - accuracy: 0.9010 - val_loss: 0.3200 - val_accuracy: 0.8944\n",
            "Epoch 34/100\n",
            "375/375 [==============================] - 1s 4ms/step - loss: 0.2783 - accuracy: 0.9024 - val_loss: 0.3225 - val_accuracy: 0.8926\n",
            "Epoch 35/100\n",
            "375/375 [==============================] - 2s 4ms/step - loss: 0.2782 - accuracy: 0.9032 - val_loss: 0.3246 - val_accuracy: 0.8918\n",
            "Epoch 36/100\n",
            "375/375 [==============================] - 1s 4ms/step - loss: 0.2775 - accuracy: 0.9042 - val_loss: 0.3254 - val_accuracy: 0.8933\n",
            "Epoch 37/100\n",
            "375/375 [==============================] - 1s 4ms/step - loss: 0.2733 - accuracy: 0.9043 - val_loss: 0.3265 - val_accuracy: 0.8953\n",
            "Epoch 38/100\n",
            "375/375 [==============================] - 1s 4ms/step - loss: 0.2734 - accuracy: 0.9055 - val_loss: 0.3277 - val_accuracy: 0.8921\n",
            "Epoch 39/100\n",
            "375/375 [==============================] - 1s 4ms/step - loss: 0.2730 - accuracy: 0.9050 - val_loss: 0.3205 - val_accuracy: 0.8952\n",
            "Epoch 40/100\n",
            "375/375 [==============================] - 1s 4ms/step - loss: 0.2700 - accuracy: 0.9060 - val_loss: 0.3308 - val_accuracy: 0.8921\n",
            "Epoch 41/100\n",
            "375/375 [==============================] - 1s 4ms/step - loss: 0.2667 - accuracy: 0.9077 - val_loss: 0.3299 - val_accuracy: 0.8941\n",
            "Epoch 42/100\n",
            "375/375 [==============================] - 1s 4ms/step - loss: 0.2651 - accuracy: 0.9084 - val_loss: 0.3295 - val_accuracy: 0.8942\n",
            "Epoch 43/100\n",
            "375/375 [==============================] - 1s 4ms/step - loss: 0.2690 - accuracy: 0.9075 - val_loss: 0.3269 - val_accuracy: 0.8953\n",
            "Epoch 44/100\n",
            "375/375 [==============================] - 1s 4ms/step - loss: 0.2683 - accuracy: 0.9089 - val_loss: 0.3261 - val_accuracy: 0.8937\n",
            "Epoch 45/100\n",
            "375/375 [==============================] - 1s 4ms/step - loss: 0.2617 - accuracy: 0.9102 - val_loss: 0.3276 - val_accuracy: 0.8946\n",
            "Epoch 46/100\n",
            "375/375 [==============================] - 1s 4ms/step - loss: 0.2634 - accuracy: 0.9085 - val_loss: 0.3259 - val_accuracy: 0.8957\n",
            "Epoch 47/100\n",
            "375/375 [==============================] - 1s 4ms/step - loss: 0.2608 - accuracy: 0.9110 - val_loss: 0.3248 - val_accuracy: 0.8953\n",
            "Epoch 48/100\n",
            "375/375 [==============================] - 1s 4ms/step - loss: 0.2630 - accuracy: 0.9093 - val_loss: 0.3337 - val_accuracy: 0.8957\n",
            "Epoch 49/100\n",
            "375/375 [==============================] - 1s 4ms/step - loss: 0.2605 - accuracy: 0.9105 - val_loss: 0.3318 - val_accuracy: 0.8959\n",
            "Epoch 50/100\n",
            "375/375 [==============================] - 1s 4ms/step - loss: 0.2560 - accuracy: 0.9110 - val_loss: 0.3285 - val_accuracy: 0.8960\n",
            "Epoch 51/100\n",
            "375/375 [==============================] - 1s 4ms/step - loss: 0.2616 - accuracy: 0.9104 - val_loss: 0.3296 - val_accuracy: 0.8952\n",
            "Epoch 52/100\n",
            "375/375 [==============================] - 1s 4ms/step - loss: 0.2550 - accuracy: 0.9145 - val_loss: 0.3369 - val_accuracy: 0.8931\n",
            "Epoch 53/100\n",
            "375/375 [==============================] - 1s 4ms/step - loss: 0.2551 - accuracy: 0.9118 - val_loss: 0.3382 - val_accuracy: 0.8956\n",
            "Epoch 54/100\n",
            "375/375 [==============================] - 1s 4ms/step - loss: 0.2550 - accuracy: 0.9125 - val_loss: 0.3334 - val_accuracy: 0.8968\n",
            "Epoch 55/100\n",
            "375/375 [==============================] - 1s 4ms/step - loss: 0.2548 - accuracy: 0.9129 - val_loss: 0.3368 - val_accuracy: 0.8956\n",
            "Epoch 56/100\n",
            "375/375 [==============================] - 1s 4ms/step - loss: 0.2575 - accuracy: 0.9120 - val_loss: 0.3354 - val_accuracy: 0.8935\n",
            "Epoch 57/100\n",
            "375/375 [==============================] - 1s 4ms/step - loss: 0.2547 - accuracy: 0.9120 - val_loss: 0.3398 - val_accuracy: 0.8942\n",
            "Epoch 58/100\n",
            "375/375 [==============================] - 1s 4ms/step - loss: 0.2494 - accuracy: 0.9147 - val_loss: 0.3362 - val_accuracy: 0.8961\n",
            "Epoch 59/100\n",
            "375/375 [==============================] - 1s 4ms/step - loss: 0.2497 - accuracy: 0.9157 - val_loss: 0.3315 - val_accuracy: 0.8992\n",
            "Epoch 60/100\n",
            "375/375 [==============================] - 1s 4ms/step - loss: 0.2504 - accuracy: 0.9159 - val_loss: 0.3433 - val_accuracy: 0.8937\n",
            "Epoch 61/100\n",
            "375/375 [==============================] - 1s 4ms/step - loss: 0.2527 - accuracy: 0.9140 - val_loss: 0.3352 - val_accuracy: 0.8950\n",
            "Epoch 62/100\n",
            "375/375 [==============================] - 1s 4ms/step - loss: 0.2489 - accuracy: 0.9149 - val_loss: 0.3418 - val_accuracy: 0.8954\n",
            "Epoch 63/100\n",
            "375/375 [==============================] - 1s 4ms/step - loss: 0.2474 - accuracy: 0.9165 - val_loss: 0.3416 - val_accuracy: 0.8940\n",
            "Epoch 64/100\n",
            "375/375 [==============================] - 1s 4ms/step - loss: 0.2482 - accuracy: 0.9150 - val_loss: 0.3388 - val_accuracy: 0.8978\n",
            "Epoch 65/100\n",
            "375/375 [==============================] - 1s 4ms/step - loss: 0.2473 - accuracy: 0.9170 - val_loss: 0.3405 - val_accuracy: 0.8934\n",
            "Epoch 66/100\n",
            "375/375 [==============================] - 1s 4ms/step - loss: 0.2514 - accuracy: 0.9159 - val_loss: 0.3331 - val_accuracy: 0.8970\n",
            "Epoch 67/100\n",
            "375/375 [==============================] - 1s 4ms/step - loss: 0.2464 - accuracy: 0.9177 - val_loss: 0.3434 - val_accuracy: 0.8979\n",
            "Epoch 68/100\n",
            "375/375 [==============================] - 1s 4ms/step - loss: 0.2446 - accuracy: 0.9177 - val_loss: 0.3507 - val_accuracy: 0.8957\n",
            "Epoch 69/100\n",
            "375/375 [==============================] - 1s 4ms/step - loss: 0.2441 - accuracy: 0.9183 - val_loss: 0.3390 - val_accuracy: 0.8993\n",
            "Epoch 70/100\n",
            "375/375 [==============================] - 1s 4ms/step - loss: 0.2403 - accuracy: 0.9185 - val_loss: 0.3441 - val_accuracy: 0.8957\n",
            "Epoch 71/100\n",
            "375/375 [==============================] - 1s 4ms/step - loss: 0.2437 - accuracy: 0.9185 - val_loss: 0.3420 - val_accuracy: 0.8978\n",
            "Epoch 72/100\n",
            "375/375 [==============================] - 1s 4ms/step - loss: 0.2420 - accuracy: 0.9191 - val_loss: 0.3565 - val_accuracy: 0.8969\n",
            "Epoch 73/100\n",
            "375/375 [==============================] - 1s 4ms/step - loss: 0.2409 - accuracy: 0.9202 - val_loss: 0.3470 - val_accuracy: 0.8988\n",
            "Epoch 74/100\n",
            "375/375 [==============================] - 1s 4ms/step - loss: 0.2421 - accuracy: 0.9193 - val_loss: 0.3505 - val_accuracy: 0.8928\n",
            "Epoch 75/100\n",
            "375/375 [==============================] - 1s 4ms/step - loss: 0.2382 - accuracy: 0.9205 - val_loss: 0.3494 - val_accuracy: 0.8971\n",
            "Epoch 76/100\n",
            "375/375 [==============================] - 2s 4ms/step - loss: 0.2400 - accuracy: 0.9211 - val_loss: 0.3565 - val_accuracy: 0.8943\n",
            "Epoch 77/100\n",
            "375/375 [==============================] - 1s 4ms/step - loss: 0.2393 - accuracy: 0.9213 - val_loss: 0.3523 - val_accuracy: 0.8937\n",
            "Epoch 78/100\n",
            "375/375 [==============================] - 1s 4ms/step - loss: 0.2407 - accuracy: 0.9202 - val_loss: 0.3538 - val_accuracy: 0.8955\n",
            "Epoch 79/100\n",
            "375/375 [==============================] - 2s 4ms/step - loss: 0.2403 - accuracy: 0.9197 - val_loss: 0.3504 - val_accuracy: 0.8953\n",
            "Epoch 80/100\n",
            "375/375 [==============================] - 1s 4ms/step - loss: 0.2410 - accuracy: 0.9205 - val_loss: 0.3475 - val_accuracy: 0.8981\n",
            "Epoch 81/100\n",
            "375/375 [==============================] - 1s 4ms/step - loss: 0.2379 - accuracy: 0.9206 - val_loss: 0.3566 - val_accuracy: 0.8964\n",
            "Epoch 82/100\n",
            "375/375 [==============================] - 1s 4ms/step - loss: 0.2362 - accuracy: 0.9220 - val_loss: 0.3483 - val_accuracy: 0.8979\n",
            "Epoch 83/100\n",
            "375/375 [==============================] - 1s 4ms/step - loss: 0.2343 - accuracy: 0.9229 - val_loss: 0.3573 - val_accuracy: 0.8949\n",
            "Epoch 84/100\n",
            "375/375 [==============================] - 1s 4ms/step - loss: 0.2362 - accuracy: 0.9225 - val_loss: 0.3600 - val_accuracy: 0.8935\n",
            "Epoch 85/100\n",
            "375/375 [==============================] - 1s 4ms/step - loss: 0.2349 - accuracy: 0.9232 - val_loss: 0.3560 - val_accuracy: 0.8927\n",
            "Epoch 86/100\n",
            "375/375 [==============================] - 2s 4ms/step - loss: 0.2321 - accuracy: 0.9229 - val_loss: 0.3490 - val_accuracy: 0.8958\n",
            "Epoch 87/100\n",
            "375/375 [==============================] - 1s 4ms/step - loss: 0.2387 - accuracy: 0.9205 - val_loss: 0.3515 - val_accuracy: 0.8987\n",
            "Epoch 88/100\n",
            "375/375 [==============================] - 1s 4ms/step - loss: 0.2357 - accuracy: 0.9225 - val_loss: 0.3593 - val_accuracy: 0.8953\n",
            "Epoch 89/100\n",
            "375/375 [==============================] - 2s 4ms/step - loss: 0.2354 - accuracy: 0.9224 - val_loss: 0.3534 - val_accuracy: 0.8969\n",
            "Epoch 90/100\n",
            "375/375 [==============================] - 2s 4ms/step - loss: 0.2354 - accuracy: 0.9233 - val_loss: 0.3494 - val_accuracy: 0.8964\n",
            "Epoch 91/100\n",
            "375/375 [==============================] - 2s 4ms/step - loss: 0.2338 - accuracy: 0.9236 - val_loss: 0.3594 - val_accuracy: 0.8978\n",
            "Epoch 92/100\n",
            "375/375 [==============================] - 1s 4ms/step - loss: 0.2323 - accuracy: 0.9235 - val_loss: 0.3624 - val_accuracy: 0.8975\n",
            "Epoch 93/100\n",
            "375/375 [==============================] - 1s 4ms/step - loss: 0.2320 - accuracy: 0.9255 - val_loss: 0.3628 - val_accuracy: 0.8954\n",
            "Epoch 94/100\n",
            "375/375 [==============================] - 1s 4ms/step - loss: 0.2347 - accuracy: 0.9228 - val_loss: 0.3649 - val_accuracy: 0.8953\n",
            "Epoch 95/100\n",
            "375/375 [==============================] - 1s 4ms/step - loss: 0.2288 - accuracy: 0.9256 - val_loss: 0.3529 - val_accuracy: 0.8972\n",
            "Epoch 96/100\n",
            "375/375 [==============================] - 1s 4ms/step - loss: 0.2296 - accuracy: 0.9257 - val_loss: 0.3642 - val_accuracy: 0.8992\n",
            "Epoch 97/100\n",
            "375/375 [==============================] - 1s 4ms/step - loss: 0.2297 - accuracy: 0.9243 - val_loss: 0.3643 - val_accuracy: 0.8949\n",
            "Epoch 98/100\n",
            "375/375 [==============================] - 2s 4ms/step - loss: 0.2317 - accuracy: 0.9245 - val_loss: 0.3524 - val_accuracy: 0.8978\n",
            "Epoch 99/100\n",
            "375/375 [==============================] - 1s 4ms/step - loss: 0.2257 - accuracy: 0.9265 - val_loss: 0.3645 - val_accuracy: 0.8959\n",
            "Epoch 100/100\n",
            "375/375 [==============================] - 1s 4ms/step - loss: 0.2293 - accuracy: 0.9251 - val_loss: 0.3624 - val_accuracy: 0.8969\n",
            "CPU times: user 2min 29s, sys: 23.2 s, total: 2min 52s\n",
            "Wall time: 3min 22s\n"
          ]
        }
      ]
    },
    {
      "cell_type": "markdown",
      "metadata": {
        "id": "FnnIyFtNKhbD"
      },
      "source": [
        "> ## 4) 학습 결과 시각화"
      ]
    },
    {
      "cell_type": "markdown",
      "metadata": {
        "id": "YgXRhVauKqOm"
      },
      "source": [
        "* Loss Visualization"
      ]
    },
    {
      "cell_type": "code",
      "metadata": {
        "id": "OQ4ke8BbKi50",
        "colab": {
          "base_uri": "https://localhost:8080/",
          "height": 404
        },
        "outputId": "93f7f690-3c14-4069-ce27-4b7e0ede2a81"
      },
      "source": [
        "import matplotlib.pyplot as plt\n",
        "\n",
        "epochs = range(1, len(Hist_mnist.history['loss']) + 1)\n",
        "\n",
        "plt.figure(figsize = (9, 6))\n",
        "plt.plot(epochs, Hist_mnist.history['loss'])\n",
        "plt.plot(epochs, Hist_mnist.history['val_loss'])\n",
        "# plt.ylim(0, 0.25)\n",
        "plt.title('Training & Validation Loss')\n",
        "plt.xlabel('Epochs')\n",
        "plt.ylabel('Loss')\n",
        "plt.legend(['Training Loss', 'Validation Loss'])\n",
        "plt.grid()\n",
        "plt.show()"
      ],
      "execution_count": 49,
      "outputs": [
        {
          "output_type": "display_data",
          "data": {
            "image/png": "[encoded data removed]",
            "text/plain": [
              "<Figure size 648x432 with 1 Axes>"
            ]
          },
          "metadata": {
            "needs_background": "light"
          }
        }
      ]
    },
    {
      "cell_type": "markdown",
      "metadata": {
        "id": "_uJSOLBko7lh"
      },
      "source": [
        "> ## 5) Model Evaluate"
      ]
    },
    {
      "cell_type": "markdown",
      "metadata": {
        "id": "i-TqAB2ALGzZ"
      },
      "source": [
        "* Loss & Accuracy"
      ]
    },
    {
      "cell_type": "code",
      "metadata": {
        "id": "OF30PuZsAxQJ",
        "colab": {
          "base_uri": "https://localhost:8080/"
        },
        "outputId": "10b707b4-0a38-4cb1-ede2-a637fce35fce"
      },
      "source": [
        "loss, accuracy = mnist.evaluate(X_test, y_test)\n",
        "\n",
        "print('Loss = {:.5f}'.format(loss))\n",
        "print('Accuracy = {:.5f}'.format(accuracy))"
      ],
      "execution_count": 50,
      "outputs": [
        {
          "output_type": "stream",
          "name": "stdout",
          "text": [
            "313/313 [==============================] - 1s 3ms/step - loss: 0.3991 - accuracy: 0.8920\n",
            "Loss = 0.39908\n",
            "Accuracy = 0.89200\n"
          ]
        }
      ]
    },
    {
      "cell_type": "markdown",
      "metadata": {
        "id": "1PRY6gAXo_PX"
      },
      "source": [
        "> ## 6) Model Predict"
      ]
    },
    {
      "cell_type": "markdown",
      "metadata": {
        "id": "M_pFxK4PLjxX"
      },
      "source": [
        "* Probability"
      ]
    },
    {
      "cell_type": "code",
      "metadata": {
        "id": "vCdPbgU1ajoV",
        "colab": {
          "base_uri": "https://localhost:8080/"
        },
        "outputId": "227b286d-590c-43b9-b391-6230135ef0e4"
      },
      "source": [
        "np.set_printoptions(suppress = True, precision = 9)\n",
        "\n",
        "print(mnist.predict(X_test[:1,:]))"
      ],
      "execution_count": 51,
      "outputs": [
        {
          "output_type": "stream",
          "name": "stdout",
          "text": [
            "WARNING:tensorflow:5 out of the last 5 calls to <function Model.make_predict_function.<locals>.predict_function at 0x7f955afa8830> triggered tf.function retracing. Tracing is expensive and the excessive number of tracings could be due to (1) creating @tf.function repeatedly in a loop, (2) passing tensors with different shapes, (3) passing Python objects instead of tensors. For (1), please define your @tf.function outside of the loop. For (2), @tf.function has experimental_relax_shapes=True option that relaxes argument shapes that can avoid unnecessary retracing. For (3), please refer to https://www.tensorflow.org/guide/function#controlling_retracing and https://www.tensorflow.org/api_docs/python/tf/function for  more details.\n",
            "[[0.          0.          0.          0.          0.          0.000003496 0.          0.00002499  0.          0.9999715  ]]\n"
          ]
        }
      ]
    },
    {
      "cell_type": "markdown",
      "metadata": {
        "id": "V10JgtGdLmKb"
      },
      "source": [
        "* Class"
      ]
    },
    {
      "cell_type": "code",
      "metadata": {
        "id": "xW6AhMK9a7RK",
        "colab": {
          "base_uri": "https://localhost:8080/"
        },
        "outputId": "9c27ca18-4820-4d47-b6c3-0f73329719e5"
      },
      "source": [
        "print(np.argmax(mnist.predict(X_test[:1,:]), axis = 1))"
      ],
      "execution_count": 53,
      "outputs": [
        {
          "output_type": "stream",
          "name": "stdout",
          "text": [
            "[9]\n"
          ]
        }
      ]
    },
    {
      "cell_type": "markdown",
      "metadata": {
        "id": "sN48I9GrLxOX"
      },
      "source": [
        "# \n",
        "# \n",
        "# \n",
        "# The End\n",
        "# \n",
        "# \n",
        "# "
      ]
    },
    {
      "cell_type": "code",
      "metadata": {
        "id": "CMUyrAeQrIXj"
      },
      "source": [
        ""
      ],
      "execution_count": 51,
      "outputs": []
    }
  ]
}