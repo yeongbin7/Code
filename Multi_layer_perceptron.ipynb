{
  "nbformat": 4,
  "nbformat_minor": 0,
  "metadata": {
    "colab": {
      "name": "Multi_layer_perceptron.ipynb",
      "provenance": [],
      "authorship_tag": "ABX9TyMVnw63u1obRu94Wek+AgVO",
      "include_colab_link": true
    },
    "kernelspec": {
      "name": "python3",
      "display_name": "Python 3"
    },
    "language_info": {
      "name": "python"
    }
  },
  "cells": [
    {
      "cell_type": "markdown",
      "metadata": {
        "id": "view-in-github",
        "colab_type": "text"
      },
      "source": [
        "<a href=\"https://colab.research.google.com/github/BbangB/Code/blob/main/Multi_layer_perceptron.ipynb\" target=\"_parent\"><img src=\"https://colab.research.google.com/assets/colab-badge.svg\" alt=\"Open In Colab\"/></a>"
      ]
    },
    {
      "cell_type": "code",
      "metadata": {
        "id": "yAoxycYzNhDr"
      },
      "source": [
        "import warnings\n",
        "warnings.filterwarnings('ignore')"
      ],
      "execution_count": 1,
      "outputs": []
    },
    {
      "cell_type": "code",
      "metadata": {
        "id": "pYLCgD0oNrFk"
      },
      "source": [
        "import numpy as np"
      ],
      "execution_count": 2,
      "outputs": []
    },
    {
      "cell_type": "markdown",
      "metadata": {
        "id": "1bH3yvMTrB_-"
      },
      "source": [
        "#Gradient Setup"
      ]
    },
    {
      "cell_type": "code",
      "metadata": {
        "id": "kPT3933WNsQ-"
      },
      "source": [
        "def gradient(machine, param):\n",
        "    \n",
        "    if param.ndim ==1:\n",
        "        temp_param = param\n",
        "        delta = 0.00005\n",
        "        learned_param = np.zeros(param.shape)\n",
        "    \n",
        "        for index in range(len(param)):\n",
        "            target_param = float(temp_param[index])\n",
        "            \n",
        "            temp_param[index] = target_param + delta\n",
        "            param_plus_delta = machine(temp_param)\n",
        "            \n",
        "            temp_param[index] = target_param - delta\n",
        "            param_minus_delta = machine(temp_param)\n",
        "\n",
        "            learned_param[index] = (param_plus_delta - param_minus_delta)/(2*delta)\n",
        "            temp_param[index] = target_param\n",
        "\n",
        "        return learned_param\n",
        "    elif param.ndim == 2:\n",
        "        temp_param = param\n",
        "        delta = 0.00005\n",
        "        learned_param = np.zeros(param.shape)\n",
        "\n",
        "        rows = param.shape[0]\n",
        "        columns = param.shape[1]\n",
        "\n",
        "        for row in range(rows):\n",
        "            for column in range(columns):\n",
        "                target_param = float(temp_param[row, column])\n",
        "                \n",
        "                temp_param[row,column] = target_param + delta\n",
        "                param_plus_delta = machine(temp_param)\n",
        "                \n",
        "                temp_param[row,column] = target_param - delta\n",
        "                param_minus_delta = machine(temp_param)\n",
        "\n",
        "                learned_param[row, column] = (param_plus_delta- param_minus_delta)/(2*delta)\n",
        "                temp_param[row, column] = target_param\n",
        "        return learned_param\n",
        "\n",
        "\n"
      ],
      "execution_count": 19,
      "outputs": []
    },
    {
      "cell_type": "code",
      "metadata": {
        "id": "26pqdZ14N1UD"
      },
      "source": [
        "import numpy as np\n",
        "\n",
        "def sigmoid(x):\n",
        "    y_hat = 1/(1+np.exp(-x))\n",
        "    return y_hat"
      ],
      "execution_count": 20,
      "outputs": []
    },
    {
      "cell_type": "markdown",
      "metadata": {
        "id": "z0mz9XLDrGJ1"
      },
      "source": [
        "#Logic"
      ]
    },
    {
      "cell_type": "code",
      "metadata": {
        "id": "vKNDQ0yFPb5Y"
      },
      "source": [
        "class LogicGate:\n",
        "\n",
        "    def __init__(self, gate_Type, X_input, y_output):\n",
        "\n",
        "        #gate_Type 문자열 지정 Member\n",
        "        self.Type = gate_Type\n",
        "\n",
        "        #X_input, y_output Member 초기화\n",
        "\n",
        "        self.X_input = X_input.reshape(4,2)\n",
        "        self.y_output = y_output.reshape(4,1)\n",
        "\n",
        "        # W,b Member 초기화\n",
        "        \n",
        "        self.W = np.random.rand(2,1)\n",
        "        self.b = np.random.rand(1)\n",
        "\n",
        "        # Learning_rate Member 지정\n",
        "        self.learning_rate = 0.01\n",
        "\n",
        "        #Cost_Function Method\n",
        "\n",
        "    def cost_func(self):\n",
        "        z = np.dot(self.X_input, self.W) +self.b\n",
        "        y_hat = sigmoid(z)\n",
        "        delta = 0.00001\n",
        "        return -np.sum(self.y_output*np.log(y_hat+delta) + (1-self.y_output)*np.log((1-y_hat) + delta))\n",
        "        # Learning Method\n",
        "        \n",
        "    def learn(self):\n",
        "        machine = lambda x: self.cost_func()\n",
        "        print('initial Cost = ', self.cost_func())\n",
        "\n",
        "        for step in range(10001):\n",
        "            self.W = self.W - self.learning_rate* gradient(machine, self.W)\n",
        "            self.b = self.b - self.learning_rate* gradient(machine, self.b)\n",
        "\n",
        "            if(step % 1000) ==0:\n",
        "               print('Step = ', step, 'Cost =', self.cost_func())\n",
        "\n",
        "        # Predict Method\n",
        "        \n",
        "    def predict(self, input_data):\n",
        "\n",
        "        z = np.dot(input_data, self.W) +self.b\n",
        "        y_prob = sigmoid(z)\n",
        "\n",
        "        if y_prob >0.5:\n",
        "            result = 1\n",
        "        else:\n",
        "            result = 0\n",
        "        return y_prob, result\n"
      ],
      "execution_count": 21,
      "outputs": []
    },
    {
      "cell_type": "markdown",
      "metadata": {
        "id": "TexCpIpSq-KZ"
      },
      "source": [
        "#AND Gate\n"
      ]
    },
    {
      "cell_type": "code",
      "metadata": {
        "colab": {
          "base_uri": "https://localhost:8080/"
        },
        "id": "ZzVYS5H9RQEO",
        "outputId": "d49b066b-a99a-4562-909f-4b2173a26e3c"
      },
      "source": [
        "X_input = np.array([[0, 0], [0, 1], [1, 0], [1, 1]])\n",
        "y_output = np.array([0,0,0,1])\n",
        "\n",
        "AND_Gate = LogicGate('AND_GATE', X_input, y_output)\n",
        "\n",
        "AND_Gate.learn()"
      ],
      "execution_count": 22,
      "outputs": [
        {
          "output_type": "stream",
          "text": [
            "initial Cost =  3.888627129083098\n",
            "Step =  0 Cost = 3.8445382946353095\n",
            "Step =  1000 Cost = 1.0130836666270557\n",
            "Step =  2000 Cost = 0.6627604686416477\n",
            "Step =  3000 Cost = 0.49279265654872717\n",
            "Step =  4000 Cost = 0.39114157715437226\n",
            "Step =  5000 Cost = 0.32349662449685207\n",
            "Step =  6000 Cost = 0.27532606493019984\n",
            "Step =  7000 Cost = 0.23934528808766464\n",
            "Step =  8000 Cost = 0.21149015464279391\n",
            "Step =  9000 Cost = 0.18931471328716537\n",
            "Step =  10000 Cost = 0.17126008266283665\n"
          ],
          "name": "stdout"
        }
      ]
    },
    {
      "cell_type": "code",
      "metadata": {
        "colab": {
          "base_uri": "https://localhost:8080/"
        },
        "id": "T9EAKWE8Rhuh",
        "outputId": "1eac804f-be60-4154-c7a4-a8036d629b99"
      },
      "source": [
        "print(AND_Gate.Type, '\\n')\n",
        "\n",
        "test_data = np.array([[0,0],[0,1],[1,0],[1,1]])\n",
        "\n",
        "for input_data in test_data:\n",
        "    (sigmoid_val, logical_val) = AND_Gate.predict(input_data)\n",
        "    print(input_data, '=', logical_val)"
      ],
      "execution_count": 26,
      "outputs": [
        {
          "output_type": "stream",
          "text": [
            "AND_GATE \n",
            "\n",
            "[0 0] = 0\n",
            "[0 1] = 0\n",
            "[1 0] = 0\n",
            "[1 1] = 1\n"
          ],
          "name": "stdout"
        }
      ]
    },
    {
      "cell_type": "markdown",
      "metadata": {
        "id": "sPo6-M8oq0Ef"
      },
      "source": [
        "#OR Gate\n"
      ]
    },
    {
      "cell_type": "code",
      "metadata": {
        "id": "2R6pcmWTSoc7"
      },
      "source": [
        "X_input = np.array([[0,0],[0,1],[1,0],[1,1]])\n",
        "y_output = np.array([0,1,1,1])"
      ],
      "execution_count": 27,
      "outputs": []
    },
    {
      "cell_type": "code",
      "metadata": {
        "colab": {
          "base_uri": "https://localhost:8080/"
        },
        "id": "XKyTL6HJTBE-",
        "outputId": "2ba532a5-7977-4f52-d470-52cb9685167c"
      },
      "source": [
        "OR_Gate = LogicGate('OR_GATE', X_input, y_output)\n",
        "\n",
        "OR_Gate.learn()"
      ],
      "execution_count": 28,
      "outputs": [
        {
          "output_type": "stream",
          "text": [
            "initial Cost =  1.51301113746727\n",
            "Step =  0 Cost = 1.5110995050567992\n",
            "Step =  1000 Cost = 0.6588086457931837\n",
            "Step =  2000 Cost = 0.4076507701311976\n",
            "Step =  3000 Cost = 0.29116527225284455\n",
            "Step =  4000 Cost = 0.2250018829649153\n",
            "Step =  5000 Cost = 0.18270929342508824\n",
            "Step =  6000 Cost = 0.15348819615894196\n",
            "Step =  7000 Cost = 0.13215490994361598\n",
            "Step =  8000 Cost = 0.11592795513885487\n",
            "Step =  9000 Cost = 0.10318748725658597\n",
            "Step =  10000 Cost = 0.09292897990665637\n"
          ],
          "name": "stdout"
        }
      ]
    },
    {
      "cell_type": "code",
      "metadata": {
        "colab": {
          "base_uri": "https://localhost:8080/"
        },
        "id": "3UgmjdBrTG33",
        "outputId": "be7d3b72-e29e-4828-8589-8696f3a7cede"
      },
      "source": [
        "print(OR_Gate.Type, '\\n')\n",
        "\n",
        "test_data = np.array([[0,0],[0,1],[1,0],[1,1]])\n",
        "\n",
        "for input_data in test_data:\n",
        "    (sigmoid_val, logical_val) = OR_Gate.predict(input_data)\n",
        "    print(input_data, '=', logical_val)"
      ],
      "execution_count": 30,
      "outputs": [
        {
          "output_type": "stream",
          "text": [
            "OR_GATE \n",
            "\n",
            "[0 0] = 0\n",
            "[0 1] = 1\n",
            "[1 0] = 1\n",
            "[1 1] = 1\n"
          ],
          "name": "stdout"
        }
      ]
    },
    {
      "cell_type": "markdown",
      "metadata": {
        "id": "rJHeOhojq3eT"
      },
      "source": [
        "#NAND Gate\n"
      ]
    },
    {
      "cell_type": "code",
      "metadata": {
        "id": "jTvHRHgoTQsD"
      },
      "source": [
        "X_input = np.array([[0,0],[0,1],[1,0],[1,1]])\n",
        "y_output = np.array([1,1,1,0])"
      ],
      "execution_count": 31,
      "outputs": []
    },
    {
      "cell_type": "code",
      "metadata": {
        "colab": {
          "base_uri": "https://localhost:8080/"
        },
        "id": "cV8gfqcYTh91",
        "outputId": "ae8bcd9c-7208-4bf5-df3e-81125dbfed4a"
      },
      "source": [
        "NAND_Gate = LogicGate('NAND_GATE', X_input, y_output)\n",
        "\n",
        "NAND_Gate.learn()"
      ],
      "execution_count": 32,
      "outputs": [
        {
          "output_type": "stream",
          "text": [
            "initial Cost =  2.8981495386788434\n",
            "Step =  0 Cost = 2.8883637963425164\n",
            "Step =  1000 Cost = 1.039155237675375\n",
            "Step =  2000 Cost = 0.6734769990363374\n",
            "Step =  3000 Cost = 0.4987527048470105\n",
            "Step =  4000 Cost = 0.39494140880847683\n",
            "Step =  5000 Cost = 0.3261249882395596\n",
            "Step =  6000 Cost = 0.2772479622557914\n",
            "Step =  7000 Cost = 0.24080902957586725\n",
            "Step =  8000 Cost = 0.2126404048802461\n",
            "Step =  9000 Cost = 0.19024136583796586\n",
            "Step =  10000 Cost = 0.1720218673488827\n"
          ],
          "name": "stdout"
        }
      ]
    },
    {
      "cell_type": "code",
      "metadata": {
        "colab": {
          "base_uri": "https://localhost:8080/"
        },
        "id": "xnDJ9chWTnq5",
        "outputId": "00037099-f7e2-4325-b213-660c223d581b"
      },
      "source": [
        "print(NAND_Gate.Type, '\\n')\n",
        "\n",
        "test_data = np.array([[0, 0], [0, 1], [1, 0], [1, 1]])\n",
        "\n",
        "for input_data in test_data:\n",
        "    (sigmoid_val, logical_val) = NAND_Gate.predict(input_data)\n",
        "    print(input_data, '=', logical_val)\n",
        "\n",
        "\n"
      ],
      "execution_count": 38,
      "outputs": [
        {
          "output_type": "stream",
          "text": [
            "NAND_GATE \n",
            "\n",
            "[0 0] = 1\n",
            "[0 1] = 1\n",
            "[1 0] = 1\n",
            "[1 1] = 0\n"
          ],
          "name": "stdout"
        }
      ]
    },
    {
      "cell_type": "markdown",
      "metadata": {
        "id": "fJe4WaYmq57q"
      },
      "source": [
        "#XOR Gate\n"
      ]
    },
    {
      "cell_type": "code",
      "metadata": {
        "id": "TU_AupYBXemC"
      },
      "source": [
        "XOR_Gate = LogicGate('XOR_GATE', X_input, y_output)"
      ],
      "execution_count": 39,
      "outputs": []
    },
    {
      "cell_type": "code",
      "metadata": {
        "id": "pQOvGR6CWHle"
      },
      "source": [
        "input_data = np.array([[0, 0], [0, 1], [1, 0], [1, 1]])\n",
        "\n",
        "HL1_1 = [] #NAND\n",
        "HL1_2 = [] #OR\n",
        "\n",
        "new_input_data = [] #AND input\n",
        "final_output = [] #AND output\n",
        "\n",
        "for index in range(len(input_data)):\n",
        "\n",
        "    HL1_1 = NAND_Gate.predict(input_data[index])\n",
        "    HL1_2 = OR_Gate.predict(input_data[index])\n",
        "\n",
        "    new_input_data.append(HL1_1[-1])\n",
        "    new_input_data.append(HL1_2[-1])\n",
        "\n",
        "    (sigmoid_val, logical_val) =AND_Gate.predict(np.array(new_input_data))\n",
        "\n",
        "    final_output.append(logical_val)\n",
        "    new_input_data = []"
      ],
      "execution_count": 43,
      "outputs": []
    },
    {
      "cell_type": "code",
      "metadata": {
        "colab": {
          "base_uri": "https://localhost:8080/"
        },
        "id": "-69WCB1_WIuw",
        "outputId": "af14592b-291a-4293-b3ed-6118e9156c8e"
      },
      "source": [
        "print(XOR_Gate.Type, '\\n')\n",
        "\n",
        "for index in range(len(input_data)):\n",
        "    print(input_data[index], '=', final_output[index])"
      ],
      "execution_count": 44,
      "outputs": [
        {
          "output_type": "stream",
          "text": [
            "XOR_GATE \n",
            "\n",
            "[0 0] = 0\n",
            "[0 1] = 1\n",
            "[1 0] = 1\n",
            "[1 1] = 0\n"
          ],
          "name": "stdout"
        }
      ]
    },
    {
      "cell_type": "code",
      "metadata": {
        "id": "-_F8KEUYXZPp"
      },
      "source": [
        ""
      ],
      "execution_count": null,
      "outputs": []
    }
  ]
}