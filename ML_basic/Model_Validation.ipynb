{
  "nbformat": 4,
  "nbformat_minor": 0,
  "metadata": {
    "colab": {
      "name": "Model Validation.ipynb",
      "provenance": [],
      "authorship_tag": "ABX9TyMEU2pWdex8QJ+V9WBiKBJo",
      "include_colab_link": true
    },
    "kernelspec": {
      "name": "python3",
      "display_name": "Python 3"
    },
    "language_info": {
      "name": "python"
    }
  },
  "cells": [
    {
      "cell_type": "markdown",
      "metadata": {
        "id": "view-in-github",
        "colab_type": "text"
      },
      "source": [
        "<a href=\"https://colab.research.google.com/github/BbangB/Code/blob/main/Model_Validation.ipynb\" target=\"_parent\"><img src=\"https://colab.research.google.com/assets/colab-badge.svg\" alt=\"Open In Colab\"/></a>"
      ]
    },
    {
      "cell_type": "markdown",
      "metadata": {
        "id": "eSCfc8wcj2kg"
      },
      "source": [
        "# **Model Validation**\n"
      ]
    },
    {
      "cell_type": "code",
      "metadata": {
        "id": "BIkN78u2j06c"
      },
      "source": [
        "import warnings\n",
        "warnings.filterwarnings('ignore')"
      ],
      "execution_count": 1,
      "outputs": []
    },
    {
      "cell_type": "markdown",
      "metadata": {
        "id": "aH1aTwQMj_n_"
      },
      "source": [
        "## 1. Model Capacity\n",
        "\n",
        "*import packages*"
      ]
    },
    {
      "cell_type": "code",
      "metadata": {
        "id": "aAoarwukj-ZY"
      },
      "source": [
        "import pandas as pd\n",
        "import matplotlib.pyplot as plt\n",
        "import seaborn as sns"
      ],
      "execution_count": 2,
      "outputs": []
    },
    {
      "cell_type": "markdown",
      "metadata": {
        "id": "6VewyllfkNHI"
      },
      "source": [
        " *Pandas DataFrame*\n",
        "            *Electric.csv from Github*"
      ]
    },
    {
      "cell_type": "code",
      "metadata": {
        "colab": {
          "base_uri": "https://localhost:8080/"
        },
        "id": "898UpShij093",
        "outputId": "aa5ee66e-6085-4348-bf01-541748ca9792"
      },
      "source": [
        "url = 'https://raw.githubusercontent.com/rusita-ai/pyData/master/Electric.csv'\n",
        "\n",
        "Elec = pd.read_csv(url)\n",
        "\n",
        "Elec.info()"
      ],
      "execution_count": 4,
      "outputs": [
        {
          "output_type": "stream",
          "text": [
            "<class 'pandas.core.frame.DataFrame'>\n",
            "RangeIndex: 768 entries, 0 to 767\n",
            "Data columns (total 9 columns):\n",
            " #   Column                     Non-Null Count  Dtype  \n",
            "---  ------                     --------------  -----  \n",
            " 0   compactness                768 non-null    float64\n",
            " 1   surface_area               768 non-null    float64\n",
            " 2   wall_area                  768 non-null    float64\n",
            " 3   roof_area                  768 non-null    float64\n",
            " 4   height                     768 non-null    float64\n",
            " 5   orientation                768 non-null    int64  \n",
            " 6   glazing_area               768 non-null    float64\n",
            " 7   glazing_area_distribution  768 non-null    int64  \n",
            " 8   electricity                768 non-null    float64\n",
            "dtypes: float64(7), int64(2)\n",
            "memory usage: 54.1 KB\n"
          ],
          "name": "stdout"
        }
      ]
    },
    {
      "cell_type": "code",
      "metadata": {
        "colab": {
          "base_uri": "https://localhost:8080/",
          "height": 204
        },
        "id": "44YrGvZcj1Ag",
        "outputId": "0cd9e019-db56-48d9-b6a0-9f77b2a8217f"
      },
      "source": [
        "Elec.head()"
      ],
      "execution_count": 5,
      "outputs": [
        {
          "output_type": "execute_result",
          "data": {
            "text/html": [
              "<div>\n",
              "<style scoped>\n",
              "    .dataframe tbody tr th:only-of-type {\n",
              "        vertical-align: middle;\n",
              "    }\n",
              "\n",
              "    .dataframe tbody tr th {\n",
              "        vertical-align: top;\n",
              "    }\n",
              "\n",
              "    .dataframe thead th {\n",
              "        text-align: right;\n",
              "    }\n",
              "</style>\n",
              "<table border=\"1\" class=\"dataframe\">\n",
              "  <thead>\n",
              "    <tr style=\"text-align: right;\">\n",
              "      <th></th>\n",
              "      <th>compactness</th>\n",
              "      <th>surface_area</th>\n",
              "      <th>wall_area</th>\n",
              "      <th>roof_area</th>\n",
              "      <th>height</th>\n",
              "      <th>orientation</th>\n",
              "      <th>glazing_area</th>\n",
              "      <th>glazing_area_distribution</th>\n",
              "      <th>electricity</th>\n",
              "    </tr>\n",
              "  </thead>\n",
              "  <tbody>\n",
              "    <tr>\n",
              "      <th>0</th>\n",
              "      <td>0.98</td>\n",
              "      <td>514.5</td>\n",
              "      <td>294.0</td>\n",
              "      <td>110.25</td>\n",
              "      <td>7.0</td>\n",
              "      <td>2</td>\n",
              "      <td>0.0</td>\n",
              "      <td>0</td>\n",
              "      <td>155.5</td>\n",
              "    </tr>\n",
              "    <tr>\n",
              "      <th>1</th>\n",
              "      <td>0.98</td>\n",
              "      <td>514.5</td>\n",
              "      <td>294.0</td>\n",
              "      <td>110.25</td>\n",
              "      <td>7.0</td>\n",
              "      <td>3</td>\n",
              "      <td>0.0</td>\n",
              "      <td>0</td>\n",
              "      <td>155.5</td>\n",
              "    </tr>\n",
              "    <tr>\n",
              "      <th>2</th>\n",
              "      <td>0.98</td>\n",
              "      <td>514.5</td>\n",
              "      <td>294.0</td>\n",
              "      <td>110.25</td>\n",
              "      <td>7.0</td>\n",
              "      <td>4</td>\n",
              "      <td>0.0</td>\n",
              "      <td>0</td>\n",
              "      <td>155.5</td>\n",
              "    </tr>\n",
              "    <tr>\n",
              "      <th>3</th>\n",
              "      <td>0.98</td>\n",
              "      <td>514.5</td>\n",
              "      <td>294.0</td>\n",
              "      <td>110.25</td>\n",
              "      <td>7.0</td>\n",
              "      <td>5</td>\n",
              "      <td>0.0</td>\n",
              "      <td>0</td>\n",
              "      <td>155.5</td>\n",
              "    </tr>\n",
              "    <tr>\n",
              "      <th>4</th>\n",
              "      <td>0.90</td>\n",
              "      <td>563.5</td>\n",
              "      <td>318.5</td>\n",
              "      <td>122.50</td>\n",
              "      <td>7.0</td>\n",
              "      <td>2</td>\n",
              "      <td>0.0</td>\n",
              "      <td>0</td>\n",
              "      <td>208.4</td>\n",
              "    </tr>\n",
              "  </tbody>\n",
              "</table>\n",
              "</div>"
            ],
            "text/plain": [
              "   compactness  surface_area  ...  glazing_area_distribution  electricity\n",
              "0         0.98         514.5  ...                          0        155.5\n",
              "1         0.98         514.5  ...                          0        155.5\n",
              "2         0.98         514.5  ...                          0        155.5\n",
              "3         0.98         514.5  ...                          0        155.5\n",
              "4         0.90         563.5  ...                          0        208.4\n",
              "\n",
              "[5 rows x 9 columns]"
            ]
          },
          "metadata": {},
          "execution_count": 5
        }
      ]
    },
    {
      "cell_type": "markdown",
      "metadata": {
        "id": "Y6VmTuOAkvFP"
      },
      "source": [
        "*scatterplot(surface_area vs electricity*"
      ]
    },
    {
      "cell_type": "code",
      "metadata": {
        "colab": {
          "base_uri": "https://localhost:8080/",
          "height": 280
        },
        "id": "0KKIrMCJj1IU",
        "outputId": "3de4fb3c-a5f5-476f-951c-e5be13e73e3d"
      },
      "source": [
        "sns.scatterplot(Elec['surface_area'],Elec['electricity'])\n",
        "plt.show()"
      ],
      "execution_count": 7,
      "outputs": [
        {
          "output_type": "display_data",
          "data": {
            "image/png": "[encoded data removed]",
            "text/plain": [
              "<Figure size 432x288 with 1 Axes>"
            ]
          },
          "metadata": {
            "needs_background": "light"
          }
        }
      ]
    },
    {
      "cell_type": "markdown",
      "metadata": {
        "id": "G9Anz2IPlfQ2"
      },
      "source": [
        "# 1st Order Model Visualization\n"
      ]
    },
    {
      "cell_type": "code",
      "metadata": {
        "colab": {
          "base_uri": "https://localhost:8080/",
          "height": 280
        },
        "id": "hvWjKE-7j1I0",
        "outputId": "66c3c5b0-fa84-4cb9-c4d0-453a2eb28bbf"
      },
      "source": [
        "sns.regplot(x = 'surface_area', y= 'electricity', data= Elec,\n",
        "            line_kws= {'color':'red'}, scatter_kws={'edgecolor': 'white'})\n",
        "plt.xlim(505,820)\n",
        "plt.show()"
      ],
      "execution_count": 10,
      "outputs": [
        {
          "output_type": "display_data",
          "data": {
            "image/png": "[encoded data removed]",
            "text/plain": [
              "<Figure size 432x288 with 1 Axes>"
            ]
          },
          "metadata": {
            "needs_background": "light"
          }
        }
      ]
    },
    {
      "cell_type": "markdown",
      "metadata": {
        "id": "HlwdXXGFmDKQ"
      },
      "source": [
        "# 2nd Order Model Visualization\n"
      ]
    },
    {
      "cell_type": "code",
      "metadata": {
        "colab": {
          "base_uri": "https://localhost:8080/",
          "height": 280
        },
        "id": "ka1kDVXKj1JV",
        "outputId": "7a6b6c50-1e07-4f57-eebb-8b5473f331cc"
      },
      "source": [
        "sns.regplot(x = 'surface_area', y= 'electricity', data = Elec,\n",
        "            line_kws= {'color': 'blue'},scatter_kws={'edgecolor':'white'}, order=2)\n",
        "\n",
        "plt.xlim(505,820)\n",
        "plt.show()"
      ],
      "execution_count": 14,
      "outputs": [
        {
          "output_type": "display_data",
          "data": {
            "image/png": "[encoded data removed]",
            "text/plain": [
              "<Figure size 432x288 with 1 Axes>"
            ]
          },
          "metadata": {
            "needs_background": "light"
          }
        }
      ]
    },
    {
      "cell_type": "markdown",
      "metadata": {
        "id": "x9HK3LjWmopo"
      },
      "source": [
        "# 5th Order Model Visualization\n"
      ]
    },
    {
      "cell_type": "code",
      "metadata": {
        "colab": {
          "base_uri": "https://localhost:8080/",
          "height": 280
        },
        "id": "G1OXH11yj1J4",
        "outputId": "c3af47df-3fa3-4299-e520-ea02115c7a25"
      },
      "source": [
        "sns.regplot(x = 'surface_area', y= 'electricity', data = Elec,\n",
        "            line_kws= {'color': 'black'},scatter_kws={'edgecolor':'white'}, order=5)\n",
        "\n",
        "plt.xlim(505,820)\n",
        "plt.show()"
      ],
      "execution_count": 19,
      "outputs": [
        {
          "output_type": "display_data",
          "data": {
            "image/png": "[encoded data removed]",
            "text/plain": [
              "<Figure size 432x288 with 1 Axes>"
            ]
          },
          "metadata": {
            "needs_background": "light"
          }
        }
      ]
    },
    {
      "cell_type": "markdown",
      "metadata": {
        "id": "DKXJ2FK1nEQk"
      },
      "source": [
        "# 9th Order Model Visualization\n"
      ]
    },
    {
      "cell_type": "code",
      "metadata": {
        "colab": {
          "base_uri": "https://localhost:8080/",
          "height": 284
        },
        "id": "NQZ2AXdtj1Kh",
        "outputId": "ae93a8c4-e157-4012-b152-76f47ab4266f"
      },
      "source": [
        "sns.regplot(x = 'surface_area', y= 'electricity', data = Elec,\n",
        "            line_kws= {'color': 'green'},scatter_kws={'edgecolor':'white'}, order=9)\n",
        "\n",
        "plt.xlim(505,820)\n",
        "plt.ylim(50,450)\n",
        "plt.show()"
      ],
      "execution_count": 20,
      "outputs": [
        {
          "output_type": "display_data",
          "data": {
            "image/png": "[encoded data removed]",
            "text/plain": [
              "<Figure size 432x288 with 1 Axes>"
            ]
          },
          "metadata": {
            "needs_background": "light"
          }
        }
      ]
    },
    {
      "cell_type": "markdown",
      "metadata": {
        "id": "BxulYkzOnVNP"
      },
      "source": [
        "# Model comparison"
      ]
    },
    {
      "cell_type": "code",
      "metadata": {
        "colab": {
          "base_uri": "https://localhost:8080/",
          "height": 284
        },
        "id": "I956nMYRj1LB",
        "outputId": "bb53011d-3753-4eef-ab3c-dd7f6e08cde4"
      },
      "source": [
        "sns.regplot(x = 'surface_area', y= 'electricity', data= Elec,\n",
        "            line_kws= {'color':'red'}, scatter_kws={'edgecolor': 'white'})\n",
        "\n",
        "sns.regplot(x = 'surface_area', y= 'electricity', data = Elec,\n",
        "            line_kws= {'color': 'blue'},scatter_kws={'edgecolor':'white'}, order=2)\n",
        "\n",
        "sns.regplot(x = 'surface_area', y= 'electricity', data = Elec,\n",
        "            line_kws= {'color': 'black'},scatter_kws={'edgecolor':'white'}, order=5)\n",
        "\n",
        "sns.regplot(x = 'surface_area', y= 'electricity', data = Elec,\n",
        "            line_kws= {'color': 'green'},scatter_kws={'edgecolor':'white'}, order=9)\n",
        "\n",
        "plt.xlim(505,820)\n",
        "plt.ylim(50,450)\n",
        "plt.show()"
      ],
      "execution_count": 21,
      "outputs": [
        {
          "output_type": "display_data",
          "data": {
            "image/png": "[encoded data removed]",
            "text/plain": [
              "<Figure size 432x288 with 1 Axes>"
            ]
          },
          "metadata": {
            "needs_background": "light"
          }
        }
      ]
    },
    {
      "cell_type": "markdown",
      "metadata": {
        "id": "Sg7rt-4ZnpBU"
      },
      "source": [
        "# 2. Training Error\n"
      ]
    },
    {
      "cell_type": "code",
      "metadata": {
        "id": "f2VbUwBRj1Lh"
      },
      "source": [
        "import pandas as pd\n",
        "import numpy as np\n",
        "import matplotlib.pyplot as plt\n",
        "import seaborn as sns"
      ],
      "execution_count": 22,
      "outputs": []
    },
    {
      "cell_type": "code",
      "metadata": {
        "colab": {
          "base_uri": "https://localhost:8080/"
        },
        "id": "a6bkJ8anj1MH",
        "outputId": "e0a1eb61-2928-4bfc-e463-2e858f2254eb"
      },
      "source": [
        "url = 'https://raw.githubusercontent.com/rusita-ai/pyData/master/Electric.csv'\n",
        "Elec = pd.read_csv(url)\n",
        "Elec.info()\n"
      ],
      "execution_count": 23,
      "outputs": [
        {
          "output_type": "stream",
          "text": [
            "<class 'pandas.core.frame.DataFrame'>\n",
            "RangeIndex: 768 entries, 0 to 767\n",
            "Data columns (total 9 columns):\n",
            " #   Column                     Non-Null Count  Dtype  \n",
            "---  ------                     --------------  -----  \n",
            " 0   compactness                768 non-null    float64\n",
            " 1   surface_area               768 non-null    float64\n",
            " 2   wall_area                  768 non-null    float64\n",
            " 3   roof_area                  768 non-null    float64\n",
            " 4   height                     768 non-null    float64\n",
            " 5   orientation                768 non-null    int64  \n",
            " 6   glazing_area               768 non-null    float64\n",
            " 7   glazing_area_distribution  768 non-null    int64  \n",
            " 8   electricity                768 non-null    float64\n",
            "dtypes: float64(7), int64(2)\n",
            "memory usage: 54.1 KB\n"
          ],
          "name": "stdout"
        }
      ]
    },
    {
      "cell_type": "markdown",
      "metadata": {
        "id": "1ItY209QoKR9"
      },
      "source": [
        "# 1st Model Training Error"
      ]
    },
    {
      "cell_type": "code",
      "metadata": {
        "colab": {
          "base_uri": "https://localhost:8080/"
        },
        "id": "ZPyIMq6IoVd6",
        "outputId": "e97445b3-c5a9-4e62-980e-6c6fa463aa23"
      },
      "source": [
        "X_train = Elec[['surface_area']]\n",
        "y_train = Elec['electricity']\n",
        "\n",
        "X_train.shape, y_train.shape"
      ],
      "execution_count": 37,
      "outputs": [
        {
          "output_type": "execute_result",
          "data": {
            "text/plain": [
              "((768, 1), (768,))"
            ]
          },
          "metadata": {},
          "execution_count": 37
        }
      ]
    },
    {
      "cell_type": "code",
      "metadata": {
        "colab": {
          "base_uri": "https://localhost:8080/",
          "height": 419
        },
        "id": "-Vs_QYJ7pZ9v",
        "outputId": "e4679696-78f7-4dee-bfa9-6602c64c110a"
      },
      "source": [
        "X_train"
      ],
      "execution_count": 38,
      "outputs": [
        {
          "output_type": "execute_result",
          "data": {
            "text/html": [
              "<div>\n",
              "<style scoped>\n",
              "    .dataframe tbody tr th:only-of-type {\n",
              "        vertical-align: middle;\n",
              "    }\n",
              "\n",
              "    .dataframe tbody tr th {\n",
              "        vertical-align: top;\n",
              "    }\n",
              "\n",
              "    .dataframe thead th {\n",
              "        text-align: right;\n",
              "    }\n",
              "</style>\n",
              "<table border=\"1\" class=\"dataframe\">\n",
              "  <thead>\n",
              "    <tr style=\"text-align: right;\">\n",
              "      <th></th>\n",
              "      <th>surface_area</th>\n",
              "    </tr>\n",
              "  </thead>\n",
              "  <tbody>\n",
              "    <tr>\n",
              "      <th>0</th>\n",
              "      <td>514.5</td>\n",
              "    </tr>\n",
              "    <tr>\n",
              "      <th>1</th>\n",
              "      <td>514.5</td>\n",
              "    </tr>\n",
              "    <tr>\n",
              "      <th>2</th>\n",
              "      <td>514.5</td>\n",
              "    </tr>\n",
              "    <tr>\n",
              "      <th>3</th>\n",
              "      <td>514.5</td>\n",
              "    </tr>\n",
              "    <tr>\n",
              "      <th>4</th>\n",
              "      <td>563.5</td>\n",
              "    </tr>\n",
              "    <tr>\n",
              "      <th>...</th>\n",
              "      <td>...</td>\n",
              "    </tr>\n",
              "    <tr>\n",
              "      <th>763</th>\n",
              "      <td>784.0</td>\n",
              "    </tr>\n",
              "    <tr>\n",
              "      <th>764</th>\n",
              "      <td>808.5</td>\n",
              "    </tr>\n",
              "    <tr>\n",
              "      <th>765</th>\n",
              "      <td>808.5</td>\n",
              "    </tr>\n",
              "    <tr>\n",
              "      <th>766</th>\n",
              "      <td>808.5</td>\n",
              "    </tr>\n",
              "    <tr>\n",
              "      <th>767</th>\n",
              "      <td>808.5</td>\n",
              "    </tr>\n",
              "  </tbody>\n",
              "</table>\n",
              "<p>768 rows × 1 columns</p>\n",
              "</div>"
            ],
            "text/plain": [
              "     surface_area\n",
              "0           514.5\n",
              "1           514.5\n",
              "2           514.5\n",
              "3           514.5\n",
              "4           563.5\n",
              "..            ...\n",
              "763         784.0\n",
              "764         808.5\n",
              "765         808.5\n",
              "766         808.5\n",
              "767         808.5\n",
              "\n",
              "[768 rows x 1 columns]"
            ]
          },
          "metadata": {},
          "execution_count": 38
        }
      ]
    },
    {
      "cell_type": "code",
      "metadata": {
        "colab": {
          "base_uri": "https://localhost:8080/"
        },
        "id": "fD5sXnOmof1e",
        "outputId": "8c650144-7a7b-4844-823c-80a3c20b03cd"
      },
      "source": [
        "from sklearn.linear_model import LinearRegression\n",
        "\n",
        "Model_1 = LinearRegression()\n",
        "Model_1.fit(X_train,y_train)"
      ],
      "execution_count": 26,
      "outputs": [
        {
          "output_type": "execute_result",
          "data": {
            "text/plain": [
              "LinearRegression(copy_X=True, fit_intercept=True, n_jobs=None, normalize=False)"
            ]
          },
          "metadata": {},
          "execution_count": 26
        }
      ]
    },
    {
      "cell_type": "code",
      "metadata": {
        "colab": {
          "base_uri": "https://localhost:8080/"
        },
        "id": "Pt4JMB6AogAU",
        "outputId": "0abb0de0-c238-4082-fddd-ecce5e6c5ddc"
      },
      "source": [
        "print(Model_1.coef_)\n",
        "print(Model_1.intercept_)"
      ],
      "execution_count": 29,
      "outputs": [
        {
          "output_type": "stream",
          "text": [
            "[-0.75387157]\n",
            "729.4538243006992\n"
          ],
          "name": "stdout"
        }
      ]
    },
    {
      "cell_type": "code",
      "metadata": {
        "colab": {
          "base_uri": "https://localhost:8080/"
        },
        "id": "CI5vRu95oxEX",
        "outputId": "b7138629-a4f3-43e0-ff7a-c5f3f26fd919"
      },
      "source": [
        "y_hat_1 = Model_1.predict(X_train)\n",
        "\n",
        "len(y_hat_1)"
      ],
      "execution_count": 32,
      "outputs": [
        {
          "output_type": "execute_result",
          "data": {
            "text/plain": [
              "768"
            ]
          },
          "metadata": {},
          "execution_count": 32
        }
      ]
    },
    {
      "cell_type": "code",
      "metadata": {
        "colab": {
          "base_uri": "https://localhost:8080/"
        },
        "id": "HSAg1Ddjo2W0",
        "outputId": "f8d170c6-ffce-4644-eac2-54f6e53fd079"
      },
      "source": [
        "TR_Err_1 = np.mean((y_train - y_hat_1)**2)\n",
        "TR_Err_1"
      ],
      "execution_count": 33,
      "outputs": [
        {
          "output_type": "execute_result",
          "data": {
            "text/plain": [
              "5763.983779426347"
            ]
          },
          "metadata": {},
          "execution_count": 33
        }
      ]
    },
    {
      "cell_type": "markdown",
      "metadata": {
        "id": "5UUSC_pHoQtJ"
      },
      "source": [
        "# 5th Model Training Error"
      ]
    },
    {
      "cell_type": "code",
      "metadata": {
        "colab": {
          "base_uri": "https://localhost:8080/"
        },
        "id": "mgl7AbZgo9LU",
        "outputId": "02b24e35-ce90-4173-f71c-5d19ecd04f8f"
      },
      "source": [
        "from sklearn.preprocessing import PolynomialFeatures\n",
        "\n",
        "poly = PolynomialFeatures(degree= 5, include_bias = False)\n",
        "PX_5 = poly.fit_transform(X_train)\n",
        "PX_5"
      ],
      "execution_count": 34,
      "outputs": [
        {
          "output_type": "execute_result",
          "data": {
            "text/plain": [
              "array([[5.14500000e+02, 2.64710250e+05, 1.36193424e+08, 7.00715165e+10,\n",
              "        3.60517952e+13],\n",
              "       [5.14500000e+02, 2.64710250e+05, 1.36193424e+08, 7.00715165e+10,\n",
              "        3.60517952e+13],\n",
              "       [5.14500000e+02, 2.64710250e+05, 1.36193424e+08, 7.00715165e+10,\n",
              "        3.60517952e+13],\n",
              "       ...,\n",
              "       [8.08500000e+02, 6.53672250e+05, 5.28494014e+08, 4.27287410e+11,\n",
              "        3.45461871e+14],\n",
              "       [8.08500000e+02, 6.53672250e+05, 5.28494014e+08, 4.27287410e+11,\n",
              "        3.45461871e+14],\n",
              "       [8.08500000e+02, 6.53672250e+05, 5.28494014e+08, 4.27287410e+11,\n",
              "        3.45461871e+14]])"
            ]
          },
          "metadata": {},
          "execution_count": 34
        }
      ]
    },
    {
      "cell_type": "code",
      "metadata": {
        "colab": {
          "base_uri": "https://localhost:8080/"
        },
        "id": "MlsGKzbeo9OI",
        "outputId": "1a2b38fa-de89-471c-8400-79d57a6bc734"
      },
      "source": [
        "X_train.shape, PX_5.shape"
      ],
      "execution_count": 36,
      "outputs": [
        {
          "output_type": "execute_result",
          "data": {
            "text/plain": [
              "((768, 1), (768, 5))"
            ]
          },
          "metadata": {},
          "execution_count": 36
        }
      ]
    },
    {
      "cell_type": "code",
      "metadata": {
        "colab": {
          "base_uri": "https://localhost:8080/"
        },
        "id": "zMQ99MtGo9Qy",
        "outputId": "bf8d51d3-ac2f-4480-8116-eb7f56a6bcda"
      },
      "source": [
        "from sklearn.linear_model import LinearRegression\n",
        "\n",
        "Model_5 = LinearRegression()\n",
        "Model_5.fit(PX_5,y_train)"
      ],
      "execution_count": 39,
      "outputs": [
        {
          "output_type": "execute_result",
          "data": {
            "text/plain": [
              "LinearRegression(copy_X=True, fit_intercept=True, n_jobs=None, normalize=False)"
            ]
          },
          "metadata": {},
          "execution_count": 39
        }
      ]
    },
    {
      "cell_type": "code",
      "metadata": {
        "colab": {
          "base_uri": "https://localhost:8080/"
        },
        "id": "gBiZe2d_o9S7",
        "outputId": "ededabf8-e944-4b94-adf3-fd4e60a09957"
      },
      "source": [
        "np.set_printoptions(suppress=True, precision=10)\n",
        "\n",
        "print(Model_5.coef_)\n",
        "print(Model_5.intercept_)"
      ],
      "execution_count": 40,
      "outputs": [
        {
          "output_type": "stream",
          "text": [
            "[-0.0003155148 -0.1029296835  0.0003787616 -0.0000005032  0.0000000002]\n",
            "2906.221625380881\n"
          ],
          "name": "stdout"
        }
      ]
    },
    {
      "cell_type": "code",
      "metadata": {
        "colab": {
          "base_uri": "https://localhost:8080/"
        },
        "id": "8WMmvGgJo9VH",
        "outputId": "42a60190-74b8-4e49-fd1f-329853e1f75b"
      },
      "source": [
        "PX_5_pred = poly.fit_transform(X_train)\n",
        "y_hat_5 = Model_5.predict(PX_5_pred)\n",
        "y_hat_5.shape"
      ],
      "execution_count": 44,
      "outputs": [
        {
          "output_type": "execute_result",
          "data": {
            "text/plain": [
              "(768,)"
            ]
          },
          "metadata": {},
          "execution_count": 44
        }
      ]
    },
    {
      "cell_type": "code",
      "metadata": {
        "colab": {
          "base_uri": "https://localhost:8080/"
        },
        "id": "HQg_2FeGqIvK",
        "outputId": "038ba586-7229-4220-dfb7-f2e3e41b856f"
      },
      "source": [
        "TR_Err_5 = np.mean((y_train - y_hat_5)**2)\n",
        "TR_Err_5"
      ],
      "execution_count": 45,
      "outputs": [
        {
          "output_type": "execute_result",
          "data": {
            "text/plain": [
              "4177.726328606075"
            ]
          },
          "metadata": {},
          "execution_count": 45
        }
      ]
    },
    {
      "cell_type": "markdown",
      "metadata": {
        "id": "U3gEwKHZoQCP"
      },
      "source": [
        "# 9th Model Training Error"
      ]
    },
    {
      "cell_type": "code",
      "metadata": {
        "id": "0BpQ0obvoPIB"
      },
      "source": [
        "from sklearn.preprocessing import PolynomialFeatures\n",
        "poly = PolynomialFeatures(degree = 9, include_bias = False)\n",
        "PX_9 = poly.fit_transform(X_train)\n"
      ],
      "execution_count": 46,
      "outputs": []
    },
    {
      "cell_type": "code",
      "metadata": {
        "colab": {
          "base_uri": "https://localhost:8080/"
        },
        "id": "U6je42oqj1Mn",
        "outputId": "92c194c3-d009-4504-dc19-33f71315d513"
      },
      "source": [
        "X_train.shape, PX_9.shape\n"
      ],
      "execution_count": 47,
      "outputs": [
        {
          "output_type": "execute_result",
          "data": {
            "text/plain": [
              "((768, 1), (768, 9))"
            ]
          },
          "metadata": {},
          "execution_count": 47
        }
      ]
    },
    {
      "cell_type": "code",
      "metadata": {
        "colab": {
          "base_uri": "https://localhost:8080/",
          "height": 419
        },
        "id": "WsRGLDY7j1NI",
        "outputId": "f9ae061e-0f6c-4206-949b-0269042919b0"
      },
      "source": [
        "X_train"
      ],
      "execution_count": 48,
      "outputs": [
        {
          "output_type": "execute_result",
          "data": {
            "text/html": [
              "<div>\n",
              "<style scoped>\n",
              "    .dataframe tbody tr th:only-of-type {\n",
              "        vertical-align: middle;\n",
              "    }\n",
              "\n",
              "    .dataframe tbody tr th {\n",
              "        vertical-align: top;\n",
              "    }\n",
              "\n",
              "    .dataframe thead th {\n",
              "        text-align: right;\n",
              "    }\n",
              "</style>\n",
              "<table border=\"1\" class=\"dataframe\">\n",
              "  <thead>\n",
              "    <tr style=\"text-align: right;\">\n",
              "      <th></th>\n",
              "      <th>surface_area</th>\n",
              "    </tr>\n",
              "  </thead>\n",
              "  <tbody>\n",
              "    <tr>\n",
              "      <th>0</th>\n",
              "      <td>514.5</td>\n",
              "    </tr>\n",
              "    <tr>\n",
              "      <th>1</th>\n",
              "      <td>514.5</td>\n",
              "    </tr>\n",
              "    <tr>\n",
              "      <th>2</th>\n",
              "      <td>514.5</td>\n",
              "    </tr>\n",
              "    <tr>\n",
              "      <th>3</th>\n",
              "      <td>514.5</td>\n",
              "    </tr>\n",
              "    <tr>\n",
              "      <th>4</th>\n",
              "      <td>563.5</td>\n",
              "    </tr>\n",
              "    <tr>\n",
              "      <th>...</th>\n",
              "      <td>...</td>\n",
              "    </tr>\n",
              "    <tr>\n",
              "      <th>763</th>\n",
              "      <td>784.0</td>\n",
              "    </tr>\n",
              "    <tr>\n",
              "      <th>764</th>\n",
              "      <td>808.5</td>\n",
              "    </tr>\n",
              "    <tr>\n",
              "      <th>765</th>\n",
              "      <td>808.5</td>\n",
              "    </tr>\n",
              "    <tr>\n",
              "      <th>766</th>\n",
              "      <td>808.5</td>\n",
              "    </tr>\n",
              "    <tr>\n",
              "      <th>767</th>\n",
              "      <td>808.5</td>\n",
              "    </tr>\n",
              "  </tbody>\n",
              "</table>\n",
              "<p>768 rows × 1 columns</p>\n",
              "</div>"
            ],
            "text/plain": [
              "     surface_area\n",
              "0           514.5\n",
              "1           514.5\n",
              "2           514.5\n",
              "3           514.5\n",
              "4           563.5\n",
              "..            ...\n",
              "763         784.0\n",
              "764         808.5\n",
              "765         808.5\n",
              "766         808.5\n",
              "767         808.5\n",
              "\n",
              "[768 rows x 1 columns]"
            ]
          },
          "metadata": {},
          "execution_count": 48
        }
      ]
    },
    {
      "cell_type": "code",
      "metadata": {
        "colab": {
          "base_uri": "https://localhost:8080/"
        },
        "id": "-DIpAnUXj1Nn",
        "outputId": "ad60de8e-b4b6-4e27-cb06-3201f248bf64"
      },
      "source": [
        "PX_9"
      ],
      "execution_count": 49,
      "outputs": [
        {
          "output_type": "execute_result",
          "data": {
            "text/plain": [
              "array([[5.1450000000e+02, 2.6471025000e+05, 1.3619342362e+08, ...,\n",
              "        9.5432797246e+18, 4.9100174183e+21, 2.5262039617e+24],\n",
              "       [5.1450000000e+02, 2.6471025000e+05, 1.3619342362e+08, ...,\n",
              "        9.5432797246e+18, 4.9100174183e+21, 2.5262039617e+24],\n",
              "       [5.1450000000e+02, 2.6471025000e+05, 1.3619342362e+08, ...,\n",
              "        9.5432797246e+18, 4.9100174183e+21, 2.5262039617e+24],\n",
              "       ...,\n",
              "       [8.0850000000e+02, 6.5367225000e+05, 5.2849401412e+08, ...,\n",
              "        2.2581883872e+20, 1.8257453110e+23, 1.4761150840e+26],\n",
              "       [8.0850000000e+02, 6.5367225000e+05, 5.2849401412e+08, ...,\n",
              "        2.2581883872e+20, 1.8257453110e+23, 1.4761150840e+26],\n",
              "       [8.0850000000e+02, 6.5367225000e+05, 5.2849401412e+08, ...,\n",
              "        2.2581883872e+20, 1.8257453110e+23, 1.4761150840e+26]])"
            ]
          },
          "metadata": {},
          "execution_count": 49
        }
      ]
    },
    {
      "cell_type": "code",
      "metadata": {
        "colab": {
          "base_uri": "https://localhost:8080/"
        },
        "id": "0unFiLocj1OJ",
        "outputId": "e1edec0d-d7a2-4ee6-f093-aa1f53a5bd93"
      },
      "source": [
        "from sklearn.linear_model import LinearRegression\n",
        "Model_9 = LinearRegression()\n",
        "Model_9.fit(PX_9, y_train)"
      ],
      "execution_count": 50,
      "outputs": [
        {
          "output_type": "execute_result",
          "data": {
            "text/plain": [
              "LinearRegression(copy_X=True, fit_intercept=True, n_jobs=None, normalize=False)"
            ]
          },
          "metadata": {},
          "execution_count": 50
        }
      ]
    },
    {
      "cell_type": "code",
      "metadata": {
        "colab": {
          "base_uri": "https://localhost:8080/"
        },
        "id": "N-Dxux2pj1QH",
        "outputId": "f7dbcaf9-815d-41e8-b46c-0958e1e6c946"
      },
      "source": [
        "print(Model_9.coef_)\n",
        "print(Model_9.intercept_)\n"
      ],
      "execution_count": 51,
      "outputs": [
        {
          "output_type": "stream",
          "text": [
            "[ 0.  0.  0.  0.  0.  0. -0.  0. -0.]\n",
            "-440.08258373871365\n"
          ],
          "name": "stdout"
        }
      ]
    },
    {
      "cell_type": "code",
      "metadata": {
        "colab": {
          "base_uri": "https://localhost:8080/"
        },
        "id": "Viujyed5j1Qx",
        "outputId": "bcc3a015-74a4-481d-abd5-6499ba2f6c64"
      },
      "source": [
        "PX_9_pred = poly.fit_transform(X_train)\n",
        "y_hat_9 = Model_9.predict(PX_9_pred)\n",
        "y_hat_9.shape"
      ],
      "execution_count": 52,
      "outputs": [
        {
          "output_type": "execute_result",
          "data": {
            "text/plain": [
              "(768,)"
            ]
          },
          "metadata": {},
          "execution_count": 52
        }
      ]
    },
    {
      "cell_type": "code",
      "metadata": {
        "colab": {
          "base_uri": "https://localhost:8080/"
        },
        "id": "dPCKMGYnj1RS",
        "outputId": "7d738a39-b2c4-4c10-a7d8-b3fe157d7041"
      },
      "source": [
        "TR_Err_9 = np.mean((y_train - y_hat_9) ** 2)\n",
        "TR_Err_9"
      ],
      "execution_count": 53,
      "outputs": [
        {
          "output_type": "execute_result",
          "data": {
            "text/plain": [
              "4086.7199908150374"
            ]
          },
          "metadata": {},
          "execution_count": 53
        }
      ]
    },
    {
      "cell_type": "markdown",
      "metadata": {
        "id": "PAzr9HW8qjd_"
      },
      "source": [
        "# Training Error Comparison between 3 models"
      ]
    },
    {
      "cell_type": "code",
      "metadata": {
        "colab": {
          "base_uri": "https://localhost:8080/"
        },
        "id": "HvVNf1Crj1R4",
        "outputId": "bd5fcac5-53b6-468c-ac7d-93c1f258e2f4"
      },
      "source": [
        "print('1차 모델 : ', TR_Err_1)\n",
        "print('5차 모델 : ', TR_Err_5)\n",
        "print('9차 모델 : ', TR_Err_9)\n"
      ],
      "execution_count": 54,
      "outputs": [
        {
          "output_type": "stream",
          "text": [
            "1차 모델 :  5763.983779426347\n",
            "5차 모델 :  4177.726328606075\n",
            "9차 모델 :  4086.7199908150374\n"
          ],
          "name": "stdout"
        }
      ]
    },
    {
      "cell_type": "markdown",
      "metadata": {
        "id": "qXDX6nJrqtcu"
      },
      "source": [
        "#Training Error Comparison Visualization"
      ]
    },
    {
      "cell_type": "code",
      "metadata": {
        "colab": {
          "base_uri": "https://localhost:8080/",
          "height": 284
        },
        "id": "PsiH0bCcj1Sj",
        "outputId": "b2f1089e-c187-4019-f133-2d96c481e3d7"
      },
      "source": [
        "sns.residplot(x = 'surface_area', \n",
        "              y = 'electricity', \n",
        "              data = Elec,\n",
        "              order = 1, \n",
        "              scatter_kws={'edgecolor':'white'})\n",
        "plt.ylim(-300, 300)\n",
        "plt.show()\n"
      ],
      "execution_count": 56,
      "outputs": [
        {
          "output_type": "display_data",
          "data": {
            "image/png": "[encoded data removed]",
            "text/plain": [
              "<Figure size 432x288 with 1 Axes>"
            ]
          },
          "metadata": {
            "needs_background": "light"
          }
        }
      ]
    },
    {
      "cell_type": "code",
      "metadata": {
        "colab": {
          "base_uri": "https://localhost:8080/",
          "height": 284
        },
        "id": "cew6VzARj1TD",
        "outputId": "808d799a-f311-4ea4-f3db-fa73f3c83d32"
      },
      "source": [
        "sns.residplot(x = 'surface_area', \n",
        "              y = 'electricity', \n",
        "              data = Elec,\n",
        "              order = 5, \n",
        "              scatter_kws={'edgecolor':'white'})\n",
        "plt.ylim(-300, 300)\n",
        "plt.show()\n"
      ],
      "execution_count": 55,
      "outputs": [
        {
          "output_type": "display_data",
          "data": {
            "image/png": "[encoded data removed]",
            "text/plain": [
              "<Figure size 432x288 with 1 Axes>"
            ]
          },
          "metadata": {
            "needs_background": "light"
          }
        }
      ]
    },
    {
      "cell_type": "code",
      "metadata": {
        "colab": {
          "base_uri": "https://localhost:8080/",
          "height": 284
        },
        "id": "qu7h3xMlrNpp",
        "outputId": "2ee9b478-b0f4-4420-d15e-5773c5d5b2a3"
      },
      "source": [
        "sns.residplot(x = 'surface_area', \n",
        "              y = 'electricity', \n",
        "              data = Elec,\n",
        "              order = 9, \n",
        "              scatter_kws={'edgecolor':'white'})\n",
        "plt.ylim(-300, 300)\n",
        "plt.show()\n"
      ],
      "execution_count": 57,
      "outputs": [
        {
          "output_type": "display_data",
          "data": {
            "image/png": "[encoded data removed]",
            "text/plain": [
              "<Figure size 432x288 with 1 Axes>"
            ]
          },
          "metadata": {
            "needs_background": "light"
          }
        }
      ]
    },
    {
      "cell_type": "markdown",
      "metadata": {
        "id": "qxENO7DfrbIP"
      },
      "source": [
        "# 3. Testing Error\n"
      ]
    },
    {
      "cell_type": "code",
      "metadata": {
        "id": "dxR_qVhwrNsJ"
      },
      "source": [
        "import pandas as pd\n",
        "import matplotlib.pyplot as plt\n",
        "import seaborn as sns"
      ],
      "execution_count": 58,
      "outputs": []
    },
    {
      "cell_type": "code",
      "metadata": {
        "colab": {
          "base_uri": "https://localhost:8080/"
        },
        "id": "bK3bW5o2rNvM",
        "outputId": "acd635b9-be99-46e3-cebb-38c0b8ed7641"
      },
      "source": [
        "url = 'https://raw.githubusercontent.com/rusita-ai/pyData/master/Electric.csv'\n",
        "Elec = pd.read_csv(url)\n",
        "Elec.shape"
      ],
      "execution_count": 59,
      "outputs": [
        {
          "output_type": "execute_result",
          "data": {
            "text/plain": [
              "(768, 9)"
            ]
          },
          "metadata": {},
          "execution_count": 59
        }
      ]
    },
    {
      "cell_type": "markdown",
      "metadata": {
        "id": "swzAKL5krouK"
      },
      "source": [
        "#Train_data vs Test_data"
      ]
    },
    {
      "cell_type": "markdown",
      "metadata": {
        "id": "seciWicKsI_I"
      },
      "source": [
        "*DataFrame Split*\n",
        "\n",
        "*8:2 split*\n",
        "\n",
        "//80% Train // 20% Test"
      ]
    },
    {
      "cell_type": "code",
      "metadata": {
        "id": "WOK9MdkPrjM3"
      },
      "source": [
        "from sklearn.model_selection import train_test_split\n",
        "TR_Elec, TE_Elec = train_test_split(Elec, test_size = 0.2, \n",
        "                                    random_state = 2045)\n"
      ],
      "execution_count": 60,
      "outputs": []
    },
    {
      "cell_type": "code",
      "metadata": {
        "colab": {
          "base_uri": "https://localhost:8080/"
        },
        "id": "vATVQ68vrjPf",
        "outputId": "cf83a304-5963-42dc-b146-2543b4400e18"
      },
      "source": [
        "TR_Elec.shape, TE_Elec.shape\n"
      ],
      "execution_count": 61,
      "outputs": [
        {
          "output_type": "execute_result",
          "data": {
            "text/plain": [
              "((614, 9), (154, 9))"
            ]
          },
          "metadata": {},
          "execution_count": 61
        }
      ]
    },
    {
      "cell_type": "code",
      "metadata": {
        "colab": {
          "base_uri": "https://localhost:8080/",
          "height": 204
        },
        "id": "NFtj8cZ9rjSD",
        "outputId": "9036cd59-f1e2-4472-a13b-fc0e7de40fa3"
      },
      "source": [
        "TR_Elec.head()"
      ],
      "execution_count": 62,
      "outputs": [
        {
          "output_type": "execute_result",
          "data": {
            "text/html": [
              "<div>\n",
              "<style scoped>\n",
              "    .dataframe tbody tr th:only-of-type {\n",
              "        vertical-align: middle;\n",
              "    }\n",
              "\n",
              "    .dataframe tbody tr th {\n",
              "        vertical-align: top;\n",
              "    }\n",
              "\n",
              "    .dataframe thead th {\n",
              "        text-align: right;\n",
              "    }\n",
              "</style>\n",
              "<table border=\"1\" class=\"dataframe\">\n",
              "  <thead>\n",
              "    <tr style=\"text-align: right;\">\n",
              "      <th></th>\n",
              "      <th>compactness</th>\n",
              "      <th>surface_area</th>\n",
              "      <th>wall_area</th>\n",
              "      <th>roof_area</th>\n",
              "      <th>height</th>\n",
              "      <th>orientation</th>\n",
              "      <th>glazing_area</th>\n",
              "      <th>glazing_area_distribution</th>\n",
              "      <th>electricity</th>\n",
              "    </tr>\n",
              "  </thead>\n",
              "  <tbody>\n",
              "    <tr>\n",
              "      <th>555</th>\n",
              "      <td>0.74</td>\n",
              "      <td>686.0</td>\n",
              "      <td>245.0</td>\n",
              "      <td>220.5</td>\n",
              "      <td>3.5</td>\n",
              "      <td>5</td>\n",
              "      <td>0.40</td>\n",
              "      <td>1</td>\n",
              "      <td>145.5</td>\n",
              "    </tr>\n",
              "    <tr>\n",
              "      <th>355</th>\n",
              "      <td>0.79</td>\n",
              "      <td>637.0</td>\n",
              "      <td>343.0</td>\n",
              "      <td>147.0</td>\n",
              "      <td>7.0</td>\n",
              "      <td>5</td>\n",
              "      <td>0.25</td>\n",
              "      <td>2</td>\n",
              "      <td>389.8</td>\n",
              "    </tr>\n",
              "    <tr>\n",
              "      <th>200</th>\n",
              "      <td>0.86</td>\n",
              "      <td>588.0</td>\n",
              "      <td>294.0</td>\n",
              "      <td>147.0</td>\n",
              "      <td>7.0</td>\n",
              "      <td>2</td>\n",
              "      <td>0.10</td>\n",
              "      <td>4</td>\n",
              "      <td>264.4</td>\n",
              "    </tr>\n",
              "    <tr>\n",
              "      <th>669</th>\n",
              "      <td>0.62</td>\n",
              "      <td>808.5</td>\n",
              "      <td>367.5</td>\n",
              "      <td>220.5</td>\n",
              "      <td>3.5</td>\n",
              "      <td>3</td>\n",
              "      <td>0.40</td>\n",
              "      <td>3</td>\n",
              "      <td>163.5</td>\n",
              "    </tr>\n",
              "    <tr>\n",
              "      <th>561</th>\n",
              "      <td>0.69</td>\n",
              "      <td>735.0</td>\n",
              "      <td>294.0</td>\n",
              "      <td>220.5</td>\n",
              "      <td>3.5</td>\n",
              "      <td>3</td>\n",
              "      <td>0.40</td>\n",
              "      <td>1</td>\n",
              "      <td>147.0</td>\n",
              "    </tr>\n",
              "  </tbody>\n",
              "</table>\n",
              "</div>"
            ],
            "text/plain": [
              "     compactness  surface_area  ...  glazing_area_distribution  electricity\n",
              "555         0.74         686.0  ...                          1        145.5\n",
              "355         0.79         637.0  ...                          2        389.8\n",
              "200         0.86         588.0  ...                          4        264.4\n",
              "669         0.62         808.5  ...                          3        163.5\n",
              "561         0.69         735.0  ...                          1        147.0\n",
              "\n",
              "[5 rows x 9 columns]"
            ]
          },
          "metadata": {},
          "execution_count": 62
        }
      ]
    },
    {
      "cell_type": "code",
      "metadata": {
        "colab": {
          "base_uri": "https://localhost:8080/",
          "height": 204
        },
        "id": "1rH1t5ogrjZt",
        "outputId": "e0a99e8d-a49a-40be-f620-c782c6b524b6"
      },
      "source": [
        "TE_Elec.head()\n"
      ],
      "execution_count": 63,
      "outputs": [
        {
          "output_type": "execute_result",
          "data": {
            "text/html": [
              "<div>\n",
              "<style scoped>\n",
              "    .dataframe tbody tr th:only-of-type {\n",
              "        vertical-align: middle;\n",
              "    }\n",
              "\n",
              "    .dataframe tbody tr th {\n",
              "        vertical-align: top;\n",
              "    }\n",
              "\n",
              "    .dataframe thead th {\n",
              "        text-align: right;\n",
              "    }\n",
              "</style>\n",
              "<table border=\"1\" class=\"dataframe\">\n",
              "  <thead>\n",
              "    <tr style=\"text-align: right;\">\n",
              "      <th></th>\n",
              "      <th>compactness</th>\n",
              "      <th>surface_area</th>\n",
              "      <th>wall_area</th>\n",
              "      <th>roof_area</th>\n",
              "      <th>height</th>\n",
              "      <th>orientation</th>\n",
              "      <th>glazing_area</th>\n",
              "      <th>glazing_area_distribution</th>\n",
              "      <th>electricity</th>\n",
              "    </tr>\n",
              "  </thead>\n",
              "  <tbody>\n",
              "    <tr>\n",
              "      <th>414</th>\n",
              "      <td>0.71</td>\n",
              "      <td>710.5</td>\n",
              "      <td>269.5</td>\n",
              "      <td>220.50</td>\n",
              "      <td>3.5</td>\n",
              "      <td>4</td>\n",
              "      <td>0.25</td>\n",
              "      <td>3</td>\n",
              "      <td>121.0</td>\n",
              "    </tr>\n",
              "    <tr>\n",
              "      <th>475</th>\n",
              "      <td>0.64</td>\n",
              "      <td>784.0</td>\n",
              "      <td>343.0</td>\n",
              "      <td>220.50</td>\n",
              "      <td>3.5</td>\n",
              "      <td>5</td>\n",
              "      <td>0.25</td>\n",
              "      <td>4</td>\n",
              "      <td>166.2</td>\n",
              "    </tr>\n",
              "    <tr>\n",
              "      <th>511</th>\n",
              "      <td>0.71</td>\n",
              "      <td>710.5</td>\n",
              "      <td>269.5</td>\n",
              "      <td>220.50</td>\n",
              "      <td>3.5</td>\n",
              "      <td>5</td>\n",
              "      <td>0.25</td>\n",
              "      <td>5</td>\n",
              "      <td>122.7</td>\n",
              "    </tr>\n",
              "    <tr>\n",
              "      <th>213</th>\n",
              "      <td>0.76</td>\n",
              "      <td>661.5</td>\n",
              "      <td>416.5</td>\n",
              "      <td>122.50</td>\n",
              "      <td>7.0</td>\n",
              "      <td>3</td>\n",
              "      <td>0.10</td>\n",
              "      <td>4</td>\n",
              "      <td>323.8</td>\n",
              "    </tr>\n",
              "    <tr>\n",
              "      <th>339</th>\n",
              "      <td>0.98</td>\n",
              "      <td>514.5</td>\n",
              "      <td>294.0</td>\n",
              "      <td>110.25</td>\n",
              "      <td>7.0</td>\n",
              "      <td>5</td>\n",
              "      <td>0.25</td>\n",
              "      <td>2</td>\n",
              "      <td>286.0</td>\n",
              "    </tr>\n",
              "  </tbody>\n",
              "</table>\n",
              "</div>"
            ],
            "text/plain": [
              "     compactness  surface_area  ...  glazing_area_distribution  electricity\n",
              "414         0.71         710.5  ...                          3        121.0\n",
              "475         0.64         784.0  ...                          4        166.2\n",
              "511         0.71         710.5  ...                          5        122.7\n",
              "213         0.76         661.5  ...                          4        323.8\n",
              "339         0.98         514.5  ...                          2        286.0\n",
              "\n",
              "[5 rows x 9 columns]"
            ]
          },
          "metadata": {},
          "execution_count": 63
        }
      ]
    },
    {
      "cell_type": "code",
      "metadata": {
        "id": "5ILLpZTtrjaX"
      },
      "source": [
        "from sklearn.model_selection import train_test_split\n",
        "X_train, X_test, y_train, y_test = train_test_split(Elec[['surface_area']], \n",
        "                                                    Elec['electricity'], \n",
        "  test_size = 0.2, \n",
        "  random_state = 2045)\n"
      ],
      "execution_count": 64,
      "outputs": []
    },
    {
      "cell_type": "code",
      "metadata": {
        "colab": {
          "base_uri": "https://localhost:8080/"
        },
        "id": "uIK2tVu3rjbD",
        "outputId": "df1d92c4-4daa-4325-e9c7-411f2c432be4"
      },
      "source": [
        "X_train.shape, y_train.shape, X_test.shape, y_test.shape "
      ],
      "execution_count": 65,
      "outputs": [
        {
          "output_type": "execute_result",
          "data": {
            "text/plain": [
              "((614, 1), (614,), (154, 1), (154,))"
            ]
          },
          "metadata": {},
          "execution_count": 65
        }
      ]
    },
    {
      "cell_type": "code",
      "metadata": {
        "colab": {
          "base_uri": "https://localhost:8080/",
          "height": 204
        },
        "id": "A3KEKUrArjbu",
        "outputId": "0f263cfe-0d39-4d85-a7da-cd4ca9e636bc"
      },
      "source": [
        "X_train.head()\n"
      ],
      "execution_count": 66,
      "outputs": [
        {
          "output_type": "execute_result",
          "data": {
            "text/html": [
              "<div>\n",
              "<style scoped>\n",
              "    .dataframe tbody tr th:only-of-type {\n",
              "        vertical-align: middle;\n",
              "    }\n",
              "\n",
              "    .dataframe tbody tr th {\n",
              "        vertical-align: top;\n",
              "    }\n",
              "\n",
              "    .dataframe thead th {\n",
              "        text-align: right;\n",
              "    }\n",
              "</style>\n",
              "<table border=\"1\" class=\"dataframe\">\n",
              "  <thead>\n",
              "    <tr style=\"text-align: right;\">\n",
              "      <th></th>\n",
              "      <th>surface_area</th>\n",
              "    </tr>\n",
              "  </thead>\n",
              "  <tbody>\n",
              "    <tr>\n",
              "      <th>555</th>\n",
              "      <td>686.0</td>\n",
              "    </tr>\n",
              "    <tr>\n",
              "      <th>355</th>\n",
              "      <td>637.0</td>\n",
              "    </tr>\n",
              "    <tr>\n",
              "      <th>200</th>\n",
              "      <td>588.0</td>\n",
              "    </tr>\n",
              "    <tr>\n",
              "      <th>669</th>\n",
              "      <td>808.5</td>\n",
              "    </tr>\n",
              "    <tr>\n",
              "      <th>561</th>\n",
              "      <td>735.0</td>\n",
              "    </tr>\n",
              "  </tbody>\n",
              "</table>\n",
              "</div>"
            ],
            "text/plain": [
              "     surface_area\n",
              "555         686.0\n",
              "355         637.0\n",
              "200         588.0\n",
              "669         808.5\n",
              "561         735.0"
            ]
          },
          "metadata": {},
          "execution_count": 66
        }
      ]
    },
    {
      "cell_type": "code",
      "metadata": {
        "colab": {
          "base_uri": "https://localhost:8080/"
        },
        "id": "NSo0xQqErjcd",
        "outputId": "912275d6-4337-46db-8794-0097d55bcdfe"
      },
      "source": [
        "y_train.head()\n"
      ],
      "execution_count": 67,
      "outputs": [
        {
          "output_type": "execute_result",
          "data": {
            "text/plain": [
              "555    145.5\n",
              "355    389.8\n",
              "200    264.4\n",
              "669    163.5\n",
              "561    147.0\n",
              "Name: electricity, dtype: float64"
            ]
          },
          "metadata": {},
          "execution_count": 67
        }
      ]
    },
    {
      "cell_type": "markdown",
      "metadata": {
        "id": "qyYKCb3qsnOR"
      },
      "source": [
        "*Distribution Visualization*\n",
        "\n",
        "*Train data*"
      ]
    },
    {
      "cell_type": "code",
      "metadata": {
        "colab": {
          "base_uri": "https://localhost:8080/",
          "height": 280
        },
        "id": "J6KtKdZSrjdI",
        "outputId": "66824b4c-3754-4a09-9d09-8108b4e6ec46"
      },
      "source": [
        "sns.scatterplot(TR_Elec['surface_area'], TR_Elec['electricity'])\n",
        "plt.show()"
      ],
      "execution_count": 71,
      "outputs": [
        {
          "output_type": "display_data",
          "data": {
            "image/png": "[encoded data removed]",
            "text/plain": [
              "<Figure size 432x288 with 1 Axes>"
            ]
          },
          "metadata": {
            "needs_background": "light"
          }
        }
      ]
    },
    {
      "cell_type": "markdown",
      "metadata": {
        "id": "9D4yBJgws0wi"
      },
      "source": [
        "*Test data*"
      ]
    },
    {
      "cell_type": "code",
      "metadata": {
        "colab": {
          "base_uri": "https://localhost:8080/",
          "height": 280
        },
        "id": "glRWsgcmj1Tq",
        "outputId": "8dd9d4d8-929f-4872-bb76-1e2d92ecf424"
      },
      "source": [
        "sns.scatterplot(TE_Elec['surface_area'], TE_Elec['electricity'])\n",
        "plt.show()"
      ],
      "execution_count": 73,
      "outputs": [
        {
          "output_type": "display_data",
          "data": {
            "image/png": "[encoded data removed]",
            "text/plain": [
              "<Figure size 432x288 with 1 Axes>"
            ]
          },
          "metadata": {
            "needs_background": "light"
          }
        }
      ]
    },
    {
      "cell_type": "markdown",
      "metadata": {
        "id": "C3jrWIrxs7Lr"
      },
      "source": [
        "#1st Model Testing Error"
      ]
    },
    {
      "cell_type": "code",
      "metadata": {
        "colab": {
          "base_uri": "https://localhost:8080/"
        },
        "id": "qXVHjO0StGjb",
        "outputId": "beb76928-aefb-4e50-b4bb-3d80555c1cbc"
      },
      "source": [
        "from sklearn.linear_model import LinearRegression\n",
        "from sklearn.metrics import mean_squared_error\n",
        "\n",
        "\n",
        "Model_1 = LinearRegression()\n",
        "Model_1.fit(X_train, y_train)\n",
        "\n",
        "\n",
        "y_hat_1 = Model_1.predict(X_test)\n",
        "\n",
        "TE_Err_1 = mean_squared_error(y_test, y_hat_1)\n",
        "TE_Err_1"
      ],
      "execution_count": 76,
      "outputs": [
        {
          "output_type": "execute_result",
          "data": {
            "text/plain": [
              "6044.176547629271"
            ]
          },
          "metadata": {},
          "execution_count": 76
        }
      ]
    },
    {
      "cell_type": "markdown",
      "metadata": {
        "id": "ohE4gKkKs7ek"
      },
      "source": [
        "#5th Model Testing Error"
      ]
    },
    {
      "cell_type": "code",
      "metadata": {
        "colab": {
          "base_uri": "https://localhost:8080/"
        },
        "id": "RksSfZjGuIgp",
        "outputId": "ae744096-4689-4a2d-90ee-6aff8a148056"
      },
      "source": [
        "from sklearn.preprocessing import PolynomialFeatures\n",
        "from sklearn.linear_model import LinearRegression\n",
        "from sklearn.metrics import mean_squared_error\n",
        "\n",
        "poly = PolynomialFeatures(degree = 5, include_bias = False)\n",
        "PX_5_TR = poly.fit_transform(X_train)\n",
        "\n",
        "Model_5 = LinearRegression()\n",
        "Model_5.fit(PX_5_TR, y_train)\n",
        "\n",
        "PX_5_TE = poly.fit_transform(X_test)\n",
        "y_hat_5 = Model_5.predict(PX_5_TE)\n",
        "\n",
        "\n",
        "TE_Err_5 = mean_squared_error(y_test, y_hat_5)\n",
        "TE_Err_5"
      ],
      "execution_count": 77,
      "outputs": [
        {
          "output_type": "execute_result",
          "data": {
            "text/plain": [
              "4330.604566409499"
            ]
          },
          "metadata": {},
          "execution_count": 77
        }
      ]
    },
    {
      "cell_type": "markdown",
      "metadata": {
        "id": "JJ1l6bmes7rH"
      },
      "source": [
        "#9th Model Testing Error"
      ]
    },
    {
      "cell_type": "code",
      "metadata": {
        "colab": {
          "base_uri": "https://localhost:8080/"
        },
        "id": "6a4wayHJsrT6",
        "outputId": "e5b52dee-493e-418e-f289-5aa6dcf0e225"
      },
      "source": [
        "from sklearn.preprocessing import PolynomialFeatures\n",
        "from sklearn.linear_model import LinearRegression\n",
        "from sklearn.metrics import mean_squared_error\n",
        "\n",
        "poly = PolynomialFeatures(degree = 9, include_bias = False)\n",
        "PX_9_TR = poly.fit_transform(X_train)\n",
        "\n",
        "Model_9 = LinearRegression()\n",
        "Model_9.fit(PX_9_TR, y_train)\n",
        "\n",
        "PX_9_TE = poly.fit_transform(X_test)\n",
        "y_hat_9 = Model_9.predict(PX_9_TE)\n",
        "\n",
        "\n",
        "TE_Err_9 = mean_squared_error(y_test, y_hat_9)\n",
        "TE_Err_9"
      ],
      "execution_count": 79,
      "outputs": [
        {
          "output_type": "execute_result",
          "data": {
            "text/plain": [
              "4238.689067137633"
            ]
          },
          "metadata": {},
          "execution_count": 79
        }
      ]
    },
    {
      "cell_type": "markdown",
      "metadata": {
        "id": "Asxrt6tKuyez"
      },
      "source": [
        "# Testing Error Comparison between 3 models"
      ]
    },
    {
      "cell_type": "code",
      "metadata": {
        "colab": {
          "base_uri": "https://localhost:8080/"
        },
        "id": "V7lLIGjGsrWP",
        "outputId": "52a10b2d-2b2b-4a65-f592-fb130feef1e7"
      },
      "source": [
        "print('1차 모델 : ', TE_Err_1)\n",
        "print('5차 모델 : ', TE_Err_5)\n",
        "print('9차 모델 : ', TE_Err_9)\n"
      ],
      "execution_count": 80,
      "outputs": [
        {
          "output_type": "stream",
          "text": [
            "1차 모델 :  6044.176547629271\n",
            "5차 모델 :  4330.604566409499\n",
            "9차 모델 :  4238.689067137633\n"
          ],
          "name": "stdout"
        }
      ]
    },
    {
      "cell_type": "markdown",
      "metadata": {
        "id": "G2DV9FOlu4XQ"
      },
      "source": [
        "#Validation Approach\n",
        "\n",
        "*   6:2:2 split\n",
        "\n"
      ]
    },
    {
      "cell_type": "code",
      "metadata": {
        "id": "oM0QYpM1srYL"
      },
      "source": [
        "import pandas as pd"
      ],
      "execution_count": 81,
      "outputs": []
    },
    {
      "cell_type": "code",
      "metadata": {
        "colab": {
          "base_uri": "https://localhost:8080/"
        },
        "id": "yeLMryPxu8aE",
        "outputId": "36d1ab36-b6b6-433a-bd37-03cec823e840"
      },
      "source": [
        "url = 'https://raw.githubusercontent.com/rusita-ai/pyData/master/Electric.csv'\n",
        "Elec = pd.read_csv(url)\n",
        "Elec.info()\n"
      ],
      "execution_count": 82,
      "outputs": [
        {
          "output_type": "stream",
          "text": [
            "<class 'pandas.core.frame.DataFrame'>\n",
            "RangeIndex: 768 entries, 0 to 767\n",
            "Data columns (total 9 columns):\n",
            " #   Column                     Non-Null Count  Dtype  \n",
            "---  ------                     --------------  -----  \n",
            " 0   compactness                768 non-null    float64\n",
            " 1   surface_area               768 non-null    float64\n",
            " 2   wall_area                  768 non-null    float64\n",
            " 3   roof_area                  768 non-null    float64\n",
            " 4   height                     768 non-null    float64\n",
            " 5   orientation                768 non-null    int64  \n",
            " 6   glazing_area               768 non-null    float64\n",
            " 7   glazing_area_distribution  768 non-null    int64  \n",
            " 8   electricity                768 non-null    float64\n",
            "dtypes: float64(7), int64(2)\n",
            "memory usage: 54.1 KB\n"
          ],
          "name": "stdout"
        }
      ]
    },
    {
      "cell_type": "code",
      "metadata": {
        "colab": {
          "base_uri": "https://localhost:8080/"
        },
        "id": "mQD_gWHIu9ll",
        "outputId": "055e0336-5b56-408b-b2ff-e1631c395ffb"
      },
      "source": [
        "from sklearn.model_selection import train_test_split\n",
        "X_remain, X_test, y_remain, y_test = train_test_split(Elec[['surface_area']], \n",
        "                                                      Elec['electricity'], \n",
        "    test_size = int(len(Elec) * 0.2),\n",
        "                                                      random_state = 2045)\n",
        "print(X_remain.shape, y_remain.shape)\n",
        "print(X_test.shape, y_test.shape)\n"
      ],
      "execution_count": 83,
      "outputs": [
        {
          "output_type": "stream",
          "text": [
            "(615, 1) (615,)\n",
            "(153, 1) (153,)\n"
          ],
          "name": "stdout"
        }
      ]
    },
    {
      "cell_type": "code",
      "metadata": {
        "colab": {
          "base_uri": "https://localhost:8080/"
        },
        "id": "fDkWyg2KvR1M",
        "outputId": "428da4e7-e659-41d6-fe73-8d9af6fefa23"
      },
      "source": [
        "X_train, X_valid, y_train, y_valid = train_test_split(X_remain, y_remain, \n",
        "                                                      test_size = int(len(Elec) * 0.2), \n",
        "                                                      random_state = 2045)\n",
        "print(X_train.shape, y_train.shape)\n",
        "print(X_valid.shape, y_valid.shape)\n",
        "print(X_test.shape, y_test.shape)\n"
      ],
      "execution_count": 84,
      "outputs": [
        {
          "output_type": "stream",
          "text": [
            "(462, 1) (462,)\n",
            "(153, 1) (153,)\n",
            "(153, 1) (153,)\n"
          ],
          "name": "stdout"
        }
      ]
    },
    {
      "cell_type": "markdown",
      "metadata": {
        "id": "5HVFMHpOvXKE"
      },
      "source": [
        "# 5th Model Validation Error"
      ]
    },
    {
      "cell_type": "code",
      "metadata": {
        "colab": {
          "base_uri": "https://localhost:8080/"
        },
        "id": "QBO1_eulvcRp",
        "outputId": "25acfb35-d74a-4dea-d705-446e51bc082d"
      },
      "source": [
        "from sklearn.preprocessing import PolynomialFeatures\n",
        "from sklearn.linear_model import LinearRegression\n",
        "from sklearn.metrics import mean_squared_error\n",
        "\n",
        "poly = PolynomialFeatures(degree = 5, include_bias = False)\n",
        "PX_5_TR = poly.fit_transform(X_train)\n",
        "\n",
        "\n",
        "Model_5 = LinearRegression()\n",
        "Model_5.fit(PX_5_TR, y_train)\n",
        "\n",
        "PX_5_VD = poly.fit_transform(X_valid)\n",
        "y_hat_5 = Model_5.predict(PX_5_VD)\n",
        "\n",
        "MSE_5 = mean_squared_error(y_valid, y_hat_5)\n",
        "MSE_5\n",
        "\n"
      ],
      "execution_count": 85,
      "outputs": [
        {
          "output_type": "execute_result",
          "data": {
            "text/plain": [
              "4136.4312593408395"
            ]
          },
          "metadata": {},
          "execution_count": 85
        }
      ]
    },
    {
      "cell_type": "markdown",
      "metadata": {
        "id": "8BSD6d5Jvbev"
      },
      "source": [
        "# 9th Model Validation Error"
      ]
    },
    {
      "cell_type": "code",
      "metadata": {
        "colab": {
          "base_uri": "https://localhost:8080/"
        },
        "id": "JpZv7fPfvUVB",
        "outputId": "5071ad99-53b4-4028-c35c-88e61d61b0b1"
      },
      "source": [
        "from sklearn.preprocessing import PolynomialFeatures\n",
        "from sklearn.linear_model import LinearRegression\n",
        "from sklearn.metrics import mean_squared_error\n",
        "\n",
        "poly = PolynomialFeatures(degree = 9, include_bias = False)\n",
        "PX_9_TR = poly.fit_transform(X_train)\n",
        "\n",
        "\n",
        "Model_9 = LinearRegression()\n",
        "Model_9.fit(PX_9_TR, y_train)\n",
        "\n",
        "PX_9_VD = poly.fit_transform(X_valid)\n",
        "y_hat_9 = Model_9.predict(PX_9_VD)\n",
        "\n",
        "MSE_9 = mean_squared_error(y_valid, y_hat_9)\n",
        "MSE_9\n",
        "\n"
      ],
      "execution_count": 86,
      "outputs": [
        {
          "output_type": "execute_result",
          "data": {
            "text/plain": [
              "3955.9733124909912"
            ]
          },
          "metadata": {},
          "execution_count": 86
        }
      ]
    },
    {
      "cell_type": "markdown",
      "metadata": {
        "id": "QgT5tj0Bv9dS"
      },
      "source": [
        "# Testing Error Comparison between 2 models"
      ]
    },
    {
      "cell_type": "code",
      "metadata": {
        "colab": {
          "base_uri": "https://localhost:8080/"
        },
        "id": "82WGbDOGvrMz",
        "outputId": "9fb3dce2-6749-4cb5-98c0-4b3fa334fab8"
      },
      "source": [
        "print('5차 모델 MSE_5  : ', MSE_5)\n",
        "print('9차 모델 MSE_9  : ', MSE_9)\n"
      ],
      "execution_count": 87,
      "outputs": [
        {
          "output_type": "stream",
          "text": [
            "5차 모델 MSE_5  :  4136.4312593408395\n",
            "9차 모델 MSE_9  :  3955.9733124909912\n"
          ],
          "name": "stdout"
        }
      ]
    },
    {
      "cell_type": "markdown",
      "metadata": {
        "id": "gSMdkno_vzi3"
      },
      "source": [
        "# Finally Apply to Test_Data using 9th Model"
      ]
    },
    {
      "cell_type": "code",
      "metadata": {
        "colab": {
          "base_uri": "https://localhost:8080/"
        },
        "id": "99CE15MSvtIL",
        "outputId": "7efae92d-02da-4615-e2dd-99de80a0f08d"
      },
      "source": [
        "PX9_TE = poly.fit_transform(X_test)\n",
        "mean_squared_error(y_test, Model_9.predict(PX9_TE))\n"
      ],
      "execution_count": 88,
      "outputs": [
        {
          "output_type": "execute_result",
          "data": {
            "text/plain": [
              "4220.88573210769"
            ]
          },
          "metadata": {},
          "execution_count": 88
        }
      ]
    },
    {
      "cell_type": "markdown",
      "metadata": {
        "id": "TwaAubC5vv6X"
      },
      "source": [
        "# **The END**"
      ]
    },
    {
      "cell_type": "code",
      "metadata": {
        "id": "y5CS9UWZvuoo"
      },
      "source": [
        ""
      ],
      "execution_count": null,
      "outputs": []
    }
  ]
}
