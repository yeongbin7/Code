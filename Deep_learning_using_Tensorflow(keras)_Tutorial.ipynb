{
  "nbformat": 4,
  "nbformat_minor": 0,
  "metadata": {
    "colab": {
      "name": "Deep_learning using Tensorflow(keras)_Tutorial.ipynb",
      "provenance": [],
      "authorship_tag": "ABX9TyOducXZ7JknAV5E+BPgNu/V",
      "include_colab_link": true
    },
    "kernelspec": {
      "name": "python3",
      "display_name": "Python 3"
    },
    "language_info": {
      "name": "python"
    }
  },
  "cells": [
    {
      "cell_type": "markdown",
      "metadata": {
        "id": "view-in-github",
        "colab_type": "text"
      },
      "source": [
        "<a href=\"https://colab.research.google.com/github/BbangB/Code/blob/main/Deep_learning_using_Tensorflow(keras)_Tutorial.ipynb\" target=\"_parent\"><img src=\"https://colab.research.google.com/assets/colab-badge.svg\" alt=\"Open In Colab\"/></a>"
      ]
    },
    {
      "cell_type": "code",
      "metadata": {
        "id": "YyHElyaWicbm"
      },
      "source": [
        "import warnings\n",
        "warnings.filterwarnings('ignore')"
      ],
      "execution_count": 3,
      "outputs": []
    },
    {
      "cell_type": "code",
      "metadata": {
        "id": "KNmMXitMisUm"
      },
      "source": [
        "import seaborn as sns\n",
        "\n",
        "iris = sns.load_dataset('iris')\n"
      ],
      "execution_count": 4,
      "outputs": []
    },
    {
      "cell_type": "code",
      "metadata": {
        "colab": {
          "base_uri": "https://localhost:8080/"
        },
        "id": "hUSPKboXjq9o",
        "outputId": "2761e917-ada4-44e3-a828-612a174a05f3"
      },
      "source": [
        "iris.info()"
      ],
      "execution_count": 5,
      "outputs": [
        {
          "output_type": "stream",
          "text": [
            "<class 'pandas.core.frame.DataFrame'>\n",
            "RangeIndex: 150 entries, 0 to 149\n",
            "Data columns (total 5 columns):\n",
            " #   Column        Non-Null Count  Dtype  \n",
            "---  ------        --------------  -----  \n",
            " 0   sepal_length  150 non-null    float64\n",
            " 1   sepal_width   150 non-null    float64\n",
            " 2   petal_length  150 non-null    float64\n",
            " 3   petal_width   150 non-null    float64\n",
            " 4   species       150 non-null    object \n",
            "dtypes: float64(4), object(1)\n",
            "memory usage: 6.0+ KB\n"
          ],
          "name": "stdout"
        }
      ]
    },
    {
      "cell_type": "code",
      "metadata": {
        "colab": {
          "base_uri": "https://localhost:8080/",
          "height": 204
        },
        "id": "KpOovKvgjr8y",
        "outputId": "f0d5b665-e8fc-4baa-f62c-bad29d94959a"
      },
      "source": [
        "iris.head()"
      ],
      "execution_count": 6,
      "outputs": [
        {
          "output_type": "execute_result",
          "data": {
            "text/html": [
              "<div>\n",
              "<style scoped>\n",
              "    .dataframe tbody tr th:only-of-type {\n",
              "        vertical-align: middle;\n",
              "    }\n",
              "\n",
              "    .dataframe tbody tr th {\n",
              "        vertical-align: top;\n",
              "    }\n",
              "\n",
              "    .dataframe thead th {\n",
              "        text-align: right;\n",
              "    }\n",
              "</style>\n",
              "<table border=\"1\" class=\"dataframe\">\n",
              "  <thead>\n",
              "    <tr style=\"text-align: right;\">\n",
              "      <th></th>\n",
              "      <th>sepal_length</th>\n",
              "      <th>sepal_width</th>\n",
              "      <th>petal_length</th>\n",
              "      <th>petal_width</th>\n",
              "      <th>species</th>\n",
              "    </tr>\n",
              "  </thead>\n",
              "  <tbody>\n",
              "    <tr>\n",
              "      <th>0</th>\n",
              "      <td>5.1</td>\n",
              "      <td>3.5</td>\n",
              "      <td>1.4</td>\n",
              "      <td>0.2</td>\n",
              "      <td>setosa</td>\n",
              "    </tr>\n",
              "    <tr>\n",
              "      <th>1</th>\n",
              "      <td>4.9</td>\n",
              "      <td>3.0</td>\n",
              "      <td>1.4</td>\n",
              "      <td>0.2</td>\n",
              "      <td>setosa</td>\n",
              "    </tr>\n",
              "    <tr>\n",
              "      <th>2</th>\n",
              "      <td>4.7</td>\n",
              "      <td>3.2</td>\n",
              "      <td>1.3</td>\n",
              "      <td>0.2</td>\n",
              "      <td>setosa</td>\n",
              "    </tr>\n",
              "    <tr>\n",
              "      <th>3</th>\n",
              "      <td>4.6</td>\n",
              "      <td>3.1</td>\n",
              "      <td>1.5</td>\n",
              "      <td>0.2</td>\n",
              "      <td>setosa</td>\n",
              "    </tr>\n",
              "    <tr>\n",
              "      <th>4</th>\n",
              "      <td>5.0</td>\n",
              "      <td>3.6</td>\n",
              "      <td>1.4</td>\n",
              "      <td>0.2</td>\n",
              "      <td>setosa</td>\n",
              "    </tr>\n",
              "  </tbody>\n",
              "</table>\n",
              "</div>"
            ],
            "text/plain": [
              "   sepal_length  sepal_width  petal_length  petal_width species\n",
              "0           5.1          3.5           1.4          0.2  setosa\n",
              "1           4.9          3.0           1.4          0.2  setosa\n",
              "2           4.7          3.2           1.3          0.2  setosa\n",
              "3           4.6          3.1           1.5          0.2  setosa\n",
              "4           5.0          3.6           1.4          0.2  setosa"
            ]
          },
          "metadata": {},
          "execution_count": 6
        }
      ]
    },
    {
      "cell_type": "code",
      "metadata": {
        "colab": {
          "base_uri": "https://localhost:8080/"
        },
        "id": "_Zw6_xXYjtj6",
        "outputId": "59d7bbd2-ec7d-45b3-89e5-b87092567543"
      },
      "source": [
        "iris.species.value_counts()"
      ],
      "execution_count": 7,
      "outputs": [
        {
          "output_type": "execute_result",
          "data": {
            "text/plain": [
              "virginica     50\n",
              "versicolor    50\n",
              "setosa        50\n",
              "Name: species, dtype: int64"
            ]
          },
          "metadata": {},
          "execution_count": 7
        }
      ]
    },
    {
      "cell_type": "code",
      "metadata": {
        "colab": {
          "base_uri": "https://localhost:8080/"
        },
        "id": "WKtRcBCGjwYn",
        "outputId": "7bdbde5b-a1d9-472d-c636-2d38269dfce3"
      },
      "source": [
        "\n",
        "iris_AR = iris.values\n",
        "\n",
        "iris_AR"
      ],
      "execution_count": 8,
      "outputs": [
        {
          "output_type": "execute_result",
          "data": {
            "text/plain": [
              "array([[5.1, 3.5, 1.4, 0.2, 'setosa'],\n",
              "       [4.9, 3.0, 1.4, 0.2, 'setosa'],\n",
              "       [4.7, 3.2, 1.3, 0.2, 'setosa'],\n",
              "       [4.6, 3.1, 1.5, 0.2, 'setosa'],\n",
              "       [5.0, 3.6, 1.4, 0.2, 'setosa'],\n",
              "       [5.4, 3.9, 1.7, 0.4, 'setosa'],\n",
              "       [4.6, 3.4, 1.4, 0.3, 'setosa'],\n",
              "       [5.0, 3.4, 1.5, 0.2, 'setosa'],\n",
              "       [4.4, 2.9, 1.4, 0.2, 'setosa'],\n",
              "       [4.9, 3.1, 1.5, 0.1, 'setosa'],\n",
              "       [5.4, 3.7, 1.5, 0.2, 'setosa'],\n",
              "       [4.8, 3.4, 1.6, 0.2, 'setosa'],\n",
              "       [4.8, 3.0, 1.4, 0.1, 'setosa'],\n",
              "       [4.3, 3.0, 1.1, 0.1, 'setosa'],\n",
              "       [5.8, 4.0, 1.2, 0.2, 'setosa'],\n",
              "       [5.7, 4.4, 1.5, 0.4, 'setosa'],\n",
              "       [5.4, 3.9, 1.3, 0.4, 'setosa'],\n",
              "       [5.1, 3.5, 1.4, 0.3, 'setosa'],\n",
              "       [5.7, 3.8, 1.7, 0.3, 'setosa'],\n",
              "       [5.1, 3.8, 1.5, 0.3, 'setosa'],\n",
              "       [5.4, 3.4, 1.7, 0.2, 'setosa'],\n",
              "       [5.1, 3.7, 1.5, 0.4, 'setosa'],\n",
              "       [4.6, 3.6, 1.0, 0.2, 'setosa'],\n",
              "       [5.1, 3.3, 1.7, 0.5, 'setosa'],\n",
              "       [4.8, 3.4, 1.9, 0.2, 'setosa'],\n",
              "       [5.0, 3.0, 1.6, 0.2, 'setosa'],\n",
              "       [5.0, 3.4, 1.6, 0.4, 'setosa'],\n",
              "       [5.2, 3.5, 1.5, 0.2, 'setosa'],\n",
              "       [5.2, 3.4, 1.4, 0.2, 'setosa'],\n",
              "       [4.7, 3.2, 1.6, 0.2, 'setosa'],\n",
              "       [4.8, 3.1, 1.6, 0.2, 'setosa'],\n",
              "       [5.4, 3.4, 1.5, 0.4, 'setosa'],\n",
              "       [5.2, 4.1, 1.5, 0.1, 'setosa'],\n",
              "       [5.5, 4.2, 1.4, 0.2, 'setosa'],\n",
              "       [4.9, 3.1, 1.5, 0.2, 'setosa'],\n",
              "       [5.0, 3.2, 1.2, 0.2, 'setosa'],\n",
              "       [5.5, 3.5, 1.3, 0.2, 'setosa'],\n",
              "       [4.9, 3.6, 1.4, 0.1, 'setosa'],\n",
              "       [4.4, 3.0, 1.3, 0.2, 'setosa'],\n",
              "       [5.1, 3.4, 1.5, 0.2, 'setosa'],\n",
              "       [5.0, 3.5, 1.3, 0.3, 'setosa'],\n",
              "       [4.5, 2.3, 1.3, 0.3, 'setosa'],\n",
              "       [4.4, 3.2, 1.3, 0.2, 'setosa'],\n",
              "       [5.0, 3.5, 1.6, 0.6, 'setosa'],\n",
              "       [5.1, 3.8, 1.9, 0.4, 'setosa'],\n",
              "       [4.8, 3.0, 1.4, 0.3, 'setosa'],\n",
              "       [5.1, 3.8, 1.6, 0.2, 'setosa'],\n",
              "       [4.6, 3.2, 1.4, 0.2, 'setosa'],\n",
              "       [5.3, 3.7, 1.5, 0.2, 'setosa'],\n",
              "       [5.0, 3.3, 1.4, 0.2, 'setosa'],\n",
              "       [7.0, 3.2, 4.7, 1.4, 'versicolor'],\n",
              "       [6.4, 3.2, 4.5, 1.5, 'versicolor'],\n",
              "       [6.9, 3.1, 4.9, 1.5, 'versicolor'],\n",
              "       [5.5, 2.3, 4.0, 1.3, 'versicolor'],\n",
              "       [6.5, 2.8, 4.6, 1.5, 'versicolor'],\n",
              "       [5.7, 2.8, 4.5, 1.3, 'versicolor'],\n",
              "       [6.3, 3.3, 4.7, 1.6, 'versicolor'],\n",
              "       [4.9, 2.4, 3.3, 1.0, 'versicolor'],\n",
              "       [6.6, 2.9, 4.6, 1.3, 'versicolor'],\n",
              "       [5.2, 2.7, 3.9, 1.4, 'versicolor'],\n",
              "       [5.0, 2.0, 3.5, 1.0, 'versicolor'],\n",
              "       [5.9, 3.0, 4.2, 1.5, 'versicolor'],\n",
              "       [6.0, 2.2, 4.0, 1.0, 'versicolor'],\n",
              "       [6.1, 2.9, 4.7, 1.4, 'versicolor'],\n",
              "       [5.6, 2.9, 3.6, 1.3, 'versicolor'],\n",
              "       [6.7, 3.1, 4.4, 1.4, 'versicolor'],\n",
              "       [5.6, 3.0, 4.5, 1.5, 'versicolor'],\n",
              "       [5.8, 2.7, 4.1, 1.0, 'versicolor'],\n",
              "       [6.2, 2.2, 4.5, 1.5, 'versicolor'],\n",
              "       [5.6, 2.5, 3.9, 1.1, 'versicolor'],\n",
              "       [5.9, 3.2, 4.8, 1.8, 'versicolor'],\n",
              "       [6.1, 2.8, 4.0, 1.3, 'versicolor'],\n",
              "       [6.3, 2.5, 4.9, 1.5, 'versicolor'],\n",
              "       [6.1, 2.8, 4.7, 1.2, 'versicolor'],\n",
              "       [6.4, 2.9, 4.3, 1.3, 'versicolor'],\n",
              "       [6.6, 3.0, 4.4, 1.4, 'versicolor'],\n",
              "       [6.8, 2.8, 4.8, 1.4, 'versicolor'],\n",
              "       [6.7, 3.0, 5.0, 1.7, 'versicolor'],\n",
              "       [6.0, 2.9, 4.5, 1.5, 'versicolor'],\n",
              "       [5.7, 2.6, 3.5, 1.0, 'versicolor'],\n",
              "       [5.5, 2.4, 3.8, 1.1, 'versicolor'],\n",
              "       [5.5, 2.4, 3.7, 1.0, 'versicolor'],\n",
              "       [5.8, 2.7, 3.9, 1.2, 'versicolor'],\n",
              "       [6.0, 2.7, 5.1, 1.6, 'versicolor'],\n",
              "       [5.4, 3.0, 4.5, 1.5, 'versicolor'],\n",
              "       [6.0, 3.4, 4.5, 1.6, 'versicolor'],\n",
              "       [6.7, 3.1, 4.7, 1.5, 'versicolor'],\n",
              "       [6.3, 2.3, 4.4, 1.3, 'versicolor'],\n",
              "       [5.6, 3.0, 4.1, 1.3, 'versicolor'],\n",
              "       [5.5, 2.5, 4.0, 1.3, 'versicolor'],\n",
              "       [5.5, 2.6, 4.4, 1.2, 'versicolor'],\n",
              "       [6.1, 3.0, 4.6, 1.4, 'versicolor'],\n",
              "       [5.8, 2.6, 4.0, 1.2, 'versicolor'],\n",
              "       [5.0, 2.3, 3.3, 1.0, 'versicolor'],\n",
              "       [5.6, 2.7, 4.2, 1.3, 'versicolor'],\n",
              "       [5.7, 3.0, 4.2, 1.2, 'versicolor'],\n",
              "       [5.7, 2.9, 4.2, 1.3, 'versicolor'],\n",
              "       [6.2, 2.9, 4.3, 1.3, 'versicolor'],\n",
              "       [5.1, 2.5, 3.0, 1.1, 'versicolor'],\n",
              "       [5.7, 2.8, 4.1, 1.3, 'versicolor'],\n",
              "       [6.3, 3.3, 6.0, 2.5, 'virginica'],\n",
              "       [5.8, 2.7, 5.1, 1.9, 'virginica'],\n",
              "       [7.1, 3.0, 5.9, 2.1, 'virginica'],\n",
              "       [6.3, 2.9, 5.6, 1.8, 'virginica'],\n",
              "       [6.5, 3.0, 5.8, 2.2, 'virginica'],\n",
              "       [7.6, 3.0, 6.6, 2.1, 'virginica'],\n",
              "       [4.9, 2.5, 4.5, 1.7, 'virginica'],\n",
              "       [7.3, 2.9, 6.3, 1.8, 'virginica'],\n",
              "       [6.7, 2.5, 5.8, 1.8, 'virginica'],\n",
              "       [7.2, 3.6, 6.1, 2.5, 'virginica'],\n",
              "       [6.5, 3.2, 5.1, 2.0, 'virginica'],\n",
              "       [6.4, 2.7, 5.3, 1.9, 'virginica'],\n",
              "       [6.8, 3.0, 5.5, 2.1, 'virginica'],\n",
              "       [5.7, 2.5, 5.0, 2.0, 'virginica'],\n",
              "       [5.8, 2.8, 5.1, 2.4, 'virginica'],\n",
              "       [6.4, 3.2, 5.3, 2.3, 'virginica'],\n",
              "       [6.5, 3.0, 5.5, 1.8, 'virginica'],\n",
              "       [7.7, 3.8, 6.7, 2.2, 'virginica'],\n",
              "       [7.7, 2.6, 6.9, 2.3, 'virginica'],\n",
              "       [6.0, 2.2, 5.0, 1.5, 'virginica'],\n",
              "       [6.9, 3.2, 5.7, 2.3, 'virginica'],\n",
              "       [5.6, 2.8, 4.9, 2.0, 'virginica'],\n",
              "       [7.7, 2.8, 6.7, 2.0, 'virginica'],\n",
              "       [6.3, 2.7, 4.9, 1.8, 'virginica'],\n",
              "       [6.7, 3.3, 5.7, 2.1, 'virginica'],\n",
              "       [7.2, 3.2, 6.0, 1.8, 'virginica'],\n",
              "       [6.2, 2.8, 4.8, 1.8, 'virginica'],\n",
              "       [6.1, 3.0, 4.9, 1.8, 'virginica'],\n",
              "       [6.4, 2.8, 5.6, 2.1, 'virginica'],\n",
              "       [7.2, 3.0, 5.8, 1.6, 'virginica'],\n",
              "       [7.4, 2.8, 6.1, 1.9, 'virginica'],\n",
              "       [7.9, 3.8, 6.4, 2.0, 'virginica'],\n",
              "       [6.4, 2.8, 5.6, 2.2, 'virginica'],\n",
              "       [6.3, 2.8, 5.1, 1.5, 'virginica'],\n",
              "       [6.1, 2.6, 5.6, 1.4, 'virginica'],\n",
              "       [7.7, 3.0, 6.1, 2.3, 'virginica'],\n",
              "       [6.3, 3.4, 5.6, 2.4, 'virginica'],\n",
              "       [6.4, 3.1, 5.5, 1.8, 'virginica'],\n",
              "       [6.0, 3.0, 4.8, 1.8, 'virginica'],\n",
              "       [6.9, 3.1, 5.4, 2.1, 'virginica'],\n",
              "       [6.7, 3.1, 5.6, 2.4, 'virginica'],\n",
              "       [6.9, 3.1, 5.1, 2.3, 'virginica'],\n",
              "       [5.8, 2.7, 5.1, 1.9, 'virginica'],\n",
              "       [6.8, 3.2, 5.9, 2.3, 'virginica'],\n",
              "       [6.7, 3.3, 5.7, 2.5, 'virginica'],\n",
              "       [6.7, 3.0, 5.2, 2.3, 'virginica'],\n",
              "       [6.3, 2.5, 5.0, 1.9, 'virginica'],\n",
              "       [6.5, 3.0, 5.2, 2.0, 'virginica'],\n",
              "       [6.2, 3.4, 5.4, 2.3, 'virginica'],\n",
              "       [5.9, 3.0, 5.1, 1.8, 'virginica']], dtype=object)"
            ]
          },
          "metadata": {},
          "execution_count": 8
        }
      ]
    },
    {
      "cell_type": "code",
      "metadata": {
        "colab": {
          "base_uri": "https://localhost:8080/"
        },
        "id": "LxcFadW1jx-O",
        "outputId": "ecf8af2d-1c7f-4390-a027-fd95c8309fa0"
      },
      "source": [
        "AR_X = iris_AR[:,0:4].astype(float)\n",
        "AR_y = iris_AR[:,4]\n",
        "\n",
        "AR_X.shape, AR_y.shape"
      ],
      "execution_count": 9,
      "outputs": [
        {
          "output_type": "execute_result",
          "data": {
            "text/plain": [
              "((150, 4), (150,))"
            ]
          },
          "metadata": {},
          "execution_count": 9
        }
      ]
    },
    {
      "cell_type": "code",
      "metadata": {
        "colab": {
          "base_uri": "https://localhost:8080/"
        },
        "id": "8urZ67Nxj61W",
        "outputId": "491bfea8-819a-4222-b678-d74234ab7fd7"
      },
      "source": [
        "from sklearn.preprocessing import LabelEncoder\n",
        "\n",
        "encoder = LabelEncoder()\n",
        "AR_yLBE = encoder.fit_transform(AR_y)\n",
        "AR_yLBE\n"
      ],
      "execution_count": 10,
      "outputs": [
        {
          "output_type": "execute_result",
          "data": {
            "text/plain": [
              "array([0, 0, 0, 0, 0, 0, 0, 0, 0, 0, 0, 0, 0, 0, 0, 0, 0, 0, 0, 0, 0, 0,\n",
              "       0, 0, 0, 0, 0, 0, 0, 0, 0, 0, 0, 0, 0, 0, 0, 0, 0, 0, 0, 0, 0, 0,\n",
              "       0, 0, 0, 0, 0, 0, 1, 1, 1, 1, 1, 1, 1, 1, 1, 1, 1, 1, 1, 1, 1, 1,\n",
              "       1, 1, 1, 1, 1, 1, 1, 1, 1, 1, 1, 1, 1, 1, 1, 1, 1, 1, 1, 1, 1, 1,\n",
              "       1, 1, 1, 1, 1, 1, 1, 1, 1, 1, 1, 1, 2, 2, 2, 2, 2, 2, 2, 2, 2, 2,\n",
              "       2, 2, 2, 2, 2, 2, 2, 2, 2, 2, 2, 2, 2, 2, 2, 2, 2, 2, 2, 2, 2, 2,\n",
              "       2, 2, 2, 2, 2, 2, 2, 2, 2, 2, 2, 2, 2, 2, 2, 2, 2, 2])"
            ]
          },
          "metadata": {},
          "execution_count": 10
        }
      ]
    },
    {
      "cell_type": "code",
      "metadata": {
        "colab": {
          "base_uri": "https://localhost:8080/"
        },
        "id": "g_07biRZkJrX",
        "outputId": "82796796-b307-4e4b-96aa-b2ddd4ed5aa3"
      },
      "source": [
        "from tensorflow.keras.utils import to_categorical\n",
        "\n",
        "AR_yOHE = to_categorical(AR_yLBE)\n",
        "\n",
        "AR_yOHE"
      ],
      "execution_count": 11,
      "outputs": [
        {
          "output_type": "execute_result",
          "data": {
            "text/plain": [
              "array([[1., 0., 0.],\n",
              "       [1., 0., 0.],\n",
              "       [1., 0., 0.],\n",
              "       [1., 0., 0.],\n",
              "       [1., 0., 0.],\n",
              "       [1., 0., 0.],\n",
              "       [1., 0., 0.],\n",
              "       [1., 0., 0.],\n",
              "       [1., 0., 0.],\n",
              "       [1., 0., 0.],\n",
              "       [1., 0., 0.],\n",
              "       [1., 0., 0.],\n",
              "       [1., 0., 0.],\n",
              "       [1., 0., 0.],\n",
              "       [1., 0., 0.],\n",
              "       [1., 0., 0.],\n",
              "       [1., 0., 0.],\n",
              "       [1., 0., 0.],\n",
              "       [1., 0., 0.],\n",
              "       [1., 0., 0.],\n",
              "       [1., 0., 0.],\n",
              "       [1., 0., 0.],\n",
              "       [1., 0., 0.],\n",
              "       [1., 0., 0.],\n",
              "       [1., 0., 0.],\n",
              "       [1., 0., 0.],\n",
              "       [1., 0., 0.],\n",
              "       [1., 0., 0.],\n",
              "       [1., 0., 0.],\n",
              "       [1., 0., 0.],\n",
              "       [1., 0., 0.],\n",
              "       [1., 0., 0.],\n",
              "       [1., 0., 0.],\n",
              "       [1., 0., 0.],\n",
              "       [1., 0., 0.],\n",
              "       [1., 0., 0.],\n",
              "       [1., 0., 0.],\n",
              "       [1., 0., 0.],\n",
              "       [1., 0., 0.],\n",
              "       [1., 0., 0.],\n",
              "       [1., 0., 0.],\n",
              "       [1., 0., 0.],\n",
              "       [1., 0., 0.],\n",
              "       [1., 0., 0.],\n",
              "       [1., 0., 0.],\n",
              "       [1., 0., 0.],\n",
              "       [1., 0., 0.],\n",
              "       [1., 0., 0.],\n",
              "       [1., 0., 0.],\n",
              "       [1., 0., 0.],\n",
              "       [0., 1., 0.],\n",
              "       [0., 1., 0.],\n",
              "       [0., 1., 0.],\n",
              "       [0., 1., 0.],\n",
              "       [0., 1., 0.],\n",
              "       [0., 1., 0.],\n",
              "       [0., 1., 0.],\n",
              "       [0., 1., 0.],\n",
              "       [0., 1., 0.],\n",
              "       [0., 1., 0.],\n",
              "       [0., 1., 0.],\n",
              "       [0., 1., 0.],\n",
              "       [0., 1., 0.],\n",
              "       [0., 1., 0.],\n",
              "       [0., 1., 0.],\n",
              "       [0., 1., 0.],\n",
              "       [0., 1., 0.],\n",
              "       [0., 1., 0.],\n",
              "       [0., 1., 0.],\n",
              "       [0., 1., 0.],\n",
              "       [0., 1., 0.],\n",
              "       [0., 1., 0.],\n",
              "       [0., 1., 0.],\n",
              "       [0., 1., 0.],\n",
              "       [0., 1., 0.],\n",
              "       [0., 1., 0.],\n",
              "       [0., 1., 0.],\n",
              "       [0., 1., 0.],\n",
              "       [0., 1., 0.],\n",
              "       [0., 1., 0.],\n",
              "       [0., 1., 0.],\n",
              "       [0., 1., 0.],\n",
              "       [0., 1., 0.],\n",
              "       [0., 1., 0.],\n",
              "       [0., 1., 0.],\n",
              "       [0., 1., 0.],\n",
              "       [0., 1., 0.],\n",
              "       [0., 1., 0.],\n",
              "       [0., 1., 0.],\n",
              "       [0., 1., 0.],\n",
              "       [0., 1., 0.],\n",
              "       [0., 1., 0.],\n",
              "       [0., 1., 0.],\n",
              "       [0., 1., 0.],\n",
              "       [0., 1., 0.],\n",
              "       [0., 1., 0.],\n",
              "       [0., 1., 0.],\n",
              "       [0., 1., 0.],\n",
              "       [0., 1., 0.],\n",
              "       [0., 1., 0.],\n",
              "       [0., 0., 1.],\n",
              "       [0., 0., 1.],\n",
              "       [0., 0., 1.],\n",
              "       [0., 0., 1.],\n",
              "       [0., 0., 1.],\n",
              "       [0., 0., 1.],\n",
              "       [0., 0., 1.],\n",
              "       [0., 0., 1.],\n",
              "       [0., 0., 1.],\n",
              "       [0., 0., 1.],\n",
              "       [0., 0., 1.],\n",
              "       [0., 0., 1.],\n",
              "       [0., 0., 1.],\n",
              "       [0., 0., 1.],\n",
              "       [0., 0., 1.],\n",
              "       [0., 0., 1.],\n",
              "       [0., 0., 1.],\n",
              "       [0., 0., 1.],\n",
              "       [0., 0., 1.],\n",
              "       [0., 0., 1.],\n",
              "       [0., 0., 1.],\n",
              "       [0., 0., 1.],\n",
              "       [0., 0., 1.],\n",
              "       [0., 0., 1.],\n",
              "       [0., 0., 1.],\n",
              "       [0., 0., 1.],\n",
              "       [0., 0., 1.],\n",
              "       [0., 0., 1.],\n",
              "       [0., 0., 1.],\n",
              "       [0., 0., 1.],\n",
              "       [0., 0., 1.],\n",
              "       [0., 0., 1.],\n",
              "       [0., 0., 1.],\n",
              "       [0., 0., 1.],\n",
              "       [0., 0., 1.],\n",
              "       [0., 0., 1.],\n",
              "       [0., 0., 1.],\n",
              "       [0., 0., 1.],\n",
              "       [0., 0., 1.],\n",
              "       [0., 0., 1.],\n",
              "       [0., 0., 1.],\n",
              "       [0., 0., 1.],\n",
              "       [0., 0., 1.],\n",
              "       [0., 0., 1.],\n",
              "       [0., 0., 1.],\n",
              "       [0., 0., 1.],\n",
              "       [0., 0., 1.],\n",
              "       [0., 0., 1.],\n",
              "       [0., 0., 1.],\n",
              "       [0., 0., 1.]], dtype=float32)"
            ]
          },
          "metadata": {},
          "execution_count": 11
        }
      ]
    },
    {
      "cell_type": "code",
      "metadata": {
        "colab": {
          "base_uri": "https://localhost:8080/",
          "height": 35
        },
        "id": "zTERKLlGkTtm",
        "outputId": "facb973a-6eff-4daa-e9fd-63f3a20670d8"
      },
      "source": [
        "import tensorflow\n",
        "\n",
        "tensorflow.__version__\n"
      ],
      "execution_count": 12,
      "outputs": [
        {
          "output_type": "execute_result",
          "data": {
            "application/vnd.google.colaboratory.intrinsic+json": {
              "type": "string"
            },
            "text/plain": [
              "'2.6.0'"
            ]
          },
          "metadata": {},
          "execution_count": 12
        }
      ]
    },
    {
      "cell_type": "code",
      "metadata": {
        "colab": {
          "base_uri": "https://localhost:8080/",
          "height": 35
        },
        "id": "NfEjAjo2kYnF",
        "outputId": "5ecdd89f-7923-4f3f-85eb-c805d79775e1"
      },
      "source": [
        "import keras\n",
        "\n",
        "keras.__version__"
      ],
      "execution_count": 13,
      "outputs": [
        {
          "output_type": "execute_result",
          "data": {
            "application/vnd.google.colaboratory.intrinsic+json": {
              "type": "string"
            },
            "text/plain": [
              "'2.6.0'"
            ]
          },
          "metadata": {},
          "execution_count": 13
        }
      ]
    },
    {
      "cell_type": "code",
      "metadata": {
        "colab": {
          "base_uri": "https://localhost:8080/"
        },
        "id": "vz6G3LYbkaFa",
        "outputId": "2e779402-b61a-4a9b-cebc-320ff8048584"
      },
      "source": [
        "from sklearn.model_selection import train_test_split\n",
        "\n",
        "X_train, X_test, y_train, y_test = train_test_split(AR_X, AR_yOHE, test_size= 0.3, random_state= 2045)\n",
        "\n",
        "X_train.shape, X_test.shape, y_train.shape, y_test.shape"
      ],
      "execution_count": 14,
      "outputs": [
        {
          "output_type": "execute_result",
          "data": {
            "text/plain": [
              "((105, 4), (45, 4), (105, 3), (45, 3))"
            ]
          },
          "metadata": {},
          "execution_count": 14
        }
      ]
    },
    {
      "cell_type": "code",
      "metadata": {
        "id": "e7BBCQC2kuGw"
      },
      "source": [
        "from tensorflow.keras import models\n",
        "from tensorflow.keras import layers"
      ],
      "execution_count": 15,
      "outputs": []
    },
    {
      "cell_type": "code",
      "metadata": {
        "id": "IhPY3l1nkyiT"
      },
      "source": [
        "Model_iris = models.Sequential()\n",
        "\n",
        "Model_iris.add(layers.Dense(16,activation='tanh', input_shape = (4,)))\n",
        "Model_iris.add(layers.Dense(8, activation= 'elu'))\n",
        "Model_iris.add(layers.Dense(3, activation= 'softmax'))\n"
      ],
      "execution_count": 16,
      "outputs": []
    },
    {
      "cell_type": "code",
      "metadata": {
        "colab": {
          "base_uri": "https://localhost:8080/"
        },
        "id": "sOE6PH80lDDG",
        "outputId": "8feb6ec0-8ac4-4bff-9ec0-c1413203996c"
      },
      "source": [
        "Model_iris.summary()"
      ],
      "execution_count": 17,
      "outputs": [
        {
          "output_type": "stream",
          "text": [
            "Model: \"sequential\"\n",
            "_________________________________________________________________\n",
            "Layer (type)                 Output Shape              Param #   \n",
            "=================================================================\n",
            "dense (Dense)                (None, 16)                80        \n",
            "_________________________________________________________________\n",
            "dense_1 (Dense)              (None, 8)                 136       \n",
            "_________________________________________________________________\n",
            "dense_2 (Dense)              (None, 3)                 27        \n",
            "=================================================================\n",
            "Total params: 243\n",
            "Trainable params: 243\n",
            "Non-trainable params: 0\n",
            "_________________________________________________________________\n"
          ],
          "name": "stdout"
        }
      ]
    },
    {
      "cell_type": "code",
      "metadata": {
        "colab": {
          "base_uri": "https://localhost:8080/",
          "height": 422
        },
        "id": "K_taSIcFlJyA",
        "outputId": "83c3a5e8-9230-4615-8b93-9ed676dc859f"
      },
      "source": [
        "from tensorflow.keras import utils\n",
        "\n",
        "utils.plot_model(Model_iris, show_shapes = True, show_dtype = True)"
      ],
      "execution_count": 18,
      "outputs": [
        {
          "output_type": "execute_result",
          "data": {
            "image/png": "[encoded data removed]",
            "text/plain": [
              "<IPython.core.display.Image object>"
            ]
          },
          "metadata": {},
          "execution_count": 18
        }
      ]
    },
    {
      "cell_type": "code",
      "metadata": {
        "id": "KBgZfHXtlSO3"
      },
      "source": [
        "Model_iris.compile(loss = 'categorical_crossentropy', optimizer= 'adam', metrics = ['accuracy'])\n",
        "\n"
      ],
      "execution_count": 19,
      "outputs": []
    },
    {
      "cell_type": "code",
      "metadata": {
        "colab": {
          "base_uri": "https://localhost:8080/"
        },
        "id": "kwfJS6lYlbXp",
        "outputId": "af03b1c3-485a-4145-9a75-0fbd913a91e4"
      },
      "source": [
        "History_iris = Model_iris.fit(X_train, y_train, epochs =500 , batch_size= 7, validation_data=(X_test, y_test))"
      ],
      "execution_count": 20,
      "outputs": [
        {
          "output_type": "stream",
          "text": [
            "Epoch 1/500\n",
            "15/15 [==============================] - 1s 21ms/step - loss: 1.1605 - accuracy: 0.3429 - val_loss: 1.1414 - val_accuracy: 0.3111\n",
            "Epoch 2/500\n",
            "15/15 [==============================] - 0s 2ms/step - loss: 1.1264 - accuracy: 0.3429 - val_loss: 1.1177 - val_accuracy: 0.3111\n",
            "Epoch 3/500\n",
            "15/15 [==============================] - 0s 3ms/step - loss: 1.1062 - accuracy: 0.3429 - val_loss: 1.1024 - val_accuracy: 0.3111\n",
            "Epoch 4/500\n",
            "15/15 [==============================] - 0s 2ms/step - loss: 1.0923 - accuracy: 0.3429 - val_loss: 1.0860 - val_accuracy: 0.3111\n",
            "Epoch 5/500\n",
            "15/15 [==============================] - 0s 2ms/step - loss: 1.0750 - accuracy: 0.3429 - val_loss: 1.0705 - val_accuracy: 0.3111\n",
            "Epoch 6/500\n",
            "15/15 [==============================] - 0s 2ms/step - loss: 1.0554 - accuracy: 0.3429 - val_loss: 1.0503 - val_accuracy: 0.3111\n",
            "Epoch 7/500\n",
            "15/15 [==============================] - 0s 2ms/step - loss: 1.0298 - accuracy: 0.3524 - val_loss: 1.0241 - val_accuracy: 0.4222\n",
            "Epoch 8/500\n",
            "15/15 [==============================] - 0s 4ms/step - loss: 1.0061 - accuracy: 0.4095 - val_loss: 0.9991 - val_accuracy: 0.4000\n",
            "Epoch 9/500\n",
            "15/15 [==============================] - 0s 3ms/step - loss: 0.9773 - accuracy: 0.5333 - val_loss: 0.9684 - val_accuracy: 0.4889\n",
            "Epoch 10/500\n",
            "15/15 [==============================] - 0s 2ms/step - loss: 0.9446 - accuracy: 0.6381 - val_loss: 0.9362 - val_accuracy: 0.8889\n",
            "Epoch 11/500\n",
            "15/15 [==============================] - 0s 2ms/step - loss: 0.9081 - accuracy: 0.8762 - val_loss: 0.8881 - val_accuracy: 0.9333\n",
            "Epoch 12/500\n",
            "15/15 [==============================] - 0s 2ms/step - loss: 0.8631 - accuracy: 0.9429 - val_loss: 0.8324 - val_accuracy: 0.9556\n",
            "Epoch 13/500\n",
            "15/15 [==============================] - 0s 2ms/step - loss: 0.8084 - accuracy: 0.9333 - val_loss: 0.7784 - val_accuracy: 0.9333\n",
            "Epoch 14/500\n",
            "15/15 [==============================] - 0s 2ms/step - loss: 0.7594 - accuracy: 0.8952 - val_loss: 0.7205 - val_accuracy: 0.9111\n",
            "Epoch 15/500\n",
            "15/15 [==============================] - 0s 2ms/step - loss: 0.7006 - accuracy: 0.9048 - val_loss: 0.6658 - val_accuracy: 0.8889\n",
            "Epoch 16/500\n",
            "15/15 [==============================] - 0s 3ms/step - loss: 0.6552 - accuracy: 0.9238 - val_loss: 0.6161 - val_accuracy: 0.8889\n",
            "Epoch 17/500\n",
            "15/15 [==============================] - 0s 4ms/step - loss: 0.6083 - accuracy: 0.9429 - val_loss: 0.5734 - val_accuracy: 0.9556\n",
            "Epoch 18/500\n",
            "15/15 [==============================] - 0s 3ms/step - loss: 0.5729 - accuracy: 0.9143 - val_loss: 0.5322 - val_accuracy: 0.9778\n",
            "Epoch 19/500\n",
            "15/15 [==============================] - 0s 3ms/step - loss: 0.5373 - accuracy: 0.9429 - val_loss: 0.4985 - val_accuracy: 0.9778\n",
            "Epoch 20/500\n",
            "15/15 [==============================] - 0s 3ms/step - loss: 0.5051 - accuracy: 0.9333 - val_loss: 0.4683 - val_accuracy: 0.9778\n",
            "Epoch 21/500\n",
            "15/15 [==============================] - 0s 4ms/step - loss: 0.4748 - accuracy: 0.9429 - val_loss: 0.4397 - val_accuracy: 0.9778\n",
            "Epoch 22/500\n",
            "15/15 [==============================] - 0s 2ms/step - loss: 0.4486 - accuracy: 0.9429 - val_loss: 0.4166 - val_accuracy: 0.9333\n",
            "Epoch 23/500\n",
            "15/15 [==============================] - 0s 3ms/step - loss: 0.4259 - accuracy: 0.9524 - val_loss: 0.3919 - val_accuracy: 1.0000\n",
            "Epoch 24/500\n",
            "15/15 [==============================] - 0s 4ms/step - loss: 0.4040 - accuracy: 0.9524 - val_loss: 0.3713 - val_accuracy: 1.0000\n",
            "Epoch 25/500\n",
            "15/15 [==============================] - 0s 2ms/step - loss: 0.3819 - accuracy: 0.9524 - val_loss: 0.3515 - val_accuracy: 1.0000\n",
            "Epoch 26/500\n",
            "15/15 [==============================] - 0s 2ms/step - loss: 0.3652 - accuracy: 0.9524 - val_loss: 0.3342 - val_accuracy: 1.0000\n",
            "Epoch 27/500\n",
            "15/15 [==============================] - 0s 3ms/step - loss: 0.3463 - accuracy: 0.9619 - val_loss: 0.3173 - val_accuracy: 1.0000\n",
            "Epoch 28/500\n",
            "15/15 [==============================] - 0s 2ms/step - loss: 0.3298 - accuracy: 0.9524 - val_loss: 0.3010 - val_accuracy: 1.0000\n",
            "Epoch 29/500\n",
            "15/15 [==============================] - 0s 2ms/step - loss: 0.3165 - accuracy: 0.9524 - val_loss: 0.2881 - val_accuracy: 0.9778\n",
            "Epoch 30/500\n",
            "15/15 [==============================] - 0s 2ms/step - loss: 0.3052 - accuracy: 0.9619 - val_loss: 0.2722 - val_accuracy: 1.0000\n",
            "Epoch 31/500\n",
            "15/15 [==============================] - 0s 3ms/step - loss: 0.2890 - accuracy: 0.9619 - val_loss: 0.2597 - val_accuracy: 1.0000\n",
            "Epoch 32/500\n",
            "15/15 [==============================] - 0s 2ms/step - loss: 0.2795 - accuracy: 0.9619 - val_loss: 0.2502 - val_accuracy: 0.9778\n",
            "Epoch 33/500\n",
            "15/15 [==============================] - 0s 4ms/step - loss: 0.2661 - accuracy: 0.9619 - val_loss: 0.2372 - val_accuracy: 1.0000\n",
            "Epoch 34/500\n",
            "15/15 [==============================] - 0s 3ms/step - loss: 0.2641 - accuracy: 0.9429 - val_loss: 0.2285 - val_accuracy: 0.9778\n",
            "Epoch 35/500\n",
            "15/15 [==============================] - 0s 2ms/step - loss: 0.2528 - accuracy: 0.9429 - val_loss: 0.2234 - val_accuracy: 1.0000\n",
            "Epoch 36/500\n",
            "15/15 [==============================] - 0s 3ms/step - loss: 0.2417 - accuracy: 0.9524 - val_loss: 0.2135 - val_accuracy: 0.9778\n",
            "Epoch 37/500\n",
            "15/15 [==============================] - 0s 2ms/step - loss: 0.2366 - accuracy: 0.9619 - val_loss: 0.2005 - val_accuracy: 1.0000\n",
            "Epoch 38/500\n",
            "15/15 [==============================] - 0s 3ms/step - loss: 0.2251 - accuracy: 0.9619 - val_loss: 0.1939 - val_accuracy: 1.0000\n",
            "Epoch 39/500\n",
            "15/15 [==============================] - 0s 2ms/step - loss: 0.2154 - accuracy: 0.9619 - val_loss: 0.1852 - val_accuracy: 1.0000\n",
            "Epoch 40/500\n",
            "15/15 [==============================] - 0s 3ms/step - loss: 0.2133 - accuracy: 0.9524 - val_loss: 0.1838 - val_accuracy: 0.9778\n",
            "Epoch 41/500\n",
            "15/15 [==============================] - 0s 2ms/step - loss: 0.2068 - accuracy: 0.9619 - val_loss: 0.1711 - val_accuracy: 1.0000\n",
            "Epoch 42/500\n",
            "15/15 [==============================] - 0s 3ms/step - loss: 0.1951 - accuracy: 0.9714 - val_loss: 0.1664 - val_accuracy: 0.9778\n",
            "Epoch 43/500\n",
            "15/15 [==============================] - 0s 2ms/step - loss: 0.1908 - accuracy: 0.9619 - val_loss: 0.1611 - val_accuracy: 0.9778\n",
            "Epoch 44/500\n",
            "15/15 [==============================] - 0s 4ms/step - loss: 0.1846 - accuracy: 0.9619 - val_loss: 0.1530 - val_accuracy: 1.0000\n",
            "Epoch 45/500\n",
            "15/15 [==============================] - 0s 2ms/step - loss: 0.1779 - accuracy: 0.9619 - val_loss: 0.1508 - val_accuracy: 0.9778\n",
            "Epoch 46/500\n",
            "15/15 [==============================] - 0s 4ms/step - loss: 0.1768 - accuracy: 0.9619 - val_loss: 0.1483 - val_accuracy: 0.9778\n",
            "Epoch 47/500\n",
            "15/15 [==============================] - 0s 3ms/step - loss: 0.1739 - accuracy: 0.9619 - val_loss: 0.1375 - val_accuracy: 1.0000\n",
            "Epoch 48/500\n",
            "15/15 [==============================] - 0s 2ms/step - loss: 0.1755 - accuracy: 0.9619 - val_loss: 0.1381 - val_accuracy: 0.9778\n",
            "Epoch 49/500\n",
            "15/15 [==============================] - 0s 2ms/step - loss: 0.1709 - accuracy: 0.9524 - val_loss: 0.1287 - val_accuracy: 1.0000\n",
            "Epoch 50/500\n",
            "15/15 [==============================] - 0s 2ms/step - loss: 0.1638 - accuracy: 0.9619 - val_loss: 0.1279 - val_accuracy: 0.9778\n",
            "Epoch 51/500\n",
            "15/15 [==============================] - 0s 3ms/step - loss: 0.1582 - accuracy: 0.9619 - val_loss: 0.1215 - val_accuracy: 1.0000\n",
            "Epoch 52/500\n",
            "15/15 [==============================] - 0s 3ms/step - loss: 0.1595 - accuracy: 0.9619 - val_loss: 0.1170 - val_accuracy: 1.0000\n",
            "Epoch 53/500\n",
            "15/15 [==============================] - 0s 3ms/step - loss: 0.1480 - accuracy: 0.9714 - val_loss: 0.1205 - val_accuracy: 0.9778\n",
            "Epoch 54/500\n",
            "15/15 [==============================] - 0s 2ms/step - loss: 0.1456 - accuracy: 0.9714 - val_loss: 0.1113 - val_accuracy: 1.0000\n",
            "Epoch 55/500\n",
            "15/15 [==============================] - 0s 3ms/step - loss: 0.1415 - accuracy: 0.9714 - val_loss: 0.1079 - val_accuracy: 1.0000\n",
            "Epoch 56/500\n",
            "15/15 [==============================] - 0s 4ms/step - loss: 0.1425 - accuracy: 0.9619 - val_loss: 0.1077 - val_accuracy: 0.9778\n",
            "Epoch 57/500\n",
            "15/15 [==============================] - 0s 2ms/step - loss: 0.1403 - accuracy: 0.9524 - val_loss: 0.1025 - val_accuracy: 0.9778\n",
            "Epoch 58/500\n",
            "15/15 [==============================] - 0s 4ms/step - loss: 0.1348 - accuracy: 0.9619 - val_loss: 0.0977 - val_accuracy: 1.0000\n",
            "Epoch 59/500\n",
            "15/15 [==============================] - 0s 4ms/step - loss: 0.1342 - accuracy: 0.9524 - val_loss: 0.0986 - val_accuracy: 0.9778\n",
            "Epoch 60/500\n",
            "15/15 [==============================] - 0s 4ms/step - loss: 0.1314 - accuracy: 0.9619 - val_loss: 0.0934 - val_accuracy: 1.0000\n",
            "Epoch 61/500\n",
            "15/15 [==============================] - 0s 4ms/step - loss: 0.1318 - accuracy: 0.9619 - val_loss: 0.0964 - val_accuracy: 0.9778\n",
            "Epoch 62/500\n",
            "15/15 [==============================] - 0s 2ms/step - loss: 0.1249 - accuracy: 0.9619 - val_loss: 0.0886 - val_accuracy: 1.0000\n",
            "Epoch 63/500\n",
            "15/15 [==============================] - 0s 2ms/step - loss: 0.1217 - accuracy: 0.9714 - val_loss: 0.0920 - val_accuracy: 0.9778\n",
            "Epoch 64/500\n",
            "15/15 [==============================] - 0s 4ms/step - loss: 0.1213 - accuracy: 0.9714 - val_loss: 0.0867 - val_accuracy: 0.9778\n",
            "Epoch 65/500\n",
            "15/15 [==============================] - 0s 2ms/step - loss: 0.1196 - accuracy: 0.9714 - val_loss: 0.0864 - val_accuracy: 0.9778\n",
            "Epoch 66/500\n",
            "15/15 [==============================] - 0s 4ms/step - loss: 0.1189 - accuracy: 0.9619 - val_loss: 0.0827 - val_accuracy: 0.9778\n",
            "Epoch 67/500\n",
            "15/15 [==============================] - 0s 4ms/step - loss: 0.1143 - accuracy: 0.9714 - val_loss: 0.0779 - val_accuracy: 1.0000\n",
            "Epoch 68/500\n",
            "15/15 [==============================] - 0s 2ms/step - loss: 0.1183 - accuracy: 0.9619 - val_loss: 0.0808 - val_accuracy: 0.9778\n",
            "Epoch 69/500\n",
            "15/15 [==============================] - 0s 4ms/step - loss: 0.1143 - accuracy: 0.9524 - val_loss: 0.0785 - val_accuracy: 0.9778\n",
            "Epoch 70/500\n",
            "15/15 [==============================] - 0s 2ms/step - loss: 0.1116 - accuracy: 0.9714 - val_loss: 0.0763 - val_accuracy: 0.9778\n",
            "Epoch 71/500\n",
            "15/15 [==============================] - 0s 3ms/step - loss: 0.1098 - accuracy: 0.9714 - val_loss: 0.0723 - val_accuracy: 1.0000\n",
            "Epoch 72/500\n",
            "15/15 [==============================] - 0s 3ms/step - loss: 0.1100 - accuracy: 0.9619 - val_loss: 0.0730 - val_accuracy: 0.9778\n",
            "Epoch 73/500\n",
            "15/15 [==============================] - 0s 4ms/step - loss: 0.1100 - accuracy: 0.9619 - val_loss: 0.0725 - val_accuracy: 0.9778\n",
            "Epoch 74/500\n",
            "15/15 [==============================] - 0s 2ms/step - loss: 0.1092 - accuracy: 0.9619 - val_loss: 0.0702 - val_accuracy: 0.9778\n",
            "Epoch 75/500\n",
            "15/15 [==============================] - 0s 2ms/step - loss: 0.1061 - accuracy: 0.9619 - val_loss: 0.0712 - val_accuracy: 0.9778\n",
            "Epoch 76/500\n",
            "15/15 [==============================] - 0s 2ms/step - loss: 0.1041 - accuracy: 0.9714 - val_loss: 0.0691 - val_accuracy: 0.9778\n",
            "Epoch 77/500\n",
            "15/15 [==============================] - 0s 2ms/step - loss: 0.1030 - accuracy: 0.9714 - val_loss: 0.0700 - val_accuracy: 0.9778\n",
            "Epoch 78/500\n",
            "15/15 [==============================] - 0s 3ms/step - loss: 0.1032 - accuracy: 0.9714 - val_loss: 0.0619 - val_accuracy: 1.0000\n",
            "Epoch 79/500\n",
            "15/15 [==============================] - 0s 2ms/step - loss: 0.0985 - accuracy: 0.9619 - val_loss: 0.0673 - val_accuracy: 0.9778\n",
            "Epoch 80/500\n",
            "15/15 [==============================] - 0s 2ms/step - loss: 0.1028 - accuracy: 0.9619 - val_loss: 0.0662 - val_accuracy: 0.9778\n",
            "Epoch 81/500\n",
            "15/15 [==============================] - 0s 3ms/step - loss: 0.0969 - accuracy: 0.9714 - val_loss: 0.0616 - val_accuracy: 0.9778\n",
            "Epoch 82/500\n",
            "15/15 [==============================] - 0s 3ms/step - loss: 0.0953 - accuracy: 0.9619 - val_loss: 0.0662 - val_accuracy: 0.9778\n",
            "Epoch 83/500\n",
            "15/15 [==============================] - 0s 4ms/step - loss: 0.0964 - accuracy: 0.9619 - val_loss: 0.0582 - val_accuracy: 0.9778\n",
            "Epoch 84/500\n",
            "15/15 [==============================] - 0s 2ms/step - loss: 0.0966 - accuracy: 0.9619 - val_loss: 0.0644 - val_accuracy: 0.9778\n",
            "Epoch 85/500\n",
            "15/15 [==============================] - 0s 2ms/step - loss: 0.0956 - accuracy: 0.9619 - val_loss: 0.0607 - val_accuracy: 0.9778\n",
            "Epoch 86/500\n",
            "15/15 [==============================] - 0s 3ms/step - loss: 0.0932 - accuracy: 0.9714 - val_loss: 0.0584 - val_accuracy: 0.9778\n",
            "Epoch 87/500\n",
            "15/15 [==============================] - 0s 2ms/step - loss: 0.0941 - accuracy: 0.9714 - val_loss: 0.0603 - val_accuracy: 0.9778\n",
            "Epoch 88/500\n",
            "15/15 [==============================] - 0s 2ms/step - loss: 0.0928 - accuracy: 0.9619 - val_loss: 0.0595 - val_accuracy: 0.9778\n",
            "Epoch 89/500\n",
            "15/15 [==============================] - 0s 2ms/step - loss: 0.0909 - accuracy: 0.9714 - val_loss: 0.0538 - val_accuracy: 0.9778\n",
            "Epoch 90/500\n",
            "15/15 [==============================] - 0s 4ms/step - loss: 0.0907 - accuracy: 0.9714 - val_loss: 0.0549 - val_accuracy: 0.9778\n",
            "Epoch 91/500\n",
            "15/15 [==============================] - 0s 3ms/step - loss: 0.0930 - accuracy: 0.9714 - val_loss: 0.0592 - val_accuracy: 0.9778\n",
            "Epoch 92/500\n",
            "15/15 [==============================] - 0s 3ms/step - loss: 0.0872 - accuracy: 0.9714 - val_loss: 0.0517 - val_accuracy: 0.9778\n",
            "Epoch 93/500\n",
            "15/15 [==============================] - 0s 3ms/step - loss: 0.0952 - accuracy: 0.9619 - val_loss: 0.0574 - val_accuracy: 0.9778\n",
            "Epoch 94/500\n",
            "15/15 [==============================] - 0s 2ms/step - loss: 0.0876 - accuracy: 0.9714 - val_loss: 0.0624 - val_accuracy: 0.9778\n",
            "Epoch 95/500\n",
            "15/15 [==============================] - 0s 3ms/step - loss: 0.0871 - accuracy: 0.9619 - val_loss: 0.0505 - val_accuracy: 0.9778\n",
            "Epoch 96/500\n",
            "15/15 [==============================] - 0s 2ms/step - loss: 0.0852 - accuracy: 0.9714 - val_loss: 0.0547 - val_accuracy: 0.9778\n",
            "Epoch 97/500\n",
            "15/15 [==============================] - 0s 4ms/step - loss: 0.0907 - accuracy: 0.9619 - val_loss: 0.0491 - val_accuracy: 0.9778\n",
            "Epoch 98/500\n",
            "15/15 [==============================] - 0s 3ms/step - loss: 0.0889 - accuracy: 0.9714 - val_loss: 0.0479 - val_accuracy: 0.9778\n",
            "Epoch 99/500\n",
            "15/15 [==============================] - 0s 3ms/step - loss: 0.0824 - accuracy: 0.9714 - val_loss: 0.0513 - val_accuracy: 0.9778\n",
            "Epoch 100/500\n",
            "15/15 [==============================] - 0s 2ms/step - loss: 0.0853 - accuracy: 0.9810 - val_loss: 0.0485 - val_accuracy: 0.9778\n",
            "Epoch 101/500\n",
            "15/15 [==============================] - 0s 4ms/step - loss: 0.0861 - accuracy: 0.9905 - val_loss: 0.0473 - val_accuracy: 0.9778\n",
            "Epoch 102/500\n",
            "15/15 [==============================] - 0s 3ms/step - loss: 0.0813 - accuracy: 0.9714 - val_loss: 0.0453 - val_accuracy: 0.9778\n",
            "Epoch 103/500\n",
            "15/15 [==============================] - 0s 3ms/step - loss: 0.0839 - accuracy: 0.9810 - val_loss: 0.0495 - val_accuracy: 0.9778\n",
            "Epoch 104/500\n",
            "15/15 [==============================] - 0s 2ms/step - loss: 0.0825 - accuracy: 0.9714 - val_loss: 0.0423 - val_accuracy: 1.0000\n",
            "Epoch 105/500\n",
            "15/15 [==============================] - 0s 4ms/step - loss: 0.0837 - accuracy: 0.9714 - val_loss: 0.0499 - val_accuracy: 0.9778\n",
            "Epoch 106/500\n",
            "15/15 [==============================] - 0s 2ms/step - loss: 0.0803 - accuracy: 0.9810 - val_loss: 0.0556 - val_accuracy: 0.9778\n",
            "Epoch 107/500\n",
            "15/15 [==============================] - 0s 2ms/step - loss: 0.0767 - accuracy: 0.9714 - val_loss: 0.0419 - val_accuracy: 0.9778\n",
            "Epoch 108/500\n",
            "15/15 [==============================] - 0s 3ms/step - loss: 0.0795 - accuracy: 0.9714 - val_loss: 0.0426 - val_accuracy: 0.9778\n",
            "Epoch 109/500\n",
            "15/15 [==============================] - 0s 3ms/step - loss: 0.0784 - accuracy: 0.9810 - val_loss: 0.0553 - val_accuracy: 0.9778\n",
            "Epoch 110/500\n",
            "15/15 [==============================] - 0s 2ms/step - loss: 0.0774 - accuracy: 0.9714 - val_loss: 0.0444 - val_accuracy: 0.9778\n",
            "Epoch 111/500\n",
            "15/15 [==============================] - 0s 2ms/step - loss: 0.0797 - accuracy: 0.9714 - val_loss: 0.0528 - val_accuracy: 0.9778\n",
            "Epoch 112/500\n",
            "15/15 [==============================] - 0s 2ms/step - loss: 0.0841 - accuracy: 0.9619 - val_loss: 0.0395 - val_accuracy: 0.9778\n",
            "Epoch 113/500\n",
            "15/15 [==============================] - 0s 2ms/step - loss: 0.1054 - accuracy: 0.9524 - val_loss: 0.0468 - val_accuracy: 0.9778\n",
            "Epoch 114/500\n",
            "15/15 [==============================] - 0s 4ms/step - loss: 0.0887 - accuracy: 0.9524 - val_loss: 0.0355 - val_accuracy: 1.0000\n",
            "Epoch 115/500\n",
            "15/15 [==============================] - 0s 2ms/step - loss: 0.1093 - accuracy: 0.9429 - val_loss: 0.0532 - val_accuracy: 0.9778\n",
            "Epoch 116/500\n",
            "15/15 [==============================] - 0s 3ms/step - loss: 0.0844 - accuracy: 0.9714 - val_loss: 0.0349 - val_accuracy: 1.0000\n",
            "Epoch 117/500\n",
            "15/15 [==============================] - 0s 3ms/step - loss: 0.1030 - accuracy: 0.9429 - val_loss: 0.0526 - val_accuracy: 0.9778\n",
            "Epoch 118/500\n",
            "15/15 [==============================] - 0s 3ms/step - loss: 0.0769 - accuracy: 0.9714 - val_loss: 0.0354 - val_accuracy: 1.0000\n",
            "Epoch 119/500\n",
            "15/15 [==============================] - 0s 2ms/step - loss: 0.0828 - accuracy: 0.9619 - val_loss: 0.0491 - val_accuracy: 0.9778\n",
            "Epoch 120/500\n",
            "15/15 [==============================] - 0s 2ms/step - loss: 0.0761 - accuracy: 0.9714 - val_loss: 0.0399 - val_accuracy: 0.9778\n",
            "Epoch 121/500\n",
            "15/15 [==============================] - 0s 2ms/step - loss: 0.0775 - accuracy: 0.9714 - val_loss: 0.0442 - val_accuracy: 0.9778\n",
            "Epoch 122/500\n",
            "15/15 [==============================] - 0s 2ms/step - loss: 0.0721 - accuracy: 0.9714 - val_loss: 0.0403 - val_accuracy: 0.9778\n",
            "Epoch 123/500\n",
            "15/15 [==============================] - 0s 2ms/step - loss: 0.0731 - accuracy: 0.9714 - val_loss: 0.0436 - val_accuracy: 0.9778\n",
            "Epoch 124/500\n",
            "15/15 [==============================] - 0s 2ms/step - loss: 0.0732 - accuracy: 0.9905 - val_loss: 0.0430 - val_accuracy: 0.9778\n",
            "Epoch 125/500\n",
            "15/15 [==============================] - 0s 3ms/step - loss: 0.0735 - accuracy: 0.9810 - val_loss: 0.0426 - val_accuracy: 0.9778\n",
            "Epoch 126/500\n",
            "15/15 [==============================] - 0s 2ms/step - loss: 0.0765 - accuracy: 0.9714 - val_loss: 0.0359 - val_accuracy: 0.9778\n",
            "Epoch 127/500\n",
            "15/15 [==============================] - 0s 3ms/step - loss: 0.0716 - accuracy: 0.9714 - val_loss: 0.0583 - val_accuracy: 0.9778\n",
            "Epoch 128/500\n",
            "15/15 [==============================] - 0s 4ms/step - loss: 0.0731 - accuracy: 0.9810 - val_loss: 0.0340 - val_accuracy: 0.9778\n",
            "Epoch 129/500\n",
            "15/15 [==============================] - 0s 3ms/step - loss: 0.0696 - accuracy: 0.9714 - val_loss: 0.0444 - val_accuracy: 0.9778\n",
            "Epoch 130/500\n",
            "15/15 [==============================] - 0s 4ms/step - loss: 0.0719 - accuracy: 0.9810 - val_loss: 0.0493 - val_accuracy: 0.9778\n",
            "Epoch 131/500\n",
            "15/15 [==============================] - 0s 2ms/step - loss: 0.0746 - accuracy: 0.9619 - val_loss: 0.0355 - val_accuracy: 0.9778\n",
            "Epoch 132/500\n",
            "15/15 [==============================] - 0s 3ms/step - loss: 0.0741 - accuracy: 0.9810 - val_loss: 0.0466 - val_accuracy: 0.9778\n",
            "Epoch 133/500\n",
            "15/15 [==============================] - 0s 3ms/step - loss: 0.0819 - accuracy: 0.9524 - val_loss: 0.0370 - val_accuracy: 0.9778\n",
            "Epoch 134/500\n",
            "15/15 [==============================] - 0s 2ms/step - loss: 0.0736 - accuracy: 0.9810 - val_loss: 0.0494 - val_accuracy: 0.9778\n",
            "Epoch 135/500\n",
            "15/15 [==============================] - 0s 2ms/step - loss: 0.0716 - accuracy: 0.9714 - val_loss: 0.0407 - val_accuracy: 0.9778\n",
            "Epoch 136/500\n",
            "15/15 [==============================] - 0s 3ms/step - loss: 0.0708 - accuracy: 0.9905 - val_loss: 0.0346 - val_accuracy: 0.9778\n",
            "Epoch 137/500\n",
            "15/15 [==============================] - 0s 2ms/step - loss: 0.0667 - accuracy: 0.9714 - val_loss: 0.0423 - val_accuracy: 0.9778\n",
            "Epoch 138/500\n",
            "15/15 [==============================] - 0s 3ms/step - loss: 0.0699 - accuracy: 0.9810 - val_loss: 0.0384 - val_accuracy: 0.9778\n",
            "Epoch 139/500\n",
            "15/15 [==============================] - 0s 4ms/step - loss: 0.0683 - accuracy: 0.9905 - val_loss: 0.0399 - val_accuracy: 0.9778\n",
            "Epoch 140/500\n",
            "15/15 [==============================] - 0s 3ms/step - loss: 0.0700 - accuracy: 0.9619 - val_loss: 0.0352 - val_accuracy: 0.9778\n",
            "Epoch 141/500\n",
            "15/15 [==============================] - 0s 4ms/step - loss: 0.0739 - accuracy: 0.9714 - val_loss: 0.0507 - val_accuracy: 0.9778\n",
            "Epoch 142/500\n",
            "15/15 [==============================] - 0s 2ms/step - loss: 0.0791 - accuracy: 0.9619 - val_loss: 0.0292 - val_accuracy: 1.0000\n",
            "Epoch 143/500\n",
            "15/15 [==============================] - 0s 3ms/step - loss: 0.0655 - accuracy: 0.9714 - val_loss: 0.0560 - val_accuracy: 0.9778\n",
            "Epoch 144/500\n",
            "15/15 [==============================] - 0s 4ms/step - loss: 0.0671 - accuracy: 0.9905 - val_loss: 0.0392 - val_accuracy: 0.9778\n",
            "Epoch 145/500\n",
            "15/15 [==============================] - 0s 2ms/step - loss: 0.0643 - accuracy: 0.9905 - val_loss: 0.0385 - val_accuracy: 0.9778\n",
            "Epoch 146/500\n",
            "15/15 [==============================] - 0s 3ms/step - loss: 0.0654 - accuracy: 0.9810 - val_loss: 0.0373 - val_accuracy: 0.9778\n",
            "Epoch 147/500\n",
            "15/15 [==============================] - 0s 2ms/step - loss: 0.0640 - accuracy: 0.9905 - val_loss: 0.0466 - val_accuracy: 0.9778\n",
            "Epoch 148/500\n",
            "15/15 [==============================] - 0s 4ms/step - loss: 0.0675 - accuracy: 0.9810 - val_loss: 0.0348 - val_accuracy: 0.9778\n",
            "Epoch 149/500\n",
            "15/15 [==============================] - 0s 3ms/step - loss: 0.0655 - accuracy: 0.9905 - val_loss: 0.0492 - val_accuracy: 0.9778\n",
            "Epoch 150/500\n",
            "15/15 [==============================] - 0s 2ms/step - loss: 0.0668 - accuracy: 0.9905 - val_loss: 0.0330 - val_accuracy: 0.9778\n",
            "Epoch 151/500\n",
            "15/15 [==============================] - 0s 4ms/step - loss: 0.0668 - accuracy: 0.9905 - val_loss: 0.0457 - val_accuracy: 0.9778\n",
            "Epoch 152/500\n",
            "15/15 [==============================] - 0s 2ms/step - loss: 0.0899 - accuracy: 0.9524 - val_loss: 0.0428 - val_accuracy: 0.9778\n",
            "Epoch 153/500\n",
            "15/15 [==============================] - 0s 4ms/step - loss: 0.0657 - accuracy: 0.9810 - val_loss: 0.0445 - val_accuracy: 0.9778\n",
            "Epoch 154/500\n",
            "15/15 [==============================] - 0s 2ms/step - loss: 0.0678 - accuracy: 0.9619 - val_loss: 0.0349 - val_accuracy: 0.9778\n",
            "Epoch 155/500\n",
            "15/15 [==============================] - 0s 3ms/step - loss: 0.0654 - accuracy: 0.9905 - val_loss: 0.0492 - val_accuracy: 0.9778\n",
            "Epoch 156/500\n",
            "15/15 [==============================] - 0s 2ms/step - loss: 0.0624 - accuracy: 0.9905 - val_loss: 0.0344 - val_accuracy: 0.9778\n",
            "Epoch 157/500\n",
            "15/15 [==============================] - 0s 3ms/step - loss: 0.0637 - accuracy: 0.9905 - val_loss: 0.0454 - val_accuracy: 0.9778\n",
            "Epoch 158/500\n",
            "15/15 [==============================] - 0s 2ms/step - loss: 0.0631 - accuracy: 0.9905 - val_loss: 0.0343 - val_accuracy: 0.9778\n",
            "Epoch 159/500\n",
            "15/15 [==============================] - 0s 3ms/step - loss: 0.0643 - accuracy: 0.9905 - val_loss: 0.0363 - val_accuracy: 0.9778\n",
            "Epoch 160/500\n",
            "15/15 [==============================] - 0s 2ms/step - loss: 0.0654 - accuracy: 0.9619 - val_loss: 0.0381 - val_accuracy: 0.9778\n",
            "Epoch 161/500\n",
            "15/15 [==============================] - 0s 2ms/step - loss: 0.0687 - accuracy: 0.9714 - val_loss: 0.0474 - val_accuracy: 0.9778\n",
            "Epoch 162/500\n",
            "15/15 [==============================] - 0s 2ms/step - loss: 0.0678 - accuracy: 0.9714 - val_loss: 0.0407 - val_accuracy: 0.9778\n",
            "Epoch 163/500\n",
            "15/15 [==============================] - 0s 4ms/step - loss: 0.0607 - accuracy: 0.9905 - val_loss: 0.0373 - val_accuracy: 0.9778\n",
            "Epoch 164/500\n",
            "15/15 [==============================] - 0s 2ms/step - loss: 0.0634 - accuracy: 0.9905 - val_loss: 0.0401 - val_accuracy: 0.9778\n",
            "Epoch 165/500\n",
            "15/15 [==============================] - 0s 3ms/step - loss: 0.0637 - accuracy: 0.9905 - val_loss: 0.0437 - val_accuracy: 0.9778\n",
            "Epoch 166/500\n",
            "15/15 [==============================] - 0s 3ms/step - loss: 0.0775 - accuracy: 0.9524 - val_loss: 0.0376 - val_accuracy: 0.9778\n",
            "Epoch 167/500\n",
            "15/15 [==============================] - 0s 4ms/step - loss: 0.0718 - accuracy: 0.9714 - val_loss: 0.0353 - val_accuracy: 0.9778\n",
            "Epoch 168/500\n",
            "15/15 [==============================] - 0s 2ms/step - loss: 0.0619 - accuracy: 0.9905 - val_loss: 0.0379 - val_accuracy: 0.9778\n",
            "Epoch 169/500\n",
            "15/15 [==============================] - 0s 3ms/step - loss: 0.0614 - accuracy: 0.9810 - val_loss: 0.0382 - val_accuracy: 0.9778\n",
            "Epoch 170/500\n",
            "15/15 [==============================] - 0s 2ms/step - loss: 0.0615 - accuracy: 0.9810 - val_loss: 0.0463 - val_accuracy: 0.9778\n",
            "Epoch 171/500\n",
            "15/15 [==============================] - 0s 2ms/step - loss: 0.0635 - accuracy: 0.9714 - val_loss: 0.0311 - val_accuracy: 0.9778\n",
            "Epoch 172/500\n",
            "15/15 [==============================] - 0s 2ms/step - loss: 0.0599 - accuracy: 0.9905 - val_loss: 0.0398 - val_accuracy: 0.9778\n",
            "Epoch 173/500\n",
            "15/15 [==============================] - 0s 2ms/step - loss: 0.0643 - accuracy: 0.9810 - val_loss: 0.0388 - val_accuracy: 0.9778\n",
            "Epoch 174/500\n",
            "15/15 [==============================] - 0s 2ms/step - loss: 0.0755 - accuracy: 0.9619 - val_loss: 0.0337 - val_accuracy: 0.9778\n",
            "Epoch 175/500\n",
            "15/15 [==============================] - 0s 2ms/step - loss: 0.0654 - accuracy: 0.9714 - val_loss: 0.0394 - val_accuracy: 0.9778\n",
            "Epoch 176/500\n",
            "15/15 [==============================] - 0s 2ms/step - loss: 0.0640 - accuracy: 0.9810 - val_loss: 0.0317 - val_accuracy: 0.9778\n",
            "Epoch 177/500\n",
            "15/15 [==============================] - 0s 2ms/step - loss: 0.0585 - accuracy: 0.9905 - val_loss: 0.0497 - val_accuracy: 0.9778\n",
            "Epoch 178/500\n",
            "15/15 [==============================] - 0s 2ms/step - loss: 0.0577 - accuracy: 0.9905 - val_loss: 0.0354 - val_accuracy: 0.9778\n",
            "Epoch 179/500\n",
            "15/15 [==============================] - 0s 3ms/step - loss: 0.0627 - accuracy: 0.9810 - val_loss: 0.0389 - val_accuracy: 0.9778\n",
            "Epoch 180/500\n",
            "15/15 [==============================] - 0s 2ms/step - loss: 0.0593 - accuracy: 0.9905 - val_loss: 0.0434 - val_accuracy: 0.9778\n",
            "Epoch 181/500\n",
            "15/15 [==============================] - 0s 2ms/step - loss: 0.0612 - accuracy: 0.9905 - val_loss: 0.0426 - val_accuracy: 0.9778\n",
            "Epoch 182/500\n",
            "15/15 [==============================] - 0s 2ms/step - loss: 0.0591 - accuracy: 0.9905 - val_loss: 0.0373 - val_accuracy: 0.9778\n",
            "Epoch 183/500\n",
            "15/15 [==============================] - 0s 2ms/step - loss: 0.0614 - accuracy: 0.9905 - val_loss: 0.0381 - val_accuracy: 0.9778\n",
            "Epoch 184/500\n",
            "15/15 [==============================] - 0s 4ms/step - loss: 0.0591 - accuracy: 0.9905 - val_loss: 0.0371 - val_accuracy: 0.9778\n",
            "Epoch 185/500\n",
            "15/15 [==============================] - 0s 2ms/step - loss: 0.0603 - accuracy: 0.9905 - val_loss: 0.0438 - val_accuracy: 0.9778\n",
            "Epoch 186/500\n",
            "15/15 [==============================] - 0s 2ms/step - loss: 0.0615 - accuracy: 0.9810 - val_loss: 0.0368 - val_accuracy: 0.9778\n",
            "Epoch 187/500\n",
            "15/15 [==============================] - 0s 2ms/step - loss: 0.0734 - accuracy: 0.9619 - val_loss: 0.0395 - val_accuracy: 0.9778\n",
            "Epoch 188/500\n",
            "15/15 [==============================] - 0s 4ms/step - loss: 0.0635 - accuracy: 0.9714 - val_loss: 0.0304 - val_accuracy: 0.9778\n",
            "Epoch 189/500\n",
            "15/15 [==============================] - 0s 4ms/step - loss: 0.0633 - accuracy: 0.9905 - val_loss: 0.0434 - val_accuracy: 0.9778\n",
            "Epoch 190/500\n",
            "15/15 [==============================] - 0s 3ms/step - loss: 0.0582 - accuracy: 0.9905 - val_loss: 0.0365 - val_accuracy: 0.9778\n",
            "Epoch 191/500\n",
            "15/15 [==============================] - 0s 4ms/step - loss: 0.0579 - accuracy: 0.9905 - val_loss: 0.0455 - val_accuracy: 0.9778\n",
            "Epoch 192/500\n",
            "15/15 [==============================] - 0s 2ms/step - loss: 0.0608 - accuracy: 0.9810 - val_loss: 0.0390 - val_accuracy: 0.9778\n",
            "Epoch 193/500\n",
            "15/15 [==============================] - 0s 3ms/step - loss: 0.0656 - accuracy: 0.9714 - val_loss: 0.0334 - val_accuracy: 0.9778\n",
            "Epoch 194/500\n",
            "15/15 [==============================] - 0s 2ms/step - loss: 0.0611 - accuracy: 0.9714 - val_loss: 0.0417 - val_accuracy: 0.9778\n",
            "Epoch 195/500\n",
            "15/15 [==============================] - 0s 4ms/step - loss: 0.0632 - accuracy: 0.9810 - val_loss: 0.0260 - val_accuracy: 0.9778\n",
            "Epoch 196/500\n",
            "15/15 [==============================] - 0s 4ms/step - loss: 0.0632 - accuracy: 0.9714 - val_loss: 0.0403 - val_accuracy: 0.9778\n",
            "Epoch 197/500\n",
            "15/15 [==============================] - 0s 2ms/step - loss: 0.0596 - accuracy: 0.9810 - val_loss: 0.0383 - val_accuracy: 0.9778\n",
            "Epoch 198/500\n",
            "15/15 [==============================] - 0s 2ms/step - loss: 0.0627 - accuracy: 0.9810 - val_loss: 0.0364 - val_accuracy: 0.9778\n",
            "Epoch 199/500\n",
            "15/15 [==============================] - 0s 3ms/step - loss: 0.0619 - accuracy: 0.9810 - val_loss: 0.0426 - val_accuracy: 0.9778\n",
            "Epoch 200/500\n",
            "15/15 [==============================] - 0s 3ms/step - loss: 0.0676 - accuracy: 0.9714 - val_loss: 0.0376 - val_accuracy: 0.9778\n",
            "Epoch 201/500\n",
            "15/15 [==============================] - 0s 4ms/step - loss: 0.0570 - accuracy: 0.9905 - val_loss: 0.0355 - val_accuracy: 0.9778\n",
            "Epoch 202/500\n",
            "15/15 [==============================] - 0s 3ms/step - loss: 0.0546 - accuracy: 0.9905 - val_loss: 0.0432 - val_accuracy: 0.9778\n",
            "Epoch 203/500\n",
            "15/15 [==============================] - 0s 2ms/step - loss: 0.0567 - accuracy: 0.9810 - val_loss: 0.0358 - val_accuracy: 0.9778\n",
            "Epoch 204/500\n",
            "15/15 [==============================] - 0s 3ms/step - loss: 0.0576 - accuracy: 0.9905 - val_loss: 0.0378 - val_accuracy: 0.9778\n",
            "Epoch 205/500\n",
            "15/15 [==============================] - 0s 3ms/step - loss: 0.0587 - accuracy: 0.9810 - val_loss: 0.0418 - val_accuracy: 0.9778\n",
            "Epoch 206/500\n",
            "15/15 [==============================] - 0s 2ms/step - loss: 0.0668 - accuracy: 0.9714 - val_loss: 0.0324 - val_accuracy: 0.9778\n",
            "Epoch 207/500\n",
            "15/15 [==============================] - 0s 3ms/step - loss: 0.0556 - accuracy: 0.9810 - val_loss: 0.0278 - val_accuracy: 0.9778\n",
            "Epoch 208/500\n",
            "15/15 [==============================] - 0s 3ms/step - loss: 0.0632 - accuracy: 0.9810 - val_loss: 0.0488 - val_accuracy: 0.9778\n",
            "Epoch 209/500\n",
            "15/15 [==============================] - 0s 4ms/step - loss: 0.0564 - accuracy: 0.9905 - val_loss: 0.0322 - val_accuracy: 0.9778\n",
            "Epoch 210/500\n",
            "15/15 [==============================] - 0s 3ms/step - loss: 0.0571 - accuracy: 0.9905 - val_loss: 0.0436 - val_accuracy: 0.9778\n",
            "Epoch 211/500\n",
            "15/15 [==============================] - 0s 3ms/step - loss: 0.0532 - accuracy: 0.9905 - val_loss: 0.0332 - val_accuracy: 0.9778\n",
            "Epoch 212/500\n",
            "15/15 [==============================] - 0s 3ms/step - loss: 0.0600 - accuracy: 0.9714 - val_loss: 0.0464 - val_accuracy: 0.9778\n",
            "Epoch 213/500\n",
            "15/15 [==============================] - 0s 2ms/step - loss: 0.0572 - accuracy: 0.9810 - val_loss: 0.0356 - val_accuracy: 0.9778\n",
            "Epoch 214/500\n",
            "15/15 [==============================] - 0s 2ms/step - loss: 0.0594 - accuracy: 0.9714 - val_loss: 0.0338 - val_accuracy: 0.9778\n",
            "Epoch 215/500\n",
            "15/15 [==============================] - 0s 2ms/step - loss: 0.0521 - accuracy: 0.9905 - val_loss: 0.0444 - val_accuracy: 0.9778\n",
            "Epoch 216/500\n",
            "15/15 [==============================] - 0s 2ms/step - loss: 0.0565 - accuracy: 0.9810 - val_loss: 0.0454 - val_accuracy: 0.9778\n",
            "Epoch 217/500\n",
            "15/15 [==============================] - 0s 3ms/step - loss: 0.0566 - accuracy: 0.9905 - val_loss: 0.0382 - val_accuracy: 0.9778\n",
            "Epoch 218/500\n",
            "15/15 [==============================] - 0s 2ms/step - loss: 0.0527 - accuracy: 0.9905 - val_loss: 0.0406 - val_accuracy: 0.9778\n",
            "Epoch 219/500\n",
            "15/15 [==============================] - 0s 2ms/step - loss: 0.0709 - accuracy: 0.9619 - val_loss: 0.0371 - val_accuracy: 0.9778\n",
            "Epoch 220/500\n",
            "15/15 [==============================] - 0s 2ms/step - loss: 0.0581 - accuracy: 0.9810 - val_loss: 0.0322 - val_accuracy: 0.9778\n",
            "Epoch 221/500\n",
            "15/15 [==============================] - 0s 3ms/step - loss: 0.0564 - accuracy: 0.9905 - val_loss: 0.0444 - val_accuracy: 0.9778\n",
            "Epoch 222/500\n",
            "15/15 [==============================] - 0s 4ms/step - loss: 0.0519 - accuracy: 0.9905 - val_loss: 0.0372 - val_accuracy: 0.9778\n",
            "Epoch 223/500\n",
            "15/15 [==============================] - 0s 2ms/step - loss: 0.0536 - accuracy: 0.9905 - val_loss: 0.0420 - val_accuracy: 0.9778\n",
            "Epoch 224/500\n",
            "15/15 [==============================] - 0s 2ms/step - loss: 0.0545 - accuracy: 0.9905 - val_loss: 0.0357 - val_accuracy: 0.9778\n",
            "Epoch 225/500\n",
            "15/15 [==============================] - 0s 4ms/step - loss: 0.0564 - accuracy: 0.9810 - val_loss: 0.0500 - val_accuracy: 0.9778\n",
            "Epoch 226/500\n",
            "15/15 [==============================] - 0s 4ms/step - loss: 0.0661 - accuracy: 0.9714 - val_loss: 0.0253 - val_accuracy: 0.9778\n",
            "Epoch 227/500\n",
            "15/15 [==============================] - 0s 3ms/step - loss: 0.0577 - accuracy: 0.9810 - val_loss: 0.0462 - val_accuracy: 0.9778\n",
            "Epoch 228/500\n",
            "15/15 [==============================] - 0s 2ms/step - loss: 0.0567 - accuracy: 0.9905 - val_loss: 0.0361 - val_accuracy: 0.9778\n",
            "Epoch 229/500\n",
            "15/15 [==============================] - 0s 3ms/step - loss: 0.0565 - accuracy: 0.9905 - val_loss: 0.0368 - val_accuracy: 0.9778\n",
            "Epoch 230/500\n",
            "15/15 [==============================] - 0s 2ms/step - loss: 0.0533 - accuracy: 0.9905 - val_loss: 0.0451 - val_accuracy: 0.9778\n",
            "Epoch 231/500\n",
            "15/15 [==============================] - 0s 2ms/step - loss: 0.0587 - accuracy: 0.9905 - val_loss: 0.0276 - val_accuracy: 0.9778\n",
            "Epoch 232/500\n",
            "15/15 [==============================] - 0s 4ms/step - loss: 0.0507 - accuracy: 0.9905 - val_loss: 0.0405 - val_accuracy: 0.9778\n",
            "Epoch 233/500\n",
            "15/15 [==============================] - 0s 3ms/step - loss: 0.0504 - accuracy: 0.9905 - val_loss: 0.0481 - val_accuracy: 0.9778\n",
            "Epoch 234/500\n",
            "15/15 [==============================] - 0s 2ms/step - loss: 0.0560 - accuracy: 0.9905 - val_loss: 0.0467 - val_accuracy: 0.9778\n",
            "Epoch 235/500\n",
            "15/15 [==============================] - 0s 3ms/step - loss: 0.0543 - accuracy: 0.9905 - val_loss: 0.0372 - val_accuracy: 0.9778\n",
            "Epoch 236/500\n",
            "15/15 [==============================] - 0s 4ms/step - loss: 0.0569 - accuracy: 0.9714 - val_loss: 0.0462 - val_accuracy: 0.9778\n",
            "Epoch 237/500\n",
            "15/15 [==============================] - 0s 3ms/step - loss: 0.0653 - accuracy: 0.9714 - val_loss: 0.0317 - val_accuracy: 0.9778\n",
            "Epoch 238/500\n",
            "15/15 [==============================] - 0s 2ms/step - loss: 0.0729 - accuracy: 0.9619 - val_loss: 0.0384 - val_accuracy: 0.9778\n",
            "Epoch 239/500\n",
            "15/15 [==============================] - 0s 3ms/step - loss: 0.0529 - accuracy: 0.9905 - val_loss: 0.0358 - val_accuracy: 0.9778\n",
            "Epoch 240/500\n",
            "15/15 [==============================] - 0s 2ms/step - loss: 0.0505 - accuracy: 0.9905 - val_loss: 0.0422 - val_accuracy: 0.9778\n",
            "Epoch 241/500\n",
            "15/15 [==============================] - 0s 3ms/step - loss: 0.0525 - accuracy: 0.9905 - val_loss: 0.0383 - val_accuracy: 0.9778\n",
            "Epoch 242/500\n",
            "15/15 [==============================] - 0s 3ms/step - loss: 0.0529 - accuracy: 0.9810 - val_loss: 0.0374 - val_accuracy: 0.9778\n",
            "Epoch 243/500\n",
            "15/15 [==============================] - 0s 2ms/step - loss: 0.0531 - accuracy: 0.9905 - val_loss: 0.0485 - val_accuracy: 0.9778\n",
            "Epoch 244/500\n",
            "15/15 [==============================] - 0s 2ms/step - loss: 0.0529 - accuracy: 0.9905 - val_loss: 0.0427 - val_accuracy: 0.9778\n",
            "Epoch 245/500\n",
            "15/15 [==============================] - 0s 2ms/step - loss: 0.0513 - accuracy: 0.9905 - val_loss: 0.0408 - val_accuracy: 0.9778\n",
            "Epoch 246/500\n",
            "15/15 [==============================] - 0s 4ms/step - loss: 0.0521 - accuracy: 0.9905 - val_loss: 0.0418 - val_accuracy: 0.9778\n",
            "Epoch 247/500\n",
            "15/15 [==============================] - 0s 3ms/step - loss: 0.0502 - accuracy: 0.9905 - val_loss: 0.0356 - val_accuracy: 0.9778\n",
            "Epoch 248/500\n",
            "15/15 [==============================] - 0s 3ms/step - loss: 0.0555 - accuracy: 0.9810 - val_loss: 0.0464 - val_accuracy: 0.9778\n",
            "Epoch 249/500\n",
            "15/15 [==============================] - 0s 3ms/step - loss: 0.0564 - accuracy: 0.9905 - val_loss: 0.0379 - val_accuracy: 0.9778\n",
            "Epoch 250/500\n",
            "15/15 [==============================] - 0s 2ms/step - loss: 0.0495 - accuracy: 0.9905 - val_loss: 0.0540 - val_accuracy: 0.9778\n",
            "Epoch 251/500\n",
            "15/15 [==============================] - 0s 4ms/step - loss: 0.0634 - accuracy: 0.9810 - val_loss: 0.0276 - val_accuracy: 0.9778\n",
            "Epoch 252/500\n",
            "15/15 [==============================] - 0s 4ms/step - loss: 0.0595 - accuracy: 0.9810 - val_loss: 0.0356 - val_accuracy: 0.9778\n",
            "Epoch 253/500\n",
            "15/15 [==============================] - 0s 2ms/step - loss: 0.0520 - accuracy: 0.9905 - val_loss: 0.0445 - val_accuracy: 0.9778\n",
            "Epoch 254/500\n",
            "15/15 [==============================] - 0s 3ms/step - loss: 0.0520 - accuracy: 0.9905 - val_loss: 0.0414 - val_accuracy: 0.9778\n",
            "Epoch 255/500\n",
            "15/15 [==============================] - 0s 3ms/step - loss: 0.0535 - accuracy: 0.9905 - val_loss: 0.0324 - val_accuracy: 0.9778\n",
            "Epoch 256/500\n",
            "15/15 [==============================] - 0s 4ms/step - loss: 0.0533 - accuracy: 0.9810 - val_loss: 0.0535 - val_accuracy: 0.9778\n",
            "Epoch 257/500\n",
            "15/15 [==============================] - 0s 3ms/step - loss: 0.0499 - accuracy: 0.9905 - val_loss: 0.0390 - val_accuracy: 0.9778\n",
            "Epoch 258/500\n",
            "15/15 [==============================] - 0s 4ms/step - loss: 0.0522 - accuracy: 0.9905 - val_loss: 0.0389 - val_accuracy: 0.9778\n",
            "Epoch 259/500\n",
            "15/15 [==============================] - 0s 2ms/step - loss: 0.0527 - accuracy: 0.9905 - val_loss: 0.0496 - val_accuracy: 0.9778\n",
            "Epoch 260/500\n",
            "15/15 [==============================] - 0s 4ms/step - loss: 0.0529 - accuracy: 0.9905 - val_loss: 0.0406 - val_accuracy: 0.9778\n",
            "Epoch 261/500\n",
            "15/15 [==============================] - 0s 3ms/step - loss: 0.0496 - accuracy: 0.9905 - val_loss: 0.0467 - val_accuracy: 0.9778\n",
            "Epoch 262/500\n",
            "15/15 [==============================] - 0s 3ms/step - loss: 0.0583 - accuracy: 0.9810 - val_loss: 0.0313 - val_accuracy: 0.9778\n",
            "Epoch 263/500\n",
            "15/15 [==============================] - 0s 2ms/step - loss: 0.0633 - accuracy: 0.9714 - val_loss: 0.0430 - val_accuracy: 0.9778\n",
            "Epoch 264/500\n",
            "15/15 [==============================] - 0s 3ms/step - loss: 0.0533 - accuracy: 0.9905 - val_loss: 0.0328 - val_accuracy: 0.9778\n",
            "Epoch 265/500\n",
            "15/15 [==============================] - 0s 4ms/step - loss: 0.0491 - accuracy: 0.9810 - val_loss: 0.0424 - val_accuracy: 0.9778\n",
            "Epoch 266/500\n",
            "15/15 [==============================] - 0s 2ms/step - loss: 0.0602 - accuracy: 0.9714 - val_loss: 0.0476 - val_accuracy: 0.9778\n",
            "Epoch 267/500\n",
            "15/15 [==============================] - 0s 3ms/step - loss: 0.0811 - accuracy: 0.9619 - val_loss: 0.0297 - val_accuracy: 0.9778\n",
            "Epoch 268/500\n",
            "15/15 [==============================] - 0s 3ms/step - loss: 0.0596 - accuracy: 0.9714 - val_loss: 0.0529 - val_accuracy: 0.9778\n",
            "Epoch 269/500\n",
            "15/15 [==============================] - 0s 3ms/step - loss: 0.0523 - accuracy: 0.9905 - val_loss: 0.0280 - val_accuracy: 0.9778\n",
            "Epoch 270/500\n",
            "15/15 [==============================] - 0s 3ms/step - loss: 0.0591 - accuracy: 0.9810 - val_loss: 0.0506 - val_accuracy: 0.9778\n",
            "Epoch 271/500\n",
            "15/15 [==============================] - 0s 3ms/step - loss: 0.0494 - accuracy: 0.9905 - val_loss: 0.0320 - val_accuracy: 0.9778\n",
            "Epoch 272/500\n",
            "15/15 [==============================] - 0s 2ms/step - loss: 0.0505 - accuracy: 0.9905 - val_loss: 0.0407 - val_accuracy: 0.9778\n",
            "Epoch 273/500\n",
            "15/15 [==============================] - 0s 2ms/step - loss: 0.0532 - accuracy: 0.9905 - val_loss: 0.0484 - val_accuracy: 0.9778\n",
            "Epoch 274/500\n",
            "15/15 [==============================] - 0s 3ms/step - loss: 0.0477 - accuracy: 0.9905 - val_loss: 0.0353 - val_accuracy: 0.9778\n",
            "Epoch 275/500\n",
            "15/15 [==============================] - 0s 4ms/step - loss: 0.0544 - accuracy: 0.9905 - val_loss: 0.0506 - val_accuracy: 0.9778\n",
            "Epoch 276/500\n",
            "15/15 [==============================] - 0s 4ms/step - loss: 0.0504 - accuracy: 0.9905 - val_loss: 0.0434 - val_accuracy: 0.9778\n",
            "Epoch 277/500\n",
            "15/15 [==============================] - 0s 4ms/step - loss: 0.0549 - accuracy: 0.9714 - val_loss: 0.0280 - val_accuracy: 0.9778\n",
            "Epoch 278/500\n",
            "15/15 [==============================] - 0s 4ms/step - loss: 0.0550 - accuracy: 0.9810 - val_loss: 0.0448 - val_accuracy: 0.9778\n",
            "Epoch 279/500\n",
            "15/15 [==============================] - 0s 2ms/step - loss: 0.0497 - accuracy: 0.9905 - val_loss: 0.0462 - val_accuracy: 0.9778\n",
            "Epoch 280/500\n",
            "15/15 [==============================] - 0s 2ms/step - loss: 0.0503 - accuracy: 0.9905 - val_loss: 0.0487 - val_accuracy: 0.9778\n",
            "Epoch 281/500\n",
            "15/15 [==============================] - 0s 2ms/step - loss: 0.0508 - accuracy: 0.9810 - val_loss: 0.0364 - val_accuracy: 0.9778\n",
            "Epoch 282/500\n",
            "15/15 [==============================] - 0s 4ms/step - loss: 0.0529 - accuracy: 0.9905 - val_loss: 0.0395 - val_accuracy: 0.9778\n",
            "Epoch 283/500\n",
            "15/15 [==============================] - 0s 3ms/step - loss: 0.0491 - accuracy: 0.9905 - val_loss: 0.0381 - val_accuracy: 0.9778\n",
            "Epoch 284/500\n",
            "15/15 [==============================] - 0s 3ms/step - loss: 0.0512 - accuracy: 0.9905 - val_loss: 0.0387 - val_accuracy: 0.9778\n",
            "Epoch 285/500\n",
            "15/15 [==============================] - 0s 3ms/step - loss: 0.0507 - accuracy: 0.9905 - val_loss: 0.0530 - val_accuracy: 0.9778\n",
            "Epoch 286/500\n",
            "15/15 [==============================] - 0s 3ms/step - loss: 0.0568 - accuracy: 0.9905 - val_loss: 0.0326 - val_accuracy: 0.9778\n",
            "Epoch 287/500\n",
            "15/15 [==============================] - 0s 4ms/step - loss: 0.0491 - accuracy: 0.9905 - val_loss: 0.0626 - val_accuracy: 0.9778\n",
            "Epoch 288/500\n",
            "15/15 [==============================] - 0s 3ms/step - loss: 0.0514 - accuracy: 0.9714 - val_loss: 0.0380 - val_accuracy: 0.9778\n",
            "Epoch 289/500\n",
            "15/15 [==============================] - 0s 3ms/step - loss: 0.0485 - accuracy: 0.9905 - val_loss: 0.0374 - val_accuracy: 0.9778\n",
            "Epoch 290/500\n",
            "15/15 [==============================] - 0s 2ms/step - loss: 0.0531 - accuracy: 0.9905 - val_loss: 0.0499 - val_accuracy: 0.9778\n",
            "Epoch 291/500\n",
            "15/15 [==============================] - 0s 3ms/step - loss: 0.0536 - accuracy: 0.9905 - val_loss: 0.0413 - val_accuracy: 0.9778\n",
            "Epoch 292/500\n",
            "15/15 [==============================] - 0s 4ms/step - loss: 0.0565 - accuracy: 0.9810 - val_loss: 0.0463 - val_accuracy: 0.9778\n",
            "Epoch 293/500\n",
            "15/15 [==============================] - 0s 4ms/step - loss: 0.0481 - accuracy: 0.9905 - val_loss: 0.0383 - val_accuracy: 0.9778\n",
            "Epoch 294/500\n",
            "15/15 [==============================] - 0s 4ms/step - loss: 0.0490 - accuracy: 0.9905 - val_loss: 0.0438 - val_accuracy: 0.9778\n",
            "Epoch 295/500\n",
            "15/15 [==============================] - 0s 4ms/step - loss: 0.0533 - accuracy: 0.9810 - val_loss: 0.0486 - val_accuracy: 0.9778\n",
            "Epoch 296/500\n",
            "15/15 [==============================] - 0s 3ms/step - loss: 0.0489 - accuracy: 0.9905 - val_loss: 0.0346 - val_accuracy: 0.9778\n",
            "Epoch 297/500\n",
            "15/15 [==============================] - 0s 3ms/step - loss: 0.0515 - accuracy: 0.9905 - val_loss: 0.0473 - val_accuracy: 0.9778\n",
            "Epoch 298/500\n",
            "15/15 [==============================] - 0s 4ms/step - loss: 0.0533 - accuracy: 0.9810 - val_loss: 0.0365 - val_accuracy: 0.9778\n",
            "Epoch 299/500\n",
            "15/15 [==============================] - 0s 3ms/step - loss: 0.0600 - accuracy: 0.9619 - val_loss: 0.0405 - val_accuracy: 0.9778\n",
            "Epoch 300/500\n",
            "15/15 [==============================] - 0s 3ms/step - loss: 0.0542 - accuracy: 0.9905 - val_loss: 0.0450 - val_accuracy: 0.9778\n",
            "Epoch 301/500\n",
            "15/15 [==============================] - 0s 4ms/step - loss: 0.0495 - accuracy: 0.9905 - val_loss: 0.0409 - val_accuracy: 0.9778\n",
            "Epoch 302/500\n",
            "15/15 [==============================] - 0s 3ms/step - loss: 0.0481 - accuracy: 0.9905 - val_loss: 0.0453 - val_accuracy: 0.9778\n",
            "Epoch 303/500\n",
            "15/15 [==============================] - 0s 2ms/step - loss: 0.0471 - accuracy: 0.9905 - val_loss: 0.0487 - val_accuracy: 0.9778\n",
            "Epoch 304/500\n",
            "15/15 [==============================] - 0s 4ms/step - loss: 0.0471 - accuracy: 0.9905 - val_loss: 0.0402 - val_accuracy: 0.9778\n",
            "Epoch 305/500\n",
            "15/15 [==============================] - 0s 3ms/step - loss: 0.0485 - accuracy: 0.9905 - val_loss: 0.0445 - val_accuracy: 0.9778\n",
            "Epoch 306/500\n",
            "15/15 [==============================] - 0s 2ms/step - loss: 0.0543 - accuracy: 0.9810 - val_loss: 0.0442 - val_accuracy: 0.9778\n",
            "Epoch 307/500\n",
            "15/15 [==============================] - 0s 4ms/step - loss: 0.0642 - accuracy: 0.9619 - val_loss: 0.0624 - val_accuracy: 0.9778\n",
            "Epoch 308/500\n",
            "15/15 [==============================] - 0s 2ms/step - loss: 0.0483 - accuracy: 0.9905 - val_loss: 0.0260 - val_accuracy: 0.9778\n",
            "Epoch 309/500\n",
            "15/15 [==============================] - 0s 4ms/step - loss: 0.0530 - accuracy: 0.9905 - val_loss: 0.0445 - val_accuracy: 0.9778\n",
            "Epoch 310/500\n",
            "15/15 [==============================] - 0s 2ms/step - loss: 0.0462 - accuracy: 0.9905 - val_loss: 0.0427 - val_accuracy: 0.9778\n",
            "Epoch 311/500\n",
            "15/15 [==============================] - 0s 2ms/step - loss: 0.0508 - accuracy: 0.9905 - val_loss: 0.0592 - val_accuracy: 0.9778\n",
            "Epoch 312/500\n",
            "15/15 [==============================] - 0s 4ms/step - loss: 0.0489 - accuracy: 0.9810 - val_loss: 0.0393 - val_accuracy: 0.9778\n",
            "Epoch 313/500\n",
            "15/15 [==============================] - 0s 3ms/step - loss: 0.0487 - accuracy: 0.9905 - val_loss: 0.0441 - val_accuracy: 0.9778\n",
            "Epoch 314/500\n",
            "15/15 [==============================] - 0s 4ms/step - loss: 0.0514 - accuracy: 0.9810 - val_loss: 0.0429 - val_accuracy: 0.9778\n",
            "Epoch 315/500\n",
            "15/15 [==============================] - 0s 4ms/step - loss: 0.0468 - accuracy: 0.9905 - val_loss: 0.0482 - val_accuracy: 0.9778\n",
            "Epoch 316/500\n",
            "15/15 [==============================] - 0s 2ms/step - loss: 0.0540 - accuracy: 0.9905 - val_loss: 0.0273 - val_accuracy: 0.9778\n",
            "Epoch 317/500\n",
            "15/15 [==============================] - 0s 4ms/step - loss: 0.0503 - accuracy: 0.9905 - val_loss: 0.0458 - val_accuracy: 0.9778\n",
            "Epoch 318/500\n",
            "15/15 [==============================] - 0s 3ms/step - loss: 0.0525 - accuracy: 0.9905 - val_loss: 0.0448 - val_accuracy: 0.9778\n",
            "Epoch 319/500\n",
            "15/15 [==============================] - 0s 2ms/step - loss: 0.0502 - accuracy: 0.9810 - val_loss: 0.0616 - val_accuracy: 0.9778\n",
            "Epoch 320/500\n",
            "15/15 [==============================] - 0s 3ms/step - loss: 0.0498 - accuracy: 0.9905 - val_loss: 0.0307 - val_accuracy: 0.9778\n",
            "Epoch 321/500\n",
            "15/15 [==============================] - 0s 4ms/step - loss: 0.0485 - accuracy: 0.9810 - val_loss: 0.0591 - val_accuracy: 0.9778\n",
            "Epoch 322/500\n",
            "15/15 [==============================] - 0s 3ms/step - loss: 0.0489 - accuracy: 0.9905 - val_loss: 0.0365 - val_accuracy: 0.9778\n",
            "Epoch 323/500\n",
            "15/15 [==============================] - 0s 3ms/step - loss: 0.0483 - accuracy: 0.9905 - val_loss: 0.0458 - val_accuracy: 0.9778\n",
            "Epoch 324/500\n",
            "15/15 [==============================] - 0s 3ms/step - loss: 0.0511 - accuracy: 0.9810 - val_loss: 0.0432 - val_accuracy: 0.9778\n",
            "Epoch 325/500\n",
            "15/15 [==============================] - 0s 4ms/step - loss: 0.0474 - accuracy: 0.9810 - val_loss: 0.0484 - val_accuracy: 0.9778\n",
            "Epoch 326/500\n",
            "15/15 [==============================] - 0s 4ms/step - loss: 0.0512 - accuracy: 0.9810 - val_loss: 0.0491 - val_accuracy: 0.9778\n",
            "Epoch 327/500\n",
            "15/15 [==============================] - 0s 4ms/step - loss: 0.0546 - accuracy: 0.9810 - val_loss: 0.0378 - val_accuracy: 0.9778\n",
            "Epoch 328/500\n",
            "15/15 [==============================] - 0s 3ms/step - loss: 0.0495 - accuracy: 0.9905 - val_loss: 0.0486 - val_accuracy: 0.9778\n",
            "Epoch 329/500\n",
            "15/15 [==============================] - 0s 4ms/step - loss: 0.0483 - accuracy: 0.9905 - val_loss: 0.0463 - val_accuracy: 0.9778\n",
            "Epoch 330/500\n",
            "15/15 [==============================] - 0s 3ms/step - loss: 0.0485 - accuracy: 0.9905 - val_loss: 0.0503 - val_accuracy: 0.9778\n",
            "Epoch 331/500\n",
            "15/15 [==============================] - 0s 4ms/step - loss: 0.0516 - accuracy: 0.9905 - val_loss: 0.0552 - val_accuracy: 0.9778\n",
            "Epoch 332/500\n",
            "15/15 [==============================] - 0s 3ms/step - loss: 0.0488 - accuracy: 0.9810 - val_loss: 0.0513 - val_accuracy: 0.9778\n",
            "Epoch 333/500\n",
            "15/15 [==============================] - 0s 3ms/step - loss: 0.0453 - accuracy: 0.9905 - val_loss: 0.0396 - val_accuracy: 0.9778\n",
            "Epoch 334/500\n",
            "15/15 [==============================] - 0s 3ms/step - loss: 0.0522 - accuracy: 0.9905 - val_loss: 0.0592 - val_accuracy: 0.9778\n",
            "Epoch 335/500\n",
            "15/15 [==============================] - 0s 3ms/step - loss: 0.0503 - accuracy: 0.9714 - val_loss: 0.0412 - val_accuracy: 0.9778\n",
            "Epoch 336/500\n",
            "15/15 [==============================] - 0s 3ms/step - loss: 0.0465 - accuracy: 0.9905 - val_loss: 0.0525 - val_accuracy: 0.9778\n",
            "Epoch 337/500\n",
            "15/15 [==============================] - 0s 3ms/step - loss: 0.0467 - accuracy: 0.9905 - val_loss: 0.0331 - val_accuracy: 0.9778\n",
            "Epoch 338/500\n",
            "15/15 [==============================] - 0s 3ms/step - loss: 0.0504 - accuracy: 0.9905 - val_loss: 0.0493 - val_accuracy: 0.9778\n",
            "Epoch 339/500\n",
            "15/15 [==============================] - 0s 3ms/step - loss: 0.0474 - accuracy: 0.9905 - val_loss: 0.0422 - val_accuracy: 0.9778\n",
            "Epoch 340/500\n",
            "15/15 [==============================] - 0s 3ms/step - loss: 0.0492 - accuracy: 0.9810 - val_loss: 0.0371 - val_accuracy: 0.9778\n",
            "Epoch 341/500\n",
            "15/15 [==============================] - 0s 3ms/step - loss: 0.0507 - accuracy: 0.9905 - val_loss: 0.0425 - val_accuracy: 0.9778\n",
            "Epoch 342/500\n",
            "15/15 [==============================] - 0s 3ms/step - loss: 0.0465 - accuracy: 0.9905 - val_loss: 0.0528 - val_accuracy: 0.9778\n",
            "Epoch 343/500\n",
            "15/15 [==============================] - 0s 4ms/step - loss: 0.0535 - accuracy: 0.9810 - val_loss: 0.0422 - val_accuracy: 0.9778\n",
            "Epoch 344/500\n",
            "15/15 [==============================] - 0s 3ms/step - loss: 0.0497 - accuracy: 0.9905 - val_loss: 0.0532 - val_accuracy: 0.9778\n",
            "Epoch 345/500\n",
            "15/15 [==============================] - 0s 3ms/step - loss: 0.0539 - accuracy: 0.9714 - val_loss: 0.0290 - val_accuracy: 0.9778\n",
            "Epoch 346/500\n",
            "15/15 [==============================] - 0s 3ms/step - loss: 0.0604 - accuracy: 0.9810 - val_loss: 0.0487 - val_accuracy: 0.9778\n",
            "Epoch 347/500\n",
            "15/15 [==============================] - 0s 2ms/step - loss: 0.0459 - accuracy: 0.9905 - val_loss: 0.0420 - val_accuracy: 0.9778\n",
            "Epoch 348/500\n",
            "15/15 [==============================] - 0s 4ms/step - loss: 0.0622 - accuracy: 0.9810 - val_loss: 0.0414 - val_accuracy: 0.9778\n",
            "Epoch 349/500\n",
            "15/15 [==============================] - 0s 4ms/step - loss: 0.0464 - accuracy: 0.9905 - val_loss: 0.0580 - val_accuracy: 0.9778\n",
            "Epoch 350/500\n",
            "15/15 [==============================] - 0s 4ms/step - loss: 0.0491 - accuracy: 0.9810 - val_loss: 0.0435 - val_accuracy: 0.9778\n",
            "Epoch 351/500\n",
            "15/15 [==============================] - 0s 4ms/step - loss: 0.0466 - accuracy: 0.9905 - val_loss: 0.0447 - val_accuracy: 0.9778\n",
            "Epoch 352/500\n",
            "15/15 [==============================] - 0s 3ms/step - loss: 0.0475 - accuracy: 0.9905 - val_loss: 0.0502 - val_accuracy: 0.9778\n",
            "Epoch 353/500\n",
            "15/15 [==============================] - 0s 4ms/step - loss: 0.0465 - accuracy: 0.9905 - val_loss: 0.0406 - val_accuracy: 0.9778\n",
            "Epoch 354/500\n",
            "15/15 [==============================] - 0s 4ms/step - loss: 0.0477 - accuracy: 0.9905 - val_loss: 0.0507 - val_accuracy: 0.9778\n",
            "Epoch 355/500\n",
            "15/15 [==============================] - 0s 4ms/step - loss: 0.0522 - accuracy: 0.9619 - val_loss: 0.0370 - val_accuracy: 0.9778\n",
            "Epoch 356/500\n",
            "15/15 [==============================] - 0s 3ms/step - loss: 0.0551 - accuracy: 0.9810 - val_loss: 0.0488 - val_accuracy: 0.9778\n",
            "Epoch 357/500\n",
            "15/15 [==============================] - 0s 3ms/step - loss: 0.0472 - accuracy: 0.9905 - val_loss: 0.0534 - val_accuracy: 0.9778\n",
            "Epoch 358/500\n",
            "15/15 [==============================] - 0s 3ms/step - loss: 0.0442 - accuracy: 0.9905 - val_loss: 0.0473 - val_accuracy: 0.9778\n",
            "Epoch 359/500\n",
            "15/15 [==============================] - 0s 4ms/step - loss: 0.0566 - accuracy: 0.9905 - val_loss: 0.0578 - val_accuracy: 0.9778\n",
            "Epoch 360/500\n",
            "15/15 [==============================] - 0s 3ms/step - loss: 0.0458 - accuracy: 0.9905 - val_loss: 0.0450 - val_accuracy: 0.9778\n",
            "Epoch 361/500\n",
            "15/15 [==============================] - 0s 3ms/step - loss: 0.0537 - accuracy: 0.9810 - val_loss: 0.0505 - val_accuracy: 0.9778\n",
            "Epoch 362/500\n",
            "15/15 [==============================] - 0s 2ms/step - loss: 0.0437 - accuracy: 0.9905 - val_loss: 0.0528 - val_accuracy: 0.9778\n",
            "Epoch 363/500\n",
            "15/15 [==============================] - 0s 3ms/step - loss: 0.0466 - accuracy: 0.9905 - val_loss: 0.0493 - val_accuracy: 0.9778\n",
            "Epoch 364/500\n",
            "15/15 [==============================] - 0s 4ms/step - loss: 0.0473 - accuracy: 0.9905 - val_loss: 0.0421 - val_accuracy: 0.9778\n",
            "Epoch 365/500\n",
            "15/15 [==============================] - 0s 3ms/step - loss: 0.0466 - accuracy: 0.9905 - val_loss: 0.0567 - val_accuracy: 0.9778\n",
            "Epoch 366/500\n",
            "15/15 [==============================] - 0s 4ms/step - loss: 0.0459 - accuracy: 0.9905 - val_loss: 0.0369 - val_accuracy: 0.9778\n",
            "Epoch 367/500\n",
            "15/15 [==============================] - 0s 3ms/step - loss: 0.0470 - accuracy: 0.9905 - val_loss: 0.0580 - val_accuracy: 0.9778\n",
            "Epoch 368/500\n",
            "15/15 [==============================] - 0s 3ms/step - loss: 0.0593 - accuracy: 0.9714 - val_loss: 0.0325 - val_accuracy: 0.9778\n",
            "Epoch 369/500\n",
            "15/15 [==============================] - 0s 3ms/step - loss: 0.0492 - accuracy: 0.9905 - val_loss: 0.0414 - val_accuracy: 0.9778\n",
            "Epoch 370/500\n",
            "15/15 [==============================] - 0s 2ms/step - loss: 0.0452 - accuracy: 0.9905 - val_loss: 0.0455 - val_accuracy: 0.9778\n",
            "Epoch 371/500\n",
            "15/15 [==============================] - 0s 3ms/step - loss: 0.0474 - accuracy: 0.9905 - val_loss: 0.0445 - val_accuracy: 0.9778\n",
            "Epoch 372/500\n",
            "15/15 [==============================] - 0s 4ms/step - loss: 0.0532 - accuracy: 0.9810 - val_loss: 0.0492 - val_accuracy: 0.9778\n",
            "Epoch 373/500\n",
            "15/15 [==============================] - 0s 4ms/step - loss: 0.0484 - accuracy: 0.9810 - val_loss: 0.0374 - val_accuracy: 0.9778\n",
            "Epoch 374/500\n",
            "15/15 [==============================] - 0s 2ms/step - loss: 0.0427 - accuracy: 0.9905 - val_loss: 0.0520 - val_accuracy: 0.9778\n",
            "Epoch 375/500\n",
            "15/15 [==============================] - 0s 3ms/step - loss: 0.0453 - accuracy: 0.9905 - val_loss: 0.0518 - val_accuracy: 0.9778\n",
            "Epoch 376/500\n",
            "15/15 [==============================] - 0s 2ms/step - loss: 0.0492 - accuracy: 0.9810 - val_loss: 0.0430 - val_accuracy: 0.9778\n",
            "Epoch 377/500\n",
            "15/15 [==============================] - 0s 4ms/step - loss: 0.0445 - accuracy: 0.9905 - val_loss: 0.0364 - val_accuracy: 0.9778\n",
            "Epoch 378/500\n",
            "15/15 [==============================] - 0s 3ms/step - loss: 0.0469 - accuracy: 0.9905 - val_loss: 0.0548 - val_accuracy: 0.9778\n",
            "Epoch 379/500\n",
            "15/15 [==============================] - 0s 4ms/step - loss: 0.0465 - accuracy: 0.9905 - val_loss: 0.0510 - val_accuracy: 0.9778\n",
            "Epoch 380/500\n",
            "15/15 [==============================] - 0s 2ms/step - loss: 0.0487 - accuracy: 0.9905 - val_loss: 0.0429 - val_accuracy: 0.9778\n",
            "Epoch 381/500\n",
            "15/15 [==============================] - 0s 4ms/step - loss: 0.0456 - accuracy: 0.9905 - val_loss: 0.0469 - val_accuracy: 0.9778\n",
            "Epoch 382/500\n",
            "15/15 [==============================] - 0s 3ms/step - loss: 0.0482 - accuracy: 0.9905 - val_loss: 0.0468 - val_accuracy: 0.9778\n",
            "Epoch 383/500\n",
            "15/15 [==============================] - 0s 3ms/step - loss: 0.0445 - accuracy: 0.9905 - val_loss: 0.0509 - val_accuracy: 0.9778\n",
            "Epoch 384/500\n",
            "15/15 [==============================] - 0s 3ms/step - loss: 0.0462 - accuracy: 0.9905 - val_loss: 0.0387 - val_accuracy: 0.9778\n",
            "Epoch 385/500\n",
            "15/15 [==============================] - 0s 4ms/step - loss: 0.0449 - accuracy: 0.9905 - val_loss: 0.0429 - val_accuracy: 0.9778\n",
            "Epoch 386/500\n",
            "15/15 [==============================] - 0s 2ms/step - loss: 0.0477 - accuracy: 0.9810 - val_loss: 0.0512 - val_accuracy: 0.9778\n",
            "Epoch 387/500\n",
            "15/15 [==============================] - 0s 4ms/step - loss: 0.0468 - accuracy: 0.9905 - val_loss: 0.0411 - val_accuracy: 0.9778\n",
            "Epoch 388/500\n",
            "15/15 [==============================] - 0s 3ms/step - loss: 0.0490 - accuracy: 0.9905 - val_loss: 0.0469 - val_accuracy: 0.9778\n",
            "Epoch 389/500\n",
            "15/15 [==============================] - 0s 3ms/step - loss: 0.0450 - accuracy: 0.9905 - val_loss: 0.0462 - val_accuracy: 0.9778\n",
            "Epoch 390/500\n",
            "15/15 [==============================] - 0s 4ms/step - loss: 0.0492 - accuracy: 0.9905 - val_loss: 0.0455 - val_accuracy: 0.9778\n",
            "Epoch 391/500\n",
            "15/15 [==============================] - 0s 3ms/step - loss: 0.0459 - accuracy: 0.9905 - val_loss: 0.0525 - val_accuracy: 0.9778\n",
            "Epoch 392/500\n",
            "15/15 [==============================] - 0s 3ms/step - loss: 0.0497 - accuracy: 0.9905 - val_loss: 0.0472 - val_accuracy: 0.9778\n",
            "Epoch 393/500\n",
            "15/15 [==============================] - 0s 4ms/step - loss: 0.0496 - accuracy: 0.9810 - val_loss: 0.0504 - val_accuracy: 0.9778\n",
            "Epoch 394/500\n",
            "15/15 [==============================] - 0s 2ms/step - loss: 0.0480 - accuracy: 0.9905 - val_loss: 0.0482 - val_accuracy: 0.9778\n",
            "Epoch 395/500\n",
            "15/15 [==============================] - 0s 4ms/step - loss: 0.0448 - accuracy: 0.9905 - val_loss: 0.0573 - val_accuracy: 0.9778\n",
            "Epoch 396/500\n",
            "15/15 [==============================] - 0s 3ms/step - loss: 0.0541 - accuracy: 0.9810 - val_loss: 0.0526 - val_accuracy: 0.9778\n",
            "Epoch 397/500\n",
            "15/15 [==============================] - 0s 3ms/step - loss: 0.0461 - accuracy: 0.9905 - val_loss: 0.0603 - val_accuracy: 0.9778\n",
            "Epoch 398/500\n",
            "15/15 [==============================] - 0s 3ms/step - loss: 0.0685 - accuracy: 0.9810 - val_loss: 0.0296 - val_accuracy: 0.9778\n",
            "Epoch 399/500\n",
            "15/15 [==============================] - 0s 3ms/step - loss: 0.0770 - accuracy: 0.9619 - val_loss: 0.0548 - val_accuracy: 0.9778\n",
            "Epoch 400/500\n",
            "15/15 [==============================] - 0s 4ms/step - loss: 0.0479 - accuracy: 0.9810 - val_loss: 0.0299 - val_accuracy: 0.9778\n",
            "Epoch 401/500\n",
            "15/15 [==============================] - 0s 2ms/step - loss: 0.0506 - accuracy: 0.9714 - val_loss: 0.0763 - val_accuracy: 0.9778\n",
            "Epoch 402/500\n",
            "15/15 [==============================] - 0s 4ms/step - loss: 0.0556 - accuracy: 0.9810 - val_loss: 0.0379 - val_accuracy: 0.9778\n",
            "Epoch 403/500\n",
            "15/15 [==============================] - 0s 3ms/step - loss: 0.0508 - accuracy: 0.9810 - val_loss: 0.0446 - val_accuracy: 0.9778\n",
            "Epoch 404/500\n",
            "15/15 [==============================] - 0s 2ms/step - loss: 0.0440 - accuracy: 0.9905 - val_loss: 0.0472 - val_accuracy: 0.9778\n",
            "Epoch 405/500\n",
            "15/15 [==============================] - 0s 3ms/step - loss: 0.0488 - accuracy: 0.9810 - val_loss: 0.0446 - val_accuracy: 0.9778\n",
            "Epoch 406/500\n",
            "15/15 [==============================] - 0s 2ms/step - loss: 0.0554 - accuracy: 0.9905 - val_loss: 0.0446 - val_accuracy: 0.9778\n",
            "Epoch 407/500\n",
            "15/15 [==============================] - 0s 3ms/step - loss: 0.0429 - accuracy: 0.9905 - val_loss: 0.0487 - val_accuracy: 0.9778\n",
            "Epoch 408/500\n",
            "15/15 [==============================] - 0s 3ms/step - loss: 0.0542 - accuracy: 0.9619 - val_loss: 0.0414 - val_accuracy: 0.9778\n",
            "Epoch 409/500\n",
            "15/15 [==============================] - 0s 3ms/step - loss: 0.0457 - accuracy: 0.9905 - val_loss: 0.0483 - val_accuracy: 0.9778\n",
            "Epoch 410/500\n",
            "15/15 [==============================] - 0s 3ms/step - loss: 0.0437 - accuracy: 0.9905 - val_loss: 0.0513 - val_accuracy: 0.9778\n",
            "Epoch 411/500\n",
            "15/15 [==============================] - 0s 4ms/step - loss: 0.0454 - accuracy: 0.9810 - val_loss: 0.0433 - val_accuracy: 0.9778\n",
            "Epoch 412/500\n",
            "15/15 [==============================] - 0s 2ms/step - loss: 0.0524 - accuracy: 0.9810 - val_loss: 0.0588 - val_accuracy: 0.9778\n",
            "Epoch 413/500\n",
            "15/15 [==============================] - 0s 2ms/step - loss: 0.0482 - accuracy: 0.9905 - val_loss: 0.0433 - val_accuracy: 0.9778\n",
            "Epoch 414/500\n",
            "15/15 [==============================] - 0s 3ms/step - loss: 0.0473 - accuracy: 0.9810 - val_loss: 0.0542 - val_accuracy: 0.9778\n",
            "Epoch 415/500\n",
            "15/15 [==============================] - 0s 3ms/step - loss: 0.0425 - accuracy: 0.9905 - val_loss: 0.0476 - val_accuracy: 0.9778\n",
            "Epoch 416/500\n",
            "15/15 [==============================] - 0s 4ms/step - loss: 0.0455 - accuracy: 0.9905 - val_loss: 0.0495 - val_accuracy: 0.9778\n",
            "Epoch 417/500\n",
            "15/15 [==============================] - 0s 3ms/step - loss: 0.0432 - accuracy: 0.9905 - val_loss: 0.0453 - val_accuracy: 0.9778\n",
            "Epoch 418/500\n",
            "15/15 [==============================] - 0s 3ms/step - loss: 0.0428 - accuracy: 0.9905 - val_loss: 0.0514 - val_accuracy: 0.9778\n",
            "Epoch 419/500\n",
            "15/15 [==============================] - 0s 3ms/step - loss: 0.0461 - accuracy: 0.9905 - val_loss: 0.0572 - val_accuracy: 0.9778\n",
            "Epoch 420/500\n",
            "15/15 [==============================] - 0s 4ms/step - loss: 0.0519 - accuracy: 0.9714 - val_loss: 0.0461 - val_accuracy: 0.9778\n",
            "Epoch 421/500\n",
            "15/15 [==============================] - 0s 2ms/step - loss: 0.0467 - accuracy: 0.9905 - val_loss: 0.0408 - val_accuracy: 0.9778\n",
            "Epoch 422/500\n",
            "15/15 [==============================] - 0s 2ms/step - loss: 0.0489 - accuracy: 0.9810 - val_loss: 0.0449 - val_accuracy: 0.9778\n",
            "Epoch 423/500\n",
            "15/15 [==============================] - 0s 3ms/step - loss: 0.0486 - accuracy: 0.9905 - val_loss: 0.0511 - val_accuracy: 0.9778\n",
            "Epoch 424/500\n",
            "15/15 [==============================] - 0s 3ms/step - loss: 0.0442 - accuracy: 0.9905 - val_loss: 0.0494 - val_accuracy: 0.9778\n",
            "Epoch 425/500\n",
            "15/15 [==============================] - 0s 3ms/step - loss: 0.0441 - accuracy: 0.9810 - val_loss: 0.0534 - val_accuracy: 0.9778\n",
            "Epoch 426/500\n",
            "15/15 [==============================] - 0s 2ms/step - loss: 0.0470 - accuracy: 0.9905 - val_loss: 0.0500 - val_accuracy: 0.9778\n",
            "Epoch 427/500\n",
            "15/15 [==============================] - 0s 3ms/step - loss: 0.0441 - accuracy: 0.9905 - val_loss: 0.0468 - val_accuracy: 0.9778\n",
            "Epoch 428/500\n",
            "15/15 [==============================] - 0s 3ms/step - loss: 0.0467 - accuracy: 0.9905 - val_loss: 0.0448 - val_accuracy: 0.9778\n",
            "Epoch 429/500\n",
            "15/15 [==============================] - 0s 2ms/step - loss: 0.0563 - accuracy: 0.9619 - val_loss: 0.0543 - val_accuracy: 0.9778\n",
            "Epoch 430/500\n",
            "15/15 [==============================] - 0s 3ms/step - loss: 0.0504 - accuracy: 0.9810 - val_loss: 0.0391 - val_accuracy: 0.9778\n",
            "Epoch 431/500\n",
            "15/15 [==============================] - 0s 4ms/step - loss: 0.0402 - accuracy: 0.9905 - val_loss: 0.0646 - val_accuracy: 0.9778\n",
            "Epoch 432/500\n",
            "15/15 [==============================] - 0s 3ms/step - loss: 0.0533 - accuracy: 0.9619 - val_loss: 0.0310 - val_accuracy: 0.9778\n",
            "Epoch 433/500\n",
            "15/15 [==============================] - 0s 4ms/step - loss: 0.0577 - accuracy: 0.9810 - val_loss: 0.0448 - val_accuracy: 0.9778\n",
            "Epoch 434/500\n",
            "15/15 [==============================] - 0s 3ms/step - loss: 0.0464 - accuracy: 0.9810 - val_loss: 0.0559 - val_accuracy: 0.9778\n",
            "Epoch 435/500\n",
            "15/15 [==============================] - 0s 3ms/step - loss: 0.0445 - accuracy: 0.9905 - val_loss: 0.0487 - val_accuracy: 0.9778\n",
            "Epoch 436/500\n",
            "15/15 [==============================] - 0s 2ms/step - loss: 0.0508 - accuracy: 0.9810 - val_loss: 0.0488 - val_accuracy: 0.9778\n",
            "Epoch 437/500\n",
            "15/15 [==============================] - 0s 4ms/step - loss: 0.0429 - accuracy: 0.9905 - val_loss: 0.0441 - val_accuracy: 0.9778\n",
            "Epoch 438/500\n",
            "15/15 [==============================] - 0s 4ms/step - loss: 0.0458 - accuracy: 0.9905 - val_loss: 0.0571 - val_accuracy: 0.9778\n",
            "Epoch 439/500\n",
            "15/15 [==============================] - 0s 3ms/step - loss: 0.0501 - accuracy: 0.9905 - val_loss: 0.0626 - val_accuracy: 0.9778\n",
            "Epoch 440/500\n",
            "15/15 [==============================] - 0s 3ms/step - loss: 0.0439 - accuracy: 0.9905 - val_loss: 0.0492 - val_accuracy: 0.9778\n",
            "Epoch 441/500\n",
            "15/15 [==============================] - 0s 3ms/step - loss: 0.0443 - accuracy: 0.9905 - val_loss: 0.0391 - val_accuracy: 0.9778\n",
            "Epoch 442/500\n",
            "15/15 [==============================] - 0s 3ms/step - loss: 0.0473 - accuracy: 0.9905 - val_loss: 0.0551 - val_accuracy: 0.9778\n",
            "Epoch 443/500\n",
            "15/15 [==============================] - 0s 2ms/step - loss: 0.0422 - accuracy: 0.9905 - val_loss: 0.0337 - val_accuracy: 0.9778\n",
            "Epoch 444/500\n",
            "15/15 [==============================] - 0s 3ms/step - loss: 0.0455 - accuracy: 0.9810 - val_loss: 0.0639 - val_accuracy: 0.9778\n",
            "Epoch 445/500\n",
            "15/15 [==============================] - 0s 3ms/step - loss: 0.0479 - accuracy: 0.9810 - val_loss: 0.0681 - val_accuracy: 0.9778\n",
            "Epoch 446/500\n",
            "15/15 [==============================] - 0s 3ms/step - loss: 0.0428 - accuracy: 0.9905 - val_loss: 0.0539 - val_accuracy: 0.9778\n",
            "Epoch 447/500\n",
            "15/15 [==============================] - 0s 2ms/step - loss: 0.0459 - accuracy: 0.9905 - val_loss: 0.0572 - val_accuracy: 0.9778\n",
            "Epoch 448/500\n",
            "15/15 [==============================] - 0s 2ms/step - loss: 0.0427 - accuracy: 0.9905 - val_loss: 0.0474 - val_accuracy: 0.9778\n",
            "Epoch 449/500\n",
            "15/15 [==============================] - 0s 3ms/step - loss: 0.0460 - accuracy: 0.9905 - val_loss: 0.0638 - val_accuracy: 0.9778\n",
            "Epoch 450/500\n",
            "15/15 [==============================] - 0s 4ms/step - loss: 0.0381 - accuracy: 0.9905 - val_loss: 0.0411 - val_accuracy: 0.9778\n",
            "Epoch 451/500\n",
            "15/15 [==============================] - 0s 2ms/step - loss: 0.0442 - accuracy: 0.9905 - val_loss: 0.0450 - val_accuracy: 0.9778\n",
            "Epoch 452/500\n",
            "15/15 [==============================] - 0s 3ms/step - loss: 0.0453 - accuracy: 0.9905 - val_loss: 0.0559 - val_accuracy: 0.9778\n",
            "Epoch 453/500\n",
            "15/15 [==============================] - 0s 4ms/step - loss: 0.0454 - accuracy: 0.9905 - val_loss: 0.0539 - val_accuracy: 0.9778\n",
            "Epoch 454/500\n",
            "15/15 [==============================] - 0s 2ms/step - loss: 0.0449 - accuracy: 0.9905 - val_loss: 0.0484 - val_accuracy: 0.9778\n",
            "Epoch 455/500\n",
            "15/15 [==============================] - 0s 3ms/step - loss: 0.0477 - accuracy: 0.9810 - val_loss: 0.0677 - val_accuracy: 0.9778\n",
            "Epoch 456/500\n",
            "15/15 [==============================] - 0s 4ms/step - loss: 0.0423 - accuracy: 0.9905 - val_loss: 0.0459 - val_accuracy: 0.9778\n",
            "Epoch 457/500\n",
            "15/15 [==============================] - 0s 3ms/step - loss: 0.0487 - accuracy: 0.9905 - val_loss: 0.0433 - val_accuracy: 0.9778\n",
            "Epoch 458/500\n",
            "15/15 [==============================] - 0s 4ms/step - loss: 0.0511 - accuracy: 0.9810 - val_loss: 0.0688 - val_accuracy: 0.9778\n",
            "Epoch 459/500\n",
            "15/15 [==============================] - 0s 3ms/step - loss: 0.0510 - accuracy: 0.9714 - val_loss: 0.0411 - val_accuracy: 0.9778\n",
            "Epoch 460/500\n",
            "15/15 [==============================] - 0s 4ms/step - loss: 0.0473 - accuracy: 0.9905 - val_loss: 0.0525 - val_accuracy: 0.9778\n",
            "Epoch 461/500\n",
            "15/15 [==============================] - 0s 4ms/step - loss: 0.0473 - accuracy: 0.9905 - val_loss: 0.0541 - val_accuracy: 0.9778\n",
            "Epoch 462/500\n",
            "15/15 [==============================] - 0s 4ms/step - loss: 0.0543 - accuracy: 0.9714 - val_loss: 0.0447 - val_accuracy: 0.9778\n",
            "Epoch 463/500\n",
            "15/15 [==============================] - 0s 3ms/step - loss: 0.0496 - accuracy: 0.9810 - val_loss: 0.0541 - val_accuracy: 0.9778\n",
            "Epoch 464/500\n",
            "15/15 [==============================] - 0s 3ms/step - loss: 0.0514 - accuracy: 0.9810 - val_loss: 0.0447 - val_accuracy: 0.9778\n",
            "Epoch 465/500\n",
            "15/15 [==============================] - 0s 3ms/step - loss: 0.0457 - accuracy: 0.9810 - val_loss: 0.0614 - val_accuracy: 0.9778\n",
            "Epoch 466/500\n",
            "15/15 [==============================] - 0s 4ms/step - loss: 0.0401 - accuracy: 0.9905 - val_loss: 0.0390 - val_accuracy: 0.9778\n",
            "Epoch 467/500\n",
            "15/15 [==============================] - 0s 2ms/step - loss: 0.0459 - accuracy: 0.9905 - val_loss: 0.0566 - val_accuracy: 0.9778\n",
            "Epoch 468/500\n",
            "15/15 [==============================] - 0s 4ms/step - loss: 0.0420 - accuracy: 0.9905 - val_loss: 0.0507 - val_accuracy: 0.9778\n",
            "Epoch 469/500\n",
            "15/15 [==============================] - 0s 4ms/step - loss: 0.0443 - accuracy: 0.9905 - val_loss: 0.0622 - val_accuracy: 0.9778\n",
            "Epoch 470/500\n",
            "15/15 [==============================] - 0s 2ms/step - loss: 0.0506 - accuracy: 0.9905 - val_loss: 0.0510 - val_accuracy: 0.9778\n",
            "Epoch 471/500\n",
            "15/15 [==============================] - 0s 4ms/step - loss: 0.0480 - accuracy: 0.9810 - val_loss: 0.0536 - val_accuracy: 0.9778\n",
            "Epoch 472/500\n",
            "15/15 [==============================] - 0s 3ms/step - loss: 0.0472 - accuracy: 0.9905 - val_loss: 0.0483 - val_accuracy: 0.9778\n",
            "Epoch 473/500\n",
            "15/15 [==============================] - 0s 2ms/step - loss: 0.0568 - accuracy: 0.9714 - val_loss: 0.0511 - val_accuracy: 0.9778\n",
            "Epoch 474/500\n",
            "15/15 [==============================] - 0s 3ms/step - loss: 0.0633 - accuracy: 0.9714 - val_loss: 0.0268 - val_accuracy: 0.9778\n",
            "Epoch 475/500\n",
            "15/15 [==============================] - 0s 3ms/step - loss: 0.0341 - accuracy: 0.9905 - val_loss: 0.0865 - val_accuracy: 0.9778\n",
            "Epoch 476/500\n",
            "15/15 [==============================] - 0s 3ms/step - loss: 0.0520 - accuracy: 0.9714 - val_loss: 0.0447 - val_accuracy: 0.9778\n",
            "Epoch 477/500\n",
            "15/15 [==============================] - 0s 4ms/step - loss: 0.0493 - accuracy: 0.9905 - val_loss: 0.0537 - val_accuracy: 0.9778\n",
            "Epoch 478/500\n",
            "15/15 [==============================] - 0s 4ms/step - loss: 0.0596 - accuracy: 0.9810 - val_loss: 0.0586 - val_accuracy: 0.9778\n",
            "Epoch 479/500\n",
            "15/15 [==============================] - 0s 3ms/step - loss: 0.0528 - accuracy: 0.9714 - val_loss: 0.0496 - val_accuracy: 0.9778\n",
            "Epoch 480/500\n",
            "15/15 [==============================] - 0s 2ms/step - loss: 0.0545 - accuracy: 0.9810 - val_loss: 0.0501 - val_accuracy: 0.9778\n",
            "Epoch 481/500\n",
            "15/15 [==============================] - 0s 3ms/step - loss: 0.0465 - accuracy: 0.9905 - val_loss: 0.0530 - val_accuracy: 0.9778\n",
            "Epoch 482/500\n",
            "15/15 [==============================] - 0s 2ms/step - loss: 0.0529 - accuracy: 0.9810 - val_loss: 0.0466 - val_accuracy: 0.9778\n",
            "Epoch 483/500\n",
            "15/15 [==============================] - 0s 3ms/step - loss: 0.0659 - accuracy: 0.9714 - val_loss: 0.0558 - val_accuracy: 0.9778\n",
            "Epoch 484/500\n",
            "15/15 [==============================] - 0s 3ms/step - loss: 0.0566 - accuracy: 0.9810 - val_loss: 0.0424 - val_accuracy: 0.9778\n",
            "Epoch 485/500\n",
            "15/15 [==============================] - 0s 4ms/step - loss: 0.0407 - accuracy: 0.9905 - val_loss: 0.0588 - val_accuracy: 0.9778\n",
            "Epoch 486/500\n",
            "15/15 [==============================] - 0s 4ms/step - loss: 0.0455 - accuracy: 0.9905 - val_loss: 0.0530 - val_accuracy: 0.9778\n",
            "Epoch 487/500\n",
            "15/15 [==============================] - 0s 4ms/step - loss: 0.0419 - accuracy: 0.9905 - val_loss: 0.0532 - val_accuracy: 0.9778\n",
            "Epoch 488/500\n",
            "15/15 [==============================] - 0s 4ms/step - loss: 0.0431 - accuracy: 0.9905 - val_loss: 0.0570 - val_accuracy: 0.9778\n",
            "Epoch 489/500\n",
            "15/15 [==============================] - 0s 3ms/step - loss: 0.0423 - accuracy: 0.9905 - val_loss: 0.0456 - val_accuracy: 0.9778\n",
            "Epoch 490/500\n",
            "15/15 [==============================] - 0s 3ms/step - loss: 0.0408 - accuracy: 0.9905 - val_loss: 0.0628 - val_accuracy: 0.9778\n",
            "Epoch 491/500\n",
            "15/15 [==============================] - 0s 4ms/step - loss: 0.0443 - accuracy: 0.9905 - val_loss: 0.0537 - val_accuracy: 0.9778\n",
            "Epoch 492/500\n",
            "15/15 [==============================] - 0s 3ms/step - loss: 0.0405 - accuracy: 0.9905 - val_loss: 0.0394 - val_accuracy: 0.9778\n",
            "Epoch 493/500\n",
            "15/15 [==============================] - 0s 3ms/step - loss: 0.0439 - accuracy: 0.9905 - val_loss: 0.0558 - val_accuracy: 0.9778\n",
            "Epoch 494/500\n",
            "15/15 [==============================] - 0s 3ms/step - loss: 0.0425 - accuracy: 0.9905 - val_loss: 0.0529 - val_accuracy: 0.9778\n",
            "Epoch 495/500\n",
            "15/15 [==============================] - 0s 3ms/step - loss: 0.0448 - accuracy: 0.9810 - val_loss: 0.0681 - val_accuracy: 0.9778\n",
            "Epoch 496/500\n",
            "15/15 [==============================] - 0s 3ms/step - loss: 0.0398 - accuracy: 0.9905 - val_loss: 0.0477 - val_accuracy: 0.9778\n",
            "Epoch 497/500\n",
            "15/15 [==============================] - 0s 3ms/step - loss: 0.0467 - accuracy: 0.9905 - val_loss: 0.0580 - val_accuracy: 0.9778\n",
            "Epoch 498/500\n",
            "15/15 [==============================] - 0s 3ms/step - loss: 0.0407 - accuracy: 0.9905 - val_loss: 0.0594 - val_accuracy: 0.9778\n",
            "Epoch 499/500\n",
            "15/15 [==============================] - 0s 4ms/step - loss: 0.0405 - accuracy: 0.9905 - val_loss: 0.0500 - val_accuracy: 0.9778\n",
            "Epoch 500/500\n",
            "15/15 [==============================] - 0s 3ms/step - loss: 0.0450 - accuracy: 0.9905 - val_loss: 0.0478 - val_accuracy: 0.9778\n"
          ],
          "name": "stdout"
        }
      ]
    },
    {
      "cell_type": "code",
      "metadata": {
        "colab": {
          "base_uri": "https://localhost:8080/",
          "height": 377
        },
        "id": "p7sO1-8DlktE",
        "outputId": "3ddddd3d-fade-450b-d78f-f26c5010e7d8"
      },
      "source": [
        "import matplotlib.pyplot as plt\n",
        "\n",
        "plt.figure(figsize = (9,6))\n",
        "plt.ylim(0,1.2)\n",
        "plt.plot(History_iris.history['loss'])\n",
        "plt.plot(History_iris.history['val_loss'])\n",
        "plt.plot(History_iris.history['accuracy'])\n",
        "plt.plot(History_iris.history['val_accuracy'])\n",
        "plt.legend(['loss','val_loss','accuracy','val_accuracy'])\n",
        "plt.grid()\n",
        "plt.show()\n"
      ],
      "execution_count": 21,
      "outputs": [
        {
          "output_type": "display_data",
          "data": {
            "image/png": "[encoded data removed]",
            "text/plain": [
              "<Figure size 648x432 with 1 Axes>"
            ]
          },
          "metadata": {
            "needs_background": "light"
          }
        }
      ]
    },
    {
      "cell_type": "code",
      "metadata": {
        "colab": {
          "base_uri": "https://localhost:8080/"
        },
        "id": "X1IwN1FPmD4s",
        "outputId": "76863ee8-788d-41b3-8318-17ef1e37459f"
      },
      "source": [
        "loss, accuracy = Model_iris.evaluate(X_test, y_test)\n",
        "print('Loss = {:.2f}'.format(loss))\n",
        "print('Accuracy = {:.2f}'.format(accuracy))"
      ],
      "execution_count": 22,
      "outputs": [
        {
          "output_type": "stream",
          "text": [
            "2/2 [==============================] - 0s 3ms/step - loss: 0.0478 - accuracy: 0.9778\n",
            "Loss = 0.05\n",
            "Accuracy = 0.98\n"
          ],
          "name": "stdout"
        }
      ]
    },
    {
      "cell_type": "code",
      "metadata": {
        "colab": {
          "base_uri": "https://localhost:8080/"
        },
        "id": "7T6RF_tQmYZP",
        "outputId": "3a9349a0-38b7-4807-89c9-0d8514d935de"
      },
      "source": [
        "import numpy as np\n",
        "np.set_printoptions(suppress = True, precision = 5)\n",
        "Model_iris.predict(X_test)\n",
        "\n",
        "#softmax라서 전체 합은 1이 나옴"
      ],
      "execution_count": 23,
      "outputs": [
        {
          "output_type": "execute_result",
          "data": {
            "text/plain": [
              "array([[0.99985, 0.00015, 0.     ],\n",
              "       [0.99523, 0.00477, 0.     ],\n",
              "       [0.00025, 0.99975, 0.     ],\n",
              "       [0.     , 0.     , 1.     ],\n",
              "       [0.99999, 0.00001, 0.     ],\n",
              "       [0.00005, 0.99995, 0.     ],\n",
              "       [0.     , 0.00075, 0.99925],\n",
              "       [0.99999, 0.00001, 0.     ],\n",
              "       [0.     , 0.00007, 0.99993],\n",
              "       [0.99986, 0.00014, 0.     ],\n",
              "       [0.00015, 0.99661, 0.00324],\n",
              "       [0.     , 0.00012, 0.99988],\n",
              "       [0.00006, 0.9999 , 0.00005],\n",
              "       [1.     , 0.     , 0.     ],\n",
              "       [0.99999, 0.00001, 0.     ],\n",
              "       [0.00007, 0.99986, 0.00007],\n",
              "       [0.00008, 0.99927, 0.00064],\n",
              "       [0.99994, 0.00006, 0.     ],\n",
              "       [0.00005, 0.99993, 0.00002],\n",
              "       [0.99999, 0.00001, 0.     ],\n",
              "       [0.99992, 0.00008, 0.     ],\n",
              "       [0.99992, 0.00008, 0.     ],\n",
              "       [0.     , 0.00003, 0.99997],\n",
              "       [0.99997, 0.00003, 0.     ],\n",
              "       [0.     , 0.00632, 0.99368],\n",
              "       [0.00001, 0.03231, 0.96767],\n",
              "       [0.99996, 0.00004, 0.     ],\n",
              "       [0.00008, 0.99955, 0.00037],\n",
              "       [0.00006, 0.99963, 0.00031],\n",
              "       [0.00002, 0.03197, 0.96801],\n",
              "       [0.99999, 0.00001, 0.     ],\n",
              "       [0.00008, 0.99975, 0.00017],\n",
              "       [0.99998, 0.00002, 0.     ],\n",
              "       [0.00014, 0.87311, 0.12675],\n",
              "       [0.00009, 0.99974, 0.00017],\n",
              "       [0.00006, 0.99994, 0.     ],\n",
              "       [0.     , 0.     , 1.     ],\n",
              "       [0.00005, 0.99995, 0.     ],\n",
              "       [0.99987, 0.00013, 0.     ],\n",
              "       [0.00011, 0.99977, 0.00012],\n",
              "       [0.     , 0.     , 1.     ],\n",
              "       [0.99992, 0.00008, 0.     ],\n",
              "       [0.     , 0.00067, 0.99933],\n",
              "       [0.     , 0.00009, 0.99991],\n",
              "       [0.     , 0.00065, 0.99935]], dtype=float32)"
            ]
          },
          "metadata": {},
          "execution_count": 23
        }
      ]
    },
    {
      "cell_type": "code",
      "metadata": {
        "id": "XX0kSwEPmjtE"
      },
      "source": [
        ""
      ],
      "execution_count": 23,
      "outputs": []
    },
    {
      "cell_type": "code",
      "metadata": {
        "id": "hVNahy0bmoC4"
      },
      "source": [
        "y_hat = np.argmax(Model_iris.predict(X_test), axis = 1)"
      ],
      "execution_count": 24,
      "outputs": []
    },
    {
      "cell_type": "code",
      "metadata": {
        "colab": {
          "base_uri": "https://localhost:8080/"
        },
        "id": "NhlQDEBangrm",
        "outputId": "5bb48db6-e679-4409-ed93-9ecd72a17c23"
      },
      "source": [
        "y = np.argmax(y_test, axis = 1)\n",
        "y"
      ],
      "execution_count": 25,
      "outputs": [
        {
          "output_type": "execute_result",
          "data": {
            "text/plain": [
              "array([0, 0, 1, 2, 0, 1, 2, 0, 2, 0, 1, 2, 1, 0, 0, 1, 1, 0, 1, 0, 0, 0,\n",
              "       2, 0, 2, 2, 0, 1, 1, 2, 0, 1, 0, 2, 1, 1, 2, 1, 0, 1, 2, 0, 2, 2,\n",
              "       2])"
            ]
          },
          "metadata": {},
          "execution_count": 25
        }
      ]
    },
    {
      "cell_type": "code",
      "metadata": {
        "colab": {
          "base_uri": "https://localhost:8080/"
        },
        "id": "0I3bC_kUnlCR",
        "outputId": "e4190256-df48-4af5-d730-5ff3060fe8be"
      },
      "source": [
        "from sklearn.metrics import confusion_matrix, classification_report\n",
        "confusion_matrix(y, y_hat)"
      ],
      "execution_count": 26,
      "outputs": [
        {
          "output_type": "execute_result",
          "data": {
            "text/plain": [
              "array([[17,  0,  0],\n",
              "       [ 0, 14,  0],\n",
              "       [ 0,  1, 13]])"
            ]
          },
          "metadata": {},
          "execution_count": 26
        }
      ]
    },
    {
      "cell_type": "code",
      "metadata": {
        "colab": {
          "base_uri": "https://localhost:8080/"
        },
        "id": "yscK1ACUnnsx",
        "outputId": "b447ac19-9429-4b0d-c922-365081c88ec6"
      },
      "source": [
        "print(classification_report(y, y_hat,\n",
        "target_names = ['setosa',\n",
        "'virginica',\n",
        "'versicolor']))"
      ],
      "execution_count": 27,
      "outputs": [
        {
          "output_type": "stream",
          "text": [
            "              precision    recall  f1-score   support\n",
            "\n",
            "      setosa       1.00      1.00      1.00        17\n",
            "   virginica       0.93      1.00      0.97        14\n",
            "  versicolor       1.00      0.93      0.96        14\n",
            "\n",
            "    accuracy                           0.98        45\n",
            "   macro avg       0.98      0.98      0.98        45\n",
            "weighted avg       0.98      0.98      0.98        45\n",
            "\n"
          ],
          "name": "stdout"
        }
      ]
    },
    {
      "cell_type": "code",
      "metadata": {
        "colab": {
          "base_uri": "https://localhost:8080/"
        },
        "id": "p4JBM5kBps70",
        "outputId": "cb7396ee-3485-4f6d-aa35-a7d14580f9bb"
      },
      "source": [
        "!ls -l"
      ],
      "execution_count": 28,
      "outputs": [
        {
          "output_type": "stream",
          "text": [
            "total 36\n",
            "-rw-r--r-- 1 root root 29384 Aug 30 07:38 model.png\n",
            "drwxr-xr-x 1 root root  4096 Aug 25 13:35 sample_data\n"
          ],
          "name": "stdout"
        }
      ]
    },
    {
      "cell_type": "code",
      "metadata": {
        "colab": {
          "base_uri": "https://localhost:8080/"
        },
        "id": "67xVEEMGufEo",
        "outputId": "21879be4-896d-42a6-d28e-d39dcab31156"
      },
      "source": [
        "Model_iris.save('Model_iris.h5')\n",
        "\n",
        "!ls -l"
      ],
      "execution_count": 29,
      "outputs": [
        {
          "output_type": "stream",
          "text": [
            "total 72\n",
            "-rw-r--r-- 1 root root 34600 Aug 30 07:39 Model_iris.h5\n",
            "-rw-r--r-- 1 root root 29384 Aug 30 07:38 model.png\n",
            "drwxr-xr-x 1 root root  4096 Aug 25 13:35 sample_data\n"
          ],
          "name": "stdout"
        }
      ]
    },
    {
      "cell_type": "code",
      "metadata": {
        "colab": {
          "base_uri": "https://localhost:8080/",
          "height": 34
        },
        "id": "cLUJDLjDufMv",
        "outputId": "3abe7e4e-f94f-4332-f1e9-1573d4703865"
      },
      "source": [
        "from google.colab import files\n",
        "files.download('Model_iris.h5')"
      ],
      "execution_count": 30,
      "outputs": [
        {
          "output_type": "display_data",
          "data": {
            "application/javascript": [
              "\n",
              "    async function download(id, filename, size) {\n",
              "      if (!google.colab.kernel.accessAllowed) {\n",
              "        return;\n",
              "      }\n",
              "      const div = document.createElement('div');\n",
              "      const label = document.createElement('label');\n",
              "      label.textContent = `Downloading \"${filename}\": `;\n",
              "      div.appendChild(label);\n",
              "      const progress = document.createElement('progress');\n",
              "      progress.max = size;\n",
              "      div.appendChild(progress);\n",
              "      document.body.appendChild(div);\n",
              "\n",
              "      const buffers = [];\n",
              "      let downloaded = 0;\n",
              "\n",
              "      const channel = await google.colab.kernel.comms.open(id);\n",
              "      // Send a message to notify the kernel that we're ready.\n",
              "      channel.send({})\n",
              "\n",
              "      for await (const message of channel.messages) {\n",
              "        // Send a message to notify the kernel that we're ready.\n",
              "        channel.send({})\n",
              "        if (message.buffers) {\n",
              "          for (const buffer of message.buffers) {\n",
              "            buffers.push(buffer);\n",
              "            downloaded += buffer.byteLength;\n",
              "            progress.value = downloaded;\n",
              "          }\n",
              "        }\n",
              "      }\n",
              "      const blob = new Blob(buffers, {type: 'application/binary'});\n",
              "      const a = document.createElement('a');\n",
              "      a.href = window.URL.createObjectURL(blob);\n",
              "      a.download = filename;\n",
              "      div.appendChild(a);\n",
              "      a.click();\n",
              "      div.remove();\n",
              "    }\n",
              "  "
            ],
            "text/plain": [
              "<IPython.core.display.Javascript object>"
            ]
          },
          "metadata": {}
        },
        {
          "output_type": "display_data",
          "data": {
            "application/javascript": [
              "download(\"download_e30c6500-6f74-448c-8c3d-6764ef214608\", \"Model_iris.h5\", 34600)"
            ],
            "text/plain": [
              "<IPython.core.display.Javascript object>"
            ]
          },
          "metadata": {}
        }
      ]
    },
    {
      "cell_type": "code",
      "metadata": {
        "id": "BrPALukVufN9"
      },
      "source": [
        "from tensorflow.keras.models import load_model\n",
        "Model_local = load_model('Model_iris.h5')"
      ],
      "execution_count": 31,
      "outputs": []
    },
    {
      "cell_type": "code",
      "metadata": {
        "colab": {
          "base_uri": "https://localhost:8080/"
        },
        "id": "NXArAhbwufP9",
        "outputId": "9c4773a2-2da8-42aa-e147-e1b5b0353dc6"
      },
      "source": [
        "Model_local.predict(X_test)"
      ],
      "execution_count": 32,
      "outputs": [
        {
          "output_type": "execute_result",
          "data": {
            "text/plain": [
              "array([[0.99985, 0.00015, 0.     ],\n",
              "       [0.99523, 0.00477, 0.     ],\n",
              "       [0.00025, 0.99975, 0.     ],\n",
              "       [0.     , 0.     , 1.     ],\n",
              "       [0.99999, 0.00001, 0.     ],\n",
              "       [0.00005, 0.99995, 0.     ],\n",
              "       [0.     , 0.00075, 0.99925],\n",
              "       [0.99999, 0.00001, 0.     ],\n",
              "       [0.     , 0.00007, 0.99993],\n",
              "       [0.99986, 0.00014, 0.     ],\n",
              "       [0.00015, 0.99661, 0.00324],\n",
              "       [0.     , 0.00012, 0.99988],\n",
              "       [0.00006, 0.9999 , 0.00005],\n",
              "       [1.     , 0.     , 0.     ],\n",
              "       [0.99999, 0.00001, 0.     ],\n",
              "       [0.00007, 0.99986, 0.00007],\n",
              "       [0.00008, 0.99927, 0.00064],\n",
              "       [0.99994, 0.00006, 0.     ],\n",
              "       [0.00005, 0.99993, 0.00002],\n",
              "       [0.99999, 0.00001, 0.     ],\n",
              "       [0.99992, 0.00008, 0.     ],\n",
              "       [0.99992, 0.00008, 0.     ],\n",
              "       [0.     , 0.00003, 0.99997],\n",
              "       [0.99997, 0.00003, 0.     ],\n",
              "       [0.     , 0.00632, 0.99368],\n",
              "       [0.00001, 0.03231, 0.96767],\n",
              "       [0.99996, 0.00004, 0.     ],\n",
              "       [0.00008, 0.99955, 0.00037],\n",
              "       [0.00006, 0.99963, 0.00031],\n",
              "       [0.00002, 0.03197, 0.96801],\n",
              "       [0.99999, 0.00001, 0.     ],\n",
              "       [0.00008, 0.99975, 0.00017],\n",
              "       [0.99998, 0.00002, 0.     ],\n",
              "       [0.00014, 0.87311, 0.12675],\n",
              "       [0.00009, 0.99974, 0.00017],\n",
              "       [0.00006, 0.99994, 0.     ],\n",
              "       [0.     , 0.     , 1.     ],\n",
              "       [0.00005, 0.99995, 0.     ],\n",
              "       [0.99987, 0.00013, 0.     ],\n",
              "       [0.00011, 0.99977, 0.00012],\n",
              "       [0.     , 0.     , 1.     ],\n",
              "       [0.99992, 0.00008, 0.     ],\n",
              "       [0.     , 0.00067, 0.99933],\n",
              "       [0.     , 0.00009, 0.99991],\n",
              "       [0.     , 0.00065, 0.99935]], dtype=float32)"
            ]
          },
          "metadata": {},
          "execution_count": 32
        }
      ]
    },
    {
      "cell_type": "code",
      "metadata": {
        "id": "saduj2lNufSj"
      },
      "source": [
        ""
      ],
      "execution_count": 32,
      "outputs": []
    },
    {
      "cell_type": "code",
      "metadata": {
        "colab": {
          "base_uri": "https://localhost:8080/"
        },
        "id": "PlrJYkGGufUW",
        "outputId": "1a09d591-1de9-4cd3-c362-abfb2e95c616"
      },
      "source": [
        "from google.colab import drive\n",
        "\n",
        "drive.mount('/content/drive')"
      ],
      "execution_count": 33,
      "outputs": [
        {
          "output_type": "stream",
          "text": [
            "Mounted at /content/drive\n"
          ],
          "name": "stdout"
        }
      ]
    },
    {
      "cell_type": "code",
      "metadata": {
        "colab": {
          "base_uri": "https://localhost:8080/"
        },
        "id": "spRgjnPKufWz",
        "outputId": "c37e66c6-6a4e-4862-937c-2e48d2666db9"
      },
      "source": [
        "!ls -l '/content/drive/My Drive/Colab Notebooks/datasets'"
      ],
      "execution_count": 34,
      "outputs": [
        {
          "output_type": "stream",
          "text": [
            "total 3766312\n",
            "-rw------- 1 root root 3856702805 Aug 30 07:35 datasets.zip\n"
          ],
          "name": "stdout"
        }
      ]
    },
    {
      "cell_type": "code",
      "metadata": {
        "colab": {
          "base_uri": "https://localhost:8080/"
        },
        "id": "9TfwE2u98uz7",
        "outputId": "e37fa525-be07-493b-f4f4-c89577650494"
      },
      "source": [
        "!unzip -qq '/content/drive/My Drive/Colab Notebooks/datasets/datasets.zip'"
      ],
      "execution_count": 40,
      "outputs": [
        {
          "output_type": "stream",
          "text": [
            "replace Camel.zip? [y]es, [n]o, [A]ll, [N]one, [r]ename: "
          ],
          "name": "stdout"
        }
      ]
    },
    {
      "cell_type": "code",
      "metadata": {
        "colab": {
          "base_uri": "https://localhost:8080/",
          "height": 141
        },
        "id": "PxWCBLpcufYs",
        "outputId": "bcfb4089-022d-4559-cffa-cbc9d9e23391"
      },
      "source": [
        "import pandas as pd\n",
        "DF = pd.read_csv('/content/drive/My Drive/Colab Notebooks/datasets/PII.csv')\n",
        "DF.head(3)"
      ],
      "execution_count": 41,
      "outputs": [
        {
          "output_type": "execute_result",
          "data": {
            "text/html": [
              "<div>\n",
              "<style scoped>\n",
              "    .dataframe tbody tr th:only-of-type {\n",
              "        vertical-align: middle;\n",
              "    }\n",
              "\n",
              "    .dataframe tbody tr th {\n",
              "        vertical-align: top;\n",
              "    }\n",
              "\n",
              "    .dataframe thead th {\n",
              "        text-align: right;\n",
              "    }\n",
              "</style>\n",
              "<table border=\"1\" class=\"dataframe\">\n",
              "  <thead>\n",
              "    <tr style=\"text-align: right;\">\n",
              "      <th></th>\n",
              "      <th>Name</th>\n",
              "      <th>Gender</th>\n",
              "      <th>Age</th>\n",
              "      <th>Grade</th>\n",
              "      <th>Picture</th>\n",
              "      <th>BloodType</th>\n",
              "      <th>Height</th>\n",
              "      <th>Weight</th>\n",
              "    </tr>\n",
              "  </thead>\n",
              "  <tbody>\n",
              "    <tr>\n",
              "      <th>0</th>\n",
              "      <td>송태섭</td>\n",
              "      <td>남자</td>\n",
              "      <td>21</td>\n",
              "      <td>3</td>\n",
              "      <td>무</td>\n",
              "      <td>B</td>\n",
              "      <td>179.1</td>\n",
              "      <td>63.9</td>\n",
              "    </tr>\n",
              "    <tr>\n",
              "      <th>1</th>\n",
              "      <td>최유정</td>\n",
              "      <td>여자</td>\n",
              "      <td>23</td>\n",
              "      <td>1</td>\n",
              "      <td>유</td>\n",
              "      <td>A</td>\n",
              "      <td>177.1</td>\n",
              "      <td>54.9</td>\n",
              "    </tr>\n",
              "    <tr>\n",
              "      <th>2</th>\n",
              "      <td>이한나</td>\n",
              "      <td>여자</td>\n",
              "      <td>20</td>\n",
              "      <td>1</td>\n",
              "      <td>무</td>\n",
              "      <td>A</td>\n",
              "      <td>167.9</td>\n",
              "      <td>50.2</td>\n",
              "    </tr>\n",
              "  </tbody>\n",
              "</table>\n",
              "</div>"
            ],
            "text/plain": [
              "  Name Gender  Age  Grade Picture BloodType  Height  Weight\n",
              "0  송태섭     남자   21      3       무         B   179.1    63.9\n",
              "1  최유정     여자   23      1       유         A   177.1    54.9\n",
              "2  이한나     여자   20      1       무         A   167.9    50.2"
            ]
          },
          "metadata": {},
          "execution_count": 41
        }
      ]
    },
    {
      "cell_type": "code",
      "metadata": {
        "id": "XpjCMJrPufaU"
      },
      "source": [
        "Model_iris.save('/content/drive/My Drive/Colab Notebooks/models/001_Model_iris.h5')"
      ],
      "execution_count": 42,
      "outputs": []
    },
    {
      "cell_type": "code",
      "metadata": {
        "colab": {
          "base_uri": "https://localhost:8080/"
        },
        "id": "l8LmcDoHufcF",
        "outputId": "e4c1976c-c945-481a-ab29-1fbf7873789a"
      },
      "source": [
        "!ls -l '/content/drive/My Drive/Colab Notebooks/models'"
      ],
      "execution_count": 43,
      "outputs": [
        {
          "output_type": "stream",
          "text": [
            "total 34\n",
            "-rw------- 1 root root 34600 Aug 30 07:55 001_Model_iris.h5\n"
          ],
          "name": "stdout"
        }
      ]
    },
    {
      "cell_type": "code",
      "metadata": {
        "id": "xZSaVAkmufdl"
      },
      "source": [
        "from tensorflow.keras.models import load_model\n",
        "Model_google = load_model('/content/drive/My Drive/Colab Notebooks/models/001_Model_iris.h5')"
      ],
      "execution_count": 44,
      "outputs": []
    },
    {
      "cell_type": "code",
      "metadata": {
        "colab": {
          "base_uri": "https://localhost:8080/"
        },
        "id": "7qZzSXt6uffh",
        "outputId": "b35a8179-7e5f-406c-f834-0651660e4be7"
      },
      "source": [
        "Model_google.predict(X_test)"
      ],
      "execution_count": 45,
      "outputs": [
        {
          "output_type": "execute_result",
          "data": {
            "text/plain": [
              "array([[0.99985, 0.00015, 0.     ],\n",
              "       [0.99523, 0.00477, 0.     ],\n",
              "       [0.00025, 0.99975, 0.     ],\n",
              "       [0.     , 0.     , 1.     ],\n",
              "       [0.99999, 0.00001, 0.     ],\n",
              "       [0.00005, 0.99995, 0.     ],\n",
              "       [0.     , 0.00075, 0.99925],\n",
              "       [0.99999, 0.00001, 0.     ],\n",
              "       [0.     , 0.00007, 0.99993],\n",
              "       [0.99986, 0.00014, 0.     ],\n",
              "       [0.00015, 0.99661, 0.00324],\n",
              "       [0.     , 0.00012, 0.99988],\n",
              "       [0.00006, 0.9999 , 0.00005],\n",
              "       [1.     , 0.     , 0.     ],\n",
              "       [0.99999, 0.00001, 0.     ],\n",
              "       [0.00007, 0.99986, 0.00007],\n",
              "       [0.00008, 0.99927, 0.00064],\n",
              "       [0.99994, 0.00006, 0.     ],\n",
              "       [0.00005, 0.99993, 0.00002],\n",
              "       [0.99999, 0.00001, 0.     ],\n",
              "       [0.99992, 0.00008, 0.     ],\n",
              "       [0.99992, 0.00008, 0.     ],\n",
              "       [0.     , 0.00003, 0.99997],\n",
              "       [0.99997, 0.00003, 0.     ],\n",
              "       [0.     , 0.00632, 0.99368],\n",
              "       [0.00001, 0.03231, 0.96767],\n",
              "       [0.99996, 0.00004, 0.     ],\n",
              "       [0.00008, 0.99955, 0.00037],\n",
              "       [0.00006, 0.99963, 0.00031],\n",
              "       [0.00002, 0.03197, 0.96801],\n",
              "       [0.99999, 0.00001, 0.     ],\n",
              "       [0.00008, 0.99975, 0.00017],\n",
              "       [0.99998, 0.00002, 0.     ],\n",
              "       [0.00014, 0.87311, 0.12675],\n",
              "       [0.00009, 0.99974, 0.00017],\n",
              "       [0.00006, 0.99994, 0.     ],\n",
              "       [0.     , 0.     , 1.     ],\n",
              "       [0.00005, 0.99995, 0.     ],\n",
              "       [0.99987, 0.00013, 0.     ],\n",
              "       [0.00011, 0.99977, 0.00012],\n",
              "       [0.     , 0.     , 1.     ],\n",
              "       [0.99992, 0.00008, 0.     ],\n",
              "       [0.     , 0.00067, 0.99933],\n",
              "       [0.     , 0.00009, 0.99991],\n",
              "       [0.     , 0.00065, 0.99935]], dtype=float32)"
            ]
          },
          "metadata": {},
          "execution_count": 45
        }
      ]
    },
    {
      "cell_type": "code",
      "metadata": {
        "id": "u9KbsHehufha"
      },
      "source": [
        ""
      ],
      "execution_count": null,
      "outputs": []
    },
    {
      "cell_type": "code",
      "metadata": {
        "id": "41kseidoyB8Z"
      },
      "source": [
        ""
      ],
      "execution_count": null,
      "outputs": []
    },
    {
      "cell_type": "code",
      "metadata": {
        "id": "efT4fe2Dufjq"
      },
      "source": [
        ""
      ],
      "execution_count": null,
      "outputs": []
    },
    {
      "cell_type": "code",
      "metadata": {
        "id": "KxcJtit_ufle"
      },
      "source": [
        ""
      ],
      "execution_count": null,
      "outputs": []
    },
    {
      "cell_type": "code",
      "metadata": {
        "id": "az4WLbCrufnp"
      },
      "source": [
        ""
      ],
      "execution_count": null,
      "outputs": []
    },
    {
      "cell_type": "code",
      "metadata": {
        "id": "vkr8m6Dkufpb"
      },
      "source": [
        ""
      ],
      "execution_count": null,
      "outputs": []
    },
    {
      "cell_type": "code",
      "metadata": {
        "id": "8oaKh1Vwufr1"
      },
      "source": [
        ""
      ],
      "execution_count": null,
      "outputs": []
    },
    {
      "cell_type": "code",
      "metadata": {
        "id": "9ZSva7eCufuN"
      },
      "source": [
        ""
      ],
      "execution_count": null,
      "outputs": []
    },
    {
      "cell_type": "code",
      "metadata": {
        "id": "Zw5VxCUOufwk"
      },
      "source": [
        ""
      ],
      "execution_count": null,
      "outputs": []
    },
    {
      "cell_type": "code",
      "metadata": {
        "id": "iLSETVyquf0V"
      },
      "source": [
        ""
      ],
      "execution_count": null,
      "outputs": []
    },
    {
      "cell_type": "code",
      "metadata": {
        "id": "ryxB1E9Vuf2C"
      },
      "source": [
        ""
      ],
      "execution_count": null,
      "outputs": []
    },
    {
      "cell_type": "code",
      "metadata": {
        "id": "djGIzcAwuf4E"
      },
      "source": [
        ""
      ],
      "execution_count": null,
      "outputs": []
    },
    {
      "cell_type": "code",
      "metadata": {
        "id": "EaHqYdBnuf6f"
      },
      "source": [
        ""
      ],
      "execution_count": null,
      "outputs": []
    }
  ]
}