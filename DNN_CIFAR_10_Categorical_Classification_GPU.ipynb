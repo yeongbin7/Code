{
  "nbformat": 4,
  "nbformat_minor": 0,
  "metadata": {
    "colab": {
      "name": "DNN_CIFAR_10_Categorical_Classification_GPU",
      "provenance": [],
      "collapsed_sections": [],
      "include_colab_link": true
    },
    "kernelspec": {
      "name": "python3",
      "display_name": "Python 3"
    },
    "accelerator": "GPU"
  },
  "cells": [
    {
      "cell_type": "markdown",
      "metadata": {
        "id": "view-in-github",
        "colab_type": "text"
      },
      "source": [
        "<a href=\"https://colab.research.google.com/github/BbangB/Code/blob/main/DNN_CIFAR_10_Categorical_Classification_GPU.ipynb\" target=\"_parent\"><img src=\"https://colab.research.google.com/assets/colab-badge.svg\" alt=\"Open In Colab\"/></a>"
      ]
    },
    {
      "cell_type": "markdown",
      "metadata": {
        "id": "q2Pr7oBdYLdf"
      },
      "source": [
        "# CIFAR 10 - Categorical Classification"
      ]
    },
    {
      "cell_type": "code",
      "metadata": {
        "id": "RbPgODpVzdHI"
      },
      "source": [
        "import warnings\n",
        "warnings.filterwarnings('ignore')"
      ],
      "execution_count": 71,
      "outputs": []
    },
    {
      "cell_type": "markdown",
      "metadata": {
        "id": "H49A769LYp-a"
      },
      "source": [
        "# I. CIFAR 10 Data_Set Load & Review"
      ]
    },
    {
      "cell_type": "markdown",
      "metadata": {
        "id": "vb6EIkRcbPb4"
      },
      "source": [
        "> ## 1) Load CIFAR 10 Data_Set"
      ]
    },
    {
      "cell_type": "code",
      "metadata": {
        "id": "DxstjE8b_6Te"
      },
      "source": [
        "from tensorflow.keras.datasets import cifar10\n",
        "\n",
        "(X_train, y_train), (X_test, y_test) = cifar10.load_data()"
      ],
      "execution_count": 72,
      "outputs": []
    },
    {
      "cell_type": "markdown",
      "metadata": {
        "id": "Mt11QE0EHCiJ"
      },
      "source": [
        "* Train_Data Information"
      ]
    },
    {
      "cell_type": "code",
      "metadata": {
        "id": "KT_Mr_Hb__VH",
        "colab": {
          "base_uri": "https://localhost:8080/"
        },
        "outputId": "38f2c62d-e671-446a-8fc3-f4813dac1420"
      },
      "source": [
        "print(len(X_train))\n",
        "print(X_train.shape)\n",
        "\n",
        "print(len(y_train))\n",
        "print(y_train[0:5])"
      ],
      "execution_count": 73,
      "outputs": [
        {
          "output_type": "stream",
          "name": "stdout",
          "text": [
            "50000\n",
            "(50000, 32, 32, 3)\n",
            "50000\n",
            "[[6]\n",
            " [9]\n",
            " [9]\n",
            " [4]\n",
            " [1]]\n"
          ]
        }
      ]
    },
    {
      "cell_type": "markdown",
      "metadata": {
        "id": "QolAqIwgHGRI"
      },
      "source": [
        "* Test_Data Information"
      ]
    },
    {
      "cell_type": "code",
      "metadata": {
        "id": "NtkD2BKUANZE",
        "colab": {
          "base_uri": "https://localhost:8080/"
        },
        "outputId": "9272e361-8650-4558-dc98-d45cd6313cc4"
      },
      "source": [
        "print(len(X_test))\n",
        "print(X_test.shape)\n",
        "\n",
        "print(len(y_test))\n",
        "print(y_test[0:5])"
      ],
      "execution_count": 74,
      "outputs": [
        {
          "output_type": "stream",
          "name": "stdout",
          "text": [
            "10000\n",
            "(10000, 32, 32, 3)\n",
            "10000\n",
            "[[3]\n",
            " [8]\n",
            " [8]\n",
            " [0]\n",
            " [6]]\n"
          ]
        }
      ]
    },
    {
      "cell_type": "markdown",
      "metadata": {
        "id": "BBSg_oWbZCyr"
      },
      "source": [
        "> ## 2) Visualization"
      ]
    },
    {
      "cell_type": "code",
      "metadata": {
        "id": "OV19FumXAWGH",
        "colab": {
          "base_uri": "https://localhost:8080/",
          "height": 266
        },
        "outputId": "cc08aa5c-61a8-41bc-8bf4-66041bf774ea"
      },
      "source": [
        "import matplotlib.pyplot as plt\n",
        "\n",
        "digit = X_train[0]\n",
        "plt.imshow(digit)\n",
        "plt.show()"
      ],
      "execution_count": 75,
      "outputs": [
        {
          "output_type": "display_data",
          "data": {
            "image/png": "[encoded data removed]",
            "text/plain": [
              "<Figure size 432x288 with 1 Axes>"
            ]
          },
          "metadata": {
            "needs_background": "light"
          }
        }
      ]
    },
    {
      "cell_type": "code",
      "metadata": {
        "id": "wWXMkCE8NyAg",
        "cellView": "code",
        "colab": {
          "base_uri": "https://localhost:8080/"
        },
        "outputId": "31f07bcc-d91b-45ff-cff0-12af414c0749"
      },
      "source": [
        "import numpy as np\n",
        "np.set_printoptions(linewidth = 150)\n",
        "\n",
        "print(X_train[0][0])\n"
      ],
      "execution_count": 82,
      "outputs": [
        {
          "output_type": "stream",
          "name": "stdout",
          "text": [
            "[[ 59  62  63]\n",
            " [ 43  46  45]\n",
            " [ 50  48  43]\n",
            " [ 68  54  42]\n",
            " [ 98  73  52]\n",
            " [119  91  63]\n",
            " [139 107  75]\n",
            " [145 110  80]\n",
            " [149 117  89]\n",
            " [149 120  93]\n",
            " [131 103  77]\n",
            " [125  99  76]\n",
            " [142 115  91]\n",
            " [144 112  86]\n",
            " [137 105  79]\n",
            " [129  97  71]\n",
            " [137 106  79]\n",
            " [134 106  76]\n",
            " [124  97  64]\n",
            " [139 113  78]\n",
            " [139 112  75]\n",
            " [133 105  69]\n",
            " [136 105  74]\n",
            " [139 108  77]\n",
            " [152 120  89]\n",
            " [163 131 100]\n",
            " [168 136 108]\n",
            " [159 129 102]\n",
            " [158 130 104]\n",
            " [158 132 108]\n",
            " [152 125 102]\n",
            " [148 124 103]]\n"
          ]
        }
      ]
    },
    {
      "cell_type": "code",
      "metadata": {
        "id": "xf0IV9nmHl7K"
      },
      "source": [
        ""
      ],
      "execution_count": 82,
      "outputs": []
    },
    {
      "cell_type": "markdown",
      "metadata": {
        "id": "Mk9XL5vGHor6"
      },
      "source": [
        "# II. Data Preprocessing"
      ]
    },
    {
      "cell_type": "markdown",
      "metadata": {
        "id": "ec8zU4XCZRUF"
      },
      "source": [
        "> ## 1) Reshape and Normalization"
      ]
    },
    {
      "cell_type": "markdown",
      "metadata": {
        "id": "olI6ZPtEIb8H"
      },
      "source": [
        "* reshape\n",
        " * (50000, 32, 32, 3) to (50000, 3072)"
      ]
    },
    {
      "cell_type": "code",
      "metadata": {
        "id": "8-toPn1ZAmFd",
        "colab": {
          "base_uri": "https://localhost:8080/"
        },
        "outputId": "e6bee181-e378-4649-c370-1fa47e5238c2"
      },
      "source": [
        "X_train = X_train.reshape(50000,32*32*3)\n",
        "X_test = X_test.reshape(10000,32*32*3)\n",
        "\n",
        "X_train.shape, X_test.shape"
      ],
      "execution_count": 83,
      "outputs": [
        {
          "output_type": "execute_result",
          "data": {
            "text/plain": [
              "((50000, 3072), (10000, 3072))"
            ]
          },
          "metadata": {},
          "execution_count": 83
        }
      ]
    },
    {
      "cell_type": "markdown",
      "metadata": {
        "id": "UN-xPWjYIeWL"
      },
      "source": [
        "* Normalization"
      ]
    },
    {
      "cell_type": "code",
      "metadata": {
        "id": "SoGHuYeFIGBj"
      },
      "source": [
        "X_train = X_train.astype(float) / 309\n",
        "X_test = X_test.astype(float)/309"
      ],
      "execution_count": 84,
      "outputs": []
    },
    {
      "cell_type": "code",
      "metadata": {
        "id": "m1HezAboV-x8",
        "colab": {
          "base_uri": "https://localhost:8080/"
        },
        "outputId": "3fffe205-55d9-4d11-fc0d-177b6223dbfc"
      },
      "source": [
        "print(X_train[0])"
      ],
      "execution_count": 85,
      "outputs": [
        {
          "output_type": "stream",
          "name": "stdout",
          "text": [
            "[0.190938511 0.200647249 0.203883495 ... 0.398058252 0.297734628 0.233009709]\n"
          ]
        }
      ]
    },
    {
      "cell_type": "markdown",
      "metadata": {
        "id": "BtSROU80aF12"
      },
      "source": [
        "> ## 2) One Hot Encoding"
      ]
    },
    {
      "cell_type": "code",
      "metadata": {
        "id": "eC48Oym3Ao8E"
      },
      "source": [
        "from tensorflow.keras.utils import to_categorical\n",
        "y_train = to_categorical(y_train)\n",
        "y_test = to_categorical(y_test)\n"
      ],
      "execution_count": 86,
      "outputs": []
    },
    {
      "cell_type": "code",
      "metadata": {
        "id": "XwbF475GAjNa"
      },
      "source": [
        ""
      ],
      "execution_count": 86,
      "outputs": []
    },
    {
      "cell_type": "code",
      "metadata": {
        "id": "q1O-NsoJMyWU",
        "colab": {
          "base_uri": "https://localhost:8080/"
        },
        "outputId": "5a69dc2a-acfb-47fe-d3ef-1820a12995b8"
      },
      "source": [
        "print(y_train[:5])"
      ],
      "execution_count": 87,
      "outputs": [
        {
          "output_type": "stream",
          "name": "stdout",
          "text": [
            "[[0. 0. 0. 0. 0. 0. 1. 0. 0. 0.]\n",
            " [0. 0. 0. 0. 0. 0. 0. 0. 0. 1.]\n",
            " [0. 0. 0. 0. 0. 0. 0. 0. 0. 1.]\n",
            " [0. 0. 0. 0. 1. 0. 0. 0. 0. 0.]\n",
            " [0. 1. 0. 0. 0. 0. 0. 0. 0. 0.]]\n"
          ]
        }
      ]
    },
    {
      "cell_type": "markdown",
      "metadata": {
        "id": "NTwZiSjiop3v"
      },
      "source": [
        "# III. Keras Modeling"
      ]
    },
    {
      "cell_type": "markdown",
      "metadata": {
        "id": "j5CT0TurJCkc"
      },
      "source": [
        "> ## 1) Model Define"
      ]
    },
    {
      "cell_type": "markdown",
      "metadata": {
        "id": "ydDCl0jTJD58"
      },
      "source": [
        "* 모델 신경망 구조 정의\n",
        " - 2개의 Hidden Layers & 3968개의 Nodes"
      ]
    },
    {
      "cell_type": "code",
      "metadata": {
        "id": "II0DskRdAcHS"
      },
      "source": [
        "from tensorflow.keras import models\n",
        "from tensorflow.keras import layers\n",
        "from keras.layers import Dense, Dropout, BatchNormalization\n",
        "from tensorflow.keras import regularizers\n",
        "\n",
        "cifar_ = models.Sequential()\n",
        "cifar_.add(layers.Dense(1024, activation= 'relu',\n",
        "                        kernel_regularizer= regularizers.l2(0.0001),\n",
        "                        input_shape = (3072,)))\n",
        "cifar_.add(Dropout(0.25))\n",
        "cifar_.add(BatchNormalization())\n",
        "cifar_.add(layers.Dense(512, activation= 'relu',\n",
        "                        kernel_regularizer= regularizers.l2(0.0001)))\n",
        "cifar_.add(Dropout(0.25))\n",
        "cifar_.add(BatchNormalization())\n",
        "cifar_.add(layers.Dense(256, activation= 'relu',\n",
        "                        kernel_regularizer= regularizers.l2(0.0001)))\n",
        "cifar_.add(Dropout(0.5))\n",
        "cifar_.add(BatchNormalization())\n",
        "cifar_.add(layers.Dense(10, activation = 'sigmoid'))"
      ],
      "execution_count": 124,
      "outputs": []
    },
    {
      "cell_type": "markdown",
      "metadata": {
        "id": "PqrObAHZJTN8"
      },
      "source": [
        "* 모델 구조 확인"
      ]
    },
    {
      "cell_type": "code",
      "metadata": {
        "id": "wbtjOA4XMTUd",
        "colab": {
          "base_uri": "https://localhost:8080/"
        },
        "outputId": "57186f63-7db8-4562-b3ce-72d91fbe22b5"
      },
      "source": [
        "cifar_.summary()"
      ],
      "execution_count": 125,
      "outputs": [
        {
          "output_type": "stream",
          "name": "stdout",
          "text": [
            "Model: \"sequential_10\"\n",
            "_________________________________________________________________\n",
            "Layer (type)                 Output Shape              Param #   \n",
            "=================================================================\n",
            "dense_33 (Dense)             (None, 1024)              3146752   \n",
            "_________________________________________________________________\n",
            "dropout_23 (Dropout)         (None, 1024)              0         \n",
            "_________________________________________________________________\n",
            "batch_normalization_23 (Batc (None, 1024)              4096      \n",
            "_________________________________________________________________\n",
            "dense_34 (Dense)             (None, 512)               524800    \n",
            "_________________________________________________________________\n",
            "dropout_24 (Dropout)         (None, 512)               0         \n",
            "_________________________________________________________________\n",
            "batch_normalization_24 (Batc (None, 512)               2048      \n",
            "_________________________________________________________________\n",
            "dense_35 (Dense)             (None, 256)               131328    \n",
            "_________________________________________________________________\n",
            "dropout_25 (Dropout)         (None, 256)               0         \n",
            "_________________________________________________________________\n",
            "batch_normalization_25 (Batc (None, 256)               1024      \n",
            "_________________________________________________________________\n",
            "dense_36 (Dense)             (None, 10)                2570      \n",
            "=================================================================\n",
            "Total params: 3,812,618\n",
            "Trainable params: 3,809,034\n",
            "Non-trainable params: 3,584\n",
            "_________________________________________________________________\n"
          ]
        }
      ]
    },
    {
      "cell_type": "markdown",
      "metadata": {
        "id": "tpjBDBeYoyuj"
      },
      "source": [
        "> ## 2) Model Compile"
      ]
    },
    {
      "cell_type": "markdown",
      "metadata": {
        "id": "f3sxkQa0JoUr"
      },
      "source": [
        "* 모델 학습방법 설정"
      ]
    },
    {
      "cell_type": "code",
      "metadata": {
        "id": "AyK_t1qwAi6M"
      },
      "source": [
        "cifar_.compile(loss = 'categorical_crossentropy',\n",
        "               optimizer = 'adam',\n",
        "               metrics = ['accuracy'])"
      ],
      "execution_count": 126,
      "outputs": []
    },
    {
      "cell_type": "markdown",
      "metadata": {
        "id": "umiq4B-Xo3OB"
      },
      "source": [
        "> ## 3) Model Fit"
      ]
    },
    {
      "cell_type": "markdown",
      "metadata": {
        "id": "1KuXREziKMD1"
      },
      "source": [
        "* 약 5분"
      ]
    },
    {
      "cell_type": "code",
      "metadata": {
        "id": "zxwqwAqRAqRP",
        "colab": {
          "base_uri": "https://localhost:8080/"
        },
        "outputId": "7505bf7d-fec9-443e-e676-8761c75c28bf"
      },
      "source": [
        "%%time\n",
        "\n",
        "T_cifar = cifar_.fit(X_train, y_train,\n",
        "                     epochs=100,\n",
        "                     batch_size = 128,\n",
        "                     validation_split = 0.2)\n"
      ],
      "execution_count": 127,
      "outputs": [
        {
          "output_type": "stream",
          "name": "stdout",
          "text": [
            "Epoch 1/100\n",
            "313/313 [==============================] - 5s 11ms/step - loss: 2.3869 - accuracy: 0.2679 - val_loss: 2.2253 - val_accuracy: 0.2942\n",
            "Epoch 2/100\n",
            "313/313 [==============================] - 3s 9ms/step - loss: 2.0532 - accuracy: 0.3442 - val_loss: 2.2099 - val_accuracy: 0.2629\n",
            "Epoch 3/100\n",
            "313/313 [==============================] - 3s 10ms/step - loss: 1.9607 - accuracy: 0.3697 - val_loss: 2.0807 - val_accuracy: 0.3173\n",
            "Epoch 4/100\n",
            "313/313 [==============================] - 3s 9ms/step - loss: 1.9173 - accuracy: 0.3790 - val_loss: 1.8975 - val_accuracy: 0.3879\n",
            "Epoch 5/100\n",
            "313/313 [==============================] - 3s 9ms/step - loss: 1.8983 - accuracy: 0.3778 - val_loss: 1.8829 - val_accuracy: 0.3715\n",
            "Epoch 6/100\n",
            "313/313 [==============================] - 3s 9ms/step - loss: 1.8629 - accuracy: 0.3818 - val_loss: 1.8003 - val_accuracy: 0.3964\n",
            "Epoch 7/100\n",
            "313/313 [==============================] - 3s 9ms/step - loss: 1.8355 - accuracy: 0.3863 - val_loss: 1.8155 - val_accuracy: 0.3996\n",
            "Epoch 8/100\n",
            "313/313 [==============================] - 3s 10ms/step - loss: 1.7953 - accuracy: 0.3962 - val_loss: 1.9401 - val_accuracy: 0.3496\n",
            "Epoch 9/100\n",
            "313/313 [==============================] - 3s 10ms/step - loss: 1.7764 - accuracy: 0.3955 - val_loss: 1.7314 - val_accuracy: 0.4192\n",
            "Epoch 10/100\n",
            "313/313 [==============================] - 3s 10ms/step - loss: 1.7516 - accuracy: 0.4041 - val_loss: 1.7943 - val_accuracy: 0.3928\n",
            "Epoch 11/100\n",
            "313/313 [==============================] - 3s 9ms/step - loss: 1.7367 - accuracy: 0.4115 - val_loss: 1.7460 - val_accuracy: 0.4240\n",
            "Epoch 12/100\n",
            "313/313 [==============================] - 3s 9ms/step - loss: 1.7140 - accuracy: 0.4180 - val_loss: 1.6672 - val_accuracy: 0.4399\n",
            "Epoch 13/100\n",
            "313/313 [==============================] - 3s 9ms/step - loss: 1.7168 - accuracy: 0.4155 - val_loss: 1.6948 - val_accuracy: 0.4270\n",
            "Epoch 14/100\n",
            "313/313 [==============================] - 3s 9ms/step - loss: 1.7110 - accuracy: 0.4173 - val_loss: 1.7491 - val_accuracy: 0.3963\n",
            "Epoch 15/100\n",
            "313/313 [==============================] - 3s 9ms/step - loss: 1.7093 - accuracy: 0.4172 - val_loss: 1.6690 - val_accuracy: 0.4347\n",
            "Epoch 16/100\n",
            "313/313 [==============================] - 3s 9ms/step - loss: 1.6923 - accuracy: 0.4249 - val_loss: 1.6648 - val_accuracy: 0.4338\n",
            "Epoch 17/100\n",
            "313/313 [==============================] - 3s 9ms/step - loss: 1.6949 - accuracy: 0.4230 - val_loss: 1.6261 - val_accuracy: 0.4544\n",
            "Epoch 18/100\n",
            "313/313 [==============================] - 3s 9ms/step - loss: 1.6971 - accuracy: 0.4230 - val_loss: 1.7790 - val_accuracy: 0.3905\n",
            "Epoch 19/100\n",
            "313/313 [==============================] - 3s 9ms/step - loss: 1.6927 - accuracy: 0.4218 - val_loss: 1.7194 - val_accuracy: 0.4092\n",
            "Epoch 20/100\n",
            "313/313 [==============================] - 3s 9ms/step - loss: 1.7043 - accuracy: 0.4201 - val_loss: 1.6981 - val_accuracy: 0.4328\n",
            "Epoch 21/100\n",
            "313/313 [==============================] - 3s 9ms/step - loss: 1.6923 - accuracy: 0.4254 - val_loss: 1.6546 - val_accuracy: 0.4433\n",
            "Epoch 22/100\n",
            "313/313 [==============================] - 3s 10ms/step - loss: 1.6907 - accuracy: 0.4212 - val_loss: 1.6508 - val_accuracy: 0.4475\n",
            "Epoch 23/100\n",
            "313/313 [==============================] - 3s 10ms/step - loss: 1.6808 - accuracy: 0.4244 - val_loss: 1.6901 - val_accuracy: 0.4347\n",
            "Epoch 24/100\n",
            "313/313 [==============================] - 3s 9ms/step - loss: 1.6797 - accuracy: 0.4279 - val_loss: 1.7526 - val_accuracy: 0.3966\n",
            "Epoch 25/100\n",
            "313/313 [==============================] - 3s 10ms/step - loss: 1.6685 - accuracy: 0.4298 - val_loss: 1.6429 - val_accuracy: 0.4417\n",
            "Epoch 26/100\n",
            "313/313 [==============================] - 3s 9ms/step - loss: 1.6734 - accuracy: 0.4287 - val_loss: 1.6507 - val_accuracy: 0.4381\n",
            "Epoch 27/100\n",
            "313/313 [==============================] - 3s 9ms/step - loss: 1.6686 - accuracy: 0.4308 - val_loss: 1.6659 - val_accuracy: 0.4357\n",
            "Epoch 28/100\n",
            "313/313 [==============================] - 3s 9ms/step - loss: 1.6706 - accuracy: 0.4290 - val_loss: 1.6536 - val_accuracy: 0.4374\n",
            "Epoch 29/100\n",
            "313/313 [==============================] - 3s 9ms/step - loss: 1.6834 - accuracy: 0.4248 - val_loss: 1.6562 - val_accuracy: 0.4326\n",
            "Epoch 30/100\n",
            "313/313 [==============================] - 3s 9ms/step - loss: 1.6768 - accuracy: 0.4264 - val_loss: 1.6883 - val_accuracy: 0.4198\n",
            "Epoch 31/100\n",
            "313/313 [==============================] - 3s 9ms/step - loss: 1.6618 - accuracy: 0.4338 - val_loss: 1.6264 - val_accuracy: 0.4470\n",
            "Epoch 32/100\n",
            "313/313 [==============================] - 3s 9ms/step - loss: 1.6534 - accuracy: 0.4339 - val_loss: 1.6442 - val_accuracy: 0.4373\n",
            "Epoch 33/100\n",
            "313/313 [==============================] - 3s 10ms/step - loss: 1.6555 - accuracy: 0.4317 - val_loss: 1.6759 - val_accuracy: 0.4212\n",
            "Epoch 34/100\n",
            "313/313 [==============================] - 3s 9ms/step - loss: 1.6592 - accuracy: 0.4321 - val_loss: 1.6701 - val_accuracy: 0.4351\n",
            "Epoch 35/100\n",
            "313/313 [==============================] - 3s 10ms/step - loss: 1.6575 - accuracy: 0.4377 - val_loss: 1.7504 - val_accuracy: 0.3951\n",
            "Epoch 36/100\n",
            "313/313 [==============================] - 3s 9ms/step - loss: 1.6574 - accuracy: 0.4351 - val_loss: 1.6496 - val_accuracy: 0.4366\n",
            "Epoch 37/100\n",
            "313/313 [==============================] - 3s 10ms/step - loss: 1.6478 - accuracy: 0.4364 - val_loss: 1.6787 - val_accuracy: 0.4216\n",
            "Epoch 38/100\n",
            "313/313 [==============================] - 3s 9ms/step - loss: 1.6384 - accuracy: 0.4419 - val_loss: 1.6562 - val_accuracy: 0.4373\n",
            "Epoch 39/100\n",
            "313/313 [==============================] - 3s 9ms/step - loss: 1.6382 - accuracy: 0.4393 - val_loss: 1.6772 - val_accuracy: 0.4261\n",
            "Epoch 40/100\n",
            "313/313 [==============================] - 3s 10ms/step - loss: 1.6517 - accuracy: 0.4363 - val_loss: 1.6369 - val_accuracy: 0.4482\n",
            "Epoch 41/100\n",
            "313/313 [==============================] - 3s 9ms/step - loss: 1.6704 - accuracy: 0.4318 - val_loss: 1.6607 - val_accuracy: 0.4396\n",
            "Epoch 42/100\n",
            "313/313 [==============================] - 3s 9ms/step - loss: 1.6593 - accuracy: 0.4350 - val_loss: 1.6195 - val_accuracy: 0.4473\n",
            "Epoch 43/100\n",
            "313/313 [==============================] - 3s 9ms/step - loss: 1.6617 - accuracy: 0.4327 - val_loss: 1.6742 - val_accuracy: 0.4376\n",
            "Epoch 44/100\n",
            "313/313 [==============================] - 3s 10ms/step - loss: 1.6628 - accuracy: 0.4288 - val_loss: 1.6786 - val_accuracy: 0.4306\n",
            "Epoch 45/100\n",
            "313/313 [==============================] - 3s 10ms/step - loss: 1.6587 - accuracy: 0.4322 - val_loss: 1.7316 - val_accuracy: 0.4170\n",
            "Epoch 46/100\n",
            "313/313 [==============================] - 3s 9ms/step - loss: 1.6592 - accuracy: 0.4331 - val_loss: 1.6708 - val_accuracy: 0.4390\n",
            "Epoch 47/100\n",
            "313/313 [==============================] - 3s 10ms/step - loss: 1.6480 - accuracy: 0.4360 - val_loss: 1.6672 - val_accuracy: 0.4402\n",
            "Epoch 48/100\n",
            "313/313 [==============================] - 3s 9ms/step - loss: 1.6456 - accuracy: 0.4402 - val_loss: 1.7140 - val_accuracy: 0.4243\n",
            "Epoch 49/100\n",
            "313/313 [==============================] - 3s 9ms/step - loss: 1.6481 - accuracy: 0.4367 - val_loss: 1.6456 - val_accuracy: 0.4424\n",
            "Epoch 50/100\n",
            "313/313 [==============================] - 3s 10ms/step - loss: 1.6419 - accuracy: 0.4372 - val_loss: 1.6676 - val_accuracy: 0.4371\n",
            "Epoch 51/100\n",
            "313/313 [==============================] - 3s 10ms/step - loss: 1.6451 - accuracy: 0.4391 - val_loss: 1.6853 - val_accuracy: 0.4303\n",
            "Epoch 52/100\n",
            "313/313 [==============================] - 3s 9ms/step - loss: 1.6428 - accuracy: 0.4406 - val_loss: 1.6455 - val_accuracy: 0.4441\n",
            "Epoch 53/100\n",
            "313/313 [==============================] - 3s 9ms/step - loss: 1.6308 - accuracy: 0.4423 - val_loss: 1.5872 - val_accuracy: 0.4630\n",
            "Epoch 54/100\n",
            "313/313 [==============================] - 3s 9ms/step - loss: 1.6254 - accuracy: 0.4469 - val_loss: 1.6178 - val_accuracy: 0.4482\n",
            "Epoch 55/100\n",
            "313/313 [==============================] - 3s 10ms/step - loss: 1.6340 - accuracy: 0.4423 - val_loss: 1.6536 - val_accuracy: 0.4402\n",
            "Epoch 56/100\n",
            "313/313 [==============================] - 3s 9ms/step - loss: 1.6373 - accuracy: 0.4412 - val_loss: 1.7510 - val_accuracy: 0.4069\n",
            "Epoch 57/100\n",
            "313/313 [==============================] - 3s 9ms/step - loss: 1.6292 - accuracy: 0.4404 - val_loss: 1.6632 - val_accuracy: 0.4333\n",
            "Epoch 58/100\n",
            "313/313 [==============================] - 3s 10ms/step - loss: 1.6272 - accuracy: 0.4451 - val_loss: 1.6779 - val_accuracy: 0.4265\n",
            "Epoch 59/100\n",
            "313/313 [==============================] - 3s 10ms/step - loss: 1.6283 - accuracy: 0.4433 - val_loss: 1.7154 - val_accuracy: 0.4179\n",
            "Epoch 60/100\n",
            "313/313 [==============================] - 3s 9ms/step - loss: 1.6342 - accuracy: 0.4414 - val_loss: 1.6959 - val_accuracy: 0.4252\n",
            "Epoch 61/100\n",
            "313/313 [==============================] - 3s 9ms/step - loss: 1.6349 - accuracy: 0.4415 - val_loss: 1.6818 - val_accuracy: 0.4279\n",
            "Epoch 62/100\n",
            "313/313 [==============================] - 3s 10ms/step - loss: 1.6328 - accuracy: 0.4423 - val_loss: 1.6556 - val_accuracy: 0.4428\n",
            "Epoch 63/100\n",
            "313/313 [==============================] - 3s 10ms/step - loss: 1.6400 - accuracy: 0.4402 - val_loss: 1.6643 - val_accuracy: 0.4331\n",
            "Epoch 64/100\n",
            "313/313 [==============================] - 3s 9ms/step - loss: 1.6294 - accuracy: 0.4422 - val_loss: 1.6705 - val_accuracy: 0.4349\n",
            "Epoch 65/100\n",
            "313/313 [==============================] - 3s 10ms/step - loss: 1.6378 - accuracy: 0.4392 - val_loss: 1.7754 - val_accuracy: 0.4057\n",
            "Epoch 66/100\n",
            "313/313 [==============================] - 3s 9ms/step - loss: 1.6192 - accuracy: 0.4488 - val_loss: 1.6665 - val_accuracy: 0.4365\n",
            "Epoch 67/100\n",
            "313/313 [==============================] - 3s 10ms/step - loss: 1.6220 - accuracy: 0.4482 - val_loss: 1.6814 - val_accuracy: 0.4315\n",
            "Epoch 68/100\n",
            "313/313 [==============================] - 3s 10ms/step - loss: 1.6239 - accuracy: 0.4490 - val_loss: 1.6563 - val_accuracy: 0.4456\n",
            "Epoch 69/100\n",
            "313/313 [==============================] - 3s 9ms/step - loss: 1.6198 - accuracy: 0.4482 - val_loss: 1.7057 - val_accuracy: 0.4253\n",
            "Epoch 70/100\n",
            "313/313 [==============================] - 3s 10ms/step - loss: 1.6139 - accuracy: 0.4500 - val_loss: 1.6637 - val_accuracy: 0.4355\n",
            "Epoch 71/100\n",
            "313/313 [==============================] - 3s 10ms/step - loss: 1.6187 - accuracy: 0.4481 - val_loss: 1.7211 - val_accuracy: 0.4121\n",
            "Epoch 72/100\n",
            "313/313 [==============================] - 3s 10ms/step - loss: 1.6117 - accuracy: 0.4467 - val_loss: 1.6601 - val_accuracy: 0.4390\n",
            "Epoch 73/100\n",
            "313/313 [==============================] - 3s 9ms/step - loss: 1.6209 - accuracy: 0.4450 - val_loss: 1.6969 - val_accuracy: 0.4288\n",
            "Epoch 74/100\n",
            "313/313 [==============================] - 3s 10ms/step - loss: 1.6169 - accuracy: 0.4493 - val_loss: 1.6912 - val_accuracy: 0.4302\n",
            "Epoch 75/100\n",
            "313/313 [==============================] - 3s 10ms/step - loss: 1.6181 - accuracy: 0.4502 - val_loss: 1.7329 - val_accuracy: 0.4166\n",
            "Epoch 76/100\n",
            "313/313 [==============================] - 3s 10ms/step - loss: 1.6114 - accuracy: 0.4469 - val_loss: 1.6969 - val_accuracy: 0.4251\n",
            "Epoch 77/100\n",
            "313/313 [==============================] - 3s 10ms/step - loss: 1.6157 - accuracy: 0.4461 - val_loss: 1.6779 - val_accuracy: 0.4261\n",
            "Epoch 78/100\n",
            "313/313 [==============================] - 3s 10ms/step - loss: 1.6104 - accuracy: 0.4479 - val_loss: 1.7585 - val_accuracy: 0.4066\n",
            "Epoch 79/100\n",
            "313/313 [==============================] - 3s 10ms/step - loss: 1.6225 - accuracy: 0.4466 - val_loss: 1.6902 - val_accuracy: 0.4320\n",
            "Epoch 80/100\n",
            "313/313 [==============================] - 3s 9ms/step - loss: 1.6244 - accuracy: 0.4441 - val_loss: 1.7811 - val_accuracy: 0.3885\n",
            "Epoch 81/100\n",
            "313/313 [==============================] - 3s 9ms/step - loss: 1.6201 - accuracy: 0.4472 - val_loss: 1.7196 - val_accuracy: 0.4272\n",
            "Epoch 82/100\n",
            "313/313 [==============================] - 3s 9ms/step - loss: 1.6099 - accuracy: 0.4498 - val_loss: 1.6796 - val_accuracy: 0.4193\n",
            "Epoch 83/100\n",
            "313/313 [==============================] - 3s 9ms/step - loss: 1.6041 - accuracy: 0.4509 - val_loss: 1.7757 - val_accuracy: 0.3965\n",
            "Epoch 84/100\n",
            "313/313 [==============================] - 3s 10ms/step - loss: 1.6073 - accuracy: 0.4495 - val_loss: 1.6804 - val_accuracy: 0.4353\n",
            "Epoch 85/100\n",
            "313/313 [==============================] - 3s 10ms/step - loss: 1.6115 - accuracy: 0.4514 - val_loss: 1.6844 - val_accuracy: 0.4331\n",
            "Epoch 86/100\n",
            "313/313 [==============================] - 3s 9ms/step - loss: 1.6073 - accuracy: 0.4512 - val_loss: 1.6348 - val_accuracy: 0.4491\n",
            "Epoch 87/100\n",
            "313/313 [==============================] - 3s 9ms/step - loss: 1.6142 - accuracy: 0.4500 - val_loss: 1.6681 - val_accuracy: 0.4428\n",
            "Epoch 88/100\n",
            "313/313 [==============================] - 3s 9ms/step - loss: 1.6195 - accuracy: 0.4457 - val_loss: 1.6857 - val_accuracy: 0.4203\n",
            "Epoch 89/100\n",
            "313/313 [==============================] - 3s 10ms/step - loss: 1.6129 - accuracy: 0.4504 - val_loss: 1.6807 - val_accuracy: 0.4281\n",
            "Epoch 90/100\n",
            "313/313 [==============================] - 3s 10ms/step - loss: 1.6092 - accuracy: 0.4496 - val_loss: 1.8303 - val_accuracy: 0.3776\n",
            "Epoch 91/100\n",
            "313/313 [==============================] - 3s 9ms/step - loss: 1.6118 - accuracy: 0.4483 - val_loss: 1.6951 - val_accuracy: 0.4265\n",
            "Epoch 92/100\n",
            "313/313 [==============================] - 3s 9ms/step - loss: 1.6162 - accuracy: 0.4480 - val_loss: 1.6717 - val_accuracy: 0.4303\n",
            "Epoch 93/100\n",
            "313/313 [==============================] - 3s 9ms/step - loss: 1.6089 - accuracy: 0.4490 - val_loss: 1.6794 - val_accuracy: 0.4272\n",
            "Epoch 94/100\n",
            "313/313 [==============================] - 3s 9ms/step - loss: 1.6073 - accuracy: 0.4503 - val_loss: 1.7251 - val_accuracy: 0.4136\n",
            "Epoch 95/100\n",
            "313/313 [==============================] - 3s 10ms/step - loss: 1.6139 - accuracy: 0.4485 - val_loss: 1.7017 - val_accuracy: 0.4230\n",
            "Epoch 96/100\n",
            "313/313 [==============================] - 3s 10ms/step - loss: 1.6063 - accuracy: 0.4534 - val_loss: 1.7370 - val_accuracy: 0.4112\n",
            "Epoch 97/100\n",
            "313/313 [==============================] - 3s 10ms/step - loss: 1.6061 - accuracy: 0.4538 - val_loss: 1.7803 - val_accuracy: 0.3938\n",
            "Epoch 98/100\n",
            "313/313 [==============================] - 3s 9ms/step - loss: 1.6093 - accuracy: 0.4512 - val_loss: 1.6818 - val_accuracy: 0.4280\n",
            "Epoch 99/100\n",
            "313/313 [==============================] - 3s 9ms/step - loss: 1.6067 - accuracy: 0.4528 - val_loss: 1.6925 - val_accuracy: 0.4371\n",
            "Epoch 100/100\n",
            "313/313 [==============================] - 3s 10ms/step - loss: 1.6129 - accuracy: 0.4505 - val_loss: 1.7814 - val_accuracy: 0.4018\n",
            "CPU times: user 5min 17s, sys: 35.5 s, total: 5min 52s\n",
            "Wall time: 4min 59s\n"
          ]
        }
      ]
    },
    {
      "cell_type": "markdown",
      "metadata": {
        "id": "FnnIyFtNKhbD"
      },
      "source": [
        "> ## 4) 학습 결과 시각화"
      ]
    },
    {
      "cell_type": "markdown",
      "metadata": {
        "id": "YgXRhVauKqOm"
      },
      "source": [
        "* Loss Visualization"
      ]
    },
    {
      "cell_type": "code",
      "metadata": {
        "id": "OQ4ke8BbKi50",
        "colab": {
          "base_uri": "https://localhost:8080/",
          "height": 404
        },
        "outputId": "50bf6f01-00d7-44bf-daca-6cb70820deaa"
      },
      "source": [
        "import matplotlib.pyplot as plt\n",
        "\n",
        "epochs = range(1, len(T_cifar.history['loss']) + 1)\n",
        "\n",
        "plt.figure(figsize = (9, 6))\n",
        "plt.plot(epochs, T_cifar.history['loss'])\n",
        "plt.plot(epochs, T_cifar.history['val_loss'])\n",
        "# plt.ylim(0, 0.25)\n",
        "plt.title('Training & Validation Loss')\n",
        "plt.xlabel('Epochs')\n",
        "plt.ylabel('Loss')\n",
        "plt.legend(['Training Loss', 'Validation Loss'])\n",
        "plt.grid()\n",
        "plt.show()"
      ],
      "execution_count": 128,
      "outputs": [
        {
          "output_type": "display_data",
          "data": {
            "image/png": "[encoded data removed]",
            "text/plain": [
              "<Figure size 648x432 with 1 Axes>"
            ]
          },
          "metadata": {
            "needs_background": "light"
          }
        }
      ]
    },
    {
      "cell_type": "markdown",
      "metadata": {
        "id": "_uJSOLBko7lh"
      },
      "source": [
        "> ## 5) Model Evaluate"
      ]
    },
    {
      "cell_type": "markdown",
      "metadata": {
        "id": "i-TqAB2ALGzZ"
      },
      "source": [
        "* Loss & Accuracy"
      ]
    },
    {
      "cell_type": "code",
      "metadata": {
        "id": "OF30PuZsAxQJ",
        "colab": {
          "base_uri": "https://localhost:8080/"
        },
        "outputId": "2e839f7b-1ad5-4106-aec3-a3bd0e50d2bc"
      },
      "source": [
        "loss, accuracy = cifar_.evaluate(X_test, y_test)\n",
        "\n",
        "print('Loss = {:.5f}'.format(loss))\n",
        "print('Accuracy = {:.5f}'.format(accuracy))"
      ],
      "execution_count": 129,
      "outputs": [
        {
          "output_type": "stream",
          "name": "stdout",
          "text": [
            "313/313 [==============================] - 1s 4ms/step - loss: 1.7632 - accuracy: 0.4054\n",
            "Loss = 1.76318\n",
            "Accuracy = 0.40540\n"
          ]
        }
      ]
    },
    {
      "cell_type": "markdown",
      "metadata": {
        "id": "1PRY6gAXo_PX"
      },
      "source": [
        "> ## 6) Model Predict"
      ]
    },
    {
      "cell_type": "markdown",
      "metadata": {
        "id": "M_pFxK4PLjxX"
      },
      "source": [
        "* Probability"
      ]
    },
    {
      "cell_type": "code",
      "metadata": {
        "id": "vCdPbgU1ajoV",
        "colab": {
          "base_uri": "https://localhost:8080/"
        },
        "outputId": "ca028d47-78df-417e-8f07-c51d98cdc8fd"
      },
      "source": [
        "np.set_printoptions(suppress = True, precision = 9)\n",
        "\n",
        "print(cifar_.predict(X_test[:1,:]))"
      ],
      "execution_count": 142,
      "outputs": [
        {
          "output_type": "stream",
          "name": "stdout",
          "text": [
            "[[0.25408378 0.2408979  0.50055593 0.8277399  0.5852484  0.8182651  0.67480874 0.45956433 0.5185898  0.23671214]]\n"
          ]
        }
      ]
    },
    {
      "cell_type": "markdown",
      "metadata": {
        "id": "V10JgtGdLmKb"
      },
      "source": [
        "* Class"
      ]
    },
    {
      "cell_type": "code",
      "metadata": {
        "id": "xW6AhMK9a7RK",
        "colab": {
          "base_uri": "https://localhost:8080/"
        },
        "outputId": "feb9fa99-ced4-43d3-fa94-9b3b44159d56"
      },
      "source": [
        "print(np.argmax(cifar_.predict(X_test[:1,:]), axis = 1))"
      ],
      "execution_count": 131,
      "outputs": [
        {
          "output_type": "stream",
          "name": "stdout",
          "text": [
            "[3]\n"
          ]
        }
      ]
    },
    {
      "cell_type": "markdown",
      "metadata": {
        "id": "sN48I9GrLxOX"
      },
      "source": [
        "# \n",
        "# \n",
        "# \n",
        "# The End\n",
        "# \n",
        "# \n",
        "# "
      ]
    },
    {
      "cell_type": "code",
      "metadata": {
        "id": "L3uFdnC6DgqD"
      },
      "source": [
        ""
      ],
      "execution_count": 131,
      "outputs": []
    }
  ]
}