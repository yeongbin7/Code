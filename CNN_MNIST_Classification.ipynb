{
  "nbformat": 4,
  "nbformat_minor": 0,
  "metadata": {
    "colab": {
      "name": "CNN_MNIST_Classification",
      "provenance": [],
      "authorship_tag": "ABX9TyP2EJ46xN0phOnRJ8GazpgM",
      "include_colab_link": true
    },
    "kernelspec": {
      "name": "python3",
      "display_name": "Python 3"
    },
    "language_info": {
      "name": "python"
    },
    "accelerator": "GPU"
  },
  "cells": [
    {
      "cell_type": "markdown",
      "metadata": {
        "id": "view-in-github",
        "colab_type": "text"
      },
      "source": [
        "<a href=\"https://colab.research.google.com/github/BbangB/Code/blob/main/CNN_MNIST_Classification.ipynb\" target=\"_parent\"><img src=\"https://colab.research.google.com/assets/colab-badge.svg\" alt=\"Open In Colab\"/></a>"
      ]
    },
    {
      "cell_type": "code",
      "metadata": {
        "id": "-eVAjIRzh6KU"
      },
      "source": [
        "import warnings\n",
        "warnings.filterwarnings('ignore')"
      ],
      "execution_count": 1,
      "outputs": []
    },
    {
      "cell_type": "code",
      "metadata": {
        "colab": {
          "base_uri": "https://localhost:8080/"
        },
        "id": "CPV0XDT-h7jq",
        "outputId": "fe6e31f7-57f1-4191-f096-d2c4019ca43d"
      },
      "source": [
        "from tensorflow.keras.datasets import mnist\n",
        "\n",
        "(X_train, y_train) , (X_test, y_test) = mnist.load_data()"
      ],
      "execution_count": 2,
      "outputs": [
        {
          "output_type": "stream",
          "name": "stdout",
          "text": [
            "Downloading data from https://storage.googleapis.com/tensorflow/tf-keras-datasets/mnist.npz\n",
            "11493376/11490434 [==============================] - 0s 0us/step\n",
            "11501568/11490434 [==============================] - 0s 0us/step\n"
          ]
        }
      ]
    },
    {
      "cell_type": "code",
      "metadata": {
        "id": "9wns1847iCRh"
      },
      "source": [
        "X_train.shape\n",
        "X_train = X_train.reshape((60000,28,28,1))\n",
        "X_test = X_test.reshape((10000,28,28,1))"
      ],
      "execution_count": 3,
      "outputs": []
    },
    {
      "cell_type": "code",
      "metadata": {
        "id": "luc_48c8iMZ5"
      },
      "source": [
        "X_train = X_train.astype(float) / 255\n",
        "X_test = X_test.astype(float) / 255"
      ],
      "execution_count": 4,
      "outputs": []
    },
    {
      "cell_type": "code",
      "metadata": {
        "id": "jKo_fLS5iWGr"
      },
      "source": [
        "from tensorflow.keras.utils import to_categorical\n",
        "\n",
        "y_train = to_categorical(y_train)\n",
        "y_test = to_categorical(y_test)"
      ],
      "execution_count": 5,
      "outputs": []
    },
    {
      "cell_type": "code",
      "metadata": {
        "id": "vPqG2ydkiyha"
      },
      "source": [
        "from tensorflow.keras import models\n",
        "from tensorflow.keras import layers\n",
        "from tensorflow.keras import Sequential\n",
        "\n",
        "model = models.Sequential()\n",
        "model.add(layers.Conv2D(filters= 32, kernel_size=(3,3), activation= 'relu', input_shape = (28,28,1)))\n",
        "model.add(layers.MaxPool2D(pool_size= (2,2)))\n",
        "model.add(layers.Conv2D(filters= 32, kernel_size=(3,3), activation= 'relu'))\n",
        "model.add(layers.MaxPool2D(pool_size= (2,2)))\n",
        "model.add(layers.Conv2D(filters= 32, kernel_size=(3,3), activation= 'relu'))"
      ],
      "execution_count": 6,
      "outputs": []
    },
    {
      "cell_type": "code",
      "metadata": {
        "colab": {
          "base_uri": "https://localhost:8080/"
        },
        "id": "iT74_WFBjP8m",
        "outputId": "9c3e02f1-2e67-47a6-e00c-f05bcbf60504"
      },
      "source": [
        "model.summary()"
      ],
      "execution_count": 7,
      "outputs": [
        {
          "output_type": "stream",
          "name": "stdout",
          "text": [
            "Model: \"sequential\"\n",
            "_________________________________________________________________\n",
            "Layer (type)                 Output Shape              Param #   \n",
            "=================================================================\n",
            "conv2d (Conv2D)              (None, 26, 26, 32)        320       \n",
            "_________________________________________________________________\n",
            "max_pooling2d (MaxPooling2D) (None, 13, 13, 32)        0         \n",
            "_________________________________________________________________\n",
            "conv2d_1 (Conv2D)            (None, 11, 11, 32)        9248      \n",
            "_________________________________________________________________\n",
            "max_pooling2d_1 (MaxPooling2 (None, 5, 5, 32)          0         \n",
            "_________________________________________________________________\n",
            "conv2d_2 (Conv2D)            (None, 3, 3, 32)          9248      \n",
            "=================================================================\n",
            "Total params: 18,816\n",
            "Trainable params: 18,816\n",
            "Non-trainable params: 0\n",
            "_________________________________________________________________\n"
          ]
        }
      ]
    },
    {
      "cell_type": "code",
      "metadata": {
        "id": "kTgA2k9AkOhU"
      },
      "source": [
        "model.add(layers.Flatten())\n",
        "model.add(layers.Dense(units=64, activation='relu'))\n",
        "model.add(layers.Dense(units=10, activation= 'softmax'))\n"
      ],
      "execution_count": 8,
      "outputs": []
    },
    {
      "cell_type": "code",
      "metadata": {
        "colab": {
          "base_uri": "https://localhost:8080/"
        },
        "id": "MsCK-ay6kZY7",
        "outputId": "84122549-33a5-43e7-e057-fc350bf41daa"
      },
      "source": [
        "model.summary()"
      ],
      "execution_count": 9,
      "outputs": [
        {
          "output_type": "stream",
          "name": "stdout",
          "text": [
            "Model: \"sequential\"\n",
            "_________________________________________________________________\n",
            "Layer (type)                 Output Shape              Param #   \n",
            "=================================================================\n",
            "conv2d (Conv2D)              (None, 26, 26, 32)        320       \n",
            "_________________________________________________________________\n",
            "max_pooling2d (MaxPooling2D) (None, 13, 13, 32)        0         \n",
            "_________________________________________________________________\n",
            "conv2d_1 (Conv2D)            (None, 11, 11, 32)        9248      \n",
            "_________________________________________________________________\n",
            "max_pooling2d_1 (MaxPooling2 (None, 5, 5, 32)          0         \n",
            "_________________________________________________________________\n",
            "conv2d_2 (Conv2D)            (None, 3, 3, 32)          9248      \n",
            "_________________________________________________________________\n",
            "flatten (Flatten)            (None, 288)               0         \n",
            "_________________________________________________________________\n",
            "dense (Dense)                (None, 64)                18496     \n",
            "_________________________________________________________________\n",
            "dense_1 (Dense)              (None, 10)                650       \n",
            "=================================================================\n",
            "Total params: 37,962\n",
            "Trainable params: 37,962\n",
            "Non-trainable params: 0\n",
            "_________________________________________________________________\n"
          ]
        }
      ]
    },
    {
      "cell_type": "code",
      "metadata": {
        "id": "gcbBjU2qkbnr"
      },
      "source": [
        "model.compile(loss= 'categorical_crossentropy',\n",
        "              optimizer = 'rmsprop',\n",
        "              metrics = ['accuracy'])\n"
      ],
      "execution_count": 10,
      "outputs": []
    },
    {
      "cell_type": "code",
      "metadata": {
        "colab": {
          "base_uri": "https://localhost:8080/"
        },
        "id": "TMpueTYPkmpr",
        "outputId": "3a985636-d546-47af-d9b3-2f641ec37a33"
      },
      "source": [
        "%%time\n",
        "\n",
        "\n",
        "Hist_mnist = model.fit(X_train, y_train,\n",
        "                       epochs =100,\n",
        "                       batch_size =128,\n",
        "                       validation_split = 0.2)"
      ],
      "execution_count": 11,
      "outputs": [
        {
          "output_type": "stream",
          "name": "stdout",
          "text": [
            "Epoch 1/100\n",
            "375/375 [==============================] - 33s 10ms/step - loss: 0.3400 - accuracy: 0.8970 - val_loss: 0.1692 - val_accuracy: 0.9462\n",
            "Epoch 2/100\n",
            "375/375 [==============================] - 3s 9ms/step - loss: 0.0884 - accuracy: 0.9723 - val_loss: 0.0653 - val_accuracy: 0.9803\n",
            "Epoch 3/100\n",
            "375/375 [==============================] - 3s 9ms/step - loss: 0.0581 - accuracy: 0.9821 - val_loss: 0.0577 - val_accuracy: 0.9827\n",
            "Epoch 4/100\n",
            "375/375 [==============================] - 3s 9ms/step - loss: 0.0443 - accuracy: 0.9863 - val_loss: 0.0490 - val_accuracy: 0.9868\n",
            "Epoch 5/100\n",
            "375/375 [==============================] - 4s 9ms/step - loss: 0.0358 - accuracy: 0.9886 - val_loss: 0.0455 - val_accuracy: 0.9872\n",
            "Epoch 6/100\n",
            "375/375 [==============================] - 4s 9ms/step - loss: 0.0292 - accuracy: 0.9909 - val_loss: 0.0422 - val_accuracy: 0.9884\n",
            "Epoch 7/100\n",
            "375/375 [==============================] - 4s 9ms/step - loss: 0.0242 - accuracy: 0.9924 - val_loss: 0.0424 - val_accuracy: 0.9877\n",
            "Epoch 8/100\n",
            "375/375 [==============================] - 4s 9ms/step - loss: 0.0204 - accuracy: 0.9931 - val_loss: 0.0381 - val_accuracy: 0.9891\n",
            "Epoch 9/100\n",
            "375/375 [==============================] - 3s 9ms/step - loss: 0.0179 - accuracy: 0.9943 - val_loss: 0.0431 - val_accuracy: 0.9886\n",
            "Epoch 10/100\n",
            "375/375 [==============================] - 3s 9ms/step - loss: 0.0148 - accuracy: 0.9952 - val_loss: 0.0455 - val_accuracy: 0.9893\n",
            "Epoch 11/100\n",
            "375/375 [==============================] - 3s 9ms/step - loss: 0.0131 - accuracy: 0.9960 - val_loss: 0.0397 - val_accuracy: 0.9905\n",
            "Epoch 12/100\n",
            "375/375 [==============================] - 3s 9ms/step - loss: 0.0109 - accuracy: 0.9964 - val_loss: 0.0493 - val_accuracy: 0.9887\n",
            "Epoch 13/100\n",
            "375/375 [==============================] - 3s 9ms/step - loss: 0.0093 - accuracy: 0.9969 - val_loss: 0.0501 - val_accuracy: 0.9898\n",
            "Epoch 14/100\n",
            "375/375 [==============================] - 3s 9ms/step - loss: 0.0088 - accuracy: 0.9970 - val_loss: 0.0473 - val_accuracy: 0.9902\n",
            "Epoch 15/100\n",
            "375/375 [==============================] - 3s 9ms/step - loss: 0.0068 - accuracy: 0.9979 - val_loss: 0.0546 - val_accuracy: 0.9885\n",
            "Epoch 16/100\n",
            "375/375 [==============================] - 4s 9ms/step - loss: 0.0064 - accuracy: 0.9980 - val_loss: 0.0586 - val_accuracy: 0.9880\n",
            "Epoch 17/100\n",
            "375/375 [==============================] - 4s 9ms/step - loss: 0.0059 - accuracy: 0.9980 - val_loss: 0.0530 - val_accuracy: 0.9896\n",
            "Epoch 18/100\n",
            "375/375 [==============================] - 3s 9ms/step - loss: 0.0049 - accuracy: 0.9983 - val_loss: 0.0536 - val_accuracy: 0.9898\n",
            "Epoch 19/100\n",
            "375/375 [==============================] - 3s 9ms/step - loss: 0.0046 - accuracy: 0.9983 - val_loss: 0.0580 - val_accuracy: 0.9895\n",
            "Epoch 20/100\n",
            "375/375 [==============================] - 3s 9ms/step - loss: 0.0039 - accuracy: 0.9987 - val_loss: 0.0617 - val_accuracy: 0.9892\n",
            "Epoch 21/100\n",
            "375/375 [==============================] - 4s 9ms/step - loss: 0.0038 - accuracy: 0.9987 - val_loss: 0.0814 - val_accuracy: 0.9872\n",
            "Epoch 22/100\n",
            "375/375 [==============================] - 4s 9ms/step - loss: 0.0038 - accuracy: 0.9987 - val_loss: 0.0617 - val_accuracy: 0.9899\n",
            "Epoch 23/100\n",
            "375/375 [==============================] - 3s 9ms/step - loss: 0.0032 - accuracy: 0.9987 - val_loss: 0.0691 - val_accuracy: 0.9893\n",
            "Epoch 24/100\n",
            "375/375 [==============================] - 3s 9ms/step - loss: 0.0024 - accuracy: 0.9992 - val_loss: 0.0697 - val_accuracy: 0.9897\n",
            "Epoch 25/100\n",
            "375/375 [==============================] - 4s 9ms/step - loss: 0.0036 - accuracy: 0.9990 - val_loss: 0.0682 - val_accuracy: 0.9901\n",
            "Epoch 26/100\n",
            "375/375 [==============================] - 4s 9ms/step - loss: 0.0033 - accuracy: 0.9990 - val_loss: 0.0599 - val_accuracy: 0.9912\n",
            "Epoch 27/100\n",
            "375/375 [==============================] - 4s 9ms/step - loss: 0.0033 - accuracy: 0.9990 - val_loss: 0.0691 - val_accuracy: 0.9893\n",
            "Epoch 28/100\n",
            "375/375 [==============================] - 3s 9ms/step - loss: 0.0023 - accuracy: 0.9992 - val_loss: 0.0764 - val_accuracy: 0.9893\n",
            "Epoch 29/100\n",
            "375/375 [==============================] - 4s 9ms/step - loss: 0.0027 - accuracy: 0.9990 - val_loss: 0.0838 - val_accuracy: 0.9899\n",
            "Epoch 30/100\n",
            "375/375 [==============================] - 4s 9ms/step - loss: 0.0022 - accuracy: 0.9994 - val_loss: 0.0737 - val_accuracy: 0.9897\n",
            "Epoch 31/100\n",
            "375/375 [==============================] - 3s 9ms/step - loss: 0.0023 - accuracy: 0.9992 - val_loss: 0.0847 - val_accuracy: 0.9884\n",
            "Epoch 32/100\n",
            "375/375 [==============================] - 4s 10ms/step - loss: 0.0021 - accuracy: 0.9993 - val_loss: 0.0904 - val_accuracy: 0.9878\n",
            "Epoch 33/100\n",
            "375/375 [==============================] - 4s 9ms/step - loss: 0.0022 - accuracy: 0.9994 - val_loss: 0.0755 - val_accuracy: 0.9898\n",
            "Epoch 34/100\n",
            "375/375 [==============================] - 3s 9ms/step - loss: 0.0016 - accuracy: 0.9994 - val_loss: 0.0932 - val_accuracy: 0.9889\n",
            "Epoch 35/100\n",
            "375/375 [==============================] - 4s 9ms/step - loss: 0.0020 - accuracy: 0.9993 - val_loss: 0.0875 - val_accuracy: 0.9904\n",
            "Epoch 36/100\n",
            "375/375 [==============================] - 4s 9ms/step - loss: 0.0018 - accuracy: 0.9993 - val_loss: 0.0877 - val_accuracy: 0.9905\n",
            "Epoch 37/100\n",
            "375/375 [==============================] - 3s 9ms/step - loss: 0.0021 - accuracy: 0.9993 - val_loss: 0.0809 - val_accuracy: 0.9921\n",
            "Epoch 38/100\n",
            "375/375 [==============================] - 3s 9ms/step - loss: 0.0014 - accuracy: 0.9995 - val_loss: 0.0985 - val_accuracy: 0.9891\n",
            "Epoch 39/100\n",
            "375/375 [==============================] - 4s 9ms/step - loss: 0.0017 - accuracy: 0.9994 - val_loss: 0.1040 - val_accuracy: 0.9909\n",
            "Epoch 40/100\n",
            "375/375 [==============================] - 3s 9ms/step - loss: 0.0021 - accuracy: 0.9993 - val_loss: 0.0941 - val_accuracy: 0.9896\n",
            "Epoch 41/100\n",
            "375/375 [==============================] - 4s 9ms/step - loss: 0.0015 - accuracy: 0.9994 - val_loss: 0.0985 - val_accuracy: 0.9901\n",
            "Epoch 42/100\n",
            "375/375 [==============================] - 4s 9ms/step - loss: 0.0016 - accuracy: 0.9994 - val_loss: 0.1022 - val_accuracy: 0.9898\n",
            "Epoch 43/100\n",
            "375/375 [==============================] - 3s 9ms/step - loss: 0.0020 - accuracy: 0.9992 - val_loss: 0.0962 - val_accuracy: 0.9906\n",
            "Epoch 44/100\n",
            "375/375 [==============================] - 4s 9ms/step - loss: 0.0013 - accuracy: 0.9996 - val_loss: 0.0939 - val_accuracy: 0.9901\n",
            "Epoch 45/100\n",
            "375/375 [==============================] - 4s 9ms/step - loss: 0.0013 - accuracy: 0.9998 - val_loss: 0.1024 - val_accuracy: 0.9900\n",
            "Epoch 46/100\n",
            "375/375 [==============================] - 4s 9ms/step - loss: 7.4407e-04 - accuracy: 0.9997 - val_loss: 0.1166 - val_accuracy: 0.9893\n",
            "Epoch 47/100\n",
            "375/375 [==============================] - 3s 9ms/step - loss: 0.0012 - accuracy: 0.9996 - val_loss: 0.1178 - val_accuracy: 0.9886\n",
            "Epoch 48/100\n",
            "375/375 [==============================] - 3s 9ms/step - loss: 0.0014 - accuracy: 0.9997 - val_loss: 0.0985 - val_accuracy: 0.9900\n",
            "Epoch 49/100\n",
            "375/375 [==============================] - 3s 9ms/step - loss: 0.0013 - accuracy: 0.9996 - val_loss: 0.1182 - val_accuracy: 0.9885\n",
            "Epoch 50/100\n",
            "375/375 [==============================] - 3s 9ms/step - loss: 0.0023 - accuracy: 0.9994 - val_loss: 0.1213 - val_accuracy: 0.9899\n",
            "Epoch 51/100\n",
            "375/375 [==============================] - 4s 9ms/step - loss: 0.0012 - accuracy: 0.9996 - val_loss: 0.1102 - val_accuracy: 0.9898\n",
            "Epoch 52/100\n",
            "375/375 [==============================] - 4s 9ms/step - loss: 0.0015 - accuracy: 0.9996 - val_loss: 0.1103 - val_accuracy: 0.9909\n",
            "Epoch 53/100\n",
            "375/375 [==============================] - 4s 9ms/step - loss: 0.0015 - accuracy: 0.9996 - val_loss: 0.1280 - val_accuracy: 0.9893\n",
            "Epoch 54/100\n",
            "375/375 [==============================] - 3s 9ms/step - loss: 0.0014 - accuracy: 0.9995 - val_loss: 0.1049 - val_accuracy: 0.9908\n",
            "Epoch 55/100\n",
            "375/375 [==============================] - 4s 9ms/step - loss: 0.0011 - accuracy: 0.9996 - val_loss: 0.1154 - val_accuracy: 0.9904\n",
            "Epoch 56/100\n",
            "375/375 [==============================] - 3s 9ms/step - loss: 8.2924e-04 - accuracy: 0.9997 - val_loss: 0.1154 - val_accuracy: 0.9898\n",
            "Epoch 57/100\n",
            "375/375 [==============================] - 3s 9ms/step - loss: 7.8870e-04 - accuracy: 0.9997 - val_loss: 0.1165 - val_accuracy: 0.9901\n",
            "Epoch 58/100\n",
            "375/375 [==============================] - 3s 9ms/step - loss: 0.0017 - accuracy: 0.9995 - val_loss: 0.1183 - val_accuracy: 0.9901\n",
            "Epoch 59/100\n",
            "375/375 [==============================] - 3s 9ms/step - loss: 0.0014 - accuracy: 0.9997 - val_loss: 0.1259 - val_accuracy: 0.9901\n",
            "Epoch 60/100\n",
            "375/375 [==============================] - 4s 10ms/step - loss: 0.0019 - accuracy: 0.9995 - val_loss: 0.1317 - val_accuracy: 0.9898\n",
            "Epoch 61/100\n",
            "375/375 [==============================] - 3s 9ms/step - loss: 0.0011 - accuracy: 0.9997 - val_loss: 0.1336 - val_accuracy: 0.9908\n",
            "Epoch 62/100\n",
            "375/375 [==============================] - 3s 9ms/step - loss: 9.3076e-04 - accuracy: 0.9998 - val_loss: 0.1389 - val_accuracy: 0.9906\n",
            "Epoch 63/100\n",
            "375/375 [==============================] - 3s 9ms/step - loss: 0.0012 - accuracy: 0.9996 - val_loss: 0.1330 - val_accuracy: 0.9906\n",
            "Epoch 64/100\n",
            "375/375 [==============================] - 3s 9ms/step - loss: 7.7729e-04 - accuracy: 0.9997 - val_loss: 0.1221 - val_accuracy: 0.9915\n",
            "Epoch 65/100\n",
            "375/375 [==============================] - 3s 9ms/step - loss: 0.0015 - accuracy: 0.9997 - val_loss: 0.1392 - val_accuracy: 0.9909\n",
            "Epoch 66/100\n",
            "375/375 [==============================] - 3s 9ms/step - loss: 0.0015 - accuracy: 0.9997 - val_loss: 0.1181 - val_accuracy: 0.9919\n",
            "Epoch 67/100\n",
            "375/375 [==============================] - 3s 9ms/step - loss: 0.0013 - accuracy: 0.9996 - val_loss: 0.1313 - val_accuracy: 0.9914\n",
            "Epoch 68/100\n",
            "375/375 [==============================] - 3s 9ms/step - loss: 7.1426e-04 - accuracy: 0.9998 - val_loss: 0.1398 - val_accuracy: 0.9900\n",
            "Epoch 69/100\n",
            "375/375 [==============================] - 3s 9ms/step - loss: 0.0013 - accuracy: 0.9996 - val_loss: 0.1272 - val_accuracy: 0.9908\n",
            "Epoch 70/100\n",
            "375/375 [==============================] - 3s 9ms/step - loss: 0.0015 - accuracy: 0.9996 - val_loss: 0.1407 - val_accuracy: 0.9897\n",
            "Epoch 71/100\n",
            "375/375 [==============================] - 3s 9ms/step - loss: 0.0013 - accuracy: 0.9996 - val_loss: 0.1292 - val_accuracy: 0.9898\n",
            "Epoch 72/100\n",
            "375/375 [==============================] - 3s 9ms/step - loss: 4.8063e-04 - accuracy: 0.9999 - val_loss: 0.1533 - val_accuracy: 0.9893\n",
            "Epoch 73/100\n",
            "375/375 [==============================] - 4s 10ms/step - loss: 9.0875e-04 - accuracy: 0.9997 - val_loss: 0.1794 - val_accuracy: 0.9872\n",
            "Epoch 74/100\n",
            "375/375 [==============================] - 4s 9ms/step - loss: 0.0012 - accuracy: 0.9996 - val_loss: 0.1544 - val_accuracy: 0.9902\n",
            "Epoch 75/100\n",
            "375/375 [==============================] - 3s 9ms/step - loss: 0.0017 - accuracy: 0.9996 - val_loss: 0.1318 - val_accuracy: 0.9908\n",
            "Epoch 76/100\n",
            "375/375 [==============================] - 3s 9ms/step - loss: 0.0013 - accuracy: 0.9998 - val_loss: 0.1464 - val_accuracy: 0.9903\n",
            "Epoch 77/100\n",
            "375/375 [==============================] - 3s 9ms/step - loss: 8.7802e-04 - accuracy: 0.9998 - val_loss: 0.1477 - val_accuracy: 0.9904\n",
            "Epoch 78/100\n",
            "375/375 [==============================] - 3s 9ms/step - loss: 4.7693e-04 - accuracy: 0.9998 - val_loss: 0.1764 - val_accuracy: 0.9902\n",
            "Epoch 79/100\n",
            "375/375 [==============================] - 3s 9ms/step - loss: 9.1599e-04 - accuracy: 0.9996 - val_loss: 0.1438 - val_accuracy: 0.9905\n",
            "Epoch 80/100\n",
            "375/375 [==============================] - 3s 9ms/step - loss: 0.0013 - accuracy: 0.9996 - val_loss: 0.1487 - val_accuracy: 0.9908\n",
            "Epoch 81/100\n",
            "375/375 [==============================] - 3s 9ms/step - loss: 0.0011 - accuracy: 0.9998 - val_loss: 0.1637 - val_accuracy: 0.9896\n",
            "Epoch 82/100\n",
            "375/375 [==============================] - 3s 9ms/step - loss: 9.9404e-04 - accuracy: 0.9998 - val_loss: 0.1799 - val_accuracy: 0.9898\n",
            "Epoch 83/100\n",
            "375/375 [==============================] - 4s 9ms/step - loss: 0.0017 - accuracy: 0.9996 - val_loss: 0.1468 - val_accuracy: 0.9906\n",
            "Epoch 84/100\n",
            "375/375 [==============================] - 3s 9ms/step - loss: 4.6927e-04 - accuracy: 0.9999 - val_loss: 0.1504 - val_accuracy: 0.9913\n",
            "Epoch 85/100\n",
            "375/375 [==============================] - 3s 9ms/step - loss: 9.8500e-04 - accuracy: 0.9998 - val_loss: 0.1843 - val_accuracy: 0.9883\n",
            "Epoch 86/100\n",
            "375/375 [==============================] - 3s 9ms/step - loss: 0.0011 - accuracy: 0.9998 - val_loss: 0.1685 - val_accuracy: 0.9900\n",
            "Epoch 87/100\n",
            "375/375 [==============================] - 3s 9ms/step - loss: 0.0012 - accuracy: 0.9996 - val_loss: 0.1682 - val_accuracy: 0.9909\n",
            "Epoch 88/100\n",
            "375/375 [==============================] - 4s 10ms/step - loss: 0.0010 - accuracy: 0.9998 - val_loss: 0.1601 - val_accuracy: 0.9902\n",
            "Epoch 89/100\n",
            "375/375 [==============================] - 4s 9ms/step - loss: 9.8380e-04 - accuracy: 0.9998 - val_loss: 0.1830 - val_accuracy: 0.9898\n",
            "Epoch 90/100\n",
            "375/375 [==============================] - 4s 9ms/step - loss: 8.9224e-04 - accuracy: 0.9998 - val_loss: 0.1966 - val_accuracy: 0.9902\n",
            "Epoch 91/100\n",
            "375/375 [==============================] - 4s 10ms/step - loss: 6.0730e-04 - accuracy: 0.9999 - val_loss: 0.1564 - val_accuracy: 0.9909\n",
            "Epoch 92/100\n",
            "375/375 [==============================] - 3s 9ms/step - loss: 0.0011 - accuracy: 0.9998 - val_loss: 0.1595 - val_accuracy: 0.9909\n",
            "Epoch 93/100\n",
            "375/375 [==============================] - 4s 9ms/step - loss: 8.0720e-04 - accuracy: 0.9998 - val_loss: 0.1712 - val_accuracy: 0.9898\n",
            "Epoch 94/100\n",
            "375/375 [==============================] - 3s 9ms/step - loss: 0.0011 - accuracy: 0.9998 - val_loss: 0.1573 - val_accuracy: 0.9910\n",
            "Epoch 95/100\n",
            "375/375 [==============================] - 4s 10ms/step - loss: 4.1428e-04 - accuracy: 0.9999 - val_loss: 0.1816 - val_accuracy: 0.9900\n",
            "Epoch 96/100\n",
            "375/375 [==============================] - 3s 9ms/step - loss: 9.8655e-04 - accuracy: 0.9997 - val_loss: 0.1876 - val_accuracy: 0.9896\n",
            "Epoch 97/100\n",
            "375/375 [==============================] - 4s 9ms/step - loss: 6.5888e-04 - accuracy: 0.9998 - val_loss: 0.1758 - val_accuracy: 0.9902\n",
            "Epoch 98/100\n",
            "375/375 [==============================] - 3s 9ms/step - loss: 0.0012 - accuracy: 0.9996 - val_loss: 0.1793 - val_accuracy: 0.9898\n",
            "Epoch 99/100\n",
            "375/375 [==============================] - 3s 9ms/step - loss: 8.0257e-04 - accuracy: 0.9997 - val_loss: 0.1675 - val_accuracy: 0.9897\n",
            "Epoch 100/100\n",
            "375/375 [==============================] - 3s 9ms/step - loss: 5.3821e-04 - accuracy: 0.9999 - val_loss: 0.1643 - val_accuracy: 0.9910\n",
            "CPU times: user 5min 27s, sys: 31.6 s, total: 5min 59s\n",
            "Wall time: 6min 23s\n"
          ]
        }
      ]
    },
    {
      "cell_type": "code",
      "metadata": {
        "colab": {
          "base_uri": "https://localhost:8080/",
          "height": 404
        },
        "id": "5Q5gWCJvku4J",
        "outputId": "494d07b1-b81c-4612-f4cf-dcfe524669e4"
      },
      "source": [
        "import matplotlib.pyplot as plt\n",
        "\n",
        "epochs = range(1, len(Hist_mnist.history['loss'])+1)\n",
        "\n",
        "plt.figure(figsize = (9,6))\n",
        "plt.plot(epochs, Hist_mnist.history['loss'])\n",
        "plt.plot(epochs, Hist_mnist.history['val_loss'])\n",
        "\n",
        "plt.title('Training & validation Loss')\n",
        "plt.xlabel('Epochs')\n",
        "plt.ylabel('Loss')\n",
        "plt.legend(['Training Loss', 'Validation Loss'])\n",
        "plt.grid()\n",
        "plt.show()\n"
      ],
      "execution_count": 12,
      "outputs": [
        {
          "output_type": "display_data",
          "data": {
            "image/png": "[encoded data removed]",
            "text/plain": [
              "<Figure size 648x432 with 1 Axes>"
            ]
          },
          "metadata": {
            "needs_background": "light"
          }
        }
      ]
    },
    {
      "cell_type": "code",
      "metadata": {
        "colab": {
          "base_uri": "https://localhost:8080/"
        },
        "id": "QqWQGmlJlcwV",
        "outputId": "60bc30dd-e030-4b26-ca19-76c73a7f9ca8"
      },
      "source": [
        "loss, accuracy = model.evaluate(X_test, y_test)\n",
        "\n",
        "print('Loss = {:.5f}'.format(loss))\n",
        "print('Accuracy = {:.5f}'.format(accuracy))"
      ],
      "execution_count": 13,
      "outputs": [
        {
          "output_type": "stream",
          "name": "stdout",
          "text": [
            "313/313 [==============================] - 1s 4ms/step - loss: 0.1277 - accuracy: 0.9918\n",
            "Loss = 0.12772\n",
            "Accuracy = 0.99180\n"
          ]
        }
      ]
    },
    {
      "cell_type": "code",
      "metadata": {
        "id": "FNMWORIzlsNI"
      },
      "source": [
        ""
      ],
      "execution_count": null,
      "outputs": []
    }
  ]
}