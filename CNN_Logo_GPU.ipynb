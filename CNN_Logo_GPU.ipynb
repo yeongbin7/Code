{
  "nbformat": 4,
  "nbformat_minor": 0,
  "metadata": {
    "colab": {
      "name": "CNN_Logo_GPU",
      "provenance": [],
      "authorship_tag": "ABX9TyNg+H+BT7FooNv0l+os57WM",
      "include_colab_link": true
    },
    "kernelspec": {
      "name": "python3",
      "display_name": "Python 3"
    },
    "language_info": {
      "name": "python"
    },
    "accelerator": "GPU"
  },
  "cells": [
    {
      "cell_type": "markdown",
      "metadata": {
        "id": "view-in-github",
        "colab_type": "text"
      },
      "source": [
        "<a href=\"https://colab.research.google.com/github/BbangB/Code/blob/main/CNN_Logo_GPU.ipynb\" target=\"_parent\"><img src=\"https://colab.research.google.com/assets/colab-badge.svg\" alt=\"Open In Colab\"/></a>"
      ]
    },
    {
      "cell_type": "code",
      "metadata": {
        "id": "_4nL0K7hJmb1"
      },
      "source": [
        "import warnings\n",
        "warnings.filterwarnings('ignore')"
      ],
      "execution_count": null,
      "outputs": []
    },
    {
      "cell_type": "code",
      "metadata": {
        "colab": {
          "base_uri": "https://localhost:8080/",
          "height": 35
        },
        "id": "YqTqyiH1OLKU",
        "outputId": "7da5d52a-3836-46d7-c3c1-b12cfde39aaf"
      },
      "source": [
        "import tensorflow as tf\n",
        "tf.__version__"
      ],
      "execution_count": null,
      "outputs": [
        {
          "output_type": "execute_result",
          "data": {
            "application/vnd.google.colaboratory.intrinsic+json": {
              "type": "string"
            },
            "text/plain": [
              "'2.6.0'"
            ]
          },
          "metadata": {},
          "execution_count": 2
        }
      ]
    },
    {
      "cell_type": "code",
      "metadata": {
        "colab": {
          "base_uri": "https://localhost:8080/"
        },
        "id": "y-n2Nil0ONaR",
        "outputId": "6323c42c-dd81-4f64-9ef8-f411c4dc56d4"
      },
      "source": [
        "print('GPU Information -', tf.test.gpu_device_name(), '\\n')\n",
        "!nvidia-smi"
      ],
      "execution_count": null,
      "outputs": [
        {
          "output_type": "stream",
          "name": "stdout",
          "text": [
            "GPU Information - /device:GPU:0 \n",
            "\n",
            "Wed Sep  1 07:18:16 2021       \n",
            "+-----------------------------------------------------------------------------+\n",
            "| NVIDIA-SMI 470.57.02    Driver Version: 460.32.03    CUDA Version: 11.2     |\n",
            "|-------------------------------+----------------------+----------------------+\n",
            "| GPU  Name        Persistence-M| Bus-Id        Disp.A | Volatile Uncorr. ECC |\n",
            "| Fan  Temp  Perf  Pwr:Usage/Cap|         Memory-Usage | GPU-Util  Compute M. |\n",
            "|                               |                      |               MIG M. |\n",
            "|===============================+======================+======================|\n",
            "|   0  Tesla K80           Off  | 00000000:00:04.0 Off |                    0 |\n",
            "| N/A   46C    P0    71W / 149W |    121MiB / 11441MiB |      0%      Default |\n",
            "|                               |                      |                  N/A |\n",
            "+-------------------------------+----------------------+----------------------+\n",
            "                                                                               \n",
            "+-----------------------------------------------------------------------------+\n",
            "| Processes:                                                                  |\n",
            "|  GPU   GI   CI        PID   Type   Process name                  GPU Memory |\n",
            "|        ID   ID                                                   Usage      |\n",
            "|=============================================================================|\n",
            "|  No running processes found                                                 |\n",
            "+-----------------------------------------------------------------------------+\n"
          ]
        }
      ]
    },
    {
      "cell_type": "code",
      "metadata": {
        "colab": {
          "base_uri": "https://localhost:8080/"
        },
        "id": "h-rA7LE-OOTe",
        "outputId": "b710a440-e417-4fc6-912e-fa5866df9726"
      },
      "source": [
        "from google.colab import drive\n",
        "drive.mount('/content/drive')"
      ],
      "execution_count": 1,
      "outputs": [
        {
          "output_type": "stream",
          "name": "stdout",
          "text": [
            "Mounted at /content/drive\n"
          ]
        }
      ]
    },
    {
      "cell_type": "code",
      "metadata": {
        "colab": {
          "base_uri": "https://localhost:8080/"
        },
        "id": "v3hHoaCVOaw0",
        "outputId": "0b79ad52-3781-409e-a1ca-773b9a730585"
      },
      "source": [
        "!ls -l '/content/drive/My Drive/Colab Notebooks/datasets/Logo_Data.zip'"
      ],
      "execution_count": 3,
      "outputs": [
        {
          "output_type": "stream",
          "name": "stdout",
          "text": [
            "-rw------- 1 root root 12929865 Apr  1 00:08 '/content/drive/My Drive/Colab Notebooks/datasets/Logo_Data.zip'\n"
          ]
        }
      ]
    },
    {
      "cell_type": "code",
      "metadata": {
        "colab": {
          "base_uri": "https://localhost:8080/"
        },
        "id": "NnxD9kJqPLic",
        "outputId": "540385ec-4ea4-4248-af40-09aa0c5cebe3"
      },
      "source": [
        "!unzip /content/drive/My\\ Drive/Colab\\ Notebooks/datasets/Logo_Data.zip"
      ],
      "execution_count": 4,
      "outputs": [
        {
          "output_type": "stream",
          "name": "stdout",
          "text": [
            "Archive:  /content/drive/My Drive/Colab Notebooks/datasets/Logo_Data.zip\n",
            "  inflating: test/Adidas/4606245138.jpg  \n",
            " extracting: test/Adidas/Adidas_17.png  \n",
            " extracting: test/Adidas/Adidas_18.png  \n",
            " extracting: test/Adidas/Adidas_20.png  \n",
            " extracting: test/Adidas/Adidas_4.png  \n",
            " extracting: test/Adidas/Adidas_6.png  \n",
            " extracting: test/Adidas/Adidas_7.png  \n",
            "  inflating: test/Apple/4748791597.jpg  \n",
            "  inflating: test/Apple/Apple_10.jpg  \n",
            " extracting: test/Apple/Apple_12.png  \n",
            " extracting: test/Apple/Apple_14.png  \n",
            " extracting: test/Apple/Apple_16.png  \n",
            " extracting: test/Apple/Apple_18.png  \n",
            " extracting: test/Apple/Apple_20.png  \n",
            "  inflating: test/BMW/3744679341.jpg  \n",
            "  inflating: test/BMW/BMW_11.jpg     \n",
            "  inflating: test/BMW/BMW_14.jpg     \n",
            "  inflating: test/BMW/BMW_17.jpg     \n",
            "  inflating: test/BMW/BMW_8.jpg      \n",
            "  inflating: test/Citroen/2588612032.jpg  \n",
            "  inflating: test/Citroen/Citroen_1.jpg  \n",
            "  inflating: test/Citroen/Citroen_11.jpg  \n",
            " extracting: test/Citroen/Citroen_15.png  \n",
            " extracting: test/Citroen/Citroen_8.png  \n",
            " extracting: test/Citroen/Citroen_9.png  \n",
            " extracting: test/Cocacola/Cocacola_10.png  \n",
            "  inflating: test/Cocacola/Cocacola_12.jpg  \n",
            "  inflating: test/Cocacola/Cocacola_14.jpg  \n",
            "  inflating: test/Cocacola/Cocacola_17.jpg  \n",
            " extracting: test/Cocacola/Cocacola_4.png  \n",
            "  inflating: test/Cocacola/Cocacola_5.jpg  \n",
            " extracting: test/Cocacola/Cocacola_6.png  \n",
            "  inflating: test/DHL/402320572.jpg  \n",
            "  inflating: test/DHL/4293357063.jpg  \n",
            "  inflating: test/DHL/57857859.jpg   \n",
            " extracting: test/DHL/DHL_11.png     \n",
            " extracting: test/DHL/DHL_12.png     \n",
            "  inflating: test/DHL/DHL_2.jpg      \n",
            " extracting: test/DHL/DHL_20.png     \n",
            " extracting: test/DHL/DHL_4.png      \n",
            " extracting: test/Fedex/Fedex_10.png  \n",
            "  inflating: test/Fedex/Fedex_13.jpg  \n",
            " extracting: test/Fedex/Fedex_20.png  \n",
            "  inflating: test/Ferrari/2485192693.jpg  \n",
            " extracting: test/Ferrari/Ferrari_14.png  \n",
            " extracting: test/Ferrari/Ferrari_15.png  \n",
            "  inflating: test/Ferrari/Ferrari_16.jpg  \n",
            " extracting: test/Ferrari/Ferrari_18.png  \n",
            " extracting: test/Ferrari/Ferrari_5.png  \n",
            "  inflating: test/Ford/Ford_1.jpg    \n",
            " extracting: test/Ford/Ford_12.png   \n",
            "  inflating: test/Ford/Ford_13.jpg   \n",
            " extracting: test/Ford/Ford_20.png   \n",
            " extracting: test/Ford/Ford_3.png    \n",
            " extracting: test/Ford/Ford_7.png    \n",
            "  inflating: test/Ford/Ford_8.jpg    \n",
            "  inflating: test/Google/3579847658.jpg  \n",
            " extracting: test/Google/Google_11.png  \n",
            "  inflating: test/Google/Google_13.jpg  \n",
            "  inflating: test/Google/Google_14.jpg  \n",
            " extracting: test/Google/Google_15.png  \n",
            " extracting: test/Google/Google_17.png  \n",
            " extracting: test/Google/Google_19.png  \n",
            " extracting: test/Google/Google_4.png  \n",
            "  inflating: test/Google/Google_5.jpg  \n",
            "  inflating: test/Heineken/3809296569.jpg  \n",
            "  inflating: test/Heineken/4009411354.jpg  \n",
            "  inflating: test/Heineken/4158918782.jpg  \n",
            "  inflating: test/Heineken/Heineken_15.jpg  \n",
            "  inflating: test/Heineken/Heineken_18.jpg  \n",
            " extracting: test/Heineken/Heineken_5.png  \n",
            " extracting: test/Heineken/Heineken_7.png  \n",
            "  inflating: test/HP/3388835839.jpg  \n",
            "  inflating: test/HP/4584663944.jpg  \n",
            "  inflating: test/HP/HP_12.jpg       \n",
            " extracting: test/HP/HP_13.png       \n",
            " extracting: test/HP/HP_2.png        \n",
            " extracting: test/HP/HP_8.png        \n",
            "  inflating: test/Intel/Intel_15.jpg  \n",
            " extracting: test/Intel/Intel_19.png  \n",
            " extracting: test/Intel/Intel_20.png  \n",
            "  inflating: test/Intel/Intel_3.jpg  \n",
            " extracting: test/Intel/Intel_4.png  \n",
            "  inflating: test/McDonalds/4630159289.jpg  \n",
            "  inflating: test/McDonalds/6651198.jpg  \n",
            " extracting: test/McDonalds/McDonalds_15.jpg  \n",
            " extracting: test/McDonalds/McDonalds_2.jpg  \n",
            " extracting: test/McDonalds/McDonalds_6.jpg  \n",
            "  inflating: test/McDonalds/McDonalds_8.jpg  \n",
            "  inflating: test/Mini/179101388.jpg  \n",
            "  inflating: test/Mini/3539346318.jpg  \n",
            "  inflating: test/Mini/866547165.jpg  \n",
            " extracting: test/Mini/Mini_10.jpg   \n",
            "  inflating: test/Mini/Mini_12.jpg   \n",
            " extracting: test/Mini/Mini_15.jpg   \n",
            "  inflating: test/Mini/Mini_3.jpg    \n",
            "  inflating: test/Mini/Mini_5.jpg    \n",
            " extracting: test/Mini/Mini_9.jpg    \n",
            "  inflating: test/Nbc/3040021292.jpg  \n",
            " extracting: test/Nbc/319239030.jpg  \n",
            " extracting: test/Nbc/Nbc_1.jpg      \n",
            "  inflating: test/Nbc/Nbc_11.jpg     \n",
            "  inflating: test/Nbc/Nbc_15.jpg     \n",
            " extracting: test/Nbc/Nbc_17.jpg     \n",
            "  inflating: test/Nbc/Nbc_2.jpg      \n",
            "  inflating: test/Nbc/Nbc_3.jpg      \n",
            " extracting: test/Nbc/Nbc_6.jpg      \n",
            " extracting: test/Nbc/Nbc_7.jpg      \n",
            " extracting: test/Nbc/Nbc_8.jpg      \n",
            "  inflating: test/Nike/3007900027.jpg  \n",
            "  inflating: test/Nike/3489974023.jpg  \n",
            " extracting: test/Nike/Nike_1.jpg    \n",
            " extracting: test/Nike/Nike_13.jpg   \n",
            " extracting: test/Nike/Nike_15.jpg   \n",
            " extracting: test/Nike/Nike_18.jpg   \n",
            " extracting: test/Nike/Nike_19.jpg   \n",
            " extracting: test/Nike/Nike_8.jpg    \n",
            "  inflating: test/Pepsi/3162394630.jpg  \n",
            "  inflating: test/Pepsi/4154476008.jpg  \n",
            " extracting: test/Pepsi/Pepsi_16.jpg  \n",
            "  inflating: test/Pepsi/Pepsi_19.jpg  \n",
            "  inflating: test/Pepsi/Pepsi_20.jpg  \n",
            "  inflating: test/Pepsi/Pepsi_4.jpg  \n",
            " extracting: test/Pepsi/Pepsi_6.jpg  \n",
            "  inflating: test/Porsche/3753448903.jpg  \n",
            "  inflating: test/Porsche/4497419735.jpg  \n",
            "  inflating: test/Porsche/Porsche_12.jpg  \n",
            " extracting: test/Porsche/Porsche_17.jpg  \n",
            " extracting: test/Porsche/Porsche_20.jpg  \n",
            " extracting: test/Porsche/Porsche_7.jpg  \n",
            "  inflating: test/Puma/2371203118.jpg  \n",
            "  inflating: test/Puma/2928144547.jpg  \n",
            " extracting: test/Puma/Puma_11.jpg   \n",
            "  inflating: test/Puma/Puma_17.jpg   \n",
            "  inflating: test/Puma/Puma_19.jpg   \n",
            "  inflating: test/RedBull/4557167995.jpg  \n",
            "  inflating: test/RedBull/RedBull_12.jpg  \n",
            " extracting: test/RedBull/RedBull_6.jpg  \n",
            " extracting: test/RedBull/RedBull_8.jpg  \n",
            "  inflating: test/RedBull/RedBull_9.jpg  \n",
            "  inflating: test/Sprite/3511285732.jpg  \n",
            "  inflating: test/Sprite/Sprite_13.jpg  \n",
            " extracting: test/Sprite/Sprite_16.jpg  \n",
            " extracting: test/Sprite/Sprite_2.jpg  \n",
            "  inflating: test/Sprite/Sprite_3.jpg  \n",
            "  inflating: test/Sprite/Sprite_7.jpg  \n",
            "  inflating: test/Starbucks/3201373046.jpg  \n",
            "  inflating: test/Starbucks/633730707.jpg  \n",
            " extracting: test/Starbucks/Starbucks_15.jpg  \n",
            " extracting: test/Starbucks/Starbucks_2.jpg  \n",
            "  inflating: test/Starbucks/Starbucks_3.jpg  \n",
            "  inflating: test/Starbucks/Starbucks_5.jpg  \n",
            "  inflating: test/Texaco/2936435251.jpg  \n",
            " extracting: test/Texaco/Texaco_1.jpg  \n",
            " extracting: test/Texaco/Texaco_11.jpg  \n",
            "  inflating: test/Texaco/Texaco_13.jpg  \n",
            " extracting: test/Texaco/Texaco_15.jpg  \n",
            "  inflating: test/Texaco/Texaco_17.jpg  \n",
            "  inflating: test/Texaco/Texaco_20.jpg  \n",
            "  inflating: test/Texaco/Texaco_4.jpg  \n",
            "  inflating: test/Texaco/Texaco_6.jpg  \n",
            " extracting: test/Unicef/3646612994.jpg  \n",
            "  inflating: test/Unicef/Unicef_1.jpg  \n",
            " extracting: test/Unicef/Unicef_11.jpg  \n",
            "  inflating: test/Unicef/Unicef_12.jpg  \n",
            "  inflating: test/Unicef/Unicef_15.jpg  \n",
            " extracting: test/Unicef/Unicef_20.jpg  \n",
            "  inflating: test/Unicef/Unicef_7.jpg  \n",
            " extracting: test/Unicef/Unicef_9.jpg  \n",
            " extracting: test/Vodafone/Vodafone_19.jpg  \n",
            " extracting: test/Vodafone/Vodafone_2.jpg  \n",
            " extracting: test/Vodafone/Vodafone_6.jpg  \n",
            "  inflating: test/Yahoo/2744069024.jpg  \n",
            "  inflating: test/Yahoo/362354171.jpg  \n",
            " extracting: test/Yahoo/Yahoo_13.jpg  \n",
            "  inflating: test/Yahoo/Yahoo_16.jpg  \n",
            "  inflating: test/Yahoo/Yahoo_20.jpg  \n",
            "  inflating: train/Adidas/2403695909.jpg  \n",
            "  inflating: train/Adidas/2912587920.jpg  \n",
            "  inflating: train/Adidas/3441398196.jpg  \n",
            "  inflating: train/Adidas/4605630935.jpg  \n",
            " extracting: train/Adidas/Adidas_1.png  \n",
            " extracting: train/Adidas/Adidas_10.png  \n",
            " extracting: train/Adidas/Adidas_11.png  \n",
            " extracting: train/Adidas/Adidas_12.png  \n",
            " extracting: train/Adidas/Adidas_13.png  \n",
            " extracting: train/Adidas/Adidas_14.png  \n",
            " extracting: train/Adidas/Adidas_15.png  \n",
            " extracting: train/Adidas/Adidas_16.png  \n",
            " extracting: train/Adidas/Adidas_19.png  \n",
            " extracting: train/Adidas/Adidas_2.png  \n",
            " extracting: train/Adidas/Adidas_3.png  \n",
            " extracting: train/Adidas/Adidas_5.png  \n",
            " extracting: train/Adidas/Adidas_8.png  \n",
            "  inflating: train/Adidas/Adidas_9.jpg  \n",
            "  inflating: train/Apple/161270014.jpg  \n",
            "  inflating: train/Apple/3276332721.jpg  \n",
            "  inflating: train/Apple/3842830049.jpg  \n",
            "  inflating: train/Apple/51409302.jpg  \n",
            " extracting: train/Apple/Apple_1.png  \n",
            " extracting: train/Apple/Apple_11.png  \n",
            "  inflating: train/Apple/Apple_13.jpg  \n",
            " extracting: train/Apple/Apple_15.png  \n",
            "  inflating: train/Apple/Apple_17.jpg  \n",
            "  inflating: train/Apple/Apple_19.jpg  \n",
            " extracting: train/Apple/Apple_2.png  \n",
            " extracting: train/Apple/Apple_3.png  \n",
            " extracting: train/Apple/Apple_4.png  \n",
            " extracting: train/Apple/Apple_5.png  \n",
            " extracting: train/Apple/Apple_6.png  \n",
            " extracting: train/Apple/Apple_7.png  \n",
            "  inflating: train/Apple/Apple_8.jpg  \n",
            " extracting: train/Apple/Apple_9.png  \n",
            "  inflating: train/BMW/2802471529.jpg  \n",
            "  inflating: train/BMW/3159686523.jpg  \n",
            "  inflating: train/BMW/388978947.jpg  \n",
            "  inflating: train/BMW/401253895.jpg  \n",
            " extracting: train/BMW/BMW_1.png     \n",
            " extracting: train/BMW/BMW_10.png    \n",
            "  inflating: train/BMW/BMW_12.jpg    \n",
            "  inflating: train/BMW/BMW_13.jpg    \n",
            "  inflating: train/BMW/BMW_15.jpg    \n",
            "  inflating: train/BMW/BMW_16.jpg    \n",
            "  inflating: train/BMW/BMW_18.jpg    \n",
            "  inflating: train/BMW/BMW_19.jpg    \n",
            "  inflating: train/BMW/BMW_2.jpg     \n",
            "  inflating: train/BMW/BMW_20.jpg    \n",
            "  inflating: train/BMW/BMW_3.jpg     \n",
            " extracting: train/BMW/BMW_4.png     \n",
            "  inflating: train/BMW/BMW_5.jpg     \n",
            " extracting: train/BMW/BMW_6.png     \n",
            "  inflating: train/BMW/BMW_7.jpg     \n",
            " extracting: train/BMW/BMW_9.png     \n",
            "  inflating: train/Citroen/2950778947.jpg  \n",
            "  inflating: train/Citroen/3272258283.jpg  \n",
            "  inflating: train/Citroen/4735811136.jpg  \n",
            "  inflating: train/Citroen/477690498.jpg  \n",
            " extracting: train/Citroen/Citroen_10.png  \n",
            " extracting: train/Citroen/Citroen_12.png  \n",
            " extracting: train/Citroen/Citroen_13.png  \n",
            " extracting: train/Citroen/Citroen_14.png  \n",
            "  inflating: train/Citroen/Citroen_16.jpg  \n",
            "  inflating: train/Citroen/Citroen_17.jpg  \n",
            "  inflating: train/Citroen/Citroen_18.jpg  \n",
            "  inflating: train/Citroen/Citroen_19.jpg  \n",
            " extracting: train/Citroen/Citroen_2.png  \n",
            "  inflating: train/Citroen/Citroen_20.jpg  \n",
            "  inflating: train/Citroen/Citroen_3.jpg  \n",
            " extracting: train/Citroen/Citroen_4.png  \n",
            "  inflating: train/Citroen/Citroen_5.jpg  \n",
            " extracting: train/Citroen/Citroen_6.png  \n",
            " extracting: train/Citroen/Citroen_7.png  \n",
            "  inflating: train/Cocacola/2145962231.jpg  \n",
            "  inflating: train/Cocacola/2180367311.jpg  \n",
            " extracting: train/Cocacola/2471468427.jpg  \n",
            "  inflating: train/Cocacola/3666600356.jpg  \n",
            "  inflating: train/Cocacola/3887773624.jpg  \n",
            " extracting: train/Cocacola/Cocacola_1.png  \n",
            " extracting: train/Cocacola/Cocacola_11.png  \n",
            " extracting: train/Cocacola/Cocacola_13.png  \n",
            " extracting: train/Cocacola/Cocacola_15.png  \n",
            "  inflating: train/Cocacola/Cocacola_16.jpg  \n",
            " extracting: train/Cocacola/Cocacola_18.png  \n",
            "  inflating: train/Cocacola/Cocacola_19.jpg  \n",
            "  inflating: train/Cocacola/Cocacola_2.jpg  \n",
            " extracting: train/Cocacola/Cocacola_20.png  \n",
            " extracting: train/Cocacola/Cocacola_3.png  \n",
            " extracting: train/Cocacola/Cocacola_7.png  \n",
            " extracting: train/Cocacola/Cocacola_8.png  \n",
            " extracting: train/Cocacola/Cocacola_9.png  \n",
            "  inflating: train/DHL/2399621710.jpg  \n",
            "  inflating: train/DHL/4273898682.jpg  \n",
            " extracting: train/DHL/DHL_1.png     \n",
            " extracting: train/DHL/DHL_10.png    \n",
            " extracting: train/DHL/DHL_13.png    \n",
            "  inflating: train/DHL/DHL_14.jpg    \n",
            " extracting: train/DHL/DHL_15.png    \n",
            " extracting: train/DHL/DHL_16.png    \n",
            "  inflating: train/DHL/DHL_17.jpg    \n",
            " extracting: train/DHL/DHL_18.png    \n",
            " extracting: train/DHL/DHL_19.png    \n",
            "  inflating: train/DHL/DHL_3.png     \n",
            " extracting: train/DHL/DHL_5.png     \n",
            " extracting: train/DHL/DHL_6.png     \n",
            " extracting: train/DHL/DHL_7.png     \n",
            " extracting: train/DHL/DHL_8.png     \n",
            " extracting: train/DHL/DHL_9.png     \n",
            " extracting: train/Fedex/2276226904.jpg  \n",
            "  inflating: train/Fedex/2286135438.jpg  \n",
            "  inflating: train/Fedex/3907703753.jpg  \n",
            "  inflating: train/Fedex/4057075142.jpg  \n",
            "  inflating: train/Fedex/4159635668.jpg  \n",
            " extracting: train/Fedex/Fedex_1.png  \n",
            "  inflating: train/Fedex/Fedex_11.jpg  \n",
            " extracting: train/Fedex/Fedex_12.png  \n",
            " extracting: train/Fedex/Fedex_14.png  \n",
            " extracting: train/Fedex/Fedex_15.png  \n",
            "  inflating: train/Fedex/Fedex_16.jpg  \n",
            "  inflating: train/Fedex/Fedex_17.jpg  \n",
            " extracting: train/Fedex/Fedex_18.png  \n",
            " extracting: train/Fedex/Fedex_19.png  \n",
            "  inflating: train/Fedex/Fedex_2.jpg  \n",
            " extracting: train/Fedex/Fedex_3.png  \n",
            " extracting: train/Fedex/Fedex_4.png  \n",
            " extracting: train/Fedex/Fedex_5.png  \n",
            "  inflating: train/Fedex/Fedex_6.jpg  \n",
            " extracting: train/Fedex/Fedex_7.png  \n",
            " extracting: train/Fedex/Fedex_8.png  \n",
            " extracting: train/Fedex/Fedex_9.png  \n",
            "  inflating: train/Ferrari/190150061.jpg  \n",
            "  inflating: train/Ferrari/3035356063.jpg  \n",
            "  inflating: train/Ferrari/4498492208.jpg  \n",
            "  inflating: train/Ferrari/4755458545.jpg  \n",
            " extracting: train/Ferrari/Ferrari_1.png  \n",
            " extracting: train/Ferrari/Ferrari_10.png  \n",
            " extracting: train/Ferrari/Ferrari_11.png  \n",
            " extracting: train/Ferrari/Ferrari_12.png  \n",
            " extracting: train/Ferrari/Ferrari_13.png  \n",
            "  inflating: train/Ferrari/Ferrari_17.jpg  \n",
            "  inflating: train/Ferrari/Ferrari_19.jpg  \n",
            " extracting: train/Ferrari/Ferrari_2.png  \n",
            "  inflating: train/Ferrari/Ferrari_20.jpg  \n",
            " extracting: train/Ferrari/Ferrari_3.png  \n",
            " extracting: train/Ferrari/Ferrari_4.png  \n",
            "  inflating: train/Ferrari/Ferrari_6.jpg  \n",
            " extracting: train/Ferrari/Ferrari_7.png  \n",
            " extracting: train/Ferrari/Ferrari_8.png  \n",
            "  inflating: train/Ferrari/Ferrari_9.jpg  \n",
            "  inflating: train/Ford/106523337.jpg  \n",
            "  inflating: train/Ford/2395651545.jpg  \n",
            "  inflating: train/Ford/3419576364.jpg  \n",
            " extracting: train/Ford/4649660427.jpg  \n",
            "  inflating: train/Ford/4726790962.jpg  \n",
            "  inflating: train/Ford/Ford_10.jpg  \n",
            "  inflating: train/Ford/Ford_11.jpg  \n",
            " extracting: train/Ford/Ford_14.png  \n",
            "  inflating: train/Ford/Ford_15.jpg  \n",
            " extracting: train/Ford/Ford_16.png  \n",
            "  inflating: train/Ford/Ford_17.jpg  \n",
            "  inflating: train/Ford/Ford_18.jpg  \n",
            "  inflating: train/Ford/Ford_19.jpg  \n",
            " extracting: train/Ford/Ford_2.png   \n",
            " extracting: train/Ford/Ford_4.png   \n",
            "  inflating: train/Ford/Ford_5.jpg   \n",
            " extracting: train/Ford/Ford_6.png   \n",
            "  inflating: train/Ford/Ford_9.jpg   \n",
            "  inflating: train/Google/2550417833.jpg  \n",
            "  inflating: train/Google/2758671363.jpg  \n",
            "  inflating: train/Google/2770852623.jpg  \n",
            "  inflating: train/Google/2777979648.jpg  \n",
            " extracting: train/Google/Google_1.png  \n",
            " extracting: train/Google/Google_10.png  \n",
            "  inflating: train/Google/Google_12.jpg  \n",
            "  inflating: train/Google/Google_16.jpg  \n",
            " extracting: train/Google/Google_18.png  \n",
            " extracting: train/Google/Google_2.png  \n",
            "  inflating: train/Google/Google_20.jpg  \n",
            "  inflating: train/Google/Google_3.jpg  \n",
            " extracting: train/Google/Google_6.png  \n",
            " extracting: train/Google/Google_7.png  \n",
            "  inflating: train/Google/Google_8.jpg  \n",
            "  inflating: train/Google/Google_9.jpg  \n",
            "  inflating: train/Heineken/2214052591.jpg  \n",
            "  inflating: train/Heineken/3434798835.jpg  \n",
            " extracting: train/Heineken/Heineken_1.png  \n",
            " extracting: train/Heineken/Heineken_10.png  \n",
            "  inflating: train/Heineken/Heineken_11.jpg  \n",
            " extracting: train/Heineken/Heineken_12.png  \n",
            " extracting: train/Heineken/Heineken_13.png  \n",
            " extracting: train/Heineken/Heineken_14.png  \n",
            " extracting: train/Heineken/Heineken_16.png  \n",
            " extracting: train/Heineken/Heineken_17.png  \n",
            " extracting: train/Heineken/Heineken_19.png  \n",
            "  inflating: train/Heineken/Heineken_2.jpg  \n",
            " extracting: train/Heineken/Heineken_20.png  \n",
            " extracting: train/Heineken/Heineken_3.png  \n",
            " extracting: train/Heineken/Heineken_4.png  \n",
            " extracting: train/Heineken/Heineken_6.png  \n",
            "  inflating: train/Heineken/Heineken_8.jpg  \n",
            " extracting: train/Heineken/Heineken_9.png  \n",
            "  inflating: train/HP/2729425057.jpg  \n",
            "  inflating: train/HP/4427558055.jpg  \n",
            " extracting: train/HP/500605830.jpg  \n",
            " extracting: train/HP/HP_1.png       \n",
            " extracting: train/HP/HP_10.png      \n",
            "  inflating: train/HP/HP_11.jpg      \n",
            "  inflating: train/HP/HP_14.jpg      \n",
            "  inflating: train/HP/HP_15.jpg      \n",
            " extracting: train/HP/HP_16.png      \n",
            "  inflating: train/HP/HP_17.jpg      \n",
            "  inflating: train/HP/HP_18.jpg      \n",
            "  inflating: train/HP/HP_19.jpg      \n",
            "  inflating: train/HP/HP_20.jpg      \n",
            " extracting: train/HP/HP_3.png       \n",
            " extracting: train/HP/HP_4.png       \n",
            " extracting: train/HP/HP_5.png       \n",
            "  inflating: train/HP/HP_6.jpg       \n",
            " extracting: train/HP/HP_7.png       \n",
            " extracting: train/HP/HP_9.png       \n",
            "  inflating: train/Intel/2256917485.jpg  \n",
            "  inflating: train/Intel/2548030356.jpg  \n",
            "  inflating: train/Intel/2867903303.jpg  \n",
            "  inflating: train/Intel/3063112468.jpg  \n",
            "  inflating: train/Intel/3489964654.jpg  \n",
            " extracting: train/Intel/Intel_1.png  \n",
            "  inflating: train/Intel/Intel_10.jpg  \n",
            " extracting: train/Intel/Intel_11.png  \n",
            "  inflating: train/Intel/Intel_12.jpg  \n",
            "  inflating: train/Intel/Intel_13.jpg  \n",
            " extracting: train/Intel/Intel_14.png  \n",
            "  inflating: train/Intel/Intel_16.jpg  \n",
            "  inflating: train/Intel/Intel_17.jpg  \n",
            "  inflating: train/Intel/Intel_18.jpg  \n",
            " extracting: train/Intel/Intel_2.png  \n",
            " extracting: train/Intel/Intel_5.png  \n",
            " extracting: train/Intel/Intel_6.png  \n",
            " extracting: train/Intel/Intel_7.png  \n",
            " extracting: train/Intel/Intel_8.png  \n",
            " extracting: train/Intel/Intel_9.png  \n",
            "  inflating: train/McDonalds/133298345.jpg  \n",
            "  inflating: train/McDonalds/2796230679.jpg  \n",
            "  inflating: train/McDonalds/3024711242.jpg  \n",
            " extracting: train/McDonalds/McDonalds_1.png  \n",
            " extracting: train/McDonalds/McDonalds_10.png  \n",
            " extracting: train/McDonalds/McDonalds_11.png  \n",
            " extracting: train/McDonalds/McDonalds_12.png  \n",
            " extracting: train/McDonalds/McDonalds_13.jpg  \n",
            "  inflating: train/McDonalds/McDonalds_14.jpg  \n",
            " extracting: train/McDonalds/McDonalds_16.jpg  \n",
            "  inflating: train/McDonalds/McDonalds_17.jpg  \n",
            "  inflating: train/McDonalds/McDonalds_18.jpg  \n",
            "  inflating: train/McDonalds/McDonalds_19.jpg  \n",
            " extracting: train/McDonalds/McDonalds_20.jpg  \n",
            " extracting: train/McDonalds/McDonalds_3.jpg  \n",
            " extracting: train/McDonalds/McDonalds_4.jpg  \n",
            "  inflating: train/McDonalds/McDonalds_5.jpg  \n",
            " extracting: train/McDonalds/McDonalds_7.jpg  \n",
            "  inflating: train/McDonalds/McDonalds_9.jpg  \n",
            "  inflating: train/Mini/4082747499.jpg  \n",
            " extracting: train/Mini/556390286.jpg  \n",
            " extracting: train/Mini/Mini_1.jpg   \n",
            "  inflating: train/Mini/Mini_11.jpg  \n",
            "  inflating: train/Mini/Mini_13.jpg  \n",
            "  inflating: train/Mini/Mini_14.jpg  \n",
            "  inflating: train/Mini/Mini_16.jpg  \n",
            "  inflating: train/Mini/Mini_17.jpg  \n",
            " extracting: train/Mini/Mini_18.jpg  \n",
            "  inflating: train/Mini/Mini_19.jpg  \n",
            "  inflating: train/Mini/Mini_2.jpg   \n",
            "  inflating: train/Mini/Mini_20.jpg  \n",
            " extracting: train/Mini/Mini_4.jpg   \n",
            "  inflating: train/Mini/Mini_6.jpg   \n",
            " extracting: train/Mini/Mini_7.jpg   \n",
            " extracting: train/Mini/Mini_8.jpg   \n",
            "  inflating: train/Nbc/3386938907.jpg  \n",
            "  inflating: train/Nbc/3815108969.jpg  \n",
            " extracting: train/Nbc/4025944647.jpg  \n",
            "  inflating: train/Nbc/Nbc_10.jpg    \n",
            "  inflating: train/Nbc/Nbc_12.jpg    \n",
            "  inflating: train/Nbc/Nbc_13.jpg    \n",
            " extracting: train/Nbc/Nbc_14.jpg    \n",
            "  inflating: train/Nbc/Nbc_16.jpg    \n",
            " extracting: train/Nbc/Nbc_18.jpg    \n",
            "  inflating: train/Nbc/Nbc_19.jpg    \n",
            " extracting: train/Nbc/Nbc_20.jpg    \n",
            " extracting: train/Nbc/Nbc_4.jpg     \n",
            " extracting: train/Nbc/Nbc_5.jpg     \n",
            " extracting: train/Nbc/Nbc_9.jpg     \n",
            "  inflating: train/Nike/2290821691.jpg  \n",
            "  inflating: train/Nike/2796858810.jpg  \n",
            "  inflating: train/Nike/4170039938.jpg  \n",
            " extracting: train/Nike/Nike_10.jpg  \n",
            " extracting: train/Nike/Nike_11.jpg  \n",
            " extracting: train/Nike/Nike_12.jpg  \n",
            "  inflating: train/Nike/Nike_14.jpg  \n",
            " extracting: train/Nike/Nike_16.jpg  \n",
            " extracting: train/Nike/Nike_17.jpg  \n",
            " extracting: train/Nike/Nike_2.jpg   \n",
            "  inflating: train/Nike/Nike_20.jpg  \n",
            " extracting: train/Nike/Nike_3.jpg   \n",
            " extracting: train/Nike/Nike_4.jpg   \n",
            " extracting: train/Nike/Nike_5.jpg   \n",
            " extracting: train/Nike/Nike_6.jpg   \n",
            " extracting: train/Nike/Nike_7.jpg   \n",
            " extracting: train/Nike/Nike_9.jpg   \n",
            "  inflating: train/Pepsi/2960555079.jpg  \n",
            "  inflating: train/Pepsi/3253037891.jpg  \n",
            "  inflating: train/Pepsi/408737814.jpg  \n",
            " extracting: train/Pepsi/Pepsi_1.jpg  \n",
            "  inflating: train/Pepsi/Pepsi_10.jpg  \n",
            " extracting: train/Pepsi/Pepsi_11.jpg  \n",
            " extracting: train/Pepsi/Pepsi_12.jpg  \n",
            " extracting: train/Pepsi/Pepsi_13.jpg  \n",
            "  inflating: train/Pepsi/Pepsi_14.jpg  \n",
            "  inflating: train/Pepsi/Pepsi_15.jpg  \n",
            " extracting: train/Pepsi/Pepsi_17.jpg  \n",
            " extracting: train/Pepsi/Pepsi_18.jpg  \n",
            " extracting: train/Pepsi/Pepsi_2.jpg  \n",
            "  inflating: train/Pepsi/Pepsi_3.jpg  \n",
            " extracting: train/Pepsi/Pepsi_5.jpg  \n",
            "  inflating: train/Pepsi/Pepsi_7.jpg  \n",
            " extracting: train/Pepsi/Pepsi_8.jpg  \n",
            " extracting: train/Pepsi/Pepsi_9.jpg  \n",
            "  inflating: train/Porsche/3983151197.jpg  \n",
            "  inflating: train/Porsche/4083428928.jpg  \n",
            "  inflating: train/Porsche/4510963350.jpg  \n",
            "  inflating: train/Porsche/Porsche_1.jpg  \n",
            " extracting: train/Porsche/Porsche_10.jpg  \n",
            "  inflating: train/Porsche/Porsche_11.jpg  \n",
            " extracting: train/Porsche/Porsche_13.jpg  \n",
            " extracting: train/Porsche/Porsche_14.jpg  \n",
            " extracting: train/Porsche/Porsche_15.jpg  \n",
            "  inflating: train/Porsche/Porsche_16.jpg  \n",
            " extracting: train/Porsche/Porsche_18.jpg  \n",
            "  inflating: train/Porsche/Porsche_19.jpg  \n",
            " extracting: train/Porsche/Porsche_2.jpg  \n",
            "  inflating: train/Porsche/Porsche_3.jpg  \n",
            "  inflating: train/Porsche/Porsche_4.jpg  \n",
            " extracting: train/Porsche/Porsche_5.jpg  \n",
            " extracting: train/Porsche/Porsche_6.jpg  \n",
            "  inflating: train/Porsche/Porsche_8.jpg  \n",
            " extracting: train/Porsche/Porsche_9.jpg  \n",
            "  inflating: train/Puma/2480104079.jpg  \n",
            " extracting: train/Puma/295018779.jpg  \n",
            "  inflating: train/Puma/4663657629.jpg  \n",
            " extracting: train/Puma/Puma_1.jpg   \n",
            " extracting: train/Puma/Puma_10.jpg  \n",
            " extracting: train/Puma/Puma_12.jpg  \n",
            "  inflating: train/Puma/Puma_13.jpg  \n",
            " extracting: train/Puma/Puma_14.jpg  \n",
            " extracting: train/Puma/Puma_15.jpg  \n",
            " extracting: train/Puma/Puma_16.jpg  \n",
            " extracting: train/Puma/Puma_18.jpg  \n",
            " extracting: train/Puma/Puma_2.jpg   \n",
            " extracting: train/Puma/Puma_20.jpg  \n",
            " extracting: train/Puma/Puma_3.jpg   \n",
            " extracting: train/Puma/Puma_4.jpg   \n",
            " extracting: train/Puma/Puma_5.jpg   \n",
            " extracting: train/Puma/Puma_6.jpg   \n",
            " extracting: train/Puma/Puma_7.jpg   \n",
            " extracting: train/Puma/Puma_8.jpg   \n",
            " extracting: train/Puma/Puma_9.jpg   \n",
            "  inflating: train/RedBull/308998475.jpg  \n",
            "  inflating: train/RedBull/3570289087.jpg  \n",
            "  inflating: train/RedBull/4053579706.jpg  \n",
            "  inflating: train/RedBull/4560358253.jpg  \n",
            " extracting: train/RedBull/RedBull_1.jpg  \n",
            " extracting: train/RedBull/RedBull_10.jpg  \n",
            " extracting: train/RedBull/RedBull_11.jpg  \n",
            "  inflating: train/RedBull/RedBull_13.jpg  \n",
            " extracting: train/RedBull/RedBull_14.jpg  \n",
            " extracting: train/RedBull/RedBull_15.jpg  \n",
            " extracting: train/RedBull/RedBull_16.jpg  \n",
            " extracting: train/RedBull/RedBull_17.jpg  \n",
            "  inflating: train/RedBull/RedBull_18.jpg  \n",
            "  inflating: train/RedBull/RedBull_19.jpg  \n",
            " extracting: train/RedBull/RedBull_2.jpg  \n",
            " extracting: train/RedBull/RedBull_20.jpg  \n",
            " extracting: train/RedBull/RedBull_3.jpg  \n",
            " extracting: train/RedBull/RedBull_4.jpg  \n",
            " extracting: train/RedBull/RedBull_5.jpg  \n",
            " extracting: train/RedBull/RedBull_7.jpg  \n",
            "  inflating: train/Sprite/2801900357.jpg  \n",
            " extracting: train/Sprite/3408864234.jpg  \n",
            " extracting: train/Sprite/3613991290.jpg  \n",
            "  inflating: train/Sprite/3891379215.jpg  \n",
            "  inflating: train/Sprite/Sprite_1.jpg  \n",
            "  inflating: train/Sprite/Sprite_10.jpg  \n",
            " extracting: train/Sprite/Sprite_11.jpg  \n",
            "  inflating: train/Sprite/Sprite_12.jpg  \n",
            "  inflating: train/Sprite/Sprite_14.jpg  \n",
            " extracting: train/Sprite/Sprite_15.jpg  \n",
            "  inflating: train/Sprite/Sprite_17.jpg  \n",
            " extracting: train/Sprite/Sprite_18.jpg  \n",
            "  inflating: train/Sprite/Sprite_19.jpg  \n",
            "  inflating: train/Sprite/Sprite_20.jpg  \n",
            "  inflating: train/Sprite/Sprite_4.jpg  \n",
            " extracting: train/Sprite/Sprite_5.jpg  \n",
            " extracting: train/Sprite/Sprite_6.jpg  \n",
            "  inflating: train/Sprite/Sprite_8.jpg  \n",
            "  inflating: train/Sprite/Sprite_9.jpg  \n",
            "  inflating: train/Starbucks/2630005498.jpg  \n",
            "  inflating: train/Starbucks/2974513280.jpg  \n",
            "  inflating: train/Starbucks/3007219950.jpg  \n",
            "  inflating: train/Starbucks/Starbucks_1.jpg  \n",
            "  inflating: train/Starbucks/Starbucks_10.jpg  \n",
            " extracting: train/Starbucks/Starbucks_11.jpg  \n",
            "  inflating: train/Starbucks/Starbucks_12.jpg  \n",
            "  inflating: train/Starbucks/Starbucks_13.jpg  \n",
            "  inflating: train/Starbucks/Starbucks_14.jpg  \n",
            "  inflating: train/Starbucks/Starbucks_16.jpg  \n",
            "  inflating: train/Starbucks/Starbucks_17.jpg  \n",
            " extracting: train/Starbucks/Starbucks_18.jpg  \n",
            "  inflating: train/Starbucks/Starbucks_19.jpg  \n",
            "  inflating: train/Starbucks/Starbucks_20.jpg  \n",
            " extracting: train/Starbucks/Starbucks_4.jpg  \n",
            " extracting: train/Starbucks/Starbucks_6.jpg  \n",
            "  inflating: train/Starbucks/Starbucks_7.jpg  \n",
            "  inflating: train/Starbucks/Starbucks_8.jpg  \n",
            "  inflating: train/Starbucks/Starbucks_9.jpg  \n",
            "  inflating: train/Texaco/2987576045.jpg  \n",
            "  inflating: train/Texaco/3198284747.jpg  \n",
            "  inflating: train/Texaco/3907303622.jpg  \n",
            "  inflating: train/Texaco/4434794457.jpg  \n",
            "  inflating: train/Texaco/Texaco_10.jpg  \n",
            "  inflating: train/Texaco/Texaco_12.jpg  \n",
            "  inflating: train/Texaco/Texaco_14.jpg  \n",
            "  inflating: train/Texaco/Texaco_16.jpg  \n",
            " extracting: train/Texaco/Texaco_18.jpg  \n",
            "  inflating: train/Texaco/Texaco_19.jpg  \n",
            " extracting: train/Texaco/Texaco_2.jpg  \n",
            " extracting: train/Texaco/Texaco_3.jpg  \n",
            " extracting: train/Texaco/Texaco_5.jpg  \n",
            " extracting: train/Texaco/Texaco_7.jpg  \n",
            " extracting: train/Texaco/Texaco_8.jpg  \n",
            "  inflating: train/Texaco/Texaco_9.jpg  \n",
            "  inflating: train/Unicef/4288066623.jpg  \n",
            "  inflating: train/Unicef/4294940735.jpg  \n",
            "  inflating: train/Unicef/4446333664.jpg  \n",
            "  inflating: train/Unicef/4621621817.jpg  \n",
            "  inflating: train/Unicef/Unicef_10.jpg  \n",
            " extracting: train/Unicef/Unicef_13.jpg  \n",
            "  inflating: train/Unicef/Unicef_14.jpg  \n",
            " extracting: train/Unicef/Unicef_16.jpg  \n",
            " extracting: train/Unicef/Unicef_17.jpg  \n",
            " extracting: train/Unicef/Unicef_18.jpg  \n",
            " extracting: train/Unicef/Unicef_19.jpg  \n",
            "  inflating: train/Unicef/Unicef_2.jpg  \n",
            " extracting: train/Unicef/Unicef_3.jpg  \n",
            "  inflating: train/Unicef/Unicef_4.jpg  \n",
            " extracting: train/Unicef/Unicef_5.jpg  \n",
            " extracting: train/Unicef/Unicef_6.jpg  \n",
            "  inflating: train/Unicef/Unicef_8.jpg  \n",
            "  inflating: train/Vodafone/110022360.jpg  \n",
            "  inflating: train/Vodafone/3107265036.jpg  \n",
            "  inflating: train/Vodafone/3331911222.jpg  \n",
            "  inflating: train/Vodafone/4484828876.jpg  \n",
            "  inflating: train/Vodafone/4734939463.jpg  \n",
            "  inflating: train/Vodafone/Vodafone_1.jpg  \n",
            " extracting: train/Vodafone/Vodafone_10.jpg  \n",
            "  inflating: train/Vodafone/Vodafone_11.jpg  \n",
            " extracting: train/Vodafone/Vodafone_12.jpg  \n",
            "  inflating: train/Vodafone/Vodafone_13.jpg  \n",
            "  inflating: train/Vodafone/Vodafone_14.jpg  \n",
            "  inflating: train/Vodafone/Vodafone_15.jpg  \n",
            "  inflating: train/Vodafone/Vodafone_16.jpg  \n",
            "  inflating: train/Vodafone/Vodafone_17.jpg  \n",
            "  inflating: train/Vodafone/Vodafone_18.jpg  \n",
            " extracting: train/Vodafone/Vodafone_20.jpg  \n",
            "  inflating: train/Vodafone/Vodafone_3.jpg  \n",
            " extracting: train/Vodafone/Vodafone_4.jpg  \n",
            " extracting: train/Vodafone/Vodafone_5.jpg  \n",
            "  inflating: train/Vodafone/Vodafone_7.jpg  \n",
            " extracting: train/Vodafone/Vodafone_8.jpg  \n",
            "  inflating: train/Vodafone/Vodafone_9.jpg  \n",
            "  inflating: train/Yahoo/1803593030.jpg  \n",
            "  inflating: train/Yahoo/2553484499.jpg  \n",
            "  inflating: train/Yahoo/2810241569.jpg  \n",
            " extracting: train/Yahoo/Yahoo_1.jpg  \n",
            "  inflating: train/Yahoo/Yahoo_10.jpg  \n",
            "  inflating: train/Yahoo/Yahoo_11.jpg  \n",
            "  inflating: train/Yahoo/Yahoo_12.jpg  \n",
            "  inflating: train/Yahoo/Yahoo_14.jpg  \n",
            " extracting: train/Yahoo/Yahoo_15.jpg  \n",
            " extracting: train/Yahoo/Yahoo_17.jpg  \n",
            "  inflating: train/Yahoo/Yahoo_18.jpg  \n",
            "  inflating: train/Yahoo/Yahoo_19.jpg  \n",
            " extracting: train/Yahoo/Yahoo_2.jpg  \n",
            " extracting: train/Yahoo/Yahoo_3.jpg  \n",
            " extracting: train/Yahoo/Yahoo_4.jpg  \n",
            " extracting: train/Yahoo/Yahoo_5.jpg  \n",
            "  inflating: train/Yahoo/Yahoo_6.jpg  \n",
            "  inflating: train/Yahoo/Yahoo_7.jpg  \n",
            " extracting: train/Yahoo/Yahoo_8.jpg  \n",
            "  inflating: train/Yahoo/Yahoo_9.jpg  \n"
          ]
        }
      ]
    },
    {
      "cell_type": "code",
      "metadata": {
        "colab": {
          "base_uri": "https://localhost:8080/"
        },
        "id": "JvUK1X_bPOIr",
        "outputId": "3048c8f6-ad61-4632-f1e4-e3bf77bcfb04"
      },
      "source": [
        "!ls -l"
      ],
      "execution_count": 42,
      "outputs": [
        {
          "output_type": "stream",
          "name": "stdout",
          "text": [
            "total 16\n",
            "drwx------  6 root root 4096 Sep  1 08:11 drive\n",
            "drwxr-xr-x  1 root root 4096 Aug 25 13:35 sample_data\n",
            "drwxr-xr-x 29 root root 4096 Sep  1 08:12 test\n",
            "drwxr-xr-x 29 root root 4096 Sep  1 08:12 train\n"
          ]
        }
      ]
    },
    {
      "cell_type": "code",
      "metadata": {
        "id": "aSH8LPU4PQd6"
      },
      "source": [
        "train_dir = 'train'\n",
        "valid_dir = 'test'\n",
        "test_dir = 'test'"
      ],
      "execution_count": 43,
      "outputs": []
    },
    {
      "cell_type": "code",
      "metadata": {
        "colab": {
          "base_uri": "https://localhost:8080/"
        },
        "id": "zOaO0kysPXHd",
        "outputId": "292fe0da-f2b2-4980-d89e-a9ea50ff85dc"
      },
      "source": [
        "from tensorflow.keras.preprocessing.image import ImageDataGenerator\n",
        "\n",
        "train_datagen = ImageDataGenerator(rescale =1./255)\n",
        "valid_datagen = ImageDataGenerator(rescale =1./255)\n",
        "\n",
        "train_generator = train_datagen.flow_from_directory(train_dir,\n",
        "                                                    target_size = (75, 75),\n",
        "                                                    batch_size = 8,\n",
        "                                                    class_mode = 'categorical'\n",
        "                                                    )\n",
        "valid_generator = valid_datagen.flow_from_directory(valid_dir,\n",
        "                                                    target_size = (75, 75),\n",
        "                                                    batch_size = 8,\n",
        "                                                    class_mode = 'categorical'\n",
        "                                                    )"
      ],
      "execution_count": 44,
      "outputs": [
        {
          "output_type": "stream",
          "name": "stdout",
          "text": [
            "Found 498 images belonging to 27 classes.\n",
            "Found 177 images belonging to 27 classes.\n"
          ]
        }
      ]
    },
    {
      "cell_type": "code",
      "metadata": {
        "colab": {
          "base_uri": "https://localhost:8080/"
        },
        "id": "Q7zG8DtKQAjG",
        "outputId": "51cc0ea6-1bfc-4bdd-d2d6-f347c71dce2e"
      },
      "source": [
        "for data_batch, labels_batch in train_generator:\n",
        "    print('배치 데이터 크기:', data_batch.shape)\n",
        "    print('배치 데이터 크기:', labels_batch.shape)\n",
        "    break"
      ],
      "execution_count": 46,
      "outputs": [
        {
          "output_type": "stream",
          "name": "stdout",
          "text": [
            "배치 데이터 크기: (8, 75, 75, 3)\n",
            "배치 데이터 크기: (8, 27)\n"
          ]
        }
      ]
    },
    {
      "cell_type": "code",
      "metadata": {
        "colab": {
          "base_uri": "https://localhost:8080/"
        },
        "id": "aUQjKhzsQKYH",
        "outputId": "803b77b9-a328-4416-fdce-93808317e465"
      },
      "source": [
        "labels_batch"
      ],
      "execution_count": 54,
      "outputs": [
        {
          "output_type": "execute_result",
          "data": {
            "text/plain": [
              "array([[0., 0., 0., 0., 0., 0., 0., 0., 0., 0., 0., 0., 0., 0., 0., 0.,\n",
              "        0., 0., 0., 0., 0., 0., 0., 0., 1., 0., 0.],\n",
              "       [0., 0., 0., 0., 0., 0., 0., 0., 0., 0., 0., 0., 0., 0., 0., 0.,\n",
              "        0., 0., 0., 0., 0., 0., 0., 0., 0., 0., 1.],\n",
              "       [0., 0., 0., 0., 1., 0., 0., 0., 0., 0., 0., 0., 0., 0., 0., 0.,\n",
              "        0., 0., 0., 0., 0., 0., 0., 0., 0., 0., 0.],\n",
              "       [0., 0., 0., 0., 0., 0., 0., 0., 0., 0., 0., 0., 0., 0., 0., 0.,\n",
              "        0., 0., 0., 1., 0., 0., 0., 0., 0., 0., 0.],\n",
              "       [0., 0., 0., 0., 0., 0., 0., 0., 0., 0., 0., 0., 0., 0., 0., 0.,\n",
              "        0., 1., 0., 0., 0., 0., 0., 0., 0., 0., 0.],\n",
              "       [0., 0., 0., 0., 0., 0., 0., 0., 1., 0., 0., 0., 0., 0., 0., 0.,\n",
              "        0., 0., 0., 0., 0., 0., 0., 0., 0., 0., 0.],\n",
              "       [0., 0., 0., 0., 0., 0., 0., 0., 0., 0., 0., 0., 1., 0., 0., 0.,\n",
              "        0., 0., 0., 0., 0., 0., 0., 0., 0., 0., 0.],\n",
              "       [0., 0., 0., 0., 0., 0., 0., 0., 0., 0., 0., 0., 0., 0., 0., 0.,\n",
              "        0., 1., 0., 0., 0., 0., 0., 0., 0., 0., 0.]], dtype=float32)"
            ]
          },
          "metadata": {},
          "execution_count": 54
        }
      ]
    },
    {
      "cell_type": "code",
      "metadata": {
        "id": "QoLhQ5DxQMOM"
      },
      "source": [
        "from tensorflow.keras import layers\n",
        "from tensorflow.keras import models\n",
        "\n",
        "model = models.Sequential()\n",
        "model.add(layers.Conv2D(32,(3,3), activation= 'relu', input_shape = (75,75,3)))\n",
        "model.add(layers.MaxPooling2D(2,2))\n",
        "model.add(layers.Conv2D(32,(3,3), activation= 'relu'))\n",
        "model.add(layers.MaxPooling2D(2,2))\n",
        "model.add(layers.Conv2D(32,(3,3), activation= 'relu'))\n",
        "model.add(layers.MaxPooling2D(2,2))\n",
        "model.add(layers.Conv2D(32,(3,3), activation= 'relu'))\n",
        "\n",
        "\n",
        "model.add(layers.Flatten())\n",
        "model.add(layers.Dense(512, activation = 'relu'))\n",
        "model.add(layers.Dense(27,activation= 'softmax'))"
      ],
      "execution_count": 58,
      "outputs": []
    },
    {
      "cell_type": "code",
      "metadata": {
        "colab": {
          "base_uri": "https://localhost:8080/"
        },
        "id": "fO9jwcD4QW1r",
        "outputId": "24ec67c4-6522-415a-8df5-c2f30fecdef2"
      },
      "source": [
        "model.summary()"
      ],
      "execution_count": 59,
      "outputs": [
        {
          "output_type": "stream",
          "name": "stdout",
          "text": [
            "Model: \"sequential_8\"\n",
            "_________________________________________________________________\n",
            "Layer (type)                 Output Shape              Param #   \n",
            "=================================================================\n",
            "conv2d_40 (Conv2D)           (None, 73, 73, 32)        896       \n",
            "_________________________________________________________________\n",
            "max_pooling2d_32 (MaxPooling (None, 36, 36, 32)        0         \n",
            "_________________________________________________________________\n",
            "conv2d_41 (Conv2D)           (None, 34, 34, 32)        9248      \n",
            "_________________________________________________________________\n",
            "max_pooling2d_33 (MaxPooling (None, 17, 17, 32)        0         \n",
            "_________________________________________________________________\n",
            "conv2d_42 (Conv2D)           (None, 15, 15, 32)        9248      \n",
            "_________________________________________________________________\n",
            "max_pooling2d_34 (MaxPooling (None, 7, 7, 32)          0         \n",
            "_________________________________________________________________\n",
            "conv2d_43 (Conv2D)           (None, 5, 5, 32)          9248      \n",
            "_________________________________________________________________\n",
            "flatten_3 (Flatten)          (None, 800)               0         \n",
            "_________________________________________________________________\n",
            "dense_6 (Dense)              (None, 512)               410112    \n",
            "_________________________________________________________________\n",
            "dense_7 (Dense)              (None, 27)                13851     \n",
            "=================================================================\n",
            "Total params: 452,603\n",
            "Trainable params: 452,603\n",
            "Non-trainable params: 0\n",
            "_________________________________________________________________\n"
          ]
        }
      ]
    },
    {
      "cell_type": "code",
      "metadata": {
        "id": "ZssSVc_xRDGF"
      },
      "source": [
        "model.compile(loss = 'categorical_crossentropy',\n",
        "              optimizer = 'adam',\n",
        "              metrics = ['accuracy'])\n"
      ],
      "execution_count": 60,
      "outputs": []
    },
    {
      "cell_type": "code",
      "metadata": {
        "colab": {
          "base_uri": "https://localhost:8080/"
        },
        "id": "ow77IF0uRKjy",
        "outputId": "d84480cf-31b9-4a33-8aad-01832bf35544"
      },
      "source": [
        "%%time\n",
        "\n",
        "T_model = model.fit(train_generator, steps_per_epoch= 5,\n",
        "                    epochs = 60,\n",
        "                    validation_data = valid_generator,\n",
        "                    validation_steps = 50)\n"
      ],
      "execution_count": 61,
      "outputs": [
        {
          "output_type": "stream",
          "name": "stdout",
          "text": [
            "Epoch 1/60\n",
            "5/5 [==============================] - ETA: 0s - loss: 3.3009 - accuracy: 0.1000WARNING:tensorflow:Your input ran out of data; interrupting training. Make sure that your dataset or generator can generate at least `steps_per_epoch * epochs` batches (in this case, 50 batches). You may need to use the repeat() function when building your dataset.\n",
            "5/5 [==============================] - 3s 159ms/step - loss: 3.3009 - accuracy: 0.1000 - val_loss: 3.3421 - val_accuracy: 0.0395\n",
            "Epoch 2/60\n",
            "5/5 [==============================] - 0s 18ms/step - loss: 3.3341 - accuracy: 0.0500\n",
            "Epoch 3/60\n",
            "5/5 [==============================] - 0s 21ms/step - loss: 3.2734 - accuracy: 0.0500\n",
            "Epoch 4/60\n",
            "5/5 [==============================] - 0s 21ms/step - loss: 3.3141 - accuracy: 0.0750\n",
            "Epoch 5/60\n",
            "5/5 [==============================] - 0s 18ms/step - loss: 3.2829 - accuracy: 0.1000\n",
            "Epoch 6/60\n",
            "5/5 [==============================] - 0s 21ms/step - loss: 3.2881 - accuracy: 0.0750\n",
            "Epoch 7/60\n",
            "5/5 [==============================] - 0s 25ms/step - loss: 3.2731 - accuracy: 0.1250\n",
            "Epoch 8/60\n",
            "5/5 [==============================] - 0s 20ms/step - loss: 3.1630 - accuracy: 0.0750\n",
            "Epoch 9/60\n",
            "5/5 [==============================] - 0s 15ms/step - loss: 3.2269 - accuracy: 0.1000\n",
            "Epoch 10/60\n",
            "5/5 [==============================] - 0s 20ms/step - loss: 3.2379 - accuracy: 0.0750\n",
            "Epoch 11/60\n",
            "5/5 [==============================] - 0s 20ms/step - loss: 3.1051 - accuracy: 0.1000\n",
            "Epoch 12/60\n",
            "5/5 [==============================] - 0s 25ms/step - loss: 3.1148 - accuracy: 0.1000\n",
            "Epoch 13/60\n",
            "5/5 [==============================] - 0s 17ms/step - loss: 3.0532 - accuracy: 0.1250\n",
            "Epoch 14/60\n",
            "5/5 [==============================] - 0s 22ms/step - loss: 2.7305 - accuracy: 0.1500\n",
            "Epoch 15/60\n",
            "5/5 [==============================] - 0s 20ms/step - loss: 3.0676 - accuracy: 0.0750\n",
            "Epoch 16/60\n",
            "5/5 [==============================] - 0s 21ms/step - loss: 2.9145 - accuracy: 0.2000\n",
            "Epoch 17/60\n",
            "5/5 [==============================] - 0s 24ms/step - loss: 2.9590 - accuracy: 0.1000\n",
            "Epoch 18/60\n",
            "5/5 [==============================] - 0s 53ms/step - loss: 2.9380 - accuracy: 0.1765\n",
            "Epoch 19/60\n",
            "5/5 [==============================] - 0s 19ms/step - loss: 2.8529 - accuracy: 0.1765\n",
            "Epoch 20/60\n",
            "5/5 [==============================] - 0s 18ms/step - loss: 2.9103 - accuracy: 0.1500\n",
            "Epoch 21/60\n",
            "5/5 [==============================] - 0s 19ms/step - loss: 2.6602 - accuracy: 0.2647\n",
            "Epoch 22/60\n",
            "5/5 [==============================] - 0s 16ms/step - loss: 2.7380 - accuracy: 0.1471\n",
            "Epoch 23/60\n",
            "5/5 [==============================] - 0s 21ms/step - loss: 2.4027 - accuracy: 0.2500\n",
            "Epoch 24/60\n",
            "5/5 [==============================] - 0s 15ms/step - loss: 2.3170 - accuracy: 0.3250\n",
            "Epoch 25/60\n",
            "5/5 [==============================] - 0s 17ms/step - loss: 1.9287 - accuracy: 0.4750\n",
            "Epoch 26/60\n",
            "5/5 [==============================] - 0s 21ms/step - loss: 2.6132 - accuracy: 0.2750\n",
            "Epoch 27/60\n",
            "5/5 [==============================] - 0s 19ms/step - loss: 2.2579 - accuracy: 0.3500\n",
            "Epoch 28/60\n",
            "5/5 [==============================] - 0s 23ms/step - loss: 2.4990 - accuracy: 0.3000\n",
            "Epoch 29/60\n",
            "5/5 [==============================] - 0s 19ms/step - loss: 2.2424 - accuracy: 0.3750\n",
            "Epoch 30/60\n",
            "5/5 [==============================] - 0s 20ms/step - loss: 2.2410 - accuracy: 0.4000\n",
            "Epoch 31/60\n",
            "5/5 [==============================] - 0s 20ms/step - loss: 1.6737 - accuracy: 0.4000\n",
            "Epoch 32/60\n",
            "5/5 [==============================] - 0s 15ms/step - loss: 1.5921 - accuracy: 0.5294\n",
            "Epoch 33/60\n",
            "5/5 [==============================] - 0s 17ms/step - loss: 2.2864 - accuracy: 0.3750\n",
            "Epoch 34/60\n",
            "5/5 [==============================] - 0s 23ms/step - loss: 1.8353 - accuracy: 0.5500\n",
            "Epoch 35/60\n",
            "5/5 [==============================] - 0s 17ms/step - loss: 2.1861 - accuracy: 0.4000\n",
            "Epoch 36/60\n",
            "5/5 [==============================] - 0s 18ms/step - loss: 1.5975 - accuracy: 0.5250\n",
            "Epoch 37/60\n",
            "5/5 [==============================] - 0s 21ms/step - loss: 1.6644 - accuracy: 0.6000\n",
            "Epoch 38/60\n",
            "5/5 [==============================] - 0s 21ms/step - loss: 1.3469 - accuracy: 0.6500\n",
            "Epoch 39/60\n",
            "5/5 [==============================] - 0s 19ms/step - loss: 1.4140 - accuracy: 0.5250\n",
            "Epoch 40/60\n",
            "5/5 [==============================] - 0s 21ms/step - loss: 1.5097 - accuracy: 0.5750\n",
            "Epoch 41/60\n",
            "5/5 [==============================] - 0s 19ms/step - loss: 1.4065 - accuracy: 0.5588\n",
            "Epoch 42/60\n",
            "5/5 [==============================] - 0s 20ms/step - loss: 1.3782 - accuracy: 0.6750\n",
            "Epoch 43/60\n",
            "5/5 [==============================] - 0s 25ms/step - loss: 1.5503 - accuracy: 0.5500\n",
            "Epoch 44/60\n",
            "5/5 [==============================] - 0s 14ms/step - loss: 1.1249 - accuracy: 0.7250\n",
            "Epoch 45/60\n",
            "5/5 [==============================] - 0s 20ms/step - loss: 1.5956 - accuracy: 0.5250\n",
            "Epoch 46/60\n",
            "5/5 [==============================] - 0s 20ms/step - loss: 1.4713 - accuracy: 0.5750\n",
            "Epoch 47/60\n",
            "5/5 [==============================] - 0s 19ms/step - loss: 1.3409 - accuracy: 0.7000\n",
            "Epoch 48/60\n",
            "5/5 [==============================] - 0s 20ms/step - loss: 1.2880 - accuracy: 0.6500\n",
            "Epoch 49/60\n",
            "5/5 [==============================] - 0s 15ms/step - loss: 0.9810 - accuracy: 0.7500\n",
            "Epoch 50/60\n",
            "5/5 [==============================] - 0s 18ms/step - loss: 1.0829 - accuracy: 0.7250\n",
            "Epoch 51/60\n",
            "5/5 [==============================] - 0s 19ms/step - loss: 1.0303 - accuracy: 0.7750\n",
            "Epoch 52/60\n",
            "5/5 [==============================] - 0s 19ms/step - loss: 1.0991 - accuracy: 0.6750\n",
            "Epoch 53/60\n",
            "5/5 [==============================] - 0s 19ms/step - loss: 0.7412 - accuracy: 0.8000\n",
            "Epoch 54/60\n",
            "5/5 [==============================] - 0s 22ms/step - loss: 1.0323 - accuracy: 0.7000\n",
            "Epoch 55/60\n",
            "5/5 [==============================] - 0s 20ms/step - loss: 0.8609 - accuracy: 0.8000\n",
            "Epoch 56/60\n",
            "5/5 [==============================] - 0s 22ms/step - loss: 1.2700 - accuracy: 0.6500\n",
            "Epoch 57/60\n",
            "5/5 [==============================] - 0s 20ms/step - loss: 0.6747 - accuracy: 0.8235\n",
            "Epoch 58/60\n",
            "5/5 [==============================] - 0s 16ms/step - loss: 1.2233 - accuracy: 0.6750\n",
            "Epoch 59/60\n",
            "5/5 [==============================] - 0s 15ms/step - loss: 0.7563 - accuracy: 0.8250\n",
            "Epoch 60/60\n",
            "5/5 [==============================] - 0s 20ms/step - loss: 0.8684 - accuracy: 0.7500\n",
            "CPU times: user 10.4 s, sys: 758 ms, total: 11.1 s\n",
            "Wall time: 11.4 s\n"
          ]
        }
      ]
    },
    {
      "cell_type": "code",
      "metadata": {
        "colab": {
          "base_uri": "https://localhost:8080/",
          "height": 404
        },
        "id": "crV779WURY7j",
        "outputId": "d5576ae6-1424-44ba-9236-dc45b1b53333"
      },
      "source": [
        "import matplotlib.pyplot as plt\n",
        "epochs = range(1, len(T_model.history['loss']) + 1)\n",
        "plt.figure(figsize = (9, 6))\n",
        "plt.plot(epochs, T_model.history['loss'])\n",
        "plt.title('Training & Validation Loss')\n",
        "plt.xlabel('Epochs')\n",
        "plt.ylabel('Loss')\n",
        "plt.legend(['Training Loss'])\n",
        "plt.grid()\n",
        "plt.show()"
      ],
      "execution_count": 63,
      "outputs": [
        {
          "output_type": "display_data",
          "data": {
            "image/png": "[encoded data removed]",
            "text/plain": [
              "<Figure size 648x432 with 1 Axes>"
            ]
          },
          "metadata": {
            "needs_background": "light"
          }
        }
      ]
    },
    {
      "cell_type": "code",
      "metadata": {
        "colab": {
          "base_uri": "https://localhost:8080/",
          "height": 404
        },
        "id": "Dz0B6xI8Rn8c",
        "outputId": "002cf68a-e7c4-4035-bbca-11fa619f6a6f"
      },
      "source": [
        "import matplotlib.pyplot as plt\n",
        "epochs = range(1, len(T_model.history['loss']) + 1)\n",
        "plt.figure(figsize = (9, 6))\n",
        "plt.plot(epochs, T_model.history['accuracy'])\n",
        "plt.title('Training & Validation Accuracy')\n",
        "plt.xlabel('Epochs')\n",
        "plt.ylabel('Accuracy')\n",
        "plt.legend(['Training Accuracy'])\n",
        "plt.grid()\n",
        "plt.show()"
      ],
      "execution_count": 65,
      "outputs": [
        {
          "output_type": "display_data",
          "data": {
            "image/png": "[encoded data removed]",
            "text/plain": [
              "<Figure size 648x432 with 1 Axes>"
            ]
          },
          "metadata": {
            "needs_background": "light"
          }
        }
      ]
    },
    {
      "cell_type": "code",
      "metadata": {
        "colab": {
          "base_uri": "https://localhost:8080/"
        },
        "id": "TZ3AxIu3SIGR",
        "outputId": "cff060ba-28e7-4d5c-ce87-ab1463e49654"
      },
      "source": [
        "test_datagen = ImageDataGenerator(rescale = 1./255)\n",
        "\n",
        "test_generator = test_datagen.flow_from_directory(test_dir,\n",
        "                                                  target_size = (75,75),\n",
        "                                                  batch_size = 20,\n",
        "                                                  class_mode = 'categorical')\n"
      ],
      "execution_count": 69,
      "outputs": [
        {
          "output_type": "stream",
          "name": "stdout",
          "text": [
            "Found 177 images belonging to 27 classes.\n"
          ]
        }
      ]
    },
    {
      "cell_type": "code",
      "metadata": {
        "colab": {
          "base_uri": "https://localhost:8080/"
        },
        "id": "ilLvElEHSY4J",
        "outputId": "7cce845d-0f24-42ff-a8f0-bd0a130fb1b7"
      },
      "source": [
        "loss , accuracy = model.evaluate(test_generator,\n",
        "                                 steps =50)\n",
        "print('Loss = {:.5f}'.format(loss))\n",
        "print('Accuracy = {:.5f}'.format(accuracy))"
      ],
      "execution_count": 71,
      "outputs": [
        {
          "output_type": "stream",
          "name": "stdout",
          "text": [
            " 8/50 [===>..........................] - ETA: 1s - loss: 2.0575 - accuracy: 0.5500WARNING:tensorflow:Your input ran out of data; interrupting training. Make sure that your dataset or generator can generate at least `steps_per_epoch * epochs` batches (in this case, 50 batches). You may need to use the repeat() function when building your dataset.\n",
            "50/50 [==============================] - 0s 5ms/step - loss: 2.0802 - accuracy: 0.5424\n",
            "Loss = 2.08015\n",
            "Accuracy = 0.54237\n"
          ]
        }
      ]
    },
    {
      "cell_type": "code",
      "metadata": {
        "id": "J9hg6HPbSjYz"
      },
      "source": [
        "model.save('/content/drive/My Drive/Colab Notebooks/models/logo.h5')"
      ],
      "execution_count": 74,
      "outputs": []
    },
    {
      "cell_type": "code",
      "metadata": {
        "colab": {
          "base_uri": "https://localhost:8080/"
        },
        "id": "5RbHVKw2SpZg",
        "outputId": "17ddbd7c-c73c-479e-f8b7-e4196711f27a"
      },
      "source": [
        "!ls -l /content/drive/My\\ Drive/Colab\\ Notebooks/models"
      ],
      "execution_count": 75,
      "outputs": [
        {
          "output_type": "stream",
          "name": "stdout",
          "text": [
            "total 10760\n",
            "-rw------- 1 root root   34600 Aug 30 07:55 001_Model_iris.h5\n",
            "-rw------- 1 root root 5491352 Sep  1 08:40 002_dogs_and_cats_small.h5\n",
            "-rw------- 1 root root 5491352 Sep  1 08:40 logo.h5\n"
          ]
        }
      ]
    },
    {
      "cell_type": "code",
      "metadata": {
        "id": "j3rNLmaBSsSW"
      },
      "source": [
        "from tensorflow.keras.models import load_model\n",
        "model_small = load_model('/content/drive/My Drive/Colab Notebooks/models/logo.h5')"
      ],
      "execution_count": 76,
      "outputs": []
    },
    {
      "cell_type": "code",
      "metadata": {
        "colab": {
          "base_uri": "https://localhost:8080/"
        },
        "id": "Zn1zwEYSSujP",
        "outputId": "107587a7-8d36-4b60-c83e-e3a86abc64d6"
      },
      "source": [
        "loss, accuracy = model_small.evaluate(test_generator,\n",
        "steps = 50)\n",
        "print('Loss = {:.5f}'.format(loss))\n",
        "print('Accuracy = {:.5f}'.format(accuracy))"
      ],
      "execution_count": 77,
      "outputs": [
        {
          "output_type": "stream",
          "name": "stdout",
          "text": [
            " 7/50 [===>..........................] - ETA: 1s - loss: 2.0930 - accuracy: 0.5500WARNING:tensorflow:Your input ran out of data; interrupting training. Make sure that your dataset or generator can generate at least `steps_per_epoch * epochs` batches (in this case, 50 batches). You may need to use the repeat() function when building your dataset.\n",
            "50/50 [==============================] - 0s 5ms/step - loss: 2.0802 - accuracy: 0.5424\n",
            "Loss = 2.08015\n",
            "Accuracy = 0.54237\n"
          ]
        }
      ]
    },
    {
      "cell_type": "code",
      "metadata": {
        "id": "dghEWKFeSwz3"
      },
      "source": [
        ""
      ],
      "execution_count": null,
      "outputs": []
    }
  ]
}