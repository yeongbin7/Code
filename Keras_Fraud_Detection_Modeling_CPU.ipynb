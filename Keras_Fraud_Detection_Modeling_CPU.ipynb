{
  "nbformat": 4,
  "nbformat_minor": 0,
  "metadata": {
    "colab": {
      "name": "Keras_Fraud_Detection_Modeling_CPU",
      "provenance": [],
      "collapsed_sections": [],
      "include_colab_link": true
    },
    "kernelspec": {
      "name": "python3",
      "display_name": "Python 3"
    },
    "accelerator": "GPU"
  },
  "cells": [
    {
      "cell_type": "markdown",
      "metadata": {
        "id": "view-in-github",
        "colab_type": "text"
      },
      "source": [
        "<a href=\"https://colab.research.google.com/github/BbangB/Code/blob/main/Keras_Fraud_Detection_Modeling_CPU.ipynb\" target=\"_parent\"><img src=\"https://colab.research.google.com/assets/colab-badge.svg\" alt=\"Open In Colab\"/></a>"
      ]
    },
    {
      "cell_type": "markdown",
      "metadata": {
        "id": "q2Pr7oBdYLdf"
      },
      "source": [
        "# Kaggle 신용카드 사기 검출 (Google Drive Mount)\n",
        "https://www.kaggle.com/mlg-ulb/creditcardfraud\n",
        "## Credit Card Fraud Detection\n",
        "* creditcard.csv (284,807 * 31)\n",
        "* Class : 0 (정상), 1 (사기)\n",
        "* 사기 검출(Fraud Detection), 이상 탐지(Anomaly Detection)"
      ]
    },
    {
      "cell_type": "code",
      "metadata": {
        "id": "RbPgODpVzdHI"
      },
      "source": [
        "import warnings\n",
        "warnings.filterwarnings('ignore')"
      ],
      "execution_count": 1,
      "outputs": []
    },
    {
      "cell_type": "markdown",
      "metadata": {
        "id": "hp2jzMV4Eb0e"
      },
      "source": [
        "# I. Google Drive Mount\n",
        "* 'creditCardFraud.zip' 파일을 구글드라이브에 업로드 후 진행"
      ]
    },
    {
      "cell_type": "code",
      "metadata": {
        "id": "EkooevWlEpae",
        "colab": {
          "base_uri": "https://localhost:8080/"
        },
        "outputId": "0d0d90fb-6ff0-49da-be32-69ab772038d7"
      },
      "source": [
        "from google.colab import drive\n",
        "\n",
        "drive.mount('/content/drive')"
      ],
      "execution_count": 2,
      "outputs": [
        {
          "output_type": "stream",
          "name": "stdout",
          "text": [
            "Mounted at /content/drive\n"
          ]
        }
      ]
    },
    {
      "cell_type": "markdown",
      "metadata": {
        "id": "rBrMKlsgEvV7"
      },
      "source": [
        "* 마운트 결과 확인"
      ]
    },
    {
      "cell_type": "code",
      "metadata": {
        "id": "ZAA_YjrVExu7",
        "colab": {
          "base_uri": "https://localhost:8080/"
        },
        "outputId": "d0ca1b17-7cc3-4e65-fac3-bb525e2cbbe9"
      },
      "source": [
        "!ls -l '/content/drive/My Drive/Colab Notebooks/datasets/creditCardFraud.zip'"
      ],
      "execution_count": 3,
      "outputs": [
        {
          "output_type": "stream",
          "name": "stdout",
          "text": [
            "-rw------- 1 root root 69155672 Apr  1 00:04 '/content/drive/My Drive/Colab Notebooks/datasets/creditCardFraud.zip'\n"
          ]
        }
      ]
    },
    {
      "cell_type": "markdown",
      "metadata": {
        "id": "1DyFdyVxFyHK"
      },
      "source": [
        "# II. Data Preprocessing"
      ]
    },
    {
      "cell_type": "markdown",
      "metadata": {
        "id": "D9zdBsGKnLUo"
      },
      "source": [
        "> ## 1) Unzip 'creditCardFraud.zip'\n",
        "\n",
        "* Colab 파일시스템에 'creditcard.csv' 파일 생성"
      ]
    },
    {
      "cell_type": "code",
      "metadata": {
        "id": "WkuHaDXcnUtY",
        "colab": {
          "base_uri": "https://localhost:8080/"
        },
        "outputId": "f9debef2-9ba9-4324-998f-203aed158f37"
      },
      "source": [
        "!unzip /content/drive/My\\ Drive/Colab\\ Notebooks/datasets/creditCardFraud.zip"
      ],
      "execution_count": 3,
      "outputs": [
        {
          "output_type": "stream",
          "name": "stdout",
          "text": [
            "Archive:  /content/drive/My Drive/Colab Notebooks/datasets/creditCardFraud.zip\n",
            "  inflating: creditcard.csv          \n"
          ]
        }
      ]
    },
    {
      "cell_type": "markdown",
      "metadata": {
        "id": "O_8T9fKaE1Dh"
      },
      "source": [
        "* creditcard.csv 파일 확인"
      ]
    },
    {
      "cell_type": "code",
      "metadata": {
        "id": "VcWMC7zwExLX",
        "colab": {
          "base_uri": "https://localhost:8080/"
        },
        "outputId": "ff9cf5ce-8927-45ed-edb7-c86124134458"
      },
      "source": [
        "!ls -l"
      ],
      "execution_count": 4,
      "outputs": [
        {
          "output_type": "stream",
          "name": "stdout",
          "text": [
            "total 147304\n",
            "-rw-r--r-- 1 root root 150828752 Sep 20  2019 creditcard.csv\n",
            "drwx------ 6 root root      4096 Aug 31 04:05 drive\n",
            "drwxr-xr-x 1 root root      4096 Aug 25 13:35 sample_data\n"
          ]
        }
      ]
    },
    {
      "cell_type": "markdown",
      "metadata": {
        "id": "C1IbUVmgFJWi"
      },
      "source": [
        "> ## 2) 데이터 읽어오기\n",
        "\n",
        "* pandas DataFrame"
      ]
    },
    {
      "cell_type": "code",
      "metadata": {
        "id": "oyKuNQuXEywU",
        "colab": {
          "base_uri": "https://localhost:8080/"
        },
        "outputId": "0cb21ea5-8ff2-4f52-83c2-4106b0482478"
      },
      "source": [
        "import pandas as pd\n",
        "\n",
        "DF = pd.read_csv('creditcard.csv')\n",
        "\n",
        "DF.info()"
      ],
      "execution_count": 5,
      "outputs": [
        {
          "output_type": "stream",
          "name": "stdout",
          "text": [
            "<class 'pandas.core.frame.DataFrame'>\n",
            "RangeIndex: 284807 entries, 0 to 284806\n",
            "Data columns (total 31 columns):\n",
            " #   Column  Non-Null Count   Dtype  \n",
            "---  ------  --------------   -----  \n",
            " 0   Time    284807 non-null  float64\n",
            " 1   V1      284807 non-null  float64\n",
            " 2   V2      284807 non-null  float64\n",
            " 3   V3      284807 non-null  float64\n",
            " 4   V4      284807 non-null  float64\n",
            " 5   V5      284807 non-null  float64\n",
            " 6   V6      284807 non-null  float64\n",
            " 7   V7      284807 non-null  float64\n",
            " 8   V8      284807 non-null  float64\n",
            " 9   V9      284807 non-null  float64\n",
            " 10  V10     284807 non-null  float64\n",
            " 11  V11     284807 non-null  float64\n",
            " 12  V12     284807 non-null  float64\n",
            " 13  V13     284807 non-null  float64\n",
            " 14  V14     284807 non-null  float64\n",
            " 15  V15     284807 non-null  float64\n",
            " 16  V16     284807 non-null  float64\n",
            " 17  V17     284807 non-null  float64\n",
            " 18  V18     284807 non-null  float64\n",
            " 19  V19     284807 non-null  float64\n",
            " 20  V20     284807 non-null  float64\n",
            " 21  V21     284807 non-null  float64\n",
            " 22  V22     284807 non-null  float64\n",
            " 23  V23     284807 non-null  float64\n",
            " 24  V24     284807 non-null  float64\n",
            " 25  V25     284807 non-null  float64\n",
            " 26  V26     284807 non-null  float64\n",
            " 27  V27     284807 non-null  float64\n",
            " 28  V28     284807 non-null  float64\n",
            " 29  Amount  284807 non-null  float64\n",
            " 30  Class   284807 non-null  int64  \n",
            "dtypes: float64(30), int64(1)\n",
            "memory usage: 67.4 MB\n"
          ]
        }
      ]
    },
    {
      "cell_type": "code",
      "metadata": {
        "id": "AAK4c1S8GCeR",
        "colab": {
          "base_uri": "https://localhost:8080/",
          "height": 222
        },
        "outputId": "180369c7-c913-4487-c14a-c76d9c054b87"
      },
      "source": [
        "DF.head()"
      ],
      "execution_count": 6,
      "outputs": [
        {
          "output_type": "execute_result",
          "data": {
            "text/html": [
              "<div>\n",
              "<style scoped>\n",
              "    .dataframe tbody tr th:only-of-type {\n",
              "        vertical-align: middle;\n",
              "    }\n",
              "\n",
              "    .dataframe tbody tr th {\n",
              "        vertical-align: top;\n",
              "    }\n",
              "\n",
              "    .dataframe thead th {\n",
              "        text-align: right;\n",
              "    }\n",
              "</style>\n",
              "<table border=\"1\" class=\"dataframe\">\n",
              "  <thead>\n",
              "    <tr style=\"text-align: right;\">\n",
              "      <th></th>\n",
              "      <th>Time</th>\n",
              "      <th>V1</th>\n",
              "      <th>V2</th>\n",
              "      <th>V3</th>\n",
              "      <th>V4</th>\n",
              "      <th>V5</th>\n",
              "      <th>V6</th>\n",
              "      <th>V7</th>\n",
              "      <th>V8</th>\n",
              "      <th>V9</th>\n",
              "      <th>V10</th>\n",
              "      <th>V11</th>\n",
              "      <th>V12</th>\n",
              "      <th>V13</th>\n",
              "      <th>V14</th>\n",
              "      <th>V15</th>\n",
              "      <th>V16</th>\n",
              "      <th>V17</th>\n",
              "      <th>V18</th>\n",
              "      <th>V19</th>\n",
              "      <th>V20</th>\n",
              "      <th>V21</th>\n",
              "      <th>V22</th>\n",
              "      <th>V23</th>\n",
              "      <th>V24</th>\n",
              "      <th>V25</th>\n",
              "      <th>V26</th>\n",
              "      <th>V27</th>\n",
              "      <th>V28</th>\n",
              "      <th>Amount</th>\n",
              "      <th>Class</th>\n",
              "    </tr>\n",
              "  </thead>\n",
              "  <tbody>\n",
              "    <tr>\n",
              "      <th>0</th>\n",
              "      <td>0.0</td>\n",
              "      <td>-1.359807</td>\n",
              "      <td>-0.072781</td>\n",
              "      <td>2.536347</td>\n",
              "      <td>1.378155</td>\n",
              "      <td>-0.338321</td>\n",
              "      <td>0.462388</td>\n",
              "      <td>0.239599</td>\n",
              "      <td>0.098698</td>\n",
              "      <td>0.363787</td>\n",
              "      <td>0.090794</td>\n",
              "      <td>-0.551600</td>\n",
              "      <td>-0.617801</td>\n",
              "      <td>-0.991390</td>\n",
              "      <td>-0.311169</td>\n",
              "      <td>1.468177</td>\n",
              "      <td>-0.470401</td>\n",
              "      <td>0.207971</td>\n",
              "      <td>0.025791</td>\n",
              "      <td>0.403993</td>\n",
              "      <td>0.251412</td>\n",
              "      <td>-0.018307</td>\n",
              "      <td>0.277838</td>\n",
              "      <td>-0.110474</td>\n",
              "      <td>0.066928</td>\n",
              "      <td>0.128539</td>\n",
              "      <td>-0.189115</td>\n",
              "      <td>0.133558</td>\n",
              "      <td>-0.021053</td>\n",
              "      <td>149.62</td>\n",
              "      <td>0</td>\n",
              "    </tr>\n",
              "    <tr>\n",
              "      <th>1</th>\n",
              "      <td>0.0</td>\n",
              "      <td>1.191857</td>\n",
              "      <td>0.266151</td>\n",
              "      <td>0.166480</td>\n",
              "      <td>0.448154</td>\n",
              "      <td>0.060018</td>\n",
              "      <td>-0.082361</td>\n",
              "      <td>-0.078803</td>\n",
              "      <td>0.085102</td>\n",
              "      <td>-0.255425</td>\n",
              "      <td>-0.166974</td>\n",
              "      <td>1.612727</td>\n",
              "      <td>1.065235</td>\n",
              "      <td>0.489095</td>\n",
              "      <td>-0.143772</td>\n",
              "      <td>0.635558</td>\n",
              "      <td>0.463917</td>\n",
              "      <td>-0.114805</td>\n",
              "      <td>-0.183361</td>\n",
              "      <td>-0.145783</td>\n",
              "      <td>-0.069083</td>\n",
              "      <td>-0.225775</td>\n",
              "      <td>-0.638672</td>\n",
              "      <td>0.101288</td>\n",
              "      <td>-0.339846</td>\n",
              "      <td>0.167170</td>\n",
              "      <td>0.125895</td>\n",
              "      <td>-0.008983</td>\n",
              "      <td>0.014724</td>\n",
              "      <td>2.69</td>\n",
              "      <td>0</td>\n",
              "    </tr>\n",
              "    <tr>\n",
              "      <th>2</th>\n",
              "      <td>1.0</td>\n",
              "      <td>-1.358354</td>\n",
              "      <td>-1.340163</td>\n",
              "      <td>1.773209</td>\n",
              "      <td>0.379780</td>\n",
              "      <td>-0.503198</td>\n",
              "      <td>1.800499</td>\n",
              "      <td>0.791461</td>\n",
              "      <td>0.247676</td>\n",
              "      <td>-1.514654</td>\n",
              "      <td>0.207643</td>\n",
              "      <td>0.624501</td>\n",
              "      <td>0.066084</td>\n",
              "      <td>0.717293</td>\n",
              "      <td>-0.165946</td>\n",
              "      <td>2.345865</td>\n",
              "      <td>-2.890083</td>\n",
              "      <td>1.109969</td>\n",
              "      <td>-0.121359</td>\n",
              "      <td>-2.261857</td>\n",
              "      <td>0.524980</td>\n",
              "      <td>0.247998</td>\n",
              "      <td>0.771679</td>\n",
              "      <td>0.909412</td>\n",
              "      <td>-0.689281</td>\n",
              "      <td>-0.327642</td>\n",
              "      <td>-0.139097</td>\n",
              "      <td>-0.055353</td>\n",
              "      <td>-0.059752</td>\n",
              "      <td>378.66</td>\n",
              "      <td>0</td>\n",
              "    </tr>\n",
              "    <tr>\n",
              "      <th>3</th>\n",
              "      <td>1.0</td>\n",
              "      <td>-0.966272</td>\n",
              "      <td>-0.185226</td>\n",
              "      <td>1.792993</td>\n",
              "      <td>-0.863291</td>\n",
              "      <td>-0.010309</td>\n",
              "      <td>1.247203</td>\n",
              "      <td>0.237609</td>\n",
              "      <td>0.377436</td>\n",
              "      <td>-1.387024</td>\n",
              "      <td>-0.054952</td>\n",
              "      <td>-0.226487</td>\n",
              "      <td>0.178228</td>\n",
              "      <td>0.507757</td>\n",
              "      <td>-0.287924</td>\n",
              "      <td>-0.631418</td>\n",
              "      <td>-1.059647</td>\n",
              "      <td>-0.684093</td>\n",
              "      <td>1.965775</td>\n",
              "      <td>-1.232622</td>\n",
              "      <td>-0.208038</td>\n",
              "      <td>-0.108300</td>\n",
              "      <td>0.005274</td>\n",
              "      <td>-0.190321</td>\n",
              "      <td>-1.175575</td>\n",
              "      <td>0.647376</td>\n",
              "      <td>-0.221929</td>\n",
              "      <td>0.062723</td>\n",
              "      <td>0.061458</td>\n",
              "      <td>123.50</td>\n",
              "      <td>0</td>\n",
              "    </tr>\n",
              "    <tr>\n",
              "      <th>4</th>\n",
              "      <td>2.0</td>\n",
              "      <td>-1.158233</td>\n",
              "      <td>0.877737</td>\n",
              "      <td>1.548718</td>\n",
              "      <td>0.403034</td>\n",
              "      <td>-0.407193</td>\n",
              "      <td>0.095921</td>\n",
              "      <td>0.592941</td>\n",
              "      <td>-0.270533</td>\n",
              "      <td>0.817739</td>\n",
              "      <td>0.753074</td>\n",
              "      <td>-0.822843</td>\n",
              "      <td>0.538196</td>\n",
              "      <td>1.345852</td>\n",
              "      <td>-1.119670</td>\n",
              "      <td>0.175121</td>\n",
              "      <td>-0.451449</td>\n",
              "      <td>-0.237033</td>\n",
              "      <td>-0.038195</td>\n",
              "      <td>0.803487</td>\n",
              "      <td>0.408542</td>\n",
              "      <td>-0.009431</td>\n",
              "      <td>0.798278</td>\n",
              "      <td>-0.137458</td>\n",
              "      <td>0.141267</td>\n",
              "      <td>-0.206010</td>\n",
              "      <td>0.502292</td>\n",
              "      <td>0.219422</td>\n",
              "      <td>0.215153</td>\n",
              "      <td>69.99</td>\n",
              "      <td>0</td>\n",
              "    </tr>\n",
              "  </tbody>\n",
              "</table>\n",
              "</div>"
            ],
            "text/plain": [
              "   Time        V1        V2        V3  ...       V27       V28  Amount  Class\n",
              "0   0.0 -1.359807 -0.072781  2.536347  ...  0.133558 -0.021053  149.62      0\n",
              "1   0.0  1.191857  0.266151  0.166480  ... -0.008983  0.014724    2.69      0\n",
              "2   1.0 -1.358354 -1.340163  1.773209  ... -0.055353 -0.059752  378.66      0\n",
              "3   1.0 -0.966272 -0.185226  1.792993  ...  0.062723  0.061458  123.50      0\n",
              "4   2.0 -1.158233  0.877737  1.548718  ...  0.219422  0.215153   69.99      0\n",
              "\n",
              "[5 rows x 31 columns]"
            ]
          },
          "metadata": {},
          "execution_count": 6
        }
      ]
    },
    {
      "cell_type": "markdown",
      "metadata": {
        "id": "HIEYGzLnLuxL"
      },
      "source": [
        "* 0 (정상) Class와 1 (사기) Class 개수"
      ]
    },
    {
      "cell_type": "code",
      "metadata": {
        "id": "E4NroBx4JDeP",
        "colab": {
          "base_uri": "https://localhost:8080/"
        },
        "outputId": "fca3878d-cdb4-43e6-b712-ecff1a11879d"
      },
      "source": [
        "DF.Class.value_counts()"
      ],
      "execution_count": 7,
      "outputs": [
        {
          "output_type": "execute_result",
          "data": {
            "text/plain": [
              "0    284315\n",
              "1       492\n",
              "Name: Class, dtype: int64"
            ]
          },
          "metadata": {},
          "execution_count": 7
        }
      ]
    },
    {
      "cell_type": "markdown",
      "metadata": {
        "id": "OncXWy-mMF2j"
      },
      "source": [
        "* 0 (정상) Class와 1 (사기) Class 비율"
      ]
    },
    {
      "cell_type": "code",
      "metadata": {
        "id": "8HWyf0GMJipF",
        "colab": {
          "base_uri": "https://localhost:8080/"
        },
        "outputId": "d3802e5c-837c-4df5-ced1-6b6931298d15"
      },
      "source": [
        "(DF.Class.value_counts() / DF.shape[0]) * 100"
      ],
      "execution_count": 8,
      "outputs": [
        {
          "output_type": "execute_result",
          "data": {
            "text/plain": [
              "0    99.827251\n",
              "1     0.172749\n",
              "Name: Class, dtype: float64"
            ]
          },
          "metadata": {},
          "execution_count": 8
        }
      ]
    },
    {
      "cell_type": "markdown",
      "metadata": {
        "id": "rUf0Vq7kG0FQ"
      },
      "source": [
        "> ## 3) Time 열(Column) 삭제"
      ]
    },
    {
      "cell_type": "code",
      "metadata": {
        "id": "ECv33P4FHE1F",
        "colab": {
          "base_uri": "https://localhost:8080/",
          "height": 99
        },
        "outputId": "08306b5d-e765-4c05-be05-c1732bf29c57"
      },
      "source": [
        "DF.drop('Time', axis = 1, inplace = True)\n",
        "\n",
        "DF.head(1)"
      ],
      "execution_count": 9,
      "outputs": [
        {
          "output_type": "execute_result",
          "data": {
            "text/html": [
              "<div>\n",
              "<style scoped>\n",
              "    .dataframe tbody tr th:only-of-type {\n",
              "        vertical-align: middle;\n",
              "    }\n",
              "\n",
              "    .dataframe tbody tr th {\n",
              "        vertical-align: top;\n",
              "    }\n",
              "\n",
              "    .dataframe thead th {\n",
              "        text-align: right;\n",
              "    }\n",
              "</style>\n",
              "<table border=\"1\" class=\"dataframe\">\n",
              "  <thead>\n",
              "    <tr style=\"text-align: right;\">\n",
              "      <th></th>\n",
              "      <th>V1</th>\n",
              "      <th>V2</th>\n",
              "      <th>V3</th>\n",
              "      <th>V4</th>\n",
              "      <th>V5</th>\n",
              "      <th>V6</th>\n",
              "      <th>V7</th>\n",
              "      <th>V8</th>\n",
              "      <th>V9</th>\n",
              "      <th>V10</th>\n",
              "      <th>V11</th>\n",
              "      <th>V12</th>\n",
              "      <th>V13</th>\n",
              "      <th>V14</th>\n",
              "      <th>V15</th>\n",
              "      <th>V16</th>\n",
              "      <th>V17</th>\n",
              "      <th>V18</th>\n",
              "      <th>V19</th>\n",
              "      <th>V20</th>\n",
              "      <th>V21</th>\n",
              "      <th>V22</th>\n",
              "      <th>V23</th>\n",
              "      <th>V24</th>\n",
              "      <th>V25</th>\n",
              "      <th>V26</th>\n",
              "      <th>V27</th>\n",
              "      <th>V28</th>\n",
              "      <th>Amount</th>\n",
              "      <th>Class</th>\n",
              "    </tr>\n",
              "  </thead>\n",
              "  <tbody>\n",
              "    <tr>\n",
              "      <th>0</th>\n",
              "      <td>-1.359807</td>\n",
              "      <td>-0.072781</td>\n",
              "      <td>2.536347</td>\n",
              "      <td>1.378155</td>\n",
              "      <td>-0.338321</td>\n",
              "      <td>0.462388</td>\n",
              "      <td>0.239599</td>\n",
              "      <td>0.098698</td>\n",
              "      <td>0.363787</td>\n",
              "      <td>0.090794</td>\n",
              "      <td>-0.5516</td>\n",
              "      <td>-0.617801</td>\n",
              "      <td>-0.99139</td>\n",
              "      <td>-0.311169</td>\n",
              "      <td>1.468177</td>\n",
              "      <td>-0.470401</td>\n",
              "      <td>0.207971</td>\n",
              "      <td>0.025791</td>\n",
              "      <td>0.403993</td>\n",
              "      <td>0.251412</td>\n",
              "      <td>-0.018307</td>\n",
              "      <td>0.277838</td>\n",
              "      <td>-0.110474</td>\n",
              "      <td>0.066928</td>\n",
              "      <td>0.128539</td>\n",
              "      <td>-0.189115</td>\n",
              "      <td>0.133558</td>\n",
              "      <td>-0.021053</td>\n",
              "      <td>149.62</td>\n",
              "      <td>0</td>\n",
              "    </tr>\n",
              "  </tbody>\n",
              "</table>\n",
              "</div>"
            ],
            "text/plain": [
              "         V1        V2        V3        V4  ...       V27       V28  Amount  Class\n",
              "0 -1.359807 -0.072781  2.536347  1.378155  ...  0.133558 -0.021053  149.62      0\n",
              "\n",
              "[1 rows x 30 columns]"
            ]
          },
          "metadata": {},
          "execution_count": 9
        }
      ]
    },
    {
      "cell_type": "markdown",
      "metadata": {
        "id": "uF_FNdiaHcFi"
      },
      "source": [
        "> ## 4) train_test_split( )\n",
        "\n",
        "* X (Input), y (Output) 지정"
      ]
    },
    {
      "cell_type": "code",
      "metadata": {
        "id": "IRQX3mslHhC2",
        "colab": {
          "base_uri": "https://localhost:8080/"
        },
        "outputId": "0372bb68-8eae-48e9-d750-cacbbac259e2"
      },
      "source": [
        "X = DF.iloc[:,:-1]\n",
        "y = DF.iloc[:, -1]\n",
        "\n",
        "X.shape, y.shape\n"
      ],
      "execution_count": 10,
      "outputs": [
        {
          "output_type": "execute_result",
          "data": {
            "text/plain": [
              "((284807, 29), (284807,))"
            ]
          },
          "metadata": {},
          "execution_count": 10
        }
      ]
    },
    {
      "cell_type": "markdown",
      "metadata": {
        "id": "f53LeC-IMx_T"
      },
      "source": [
        "* With 'Stratify'"
      ]
    },
    {
      "cell_type": "code",
      "metadata": {
        "id": "i4e13zFqH0xP",
        "colab": {
          "base_uri": "https://localhost:8080/"
        },
        "outputId": "ee8efca5-3933-4793-8185-5897c8a1db55"
      },
      "source": [
        "from sklearn.model_selection import train_test_split \n",
        "\n",
        "X_train, X_test, y_train, y_test = train_test_split(X, y,\n",
        "                                                    test_size = 0.3,\n",
        "                                                    random_state = 2045,\n",
        "                                                    stratify = y)\n",
        "\n",
        "X_train.shape, y_train.shape, X_test.shape, y_test.shape"
      ],
      "execution_count": 11,
      "outputs": [
        {
          "output_type": "execute_result",
          "data": {
            "text/plain": [
              "((199364, 29), (199364,), (85443, 29), (85443,))"
            ]
          },
          "metadata": {},
          "execution_count": 11
        }
      ]
    },
    {
      "cell_type": "markdown",
      "metadata": {
        "id": "q8NA1xnGNTtY"
      },
      "source": [
        "* Train_Data와 Test_Data의 1 (부정) 비율이 균형"
      ]
    },
    {
      "cell_type": "code",
      "metadata": {
        "id": "FMk7PWicKyDB",
        "colab": {
          "base_uri": "https://localhost:8080/"
        },
        "outputId": "ce12c5f7-edd8-47c9-ce8d-448d59675b74"
      },
      "source": [
        "print('Train_Data :','\\n', (y_train.value_counts() / y_train.shape[0]) * 100)\n",
        "print('Test_Data :','\\n', (y_test.value_counts() / y_test.shape[0]) * 100)"
      ],
      "execution_count": 12,
      "outputs": [
        {
          "output_type": "stream",
          "name": "stdout",
          "text": [
            "Train_Data : \n",
            " 0    99.827451\n",
            "1     0.172549\n",
            "Name: Class, dtype: float64\n",
            "Test_Data : \n",
            " 0    99.826785\n",
            "1     0.173215\n",
            "Name: Class, dtype: float64\n"
          ]
        }
      ]
    },
    {
      "cell_type": "markdown",
      "metadata": {
        "id": "kvsN9jNLDQO6"
      },
      "source": [
        "# I. Keras Modeling"
      ]
    },
    {
      "cell_type": "code",
      "metadata": {
        "id": "qJwx1ifuDBFT"
      },
      "source": [
        "from tensorflow.keras import models\n",
        "from tensorflow.keras import layers\n",
        "\n",
        "mnist = models.Sequential()\n",
        "mnist.add(layers.Dense(128, activation = 'relu', input_shape = (29,)))\n",
        "mnist.add(layers.Dense(64, activation = 'relu'))\n",
        "mnist.add(layers.Dense(1, activation = 'sigmoid'))"
      ],
      "execution_count": 13,
      "outputs": []
    },
    {
      "cell_type": "code",
      "metadata": {
        "colab": {
          "base_uri": "https://localhost:8080/"
        },
        "id": "O8zV7-FtDBSM",
        "outputId": "265c2464-6589-4935-c8ff-f478860967ab"
      },
      "source": [
        "mnist.summary()"
      ],
      "execution_count": 14,
      "outputs": [
        {
          "output_type": "stream",
          "name": "stdout",
          "text": [
            "Model: \"sequential\"\n",
            "_________________________________________________________________\n",
            "Layer (type)                 Output Shape              Param #   \n",
            "=================================================================\n",
            "dense (Dense)                (None, 128)               3840      \n",
            "_________________________________________________________________\n",
            "dense_1 (Dense)              (None, 64)                8256      \n",
            "_________________________________________________________________\n",
            "dense_2 (Dense)              (None, 1)                 65        \n",
            "=================================================================\n",
            "Total params: 12,161\n",
            "Trainable params: 12,161\n",
            "Non-trainable params: 0\n",
            "_________________________________________________________________\n"
          ]
        }
      ]
    },
    {
      "cell_type": "code",
      "metadata": {
        "id": "1dWCc9kSDBVO"
      },
      "source": [
        "mnist.compile(loss = 'binary_crossentropy',\n",
        "              optimizer = 'adam',\n",
        "              metrics = ['Recall'])"
      ],
      "execution_count": 15,
      "outputs": []
    },
    {
      "cell_type": "code",
      "metadata": {
        "colab": {
          "base_uri": "https://localhost:8080/"
        },
        "id": "YAdpsbN6DBX9",
        "outputId": "1f5b6498-67b8-4c1b-fd0f-11c411a5bbf2"
      },
      "source": [
        "%%time\n",
        "\n",
        "\n",
        "Hist_mnist = mnist.fit(X_train, y_train,\n",
        "                       epochs = 100,\n",
        "                       batch_size = 128,\n",
        "                       validation_split = 0.2)"
      ],
      "execution_count": 16,
      "outputs": [
        {
          "output_type": "stream",
          "name": "stdout",
          "text": [
            "Epoch 1/100\n",
            "1247/1247 [==============================] - 9s 5ms/step - loss: 0.0330 - recall: 0.6092 - val_loss: 0.0092 - val_recall: 0.6667\n",
            "Epoch 2/100\n",
            "1247/1247 [==============================] - 5s 4ms/step - loss: 0.0191 - recall: 0.6796 - val_loss: 0.0243 - val_recall: 0.4833\n",
            "Epoch 3/100\n",
            "1247/1247 [==============================] - 5s 4ms/step - loss: 0.0060 - recall: 0.7394 - val_loss: 0.0038 - val_recall: 0.7000\n",
            "Epoch 4/100\n",
            "1247/1247 [==============================] - 6s 5ms/step - loss: 0.0145 - recall: 0.7289 - val_loss: 0.0078 - val_recall: 0.7167\n",
            "Epoch 5/100\n",
            "1247/1247 [==============================] - 5s 4ms/step - loss: 0.0052 - recall: 0.7641 - val_loss: 0.0072 - val_recall: 0.6333\n",
            "Epoch 6/100\n",
            "1247/1247 [==============================] - 6s 5ms/step - loss: 0.0043 - recall: 0.7535 - val_loss: 0.0038 - val_recall: 0.7333\n",
            "Epoch 7/100\n",
            "1247/1247 [==============================] - 5s 4ms/step - loss: 0.0052 - recall: 0.7606 - val_loss: 0.0046 - val_recall: 0.7000\n",
            "Epoch 8/100\n",
            "1247/1247 [==============================] - 5s 4ms/step - loss: 0.0037 - recall: 0.7676 - val_loss: 0.0044 - val_recall: 0.7167\n",
            "Epoch 9/100\n",
            "1247/1247 [==============================] - 6s 5ms/step - loss: 0.0041 - recall: 0.7782 - val_loss: 0.0119 - val_recall: 0.5167\n",
            "Epoch 10/100\n",
            "1247/1247 [==============================] - 5s 4ms/step - loss: 0.0039 - recall: 0.7746 - val_loss: 0.0041 - val_recall: 0.7000\n",
            "Epoch 11/100\n",
            "1247/1247 [==============================] - 5s 4ms/step - loss: 0.0052 - recall: 0.7641 - val_loss: 0.0058 - val_recall: 0.6333\n",
            "Epoch 12/100\n",
            "1247/1247 [==============================] - 5s 4ms/step - loss: 0.0039 - recall: 0.7993 - val_loss: 0.0037 - val_recall: 0.7167\n",
            "Epoch 13/100\n",
            "1247/1247 [==============================] - 5s 4ms/step - loss: 0.0028 - recall: 0.8063 - val_loss: 0.0040 - val_recall: 0.7000\n",
            "Epoch 14/100\n",
            "1247/1247 [==============================] - 5s 4ms/step - loss: 0.0026 - recall: 0.8099 - val_loss: 0.0056 - val_recall: 0.7000\n",
            "Epoch 15/100\n",
            "1247/1247 [==============================] - 5s 4ms/step - loss: 0.0041 - recall: 0.7993 - val_loss: 0.0038 - val_recall: 0.7000\n",
            "Epoch 16/100\n",
            "1247/1247 [==============================] - 5s 4ms/step - loss: 0.0025 - recall: 0.8204 - val_loss: 0.0045 - val_recall: 0.7667\n",
            "Epoch 17/100\n",
            "1247/1247 [==============================] - 6s 5ms/step - loss: 0.0026 - recall: 0.8169 - val_loss: 0.0046 - val_recall: 0.6667\n",
            "Epoch 18/100\n",
            "1247/1247 [==============================] - 6s 5ms/step - loss: 0.0026 - recall: 0.8134 - val_loss: 0.0036 - val_recall: 0.7333\n",
            "Epoch 19/100\n",
            "1247/1247 [==============================] - 5s 4ms/step - loss: 0.0023 - recall: 0.8310 - val_loss: 0.0046 - val_recall: 0.6667\n",
            "Epoch 20/100\n",
            "1247/1247 [==============================] - 5s 4ms/step - loss: 0.0022 - recall: 0.8275 - val_loss: 0.0038 - val_recall: 0.7000\n",
            "Epoch 21/100\n",
            "1247/1247 [==============================] - 6s 5ms/step - loss: 0.0023 - recall: 0.8275 - val_loss: 0.0038 - val_recall: 0.6667\n",
            "Epoch 22/100\n",
            "1247/1247 [==============================] - 5s 4ms/step - loss: 0.0028 - recall: 0.8275 - val_loss: 0.0044 - val_recall: 0.7167\n",
            "Epoch 23/100\n",
            "1247/1247 [==============================] - 5s 4ms/step - loss: 0.0023 - recall: 0.8310 - val_loss: 0.0044 - val_recall: 0.7167\n",
            "Epoch 24/100\n",
            "1247/1247 [==============================] - 6s 5ms/step - loss: 0.0021 - recall: 0.8521 - val_loss: 0.0041 - val_recall: 0.7000\n",
            "Epoch 25/100\n",
            "1247/1247 [==============================] - 5s 4ms/step - loss: 0.0022 - recall: 0.8380 - val_loss: 0.0041 - val_recall: 0.6500\n",
            "Epoch 26/100\n",
            "1247/1247 [==============================] - 6s 5ms/step - loss: 0.0019 - recall: 0.8380 - val_loss: 0.0044 - val_recall: 0.7000\n",
            "Epoch 27/100\n",
            "1247/1247 [==============================] - 6s 5ms/step - loss: 0.0018 - recall: 0.8556 - val_loss: 0.0045 - val_recall: 0.7167\n",
            "Epoch 28/100\n",
            "1247/1247 [==============================] - 5s 4ms/step - loss: 0.0019 - recall: 0.8556 - val_loss: 0.0042 - val_recall: 0.6833\n",
            "Epoch 29/100\n",
            "1247/1247 [==============================] - 6s 5ms/step - loss: 0.0020 - recall: 0.8451 - val_loss: 0.0050 - val_recall: 0.6667\n",
            "Epoch 30/100\n",
            "1247/1247 [==============================] - 6s 5ms/step - loss: 0.0020 - recall: 0.8556 - val_loss: 0.0045 - val_recall: 0.6833\n",
            "Epoch 31/100\n",
            "1247/1247 [==============================] - 5s 4ms/step - loss: 0.0021 - recall: 0.8697 - val_loss: 0.0057 - val_recall: 0.5667\n",
            "Epoch 32/100\n",
            "1247/1247 [==============================] - 5s 4ms/step - loss: 0.0016 - recall: 0.8627 - val_loss: 0.0045 - val_recall: 0.7167\n",
            "Epoch 33/100\n",
            "1247/1247 [==============================] - 5s 4ms/step - loss: 0.0018 - recall: 0.8592 - val_loss: 0.0049 - val_recall: 0.7000\n",
            "Epoch 34/100\n",
            "1247/1247 [==============================] - 6s 5ms/step - loss: 0.0016 - recall: 0.8803 - val_loss: 0.0048 - val_recall: 0.6500\n",
            "Epoch 35/100\n",
            "1247/1247 [==============================] - 5s 4ms/step - loss: 0.0019 - recall: 0.8697 - val_loss: 0.0049 - val_recall: 0.7333\n",
            "Epoch 36/100\n",
            "1247/1247 [==============================] - 5s 4ms/step - loss: 0.0015 - recall: 0.8803 - val_loss: 0.0051 - val_recall: 0.7000\n",
            "Epoch 37/100\n",
            "1247/1247 [==============================] - 6s 5ms/step - loss: 0.0018 - recall: 0.8627 - val_loss: 0.0058 - val_recall: 0.6167\n",
            "Epoch 38/100\n",
            "1247/1247 [==============================] - 6s 5ms/step - loss: 0.0017 - recall: 0.8838 - val_loss: 0.0052 - val_recall: 0.6667\n",
            "Epoch 39/100\n",
            "1247/1247 [==============================] - 5s 4ms/step - loss: 0.0018 - recall: 0.8345 - val_loss: 0.0060 - val_recall: 0.7167\n",
            "Epoch 40/100\n",
            "1247/1247 [==============================] - 5s 4ms/step - loss: 0.0015 - recall: 0.8697 - val_loss: 0.0048 - val_recall: 0.7000\n",
            "Epoch 41/100\n",
            "1247/1247 [==============================] - 5s 4ms/step - loss: 0.0015 - recall: 0.8662 - val_loss: 0.0048 - val_recall: 0.7167\n",
            "Epoch 42/100\n",
            "1247/1247 [==============================] - 5s 4ms/step - loss: 0.0015 - recall: 0.8873 - val_loss: 0.0049 - val_recall: 0.7167\n",
            "Epoch 43/100\n",
            "1247/1247 [==============================] - 5s 4ms/step - loss: 0.0014 - recall: 0.8838 - val_loss: 0.0052 - val_recall: 0.7167\n",
            "Epoch 44/100\n",
            "1247/1247 [==============================] - 6s 5ms/step - loss: 0.0015 - recall: 0.8803 - val_loss: 0.0045 - val_recall: 0.7333\n",
            "Epoch 45/100\n",
            "1247/1247 [==============================] - 5s 4ms/step - loss: 0.0015 - recall: 0.8873 - val_loss: 0.0052 - val_recall: 0.7333\n",
            "Epoch 46/100\n",
            "1247/1247 [==============================] - 5s 4ms/step - loss: 0.0014 - recall: 0.8979 - val_loss: 0.0053 - val_recall: 0.7167\n",
            "Epoch 47/100\n",
            "1247/1247 [==============================] - 6s 5ms/step - loss: 0.0017 - recall: 0.8908 - val_loss: 0.0058 - val_recall: 0.7000\n",
            "Epoch 48/100\n",
            "1247/1247 [==============================] - 6s 5ms/step - loss: 0.0015 - recall: 0.8944 - val_loss: 0.0055 - val_recall: 0.6833\n",
            "Epoch 49/100\n",
            "1247/1247 [==============================] - 6s 5ms/step - loss: 0.0015 - recall: 0.8979 - val_loss: 0.0076 - val_recall: 0.6333\n",
            "Epoch 50/100\n",
            "1247/1247 [==============================] - 6s 5ms/step - loss: 0.0022 - recall: 0.8873 - val_loss: 0.0062 - val_recall: 0.6833\n",
            "Epoch 51/100\n",
            "1247/1247 [==============================] - 5s 4ms/step - loss: 0.0016 - recall: 0.8908 - val_loss: 0.0060 - val_recall: 0.6667\n",
            "Epoch 52/100\n",
            "1247/1247 [==============================] - 5s 4ms/step - loss: 0.0015 - recall: 0.9014 - val_loss: 0.0057 - val_recall: 0.6667\n",
            "Epoch 53/100\n",
            "1247/1247 [==============================] - 5s 4ms/step - loss: 0.0013 - recall: 0.8908 - val_loss: 0.0057 - val_recall: 0.7000\n",
            "Epoch 54/100\n",
            "1247/1247 [==============================] - 6s 5ms/step - loss: 0.0012 - recall: 0.8944 - val_loss: 0.0059 - val_recall: 0.7000\n",
            "Epoch 55/100\n",
            "1247/1247 [==============================] - 5s 4ms/step - loss: 0.0014 - recall: 0.9014 - val_loss: 0.0064 - val_recall: 0.6833\n",
            "Epoch 56/100\n",
            "1247/1247 [==============================] - 5s 4ms/step - loss: 0.0020 - recall: 0.8697 - val_loss: 0.0059 - val_recall: 0.7000\n",
            "Epoch 57/100\n",
            "1247/1247 [==============================] - 6s 5ms/step - loss: 0.0014 - recall: 0.8979 - val_loss: 0.0075 - val_recall: 0.7000\n",
            "Epoch 58/100\n",
            "1247/1247 [==============================] - 6s 5ms/step - loss: 0.0013 - recall: 0.9155 - val_loss: 0.0060 - val_recall: 0.6833\n",
            "Epoch 59/100\n",
            "1247/1247 [==============================] - 6s 5ms/step - loss: 0.0016 - recall: 0.8768 - val_loss: 0.0069 - val_recall: 0.6333\n",
            "Epoch 60/100\n",
            "1247/1247 [==============================] - 5s 4ms/step - loss: 0.0013 - recall: 0.8979 - val_loss: 0.0068 - val_recall: 0.6833\n",
            "Epoch 61/100\n",
            "1247/1247 [==============================] - 6s 5ms/step - loss: 0.0014 - recall: 0.8803 - val_loss: 0.0058 - val_recall: 0.6500\n",
            "Epoch 62/100\n",
            "1247/1247 [==============================] - 6s 5ms/step - loss: 0.0017 - recall: 0.8979 - val_loss: 0.0062 - val_recall: 0.6333\n",
            "Epoch 63/100\n",
            "1247/1247 [==============================] - 6s 5ms/step - loss: 0.0014 - recall: 0.8979 - val_loss: 0.0079 - val_recall: 0.7000\n",
            "Epoch 64/100\n",
            "1247/1247 [==============================] - 5s 4ms/step - loss: 0.0013 - recall: 0.8979 - val_loss: 0.0071 - val_recall: 0.7500\n",
            "Epoch 65/100\n",
            "1247/1247 [==============================] - 6s 5ms/step - loss: 0.0015 - recall: 0.8908 - val_loss: 0.0084 - val_recall: 0.6000\n",
            "Epoch 66/100\n",
            "1247/1247 [==============================] - 6s 5ms/step - loss: 0.0012 - recall: 0.9085 - val_loss: 0.0072 - val_recall: 0.7167\n",
            "Epoch 67/100\n",
            "1247/1247 [==============================] - 5s 4ms/step - loss: 0.0012 - recall: 0.9014 - val_loss: 0.0071 - val_recall: 0.6500\n",
            "Epoch 68/100\n",
            "1247/1247 [==============================] - 6s 4ms/step - loss: 0.0020 - recall: 0.9014 - val_loss: 0.0074 - val_recall: 0.7000\n",
            "Epoch 69/100\n",
            "1247/1247 [==============================] - 6s 5ms/step - loss: 0.0013 - recall: 0.8979 - val_loss: 0.0073 - val_recall: 0.7000\n",
            "Epoch 70/100\n",
            "1247/1247 [==============================] - 6s 4ms/step - loss: 0.0013 - recall: 0.9049 - val_loss: 0.0075 - val_recall: 0.6833\n",
            "Epoch 71/100\n",
            "1247/1247 [==============================] - 6s 5ms/step - loss: 0.0011 - recall: 0.9014 - val_loss: 0.0073 - val_recall: 0.7000\n",
            "Epoch 72/100\n",
            "1247/1247 [==============================] - 6s 4ms/step - loss: 0.0018 - recall: 0.8979 - val_loss: 0.0065 - val_recall: 0.6667\n",
            "Epoch 73/100\n",
            "1247/1247 [==============================] - 6s 4ms/step - loss: 0.0025 - recall: 0.8944 - val_loss: 0.0066 - val_recall: 0.6667\n",
            "Epoch 74/100\n",
            "1247/1247 [==============================] - 6s 4ms/step - loss: 0.0026 - recall: 0.9049 - val_loss: 0.0078 - val_recall: 0.6833\n",
            "Epoch 75/100\n",
            "1247/1247 [==============================] - 5s 4ms/step - loss: 0.0012 - recall: 0.9120 - val_loss: 0.0074 - val_recall: 0.7000\n",
            "Epoch 76/100\n",
            "1247/1247 [==============================] - 6s 4ms/step - loss: 0.0013 - recall: 0.9014 - val_loss: 0.0074 - val_recall: 0.6333\n",
            "Epoch 77/100\n",
            "1247/1247 [==============================] - 6s 4ms/step - loss: 0.0013 - recall: 0.9085 - val_loss: 0.0081 - val_recall: 0.6667\n",
            "Epoch 78/100\n",
            "1247/1247 [==============================] - 6s 5ms/step - loss: 0.0013 - recall: 0.9085 - val_loss: 0.0074 - val_recall: 0.7000\n",
            "Epoch 79/100\n",
            "1247/1247 [==============================] - 6s 4ms/step - loss: 0.0012 - recall: 0.9120 - val_loss: 0.0076 - val_recall: 0.7000\n",
            "Epoch 80/100\n",
            "1247/1247 [==============================] - 6s 4ms/step - loss: 0.0016 - recall: 0.8979 - val_loss: 0.0082 - val_recall: 0.7000\n",
            "Epoch 81/100\n",
            "1247/1247 [==============================] - 6s 4ms/step - loss: 0.0013 - recall: 0.9014 - val_loss: 0.0085 - val_recall: 0.7000\n",
            "Epoch 82/100\n",
            "1247/1247 [==============================] - 6s 5ms/step - loss: 0.0011 - recall: 0.9085 - val_loss: 0.0088 - val_recall: 0.7000\n",
            "Epoch 83/100\n",
            "1247/1247 [==============================] - 6s 4ms/step - loss: 0.0012 - recall: 0.9085 - val_loss: 0.0078 - val_recall: 0.7000\n",
            "Epoch 84/100\n",
            "1247/1247 [==============================] - 6s 4ms/step - loss: 0.0012 - recall: 0.8979 - val_loss: 0.0065 - val_recall: 0.7333\n",
            "Epoch 85/100\n",
            "1247/1247 [==============================] - 6s 5ms/step - loss: 0.0014 - recall: 0.8979 - val_loss: 0.0070 - val_recall: 0.7000\n",
            "Epoch 86/100\n",
            "1247/1247 [==============================] - 6s 4ms/step - loss: 0.0014 - recall: 0.8873 - val_loss: 0.0065 - val_recall: 0.7333\n",
            "Epoch 87/100\n",
            "1247/1247 [==============================] - 6s 4ms/step - loss: 0.0012 - recall: 0.9049 - val_loss: 0.0086 - val_recall: 0.6167\n",
            "Epoch 88/100\n",
            "1247/1247 [==============================] - 6s 5ms/step - loss: 0.0019 - recall: 0.8873 - val_loss: 0.0074 - val_recall: 0.7000\n",
            "Epoch 89/100\n",
            "1247/1247 [==============================] - 6s 5ms/step - loss: 0.0021 - recall: 0.8944 - val_loss: 0.0066 - val_recall: 0.6667\n",
            "Epoch 90/100\n",
            "1247/1247 [==============================] - 6s 5ms/step - loss: 0.0013 - recall: 0.9049 - val_loss: 0.0067 - val_recall: 0.7167\n",
            "Epoch 91/100\n",
            "1247/1247 [==============================] - 6s 5ms/step - loss: 0.0012 - recall: 0.9085 - val_loss: 0.0069 - val_recall: 0.7000\n",
            "Epoch 92/100\n",
            "1247/1247 [==============================] - 6s 4ms/step - loss: 0.0022 - recall: 0.9014 - val_loss: 0.0082 - val_recall: 0.7167\n",
            "Epoch 93/100\n",
            "1247/1247 [==============================] - 6s 4ms/step - loss: 0.0010 - recall: 0.9155 - val_loss: 0.0070 - val_recall: 0.6667\n",
            "Epoch 94/100\n",
            "1247/1247 [==============================] - 6s 4ms/step - loss: 0.0019 - recall: 0.8768 - val_loss: 0.0060 - val_recall: 0.6667\n",
            "Epoch 95/100\n",
            "1247/1247 [==============================] - 6s 5ms/step - loss: 0.0015 - recall: 0.8873 - val_loss: 0.0079 - val_recall: 0.6667\n",
            "Epoch 96/100\n",
            "1247/1247 [==============================] - 6s 5ms/step - loss: 0.0011 - recall: 0.9120 - val_loss: 0.0082 - val_recall: 0.6833\n",
            "Epoch 97/100\n",
            "1247/1247 [==============================] - 6s 4ms/step - loss: 9.8676e-04 - recall: 0.9120 - val_loss: 0.0086 - val_recall: 0.7000\n",
            "Epoch 98/100\n",
            "1247/1247 [==============================] - 6s 5ms/step - loss: 0.0013 - recall: 0.8873 - val_loss: 0.0077 - val_recall: 0.7000\n",
            "Epoch 99/100\n",
            "1247/1247 [==============================] - 6s 4ms/step - loss: 0.0013 - recall: 0.9085 - val_loss: 0.0088 - val_recall: 0.7000\n",
            "Epoch 100/100\n",
            "1247/1247 [==============================] - 6s 4ms/step - loss: 0.0011 - recall: 0.9120 - val_loss: 0.0082 - val_recall: 0.7333\n",
            "CPU times: user 10min 58s, sys: 1min 42s, total: 12min 41s\n",
            "Wall time: 10min 23s\n"
          ]
        }
      ]
    },
    {
      "cell_type": "code",
      "metadata": {
        "colab": {
          "base_uri": "https://localhost:8080/",
          "height": 404
        },
        "id": "RnZQLcnKZI5T",
        "outputId": "0d58c112-fa74-455b-9762-c9350a64a788"
      },
      "source": [
        "import matplotlib.pyplot as plt\n",
        "\n",
        "epochs = range(1, len(Hist_mnist.history['loss']) + 1)\n",
        "\n",
        "plt.figure(figsize = (9, 6))\n",
        "plt.plot(epochs, Hist_mnist.history['loss'])\n",
        "plt.plot(epochs, Hist_mnist.history['val_loss'])\n",
        "# plt.ylim(0, 0.25)\n",
        "plt.title('Training & Validation Loss')\n",
        "plt.xlabel('Epochs')\n",
        "plt.ylabel('Loss')\n",
        "plt.legend(['Training Loss', 'Validation Loss'])\n",
        "plt.grid()\n",
        "plt.show()"
      ],
      "execution_count": 17,
      "outputs": [
        {
          "output_type": "display_data",
          "data": {
            "image/png": "[encoded data removed]",
            "text/plain": [
              "<Figure size 648x432 with 1 Axes>"
            ]
          },
          "metadata": {
            "needs_background": "light"
          }
        }
      ]
    },
    {
      "cell_type": "code",
      "metadata": {
        "colab": {
          "base_uri": "https://localhost:8080/"
        },
        "id": "iUk1YXnCZJjm",
        "outputId": "5d1321fd-2e75-4550-f9a3-dbc4468833b4"
      },
      "source": [
        "loss, accuracy = mnist.evaluate(X_test, y_test)\n",
        "\n",
        "print('Loss = {:.5f}'.format(loss))\n",
        "print('Accuracy = {:.5f}'.format(accuracy))"
      ],
      "execution_count": 18,
      "outputs": [
        {
          "output_type": "stream",
          "name": "stdout",
          "text": [
            "2671/2671 [==============================] - 7s 3ms/step - loss: 0.0079 - recall: 0.8311\n",
            "Loss = 0.00787\n",
            "Accuracy = 0.83108\n"
          ]
        }
      ]
    },
    {
      "cell_type": "code",
      "metadata": {
        "id": "xs0_byvFdx5F"
      },
      "source": [
        ""
      ],
      "execution_count": 75,
      "outputs": []
    },
    {
      "cell_type": "code",
      "metadata": {
        "id": "D3ezDallZL6G"
      },
      "source": [
        ""
      ],
      "execution_count": 75,
      "outputs": []
    },
    {
      "cell_type": "markdown",
      "metadata": {
        "id": "ylReVf0WSRDa"
      },
      "source": [
        "# \n",
        "# \n",
        "# \n",
        "# The End\n",
        "# \n",
        "# \n",
        "# "
      ]
    }
  ]
}